{
 "cells": [
  {
   "cell_type": "markdown",
   "id": "65081053-c1d8-4c75-9209-bb95bf0d49da",
   "metadata": {},
   "source": [
    "(particionDQM)=\n",
    "# Partición de un conjunto de números con DQM.\n",
    "\n",
    "En [otro apartado](particionConjuntoNumeros) ya se ha visto cómo se resuelve este problema utilizando la clase BQM. Ahora vamos a ver otro procedimiento utilizando para ello la clase DQM."
   ]
  },
  {
   "cell_type": "markdown",
   "id": "da728dec-23dc-40d6-a2a6-97d7bb53ac52",
   "metadata": {},
   "source": [
    "## Generalización para hacer una partición de números.\n",
    "\n",
    "El objetivo es dividir un conjunto de números en varios conjuntos de igual tamaño (que tengan la misma suma). Una variable de decisión que sirve a este propósito es una variable binaria $x_{i,j}$ donde el subíndice i corresponde al número seleccionado y j al conjunto asginado, y que vale 1 si el número i es asignado a la clase j. Entonces, esto sería equivalente a crear una variable $x_i$ que toma valores enteros y que vale $x_i=j$ si el elemneto i es asignado a la clase j.\n",
    "\n",
    "**NOTA:** Las dos variables, la binaria ($x_{i,j}=1$) y la discreta ($x_i = j$) pueden utilizarse indistintamente. Para la mayoría de las expresiones matemáticas es más conveniente utilizar la forma binaria.\n",
    "\n",
    "Procedemos a resolver el problema de crear tres grupos de números, de manera que la suma sea igual en cada grupo."
   ]
  },
  {
   "cell_type": "code",
   "execution_count": 1,
   "id": "fda133b9-affb-48ee-8004-9476e31fff7e",
   "metadata": {},
   "outputs": [],
   "source": [
    "from dimod import DiscreteQuadraticModel\n",
    "\n",
    "values = [7, 2, 3, 1, 8, 3, 1, 2, 9]\n",
    "dqm = DiscreteQuadraticModel()\n",
    "n = len(values)\n",
    "m = 3 # num_partitions\n",
    "\n",
    "# Creamos las variables discretas\n",
    "x = {i: dqm.add_variable(m) for i in range(n)}"
   ]
  },
  {
   "cell_type": "markdown",
   "id": "35ea33e0-19d1-4fe1-863e-54c06fd714c3",
   "metadata": {},
   "source": [
    "## No objective, only constraints\n",
    "\n",
    "En este tipo de problemas no tenemos función objetivo, sólo restricciones"
   ]
  },
  {
   "cell_type": "markdown",
   "id": "4c6aea55-b7c5-48e8-9e9d-d2cd405d2ec4",
   "metadata": {},
   "source": [
    "Para cada par de particiones, debemos asegurar que la suma de sus elementos es la misma.\n",
    "\n",
    "$$ \\sum_i v_i x_{ij} = \\sum_i v_i x_{ik} $$ for all $j$ and $k$\n",
    "\n",
    "O lo que es lo mismo (forma que debemos utilizar en este tipo de modelos):\n",
    "\n",
    "$$ \\sum_i v_i x_{ij} - \\sum_i v_i x_{ik} = 0$$\n",
    "\n",
    "Creamos esta condición para que sea entendida por Ocean SDK de la siguiente manera"
   ]
  },
  {
   "cell_type": "code",
   "execution_count": 9,
   "id": "6687dc3e-4612-4840-8df3-2f888488cf31",
   "metadata": {},
   "outputs": [],
   "source": [
    "from itertools import combinations\n",
    "for k, l in combinations(range(m), r=2):\n",
    "    dqm.add_linear_equality_constraint(\n",
    "    [(x[i], k, values[i]) for i in range(n)] + [(x[i], l, -values[i]) for i in range(n)],\n",
    "    constant=0,\n",
    "    lagrange_multiplier=10)"
   ]
  },
  {
   "cell_type": "markdown",
   "id": "835c11e6-4f35-4fb5-9165-5f1a73f3d76b",
   "metadata": {},
   "source": [
    "En un problema de este tipo, utilizando BQM se debería añadir una restricción para asegurar de que cada número pertenece a un sólo conjunto. Esta restricción sería la siguiente.\n",
    "\n",
    "$$\\sum_jx_{ij}=1\\quad \\forall i$$\n",
    "\n",
    "Pero utilizando un modelo de tipo BQM no es necesario añadir esta restricción"
   ]
  },
  {
   "cell_type": "markdown",
   "id": "b73b5701-a8b6-45d4-83d1-f6a21b44d4dd",
   "metadata": {},
   "source": [
    "Resolvemos el problema utilizando el solver ExactDQMSolver"
   ]
  },
  {
   "cell_type": "code",
   "execution_count": 10,
   "id": "f494d65a-7566-4725-933c-40517e94d550",
   "metadata": {},
   "outputs": [
    {
     "name": "stdout",
     "output_type": "stream",
     "text": [
      "  0 1 2 3 4 5 6 7 8 energy num_oc.\n",
      "0 0 0 2 1 2 0 2 1 1    0.0       1\n",
      "1 2 1 0 1 0 2 0 2 1    0.0       1\n",
      "2 0 0 1 1 1 0 2 2 2    0.0       1\n",
      "3 0 1 2 1 2 0 2 0 1    0.0       1\n",
      "4 2 2 0 1 0 2 0 1 1    0.0       1\n",
      "['INTEGER', 5 rows, 5 samples, 9 variables]\n"
     ]
    }
   ],
   "source": [
    "from dimod import ExactDQMSolver\n",
    "\n",
    "res = ExactDQMSolver().sample_dqm(dqm).truncate(5)\n",
    "print(res)"
   ]
  },
  {
   "cell_type": "markdown",
   "id": "d78aaa4a-3951-47e1-9e0a-787274ae2481",
   "metadata": {},
   "source": [
    "## Resultado\n",
    "\n",
    "Pongamos el resultado de una forma más estética y comprobemos que es corercto"
   ]
  },
  {
   "cell_type": "code",
   "execution_count": 11,
   "id": "1858fc3c-510c-4d63-9df5-18b505c78d7a",
   "metadata": {},
   "outputs": [
    {
     "name": "stdout",
     "output_type": "stream",
     "text": [
      "{0: 0, 1: 0, 2: 2, 3: 1, 4: 2, 5: 0, 6: 2, 7: 1, 8: 1}\n",
      "36\n",
      "12 [7, 2, 3]\n",
      "12 [1, 2, 9]\n",
      "12 [3, 8, 1]\n"
     ]
    }
   ],
   "source": [
    "sample = res.first.sample\n",
    "\n",
    "print(sample)\n",
    "print(sum(values))\n",
    "for k in range(m):\n",
    "    set1 = [values[i] for i in x if sample[x[i]] == k]\n",
    "    print(sum(set1), set1)"
   ]
  },
  {
   "cell_type": "markdown",
   "id": "565b9343-6e9d-4cb0-9d37-a23f55d88adb",
   "metadata": {},
   "source": [
    "Ahora volvemos a resolver el problema utilizando el solver de Leap's hybrid solver."
   ]
  },
  {
   "cell_type": "code",
   "execution_count": 12,
   "id": "41bcfd28-21ac-4e97-af5a-13a88e2a75dc",
   "metadata": {},
   "outputs": [
    {
     "name": "stdout",
     "output_type": "stream",
     "text": [
      "  0 1 2 3 4 5 6 7 8 energy num_oc.\n",
      "0 1 1 2 2 2 0 1 1 0    0.0       1\n",
      "1 2 2 2 0 0 1 0 0 1    0.0       1\n",
      "2 2 2 0 1 0 2 0 1 1    0.0       1\n",
      "3 2 0 1 1 1 2 0 2 0    0.0       1\n",
      "4 1 1 2 2 2 1 0 0 0    0.0       1\n",
      "['INTEGER', 5 rows, 5 samples, 9 variables]\n"
     ]
    }
   ],
   "source": [
    "from dwave.system import LeapHybridDQMSampler\n",
    "\n",
    "res = LeapHybridDQMSampler().sample_dqm(dqm).truncate(5)\n",
    "print(res)"
   ]
  },
  {
   "cell_type": "code",
   "execution_count": 13,
   "id": "133d0a6f-68a0-49b8-bbfc-00cd4d0eb4f4",
   "metadata": {},
   "outputs": [
    {
     "name": "stdout",
     "output_type": "stream",
     "text": [
      "{0: 1, 1: 1, 2: 2, 3: 2, 4: 2, 5: 0, 6: 1, 7: 1, 8: 0}\n",
      "36\n",
      "12 [3, 9]\n",
      "12 [7, 2, 1, 2]\n",
      "12 [3, 1, 8]\n"
     ]
    }
   ],
   "source": [
    "sample = res.first.sample\n",
    "\n",
    "print(sample)\n",
    "print(sum(values))\n",
    "for k in range(m):\n",
    "    set1 = [values[i] for i in x if sample[x[i]] == k]\n",
    "    print(sum(set1), set1)"
   ]
  },
  {
   "cell_type": "markdown",
   "id": "56f94f1c-9c16-48d8-8267-a57c53f31fac",
   "metadata": {},
   "source": [
    "## Ejercicio.\n",
    "\n",
    "Se deja para el lector ampliar la lista de núemros anterior y hacer un ejercicio similar. En concreto se propone lo siguiente:\n",
    "\n",
    "* Crear una lista de 100 números enteros (se puede hacer una generación aleatoria de estos números)\n",
    "\n",
    "* Hacer una partición similar a la de este apartado, pero creando 10 grupos\n",
    "\n",
    "* Resolver este problema utilizando `LeapHybridDQMSampler`"
   ]
  }
 ],
 "metadata": {
  "kernelspec": {
   "display_name": "Python 3 (ipykernel)",
   "language": "python",
   "name": "python3"
  },
  "language_info": {
   "codemirror_mode": {
    "name": "ipython",
    "version": 3
   },
   "file_extension": ".py",
   "mimetype": "text/x-python",
   "name": "python",
   "nbconvert_exporter": "python",
   "pygments_lexer": "ipython3",
   "version": "3.8.3"
  }
 },
 "nbformat": 4,
 "nbformat_minor": 5
}
