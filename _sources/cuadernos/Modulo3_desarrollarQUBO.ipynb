{
 "cells": [
  {
   "cell_type": "markdown",
   "id": "863372b8",
   "metadata": {},
   "source": [
    "# Introducción.\n",
    "```{index} QUBO\n",
    "```\n",
    "\n",
    "Como ya se ha comentado en capítulos anteriores, los problemas de tipo QUBO, se basan en formular el problema a optimizar mediante expresiones matemáticas de la forma siguiente (<a href=\"https://en.wikipedia.org/wiki/Quadratic_unconstrained_binary_optimization\" target=\"_blank\"> ver en wikipedia </a>):\n",
    "\n",
    "$$E_{qubo}(a_{i},b_{ij};x_{i})=\\sum_{i}a_{i}x_{i}+\\sum_{i<j}b_{ijj}x_{i}\\cdot x_{j}$$\n",
    "\n",
    "Donde $x_i\\in\\{0,1\\}$.\n",
    "\n",
    "En este capítulo vamos a aprender a formular problemas de este tipo y adaptarlos a los requerimientos exigidos por los ordenadores de D-Wave, para que se puedan resolver mediante programación cuántica, si bien es de advertir que cuando el problema planteado no tenga una entidad considerable se procederá a resolverlo desde el ordenador personal con la finalidad de no agotar los escasos recursos gratuitos que ofrece D-Wave. Para problemas de mayor entidad, lógicamente se pueden utilizar los solvers que ofrece esa compañía para lanzarlos en ordenadores cuánticos reales.\n",
    "\n",
    "Antes de seguir adelante, y dado que en este tipo de trabajos suele ser bastante habitual multiplicar polinomios, vamos a refrescar estos conceptos a fin de que el lector se familiarice con ellos (lógicamente el lector que ya tenga esos conocimientos puede saltar este apartado)\n",
    "\n",
    "(multiplicacion_polinomios)=\n",
    "## Multiplicación de polinomios.\n",
    "```{index} Multiplicación  polinomios\n",
    "```\n",
    "\n",
    "Para comenzar este apartado, se remite al lector a que <a href=\"https://www.youtube.com/watch?v=jpD_BugTR6I\" target=\"_blank\"> visualice este vídeo </a>.\n",
    "\n",
    "De todas y a modo de ejemplo a continuación se muestra un desarrollo matemático, en el que se puede ver la metodología existente para realizar esta tarea.\n",
    "\n",
    "![Multiplicación polinomios](img/polinomios_multiplicacion.PNG)\n",
    "\n",
    "Como se verá en aparados posteriores, otra de las necesidades que se tiene en este campo de optimiación aplicando metodología QUBO es desarrollar expresiones de la forma  $\\left(\\left(\\sum_{i=0}^{n}x_{i}\\right)-c\\right)^{2}$, cuyo desarrollo matemático sería el siguiente:\n",
    "\n",
    "$$\\left(\\left(\\sum_{i=0}^{n}x_{i}\\right)-c\\right)^{2}=\\left(\\sum_{i}x_{i}\\right)^{2}-2c\\sum_{i}x_{i}+c^{2}=$$\n",
    "\n",
    "$$=\\sum_{i}x_{i}^{2}+2\\cdot\\left(\\sum_{i=0}^{n}\\sum_{j>i}^{n}x_{i}x_{j}\\right)-2c\\left(\\sum_{i=0}^{n}x_{i}\\right)+c^{2}$$\n",
    "\n",
    "## Problema inicial básico.\n",
    "\n",
    "Para ir entrando en materia, vamos a comenzar con un problema básico consistente en lo siguiente. Supongamos que queremos asignar un color (y sólo uno) a cada una de las regiones de un mapa.\n",
    "\n",
    "A este tipo de problemas se le suele designar como \"exactamente uno\" o también \"one-hot\", y para su resolución vamos a crear tres variables binarias (iniciales de cada color a utilizar) que las denominaremos: r,g,b (iniciales de red, green y blue en inglés). \n",
    "\n",
    "En este caso el problema consiste en cómo escribir una función que se minimice cuando exactamente una de estas variables es igual a 1. En este caso estaremos también cuando por ejemplo se quiera poner una restricción en la forma siguiente:\n",
    "\n",
    "$$r+g+b=1 $$\n",
    "\n",
    "En este caso la formulación QUBO que debe implementarse es la siguiente:\n",
    "\n",
    "$$(1-r-g-b)^{2}=1-r-g-b+2br+2gr+2bg$$\n",
    "\n",
    "Observar que a la igualdad anterior se llega multiplicando el polinomio consigo mismo y teniendo en cuenta que al trabajar con variables binarias que sólo toman los valores 0 ó 1 entonces se tiene que $x_i^2=1$. \n",
    "\n",
    "La formulación de este problema utilizando programación de tipo QUBO sería la siguiente: "
   ]
  },
  {
   "cell_type": "code",
   "execution_count": 6,
   "id": "f6b41592",
   "metadata": {},
   "outputs": [],
   "source": [
    "from dimod import BinaryQuadraticModel, to_networkx_graph\n",
    "bqm = BinaryQuadraticModel('BINARY')\n",
    "\n",
    "# añadimos los términos lineales\n",
    "bqm.add_variable(\"red\",-1)\n",
    "bqm.add_variable(\"green\",-1)\n",
    "bqm.add_variable(\"blue\",-1)\n",
    "\n",
    "# Añadimos los términos cuadráticos\n",
    "bqm.add_interaction(\"red\",\"green\",2)\n",
    "bqm.add_interaction(\"red\",\"blue\",2)\n",
    "bqm.add_interaction(\"blue\",\"green\",2)"
   ]
  },
  {
   "cell_type": "markdown",
   "id": "0e1d3960",
   "metadata": {},
   "source": [
    "En la programación QUBO, este tipo de problemas también se puede representar como un objeto de tipo networks, de tal manera que en los vértices se situarían los valores de los términos lineales, y en los arcos (edges) estarían los valores de los términos cuadráticos. A continuación se muestra cómo poder este diagrama en el ejemplo con el que estamos trabajando."
   ]
  },
  {
   "cell_type": "code",
   "execution_count": 16,
   "id": "79dad5d2",
   "metadata": {},
   "outputs": [
    {
     "data": {
      "image/png": "[encoded data removed]",
      "text/plain": [
       "<Figure size 432x288 with 1 Axes>"
      ]
     },
     "metadata": {},
     "output_type": "display_data"
    }
   ],
   "source": [
    "import networkx as nx\n",
    "nx.draw(to_networkx_graph(bqm), with_labels = True, node_size=980, node_color='red')"
   ]
  },
  {
   "cell_type": "markdown",
   "id": "3ea8b7cc",
   "metadata": {},
   "source": [
    "A continuación procedemos a utilizar el solver ExatSolver para encontrar los valores que minimizan la expresión anterior y comprobar que realmente las soluciones óptimas (que tienen menor energía), son las que sólo tienen un valor 1 en sólo una de las tres variables con las que trabajamos."
   ]
  },
  {
   "cell_type": "code",
   "execution_count": 18,
   "id": "74061c8c",
   "metadata": {},
   "outputs": [
    {
     "name": "stdout",
     "output_type": "stream",
     "text": [
      "  blue green red energy num_oc.\n",
      "1    0     0   1   -1.0       1\n",
      "3    0     1   0   -1.0       1\n",
      "7    1     0   0   -1.0       1\n",
      "0    0     0   0    0.0       1\n",
      "2    0     1   1    0.0       1\n",
      "4    1     1   0    0.0       1\n",
      "6    1     0   1    0.0       1\n",
      "5    1     1   1    3.0       1\n",
      "['BINARY', 8 rows, 8 samples, 3 variables]\n"
     ]
    }
   ],
   "source": [
    "from dimod import ExactSolver\n",
    "\n",
    "solver = ExactSolver()\n",
    "response = solver.sample(bqm)\n",
    "print(response)"
   ]
  },
  {
   "cell_type": "markdown",
   "id": "94433989",
   "metadata": {},
   "source": [
    "Como podemos observar en la salida anterior, las soluciones son las que esperamos.\n",
    "\n",
    "![Soluciones QUBO](img/soluciones_1.PNG)\n",
    "\n",
    "Las tres primeras soluciones son las que estábamos buscando y son las que tienen menor energía del sistema y por lo tanto son las que minimizan la ecuación de la función objetivo con la que trabajamos. El restos de soluciones (excited states) se corresponden con estados excitados y por lo tanto no son posiciones en las que se alcanza una menor energía del sistema.\n",
    "\n",
    "El problema anterior tiene pocas variables y entonces se pueden definir una a una como así se ha hecho anteriormente, pero en los problemas reales nos encontramos con muchas variables y combinaciones dos a dos  de las mimas lo cual dificulta la formulación del problema como se ha hecho anteriormente.\n",
    "\n",
    "Con el código que sigue, se pretende indicar al lector un posible camino a seguir para formular que contengan muchas más variables"
   ]
  },
  {
   "cell_type": "code",
   "execution_count": 19,
   "id": "4c18863a",
   "metadata": {},
   "outputs": [],
   "source": [
    "# definimos una lista con los nombres de las variables\n",
    "variables = [\"red\",\"blue\",\"green\"]\n",
    "# Añadimos las variables mediante un bucle for\n",
    "for variable in variables:\n",
    "    bqm.add_variable(variable,-1)"
   ]
  },
  {
   "cell_type": "code",
   "execution_count": 21,
   "id": "e589c1f3",
   "metadata": {},
   "outputs": [
    {
     "data": {
      "text/plain": [
       "[('red', 'blue'), ('red', 'green'), ('blue', 'green')]"
      ]
     },
     "execution_count": 21,
     "metadata": {},
     "output_type": "execute_result"
    }
   ],
   "source": [
    "# Utilizamos la librería itertools para hacer todas las combinaciones\n",
    "import itertools\n",
    "combinaciones = list(itertools.combinations(variables, 2))\n",
    "combinaciones"
   ]
  },
  {
   "cell_type": "code",
   "execution_count": 23,
   "id": "4df8b299",
   "metadata": {},
   "outputs": [],
   "source": [
    "for combinacion in combinaciones:\n",
    "        bqm.add_interaction(combinacion[0],combinacion[1],2)"
   ]
  },
  {
   "cell_type": "code",
   "execution_count": 24,
   "id": "b5bcca45",
   "metadata": {},
   "outputs": [
    {
     "data": {
      "image/png": "[encoded data removed]",
      "text/plain": [
       "<Figure size 432x288 with 1 Axes>"
      ]
     },
     "metadata": {},
     "output_type": "display_data"
    }
   ],
   "source": [
    "nx.draw(to_networkx_graph(bqm), with_labels = True, node_size=980, node_color='red')"
   ]
  },
  {
   "cell_type": "code",
   "execution_count": 25,
   "id": "97996e4a",
   "metadata": {},
   "outputs": [
    {
     "name": "stdout",
     "output_type": "stream",
     "text": [
      "  blue green red energy num_oc.\n",
      "1    0     0   1   -2.0       1\n",
      "3    0     1   0   -2.0       1\n",
      "7    1     0   0   -2.0       1\n",
      "0    0     0   0    0.0       1\n",
      "2    0     1   1    0.0       1\n",
      "4    1     1   0    0.0       1\n",
      "6    1     0   1    0.0       1\n",
      "5    1     1   1    6.0       1\n",
      "['BINARY', 8 rows, 8 samples, 3 variables]\n"
     ]
    }
   ],
   "source": [
    "response = solver.sample(bqm)\n",
    "print(response)"
   ]
  },
  {
   "cell_type": "markdown",
   "id": "951cbd9a",
   "metadata": {},
   "source": [
    "## Formulación problemas QUBO (o Ising).\n",
    "```{index} Parámetro de lagrange, funciones de penalización, penalty functions\n",
    "```\n",
    "\n",
    "En este tipo de problemas, normalmente se formulan vía una función objetivo, que siempre es para minimizar (por lo tanto si lo que se quiere es maximizar, lo que se hace es cambiar el signo de la función objetivo) y una serie de restricciones o condiciones que deben verificar las variables de problema planteado. Por lo tanto la fórmula genérica en este tipo de problemas es la siguiente:\n",
    "<center><br>\n",
    "Ising ó QUBO = min(objetivo+$\\gamma \\cdot$(restricciones))\n",
    "    </center><br>\n",
    "El valor de $gamma$ es el denominado *parámetro de lagrange*.\n",
    "\n",
    "Por lo tanto lo que se debe fijar es la función objetivo y las restricciones que deben cumplirse. Normalmente estas restricciones se ponen de acuerdo al concepto de funciones de penalización, o penalty functions que [veremos en el siguiente capítulo](penalty-functions).\n",
    "\n",
    "Veamos un ejemplo sobre la implementación de un problema BQM. Supongamos que tenemos el siguiente conjunto de números: {17,21,19}, se trata de elegir dos números de manera que la suma sea la mínima posible.\n",
    "\n",
    "Para resolver este problema, lo primero que haremos será definir las variables $x_i$ que tendrá un valor 1 si el número i-ésimo es seleccionado y cero en caso contrario. Por lo tanto la función a minimizar sería la siguiente (función objetivo):\n",
    "\n",
    "$$min(17x_{1}+21x_{2}+19x_{3})$$\n",
    "\n",
    "La restricción sería que elijamos sólo dos números, lo cual escrito en formulación matemática implica lo siguiente:\n",
    "\n",
    "$$ x_1+x_2+x_3=2 $$\n",
    "\n",
    "Para incluir esta restricción en un problema QUBO, debemos calcular lo siguiente: $(x_1+x_2+x_3-2)^2$, que realmente es una función de penalización, de manera que va a valer cero para los números que cumplen esta restricción y un valor suficientemente alto para los que no lo cumplen (que viene representado por el parámetro de Lagrange $\\gamma$). En consecuencia el problema QUBO quedaría expresado de la siguiente manera:\n",
    "\n",
    "$$ min \\,(17x_{1}+21x_{2}+19x_{3})+\\gamma(x_1+x_2+x_3-2)^2$$  \n",
    "\n",
    "Ahora lo que procede es desarrollar la expresión $(x_1+x_2+x_3-2)^2$, para ello simplemente utilizamos la expresión obtenida [un apartado anterior](multiplicacion_polinomios), o bien multiplicamos dos veces el polinomio y al final se obtiene la  siguiente expresión: \n",
    "\n",
    "$$x_1+x_2+x_3+2x_1x_2+2x_2x_3+2x_2x_3-4x_1-4x_2-4x_3+4 =$$\n",
    "\n",
    "$$ =-3x_1-3x_2-3x_3+2x_1x_2+2x_1x_3+2x_2x_3$$\n",
    "\n",
    "En consecuencia la función que nos queda es la siguiente:\n",
    "\n",
    "$$ min \\,(17x_{1}+21x_{2}+19x_{3})+\\gamma(-3x_1-3x_2-3x_3+2x_1x_2+2x_1x_3+2x_2x_3)$$ \n",
    "\n",
    "Tomemos por ejemplo $\\gamma=5$ y entonces nos quedaría los siguiente:\n",
    "\n",
    "$$ min \\, (2x_1+6x_2+4x_3+10x_1x_2+10x_1x_2+10x_2x_3)$$\n",
    "\n",
    "Por lo tanto resolvemos este último problema de la siguiente forma"
   ]
  },
  {
   "cell_type": "code",
   "execution_count": 34,
   "id": "1a9f5b17",
   "metadata": {},
   "outputs": [],
   "source": [
    "from dimod import BinaryQuadraticModel, to_networkx_graph\n",
    "bqm = BinaryQuadraticModel('BINARY')\n",
    "\n",
    "# añadimos los términos lineales\n",
    "bqm.add_variable(\"x_1\",2)\n",
    "bqm.add_variable(\"x_2\",6)\n",
    "bqm.add_variable(\"x_3\",4)\n",
    "\n",
    "# Añadimos los términos cuadráticos\n",
    "bqm.add_interaction(\"x_1\",\"x_2\",10)\n",
    "bqm.add_interaction(\"x_1\",\"x_3\",10)\n",
    "bqm.add_interaction(\"x_2\",\"x_3\",10)"
   ]
  },
  {
   "cell_type": "code",
   "execution_count": 35,
   "id": "06c2dd04",
   "metadata": {},
   "outputs": [
    {
     "data": {
      "text/plain": [
       "BinaryQuadraticModel({'x_1': 2.0, 'x_2': 6.0, 'x_3': 4.0}, {('x_2', 'x_1'): 10.0, ('x_3', 'x_1'): 10.0, ('x_3', 'x_2'): 10.0}, 0.0, 'BINARY')"
      ]
     },
     "execution_count": 35,
     "metadata": {},
     "output_type": "execute_result"
    }
   ],
   "source": [
    "bqm"
   ]
  },
  {
   "cell_type": "code",
   "execution_count": 43,
   "id": "2441f727",
   "metadata": {},
   "outputs": [
    {
     "name": "stdout",
     "output_type": "stream",
     "text": [
      "  x_1 x_2 x_3 energy num_oc.\n",
      "0   0   0   0    0.0       1\n",
      "1   1   0   0    2.0       1\n",
      "7   0   0   1    4.0       1\n",
      "3   0   1   0    6.0       1\n",
      "6   1   0   1   16.0       1\n",
      "2   1   1   0   18.0       1\n",
      "4   0   1   1   20.0       1\n",
      "5   1   1   1   42.0       1\n",
      "['BINARY', 8 rows, 8 samples, 3 variables]\n"
     ]
    }
   ],
   "source": [
    "from dimod import ExactSolver\n",
    "\n",
    "solver = ExactSolver()\n",
    "response = solver.sample(bqm)\n",
    "\n",
    "print(response)"
   ]
  },
  {
   "cell_type": "markdown",
   "id": "199ffb61",
   "metadata": {},
   "source": [
    "Como podemos observar, las soluciones que se devuelven con este solver son todas las posibles ordenadas de menor a mayor energía. Por lo tanto, debemos seleccionar las factibles y de entre ellas la que tenga menor energía. Veamos algunas propiedades del objeto response."
   ]
  },
  {
   "cell_type": "code",
   "execution_count": 49,
   "id": "feac2215",
   "metadata": {},
   "outputs": [
    {
     "data": {
      "text/plain": [
       "dimod.sampleset.SampleSet"
      ]
     },
     "execution_count": 49,
     "metadata": {},
     "output_type": "execute_result"
    }
   ],
   "source": [
    "type(response)"
   ]
  },
  {
   "cell_type": "code",
   "execution_count": 50,
   "id": "2ebe1c8f",
   "metadata": {},
   "outputs": [
    {
     "name": "stdout",
     "output_type": "stream",
     "text": [
      "{'x_1': 0, 'x_2': 0, 'x_3': 0}\n",
      "{'x_1': 1, 'x_2': 0, 'x_3': 0}\n",
      "{'x_1': 0, 'x_2': 0, 'x_3': 1}\n",
      "{'x_1': 0, 'x_2': 1, 'x_3': 0}\n",
      "{'x_1': 1, 'x_2': 0, 'x_3': 1}\n",
      "{'x_1': 1, 'x_2': 1, 'x_3': 0}\n",
      "{'x_1': 0, 'x_2': 1, 'x_3': 1}\n",
      "{'x_1': 1, 'x_2': 1, 'x_3': 1}\n"
     ]
    }
   ],
   "source": [
    "for sample in response.samples():   \n",
    "    print(sample)"
   ]
  },
  {
   "cell_type": "code",
   "execution_count": 65,
   "id": "a6929c57",
   "metadata": {},
   "outputs": [
    {
     "data": {
      "text/plain": [
       "{'x_1': 1, 'x_2': 0, 'x_3': 0}"
      ]
     },
     "execution_count": 65,
     "metadata": {},
     "output_type": "execute_result"
    }
   ],
   "source": [
    "response.samples()[1]"
   ]
  },
  {
   "cell_type": "code",
   "execution_count": 66,
   "id": "31c83261",
   "metadata": {},
   "outputs": [
    {
     "name": "stdout",
     "output_type": "stream",
     "text": [
      "0\n",
      "1\n",
      "1\n",
      "1\n",
      "2\n",
      "2\n",
      "2\n",
      "3\n"
     ]
    }
   ],
   "source": [
    "for h  in range(len(response.samples())):\n",
    "    print(sum(response.samples()[h].values()))"
   ]
  },
  {
   "cell_type": "markdown",
   "id": "be689678",
   "metadata": {},
   "source": [
    "Vamos a seleccionar a continuación las soluciones factibles y entre ellas la primera que se obtenga."
   ]
  },
  {
   "cell_type": "code",
   "execution_count": 67,
   "id": "65e0e241",
   "metadata": {},
   "outputs": [
    {
     "name": "stdout",
     "output_type": "stream",
     "text": [
      "{'x_1': 1, 'x_2': 0, 'x_3': 1}\n",
      "{'x_1': 1, 'x_2': 1, 'x_3': 0}\n",
      "{'x_1': 0, 'x_2': 1, 'x_3': 1}\n"
     ]
    }
   ],
   "source": [
    "for h  in range(len(response.samples())):\n",
    "    a =sum(response.samples()[h].values())\n",
    "    if a == 2:\n",
    "        print(response.samples()[h])"
   ]
  },
  {
   "cell_type": "markdown",
   "id": "d16e7fb5",
   "metadata": {},
   "source": [
    "Por lo tanto la solución buscada sería elegir el primero y último número.\n",
    "\n",
    "Notar que este problema sería mucho más fácil resolverlo si lo construimos y resolvemos con modelo CQM (sontrained quadratic model) que se verá en un [capítulo posterior](cqm).\n",
    "\n",
    "## Problema partición grafo.\n",
    "\n",
    "En este apartado vamos a resolver otro problema mediante la programación QUBO. Este problema va a consistir en los siguiente: Dado un grafo G, debemos dividir este grafo en dos conjuntos de tal manera que los dos grupos tengan el mismo numero de vértices, y que los arcos (edges) entre los dos conjuntos sean lo menos posibles.\n",
    "\n",
    "![ejemplo partición](img/grafo1.PNG)\n",
    "\n",
    "En este ejemplo la *función objetivo* será construida bajo la idea de que el número de arcos entre los dos conjuntos sea el menor posible, y la restricción será que el número de vértices en cada uno de los dos conjuntos sea el mismo.\n",
    "\n",
    "Para resolver este problema llamemos a un conjunto de vértices A y el otro B, y definamos las siguientes variables binarias.\n",
    "\n",
    "$$x_{i}=\\begin{cases}\n",
    "1 & si\\ nodo\\ i\\ est\\acute{a}\\ en\\ A\\\\\n",
    "0 & en\\ caso\\ contrario\n",
    "\\end{cases}$$\n",
    "\n",
    "Para construir la función objetivo, vamos a construir una función de penalización en base a la tabla de la verdad que se muestra a continuación.\n",
    "\n",
    "| x1 | x2 | coste arco (x1,x2) |\n",
    "|----|----|--------------------|\n",
    "| 0  | 0  | 0                  |\n",
    "| 0  | 1  | 1                  |\n",
    "| 1  | 0  | 1                  |\n",
    "| 1  | 1  | 0                  |\n",
    "\n",
    "Expliquemos cómo hemos construido esta tabla de la verdad, pues es un procedimiento que se suele utilizar en la programación QUBO para construir funciones de penalización.\n",
    "\n",
    "Las dos primeras columna de la tabla muestran los diferentes conjuntos de pares de valor que se pueden formar con x1 y x2, y la tercera columna muestra el valor 0 (menor energia), cuando los dos valores indican pertenencia al mismo conjunto y el valor 1 (mayor energía) cuando son de conjuntos diferentes, puesto que es esto último lo que queremos penalizar.\n",
    "\n",
    "Ahora lo que queremos es encontrar una función matemática que exprese esa situación, y además esta forma matemática deber ser una forma cuadrática, por ser este tipo de expresiones las que acepta QUBO. Por lo tanto la forma matemática deberá tener la siguiente expresión:\n",
    "\n",
    "$$ ax_1+bx_2+cx_1x_2+d $$\n",
    "\n",
    "Haremos que esta forma matemática cumpla las condiciones de la tabla de la verdad anterior, por lo tanto para el par de valores (0,0) debe valer 0 y en consecuencia d=0.\n",
    "\n",
    "Para el par de valores (0,1) se tiene lo siguiente:\n",
    "\n",
    "$$a\\cdot 0+b=1$$\n",
    "\n",
    "Por lo tanto b=-1. Actuando de la misma manera para el par de valores (1,0) se obtiene que a=-1. Finalmente para el (1,1), se tiene: $1+1+c=0$ y por lo tanto c=-2. En consecuencia, para par de nodos de la red x1 y x2 se debe tener como función de penalización la siguiente:\n",
    "\n",
    "$$ x_i+x_j-2x_ix_j$$\n",
    "\n",
    "En resumen, la función objetivo que buscamos es la siguiente:\n",
    "\n",
    "$$ \\sum_{(i,j)\\in E}(x_{i}+x_{j}-2x_{i}x_{j})$$\n",
    "\n",
    "Evaluemos ahora cómo deben ser las restricciones, teniendo en cuenta que los dos conjuntos deben tener el mismo tamaño. Llamamos N al número total de nodos de la red, y entonces el número de nodos en el conjunto A sería: $\\sum_{i=1}^{N}x_i=N/2$\n",
    "\n",
    "Hagamos que la restricción anterior tenga un formato tal que QUBO lo pueda interpretar y para ello lo que debemos de dar los siguientes pasos.\n",
    "\n",
    "debemos pasar todos los elementos de la igualdad anterior a un miembro y elevar al cuadrado, es decir debemos de calcular:\n",
    "\n",
    "$$\\left(\\frac{N}{2}-\\sum_{i=1}^{N}x_{i}\\right)^{2}$$\n",
    "\n",
    "Calculamos el cuadrado de esa diferencia y se obtiene\n",
    "\n",
    "$$\\frac{N}{4}-N\\sum_{i=1}^{N}x_{i}+\\left(\\sum_{i=1}^{N}x_{i}\\right)^{2}$$\n",
    "\n",
    "Ahora eliminamos la constante y se tiene:\n",
    "\n",
    "$-N\\sum_{i=1}^{N}x_{i}+\\left(\\sum_{i=1}^{N}x_{i}\\right)^{2}$\n",
    "\n",
    "En consecuencia, la expresión QUBO que debemos tener en cuenta para minimizar es la siguiente:\n",
    "\n",
    "$$min\\ \\sum_{(i,j)\\in E}(x_{i}+x_{j}-2x_{i}x_{j})+\\gamma\\cdot\\left(-N\\sum_{i=1}^{N}x_{i}+\\left(\\sum_{i=1}^{N}x_{i}\\right)^{2}\\right)$$\n",
    "\n",
    "La última expresión es una suma elevada al cuadrado que QUBO no entiende, por lo que la debemos cambiar ese formato. A continuación, hacemos eso:\n",
    "\n",
    "$$\\left(\\sum_{i=1}^{N}x_{i}\\right)^{2}=\\sum_{i=1}^{N}x_{i}^{2}+\\sum_{i=1}^{N}\\sum_{j>i}2x_{i}x_{j}=\\sum_{i=1}^{N}x_{i}+\\sum_{i=1}^{N}\\sum_{j>i}2x_{i}x_{j}$$\n",
    "\n",
    "Por lo tanto la expresión nos queda de la siguiente manera:\n",
    "\n",
    "\n",
    "$$min\\ \\sum_{(i,j)\\in E}(x_{i}+x_{j}-2x_{i}x_{j})+\\gamma\\left(-N\\sum_{i=1}^{N}x_{i}+\\sum_{i=1}^{N}x_{i}+\\sum_{i=1}^{N}\\sum_{j>i}^{N}2x_{i}x_{j}\\right)$$\n",
    "\n",
    "Simplificando la expresión anterior se tiene como expresión a tener en cuenta para el problema QUBO la siguiente:\n",
    "\n",
    "$$min\\ (2\\gamma-2)\\sum_{(i,j)\\in E}x_{i}x_{j}+\\sum_{(i,j)\\in E}(x_{i}+x_{j})+\\gamma\\left(-N\\sum_{i=1}^{N}x_{i}+\\sum_{i=1}^{N}x_{i}\\right)$$\n",
    "\n",
    "Podemos simplificar aún más la expresión anterior, hasta dejarla como\n",
    "\n",
    "$$min\\ (2\\gamma-2)\\sum_{(i,j)\\in E}x_{i}x_{j}+\\sum_{(i,j)\\in E}(x_{i}+x_{j})+\\gamma\\left(1-N\\right)\\left(\\sum_{i=1}^{N}x_{i}\\right)$$\n",
    "\n"
   ]
  },
  {
   "cell_type": "code",
   "execution_count": null,
   "id": "98087909",
   "metadata": {},
   "outputs": [],
   "source": []
  },
  {
   "cell_type": "code",
   "execution_count": null,
   "id": "0e3da808",
   "metadata": {},
   "outputs": [],
   "source": []
  },
  {
   "cell_type": "code",
   "execution_count": null,
   "id": "9d95bae6",
   "metadata": {},
   "outputs": [],
   "source": []
  }
 ],
 "metadata": {
  "kernelspec": {
   "display_name": "Python 3 (ipykernel)",
   "language": "python",
   "name": "python3"
  },
  "language_info": {
   "codemirror_mode": {
    "name": "ipython",
    "version": 3
   },
   "file_extension": ".py",
   "mimetype": "text/x-python",
   "name": "python",
   "nbconvert_exporter": "python",
   "pygments_lexer": "ipython3",
   "version": "3.7.6"
  },
  "toc": {
   "base_numbering": 1,
   "nav_menu": {},
   "number_sections": true,
   "sideBar": true,
   "skip_h1_title": false,
   "title_cell": "Table of Contents",
   "title_sidebar": "Contents",
   "toc_cell": false,
   "toc_position": {},
   "toc_section_display": true,
   "toc_window_display": true
  },
  "varInspector": {
   "cols": {
    "lenName": 16,
    "lenType": 16,
    "lenVar": 40
   },
   "kernels_config": {
    "python": {
     "delete_cmd_postfix": "",
     "delete_cmd_prefix": "del ",
     "library": "var_list.py",
     "varRefreshCmd": "print(var_dic_list())"
    },
    "r": {
     "delete_cmd_postfix": ") ",
     "delete_cmd_prefix": "rm(",
     "library": "var_list.r",
     "varRefreshCmd": "cat(var_dic_list()) "
    }
   },
   "types_to_exclude": [
    "module",
    "function",
    "builtin_function_or_method",
    "instance",
    "_Feature"
   ],
   "window_display": false
  }
 },
 "nbformat": 4,
 "nbformat_minor": 5
}
