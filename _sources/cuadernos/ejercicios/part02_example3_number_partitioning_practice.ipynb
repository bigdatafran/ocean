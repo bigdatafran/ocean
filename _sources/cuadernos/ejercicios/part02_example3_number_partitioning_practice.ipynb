{
 "cells": [
  {
   "cell_type": "markdown",
   "id": "09234c55",
   "metadata": {},
   "source": [
    "(particionConjuntoNumeros)=\n",
    "# Problema partición un conjunto de números.\n",
    "\n",
    "En este apartado vamos a ver cómo resolver el problema de dividir un conjunto de números, en dos o más grupos, de manera que la suma de los números de cada grupo sea la misma.\n",
    "\n",
    "Para comenzar, inicialmente lo hacemos en dicidir una lista de números en dos grupos. Por lo tanto, lo primero que debemos tener es el conjunto de todos los números, que los colocaremos en una lista, como se hace a continuación"
   ]
  },
  {
   "cell_type": "code",
   "execution_count": 6,
   "id": "6918cd78",
   "metadata": {},
   "outputs": [],
   "source": [
    "values = [1, 2, 3, 4, 5, 6, 7, 8]"
   ]
  },
  {
   "cell_type": "markdown",
   "id": "81af6d64",
   "metadata": {},
   "source": [
    "## Creación de un objeto de tipo BQM.\n",
    "\n",
    "Para resolver nuestro problema, debemos tener en cuenta lo siguiente:\n",
    "\n",
    "* Se utilizará la variable denominada x que valdrá 1 si el número está en el conjunto y cero en caso contrario.\n",
    "\n",
    "* En este problema **NO hay función objetivo**, sólo una restricción\n",
    "\n",
    "* La suma de los valores en cada conjunto debe ser la misma.\n",
    "\n",
    "En consecuencia se debe cumplir lo siguiente\n",
    "\n",
    "$$ \\sum_i v_i x_i = \\sum_i v_i (1 - x_i) $$\n",
    "\n",
    "Operando en la expresión anterior, se llega a la siguiente igualdad.\n",
    "\n",
    "$$ \\sum_i 2 v_i x_i - \\sum_i v_i = 0$$\n",
    "\n",
    "A continuación creamos un objeto de tipo BQM (BinaryQuadraticModel), y le añadimos las variables con la propiedad <a href=\"https://docs.ocean.dwavesys.com/en/stable/docs_dimod/reference/generated/dimod.binary.BinaryQuadraticModel.add_variable.html\" target=\"_blank\"> *add_variable*</a>. Esta variables se crean utilizando un diccionario de Python, para que de esa manera se trabaje mejor con ellas. \n",
    "\n",
    "**NOTA importante**. Observar que la variable i-ésima se crea con la expresión : *bqm.add_variable(f'x_{i}')* . Si vemos la documentación de este método, cuando no se pasa ningún valor como segundo argumento (que se refiere al valor del *bias* o constante por la que se multiplica $x_i$), el valor que toma por defecto es cero, es decir no existe término lineal y eso es así porque como hemos dicho en este caso **no existe función objetivo**, sólo una restricción."
   ]
  },
  {
   "cell_type": "code",
   "execution_count": 29,
   "id": "bded2d01-4b9f-4cb0-9a89-4cf5c58e0f39",
   "metadata": {},
   "outputs": [],
   "source": [
    "from dimod import BinaryQuadraticModel\n",
    "\n",
    "bqm = BinaryQuadraticModel('BINARY')\n",
    "n = len(values)\n",
    "# Creamos el diccionario que contiene cada variable tratada\n",
    "x = {i: bqm.add_variable(f'x_{i}') for i in range(n)}"
   ]
  },
  {
   "cell_type": "markdown",
   "id": "a08af2c7-95c5-474e-875d-d67ac676ba13",
   "metadata": {},
   "source": [
    "Veamos los valores que toma el diccionario generado:"
   ]
  },
  {
   "cell_type": "code",
   "execution_count": 30,
   "id": "853b4fc6-4c0d-474c-a5b8-38958680f895",
   "metadata": {},
   "outputs": [
    {
     "data": {
      "text/plain": [
       "{0: 'x_0',\n",
       " 1: 'x_1',\n",
       " 2: 'x_2',\n",
       " 3: 'x_3',\n",
       " 4: 'x_4',\n",
       " 5: 'x_5',\n",
       " 6: 'x_6',\n",
       " 7: 'x_7',\n",
       " 8: 'x_8'}"
      ]
     },
     "execution_count": 30,
     "metadata": {},
     "output_type": "execute_result"
    }
   ],
   "source": [
    "x"
   ]
  },
  {
   "cell_type": "markdown",
   "id": "d0e27ffe-27d2-47da-a61b-3d16a58ce65a",
   "metadata": {},
   "source": [
    "A continuación vamos a crear una lista, que la llamamos *sumandos*, que será el primer parámetro del <a href=\"https://docs.ocean.dwavesys.com/en/stable/docs_dimod/reference/generated/dimod.binary.BinaryQuadraticModel.add_linear_equality_constraint.html\" target=\"_blank\"> método *add_linear_equality_constraint* </a>. Si observamos su documentación, este primer parámetro denominado *terms*, debe ser una lista que contenga pares de valores, de tal manera que para cada par de valor, el primer término es la variable $x_i$ y el segundo término el valor del parámetro $a_i$, en la expresión del tipo: $\\sum_{i=1}^{n}a_{i}x_{i}$.\n",
    "\n",
    "En nuestro ejemplo, el primer valor del par será el valor del diciconario que hemos creado y el segundo término el valor i-ésimo de la lista *values* creada al principio multiplicado 2. Tener en cuenta que con el parámetro *terms* en este caso queremos modelar la expresión:\n",
    "\n",
    " $$\\sum_i 2 v_i x_i $$\n",
    "\n",
    " El segundo parámetro de *add_linear_equality_constraint*, denominado *constant* modelaría el término siguiente:\n",
    "\n",
    " $$ - \\sum_i v_i $$\n",
    "\n",
    " Mientras que el tercer parámetro no es más que el parámetro de Lagrange visto en el desarroll teórico. Teniendo todo esto en cuenta procedemos a continuación a implementar el código que entienda Ocean.\n"
   ]
  },
  {
   "cell_type": "code",
   "execution_count": 8,
   "id": "aa7b8885-c657-4f9f-a3f4-8beac3c51d2a",
   "metadata": {},
   "outputs": [
    {
     "data": {
      "text/plain": [
       "[('x_0', 2),\n",
       " ('x_1', 4),\n",
       " ('x_2', 6),\n",
       " ('x_3', 8),\n",
       " ('x_4', 10),\n",
       " ('x_5', 12),\n",
       " ('x_6', 14),\n",
       " ('x_7', 16)]"
      ]
     },
     "execution_count": 8,
     "metadata": {},
     "output_type": "execute_result"
    }
   ],
   "source": [
    "# Creamos la lista que debe ir dentro del parámetro terms\n",
    "sumandos = [(f\"x_{i}\",2*values[i]) for i in range(n)]\n",
    "sumandos"
   ]
  },
  {
   "cell_type": "code",
   "execution_count": 31,
   "id": "b0a31dc7",
   "metadata": {},
   "outputs": [],
   "source": [
    "# Ahora incluimos la restricción, siguiendo las indicaciones anteriores    \n",
    "bqm.add_linear_equality_constraint(\n",
    "    terms= sumandos,\n",
    "    constant=-sum(values),\n",
    "    lagrange_multiplier=10\n",
    ")"
   ]
  },
  {
   "cell_type": "code",
   "execution_count": 10,
   "id": "4fb2e703-7a10-4834-904e-3fa63d9a6c9f",
   "metadata": {},
   "outputs": [
    {
     "data": {
      "text/plain": [
       "BinaryQuadraticModel({'x_0': -1400.0, 'x_1': -2720.0, 'x_2': -3960.0, 'x_3': -5120.0, 'x_4': -6200.0, 'x_5': -7200.0, 'x_6': -8120.0, 'x_7': -8960.0}, {('x_1', 'x_0'): 160.0, ('x_2', 'x_0'): 240.0, ('x_2', 'x_1'): 480.0, ('x_3', 'x_0'): 320.0, ('x_3', 'x_1'): 640.0, ('x_3', 'x_2'): 960.0, ('x_4', 'x_0'): 400.0, ('x_4', 'x_1'): 800.0, ('x_4', 'x_2'): 1200.0, ('x_4', 'x_3'): 1600.0, ('x_5', 'x_0'): 480.0, ('x_5', 'x_1'): 960.0, ('x_5', 'x_2'): 1440.0, ('x_5', 'x_3'): 1920.0, ('x_5', 'x_4'): 2400.0, ('x_6', 'x_0'): 560.0, ('x_6', 'x_1'): 1120.0, ('x_6', 'x_2'): 1680.0, ('x_6', 'x_3'): 2240.0, ('x_6', 'x_4'): 2800.0, ('x_6', 'x_5'): 3360.0, ('x_7', 'x_0'): 640.0, ('x_7', 'x_1'): 1280.0, ('x_7', 'x_2'): 1920.0, ('x_7', 'x_3'): 2560.0, ('x_7', 'x_4'): 3200.0, ('x_7', 'x_5'): 3840.0, ('x_7', 'x_6'): 4480.0}, 12960.0, 'BINARY')"
      ]
     },
     "execution_count": 10,
     "metadata": {},
     "output_type": "execute_result"
    }
   ],
   "source": [
    "# Veamos el modelo que hemos creado\n",
    "bqm"
   ]
  },
  {
   "cell_type": "code",
   "execution_count": 32,
   "id": "cbf667fa",
   "metadata": {},
   "outputs": [
    {
     "name": "stdout",
     "output_type": "stream",
     "text": [
      "{'x_0': 0, 'x_1': 0, 'x_2': 0, 'x_3': 0, 'x_4': 1, 'x_5': 1, 'x_6': 1, 'x_7': 0, 'x_8': 1}\n",
      "\n",
      "*************Sacamos las 10 primeras soluciones******************\n",
      "\n",
      "  x_0 x_1 x_2 x_3 x_4 x_5 x_6 x_7 x_8 energy num_oc.\n",
      "0   0   0   0   0   1   1   1   0   1    0.0       1\n",
      "1   0   1   0   1   1   0   1   0   0    0.0       1\n",
      "2   0   1   1   0   1   0   0   1   1    0.0       1\n",
      "3   0   0   0   1   0   1   0   1   0    0.0       1\n",
      "4   1   1   1   0   1   0   1   0   0    0.0       1\n",
      "5   1   1   0   0   0   0   1   1   1    0.0       1\n",
      "6   0   1   1   0   1   0   0   1   0    0.0       1\n",
      "7   0   0   0   0   1   1   1   0   0    0.0       1\n",
      "8   1   0   0   1   0   1   1   0   1    0.0       1\n",
      "9   0   0   1   1   1   1   0   0   0    0.0       1\n",
      "['BINARY', 10 rows, 10 samples, 9 variables]\n"
     ]
    }
   ],
   "source": [
    "from dimod import ExactSolver\n",
    "\n",
    "#response = None  # your code here (hint call the ExactSolver to sovle the bqm - Make sure to truncate to e.g. 10 samples)\n",
    "response = ExactSolver().sample(bqm)\n",
    "solution = response.first.sample # Elegimos la primera solución\n",
    "print(solution)\n",
    "print(\"\\n*************Sacamos las 10 primeras soluciones******************\\n\")\n",
    "\n",
    "# Trucamos hasta la solución 10\n",
    "print(response.truncate(10))\n"
   ]
  },
  {
   "cell_type": "code",
   "execution_count": 33,
   "id": "47bc3fa0",
   "metadata": {},
   "outputs": [
    {
     "name": "stdout",
     "output_type": "stream",
     "text": [
      "21 = sum(8, 1, 3, 9)\n",
      "13 = sum(1, 2, 3, 7)\n"
     ]
    }
   ],
   "source": [
    "set1 = {values[i] for i in x if solution[x[i]]}\n",
    "set2 = {values[i] for i in x if not solution[x[i]]}\n",
    "print(f'{sum(set1)} = sum{tuple(set1)}')\n",
    "print(f'{sum(set2)} = sum{tuple(set2)}')"
   ]
  },
  {
   "cell_type": "markdown",
   "id": "72c59218",
   "metadata": {},
   "source": [
    "## Haciendo una partición en más de dos conjuntos\n",
    "\n",
    "En este apartado procedemos a extender el aprtado anterior, en el sentido de que aquí la lista de números inicial, la vamos a dividir en tres conjuntos, de manera que los números seleccionados en cada grupo sea la misma. Para hacer esto deberemos tener en cuenta lo siguiente:\n",
    "\n",
    "* Necesitamos una variable binaria, que tome valores 0 ó 1 para cada número y cada conjunto de valores.\n",
    "\n",
    "* La variable binaria en este caso $x_{i,j} =1$ si el valor del número i-ésimo está en el grupo j. Por lo tanto en este caso i puede valor del 1 al total de números ( 9 en este ejemplo), y j puede valor 1,2 ó 3.\n",
    "\n",
    "* Cada valor o número puede ser asignado a un solo grupo\n"
   ]
  },
  {
   "cell_type": "code",
   "execution_count": 20,
   "id": "adaa2830",
   "metadata": {},
   "outputs": [],
   "source": [
    "# Creamos el conjunto de números\n",
    "values = [7, 2, 3, 1, 8, 3, 1, 2, 9]\n",
    "\n",
    "# Creamos el modelo QUBO\n",
    "bqm = BinaryQuadraticModel('BINARY')\n",
    "n = len(values) # Es el número total de números\n",
    "m = 3 # Es el número de particiones\n",
    "\n",
    "x = {(i, k): bqm.add_variable((f'x_{i}', k)) \n",
    "     for i in range(n)\n",
    "     for k in range(m)\n",
    "    }"
   ]
  },
  {
   "cell_type": "markdown",
   "id": "e4752b12-65e3-40c6-ac8c-c96ecf255c0f",
   "metadata": {},
   "source": [
    "Creamos a continuación un diccinario de variables, de manera que el índice es un par de números indicando el elemento iésimo de los números y el elemento j-ésimo de grupo de núemros, y como valor la variable binaria que se crea"
   ]
  },
  {
   "cell_type": "code",
   "execution_count": 34,
   "id": "0f62f968-4779-4cc4-a112-8ba5c6369aec",
   "metadata": {},
   "outputs": [],
   "source": [
    "\n",
    "x = {(i, k): bqm.add_variable((f'x_{i}', k)) \n",
    "     for i in range(n)\n",
    "     for k in range(m)\n",
    "    }"
   ]
  },
  {
   "cell_type": "code",
   "execution_count": 35,
   "id": "821b8563-b9ea-4c00-9747-e4b2ba63504b",
   "metadata": {},
   "outputs": [
    {
     "data": {
      "text/plain": [
       "{(0, 0): ('x_0', 0),\n",
       " (0, 1): ('x_0', 1),\n",
       " (0, 2): ('x_0', 2),\n",
       " (1, 0): ('x_1', 0),\n",
       " (1, 1): ('x_1', 1),\n",
       " (1, 2): ('x_1', 2),\n",
       " (2, 0): ('x_2', 0),\n",
       " (2, 1): ('x_2', 1),\n",
       " (2, 2): ('x_2', 2),\n",
       " (3, 0): ('x_3', 0),\n",
       " (3, 1): ('x_3', 1),\n",
       " (3, 2): ('x_3', 2),\n",
       " (4, 0): ('x_4', 0),\n",
       " (4, 1): ('x_4', 1),\n",
       " (4, 2): ('x_4', 2),\n",
       " (5, 0): ('x_5', 0),\n",
       " (5, 1): ('x_5', 1),\n",
       " (5, 2): ('x_5', 2),\n",
       " (6, 0): ('x_6', 0),\n",
       " (6, 1): ('x_6', 1),\n",
       " (6, 2): ('x_6', 2),\n",
       " (7, 0): ('x_7', 0),\n",
       " (7, 1): ('x_7', 1),\n",
       " (7, 2): ('x_7', 2),\n",
       " (8, 0): ('x_8', 0),\n",
       " (8, 1): ('x_8', 1),\n",
       " (8, 2): ('x_8', 2)}"
      ]
     },
     "execution_count": 35,
     "metadata": {},
     "output_type": "execute_result"
    }
   ],
   "source": [
    "x"
   ]
  },
  {
   "cell_type": "markdown",
   "id": "c5d857cd-926e-46bf-be0c-ace5ed3fc736",
   "metadata": {},
   "source": [
    "A continuación vemos cómo trabaja el objeto *combinations* del paquete itertools, porque es algo que necesitamos conocer para entender mejor el paso siguiente.\n",
    "```{index} itertools, combinations\r\n",
    "```"
   ]
  },
  {
   "cell_type": "code",
   "execution_count": 36,
   "id": "447d087c-4ffb-4ea7-bdc2-5964d2668fbf",
   "metadata": {},
   "outputs": [
    {
     "name": "stdout",
     "output_type": "stream",
     "text": [
      "0 1\n",
      "0 2\n",
      "1 2\n"
     ]
    }
   ],
   "source": [
    "from itertools import combinations\n",
    "\n",
    "for k, l in combinations(range(m), r=2):\n",
    "    print(k,l)"
   ]
  },
  {
   "cell_type": "markdown",
   "id": "7825cfd3",
   "metadata": {},
   "source": [
    "**Recordar que aquí no hay objetivo, sólo restricciones**"
   ]
  },
  {
   "cell_type": "markdown",
   "id": "b53f6616",
   "metadata": {},
   "source": [
    "Para resolver este problema, debemos de tener en cuenta que la suma de los conjuntos debe ser iguales. Entonces por cada para de conjuntos, se debe cumplir lo siguiente:\n",
    "\n",
    "\n",
    "\n",
    "$$ \\sum_i v_i x_{ij} = \\sum_i v_i x_{ik}   \\quad para\\, todo\\,j\\, y,\\, k $$\n",
    "\n",
    "\n",
    "Es decir:\n",
    "\n",
    "$$ \\sum_i v_i x_{ij} - \\sum_i v_i x_{ik} = 0$$\n",
    "\n",
    "Plamemos todo esto en código python entendible por Ocean"
   ]
  },
  {
   "cell_type": "code",
   "execution_count": 23,
   "id": "9effbded",
   "metadata": {},
   "outputs": [],
   "source": [
    "from itertools import combinations\n",
    "\n",
    "for k, l in combinations(range(m), r=2):\n",
    "    #expression  es una lista que contiene (mediante list comprgension el primer conjunto de suma anterior)\n",
    "    expression = [(x[i,k] , values[i])for i in range(n)]\n",
    "    #expression += añadimos las symas de los segundos sumandos de la expresión anterior\n",
    "    expression +=[(x[i,l] , -values[i])for i in range(n)]\n",
    "    bqm.add_linear_equality_constraint(\n",
    "    expression,\n",
    "    constant=0,\n",
    "    lagrange_multiplier=10)"
   ]
  },
  {
   "cell_type": "markdown",
   "id": "fd3923c3",
   "metadata": {},
   "source": [
    "Añadimos ahora una restricción para segurarnos de que un numero sólo puede ser asignado a un conjunto de números. Es decir, se debe de cumplir lo siguiente:\n",
    "\n",
    "\n",
    "\n",
    "$$\\sum_{J=1}^{3}x_{ij}=1\\ \\forall i=1,2,..,8 $$"
   ]
  },
  {
   "cell_type": "code",
   "execution_count": 37,
   "id": "e20c6470",
   "metadata": {},
   "outputs": [],
   "source": [
    "for i in range(n):\n",
    "    bqm.add_linear_equality_constraint(\n",
    "    \n",
    "    terms = [(x[i,j],1) for j in range(m) ],\n",
    "    constant=-1.0,\n",
    "    lagrange_multiplier=10)"
   ]
  },
  {
   "cell_type": "markdown",
   "id": "3812bc31",
   "metadata": {},
   "source": [
    "```{index} SimulatedAnnealingSampler()\r\n",
    "```\n",
    "Resolvemos el problema anterior utilizando el solver SimulatedAnnealingSample. Puede ser que se tenga que ejecutar varias veces..."
   ]
  },
  {
   "cell_type": "code",
   "execution_count": 27,
   "id": "549d9dae",
   "metadata": {},
   "outputs": [
    {
     "name": "stdout",
     "output_type": "stream",
     "text": [
      "  ('x_0', 0) ('x_0', 1) ('x_0', 2) ('x_1', 0) ... ('x_8', 2) energy num_oc.\n",
      "0          0          0          1          1 ...          0    0.0       1\n",
      "1          1          0          0          1 ...          1    0.0       1\n",
      "2          0          0          1          0 ...          0   10.0       1\n",
      "3          1          0          0          0 ...          0   10.0       1\n",
      "4          1          0          0          0 ...          1   10.0       1\n",
      "['BINARY', 5 rows, 5 samples, 27 variables]\n"
     ]
    }
   ],
   "source": [
    "from neal import SimulatedAnnealingSampler\n",
    "\n",
    "res = SimulatedAnnealingSampler().sample(bqm, num_reads=100, num_sweeps=1000).truncate(5)\n",
    "print(res)"
   ]
  },
  {
   "cell_type": "markdown",
   "id": "e645f54a",
   "metadata": {},
   "source": [
    "El resultado que se obtiene es el siguiente"
   ]
  },
  {
   "cell_type": "code",
   "execution_count": 28,
   "id": "4f98a14f",
   "metadata": {},
   "outputs": [
    {
     "name": "stdout",
     "output_type": "stream",
     "text": [
      "36\n",
      "12 [2, 1, 8, 1]\n",
      "12 [3, 9]\n",
      "12 [7, 3, 2]\n"
     ]
    }
   ],
   "source": [
    "sample = res.first.sample\n",
    "\n",
    "print(sum(values))\n",
    "for k in range(m):\n",
    "    set1 = [values[i] for (i, l) in x if sample[x[i, l]] if k == l]\n",
    "    print(sum(set1), set1)"
   ]
  },
  {
   "cell_type": "code",
   "execution_count": null,
   "id": "bcf75871-6b79-4c1b-acc9-b4f43cce3154",
   "metadata": {},
   "outputs": [],
   "source": []
  }
 ],
 "metadata": {
  "kernelspec": {
   "display_name": "Python 3 (ipykernel)",
   "language": "python",
   "name": "python3"
  },
  "language_info": {
   "codemirror_mode": {
    "name": "ipython",
    "version": 3
   },
   "file_extension": ".py",
   "mimetype": "text/x-python",
   "name": "python",
   "nbconvert_exporter": "python",
   "pygments_lexer": "ipython3",
   "version": "3.8.3"
  }
 },
 "nbformat": 4,
 "nbformat_minor": 5
}
