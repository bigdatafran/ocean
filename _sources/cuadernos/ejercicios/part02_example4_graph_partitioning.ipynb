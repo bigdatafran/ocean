{
 "cells": [
  {
   "cell_type": "markdown",
   "id": "148d5dae-d1dc-4a93-b3f8-3d5de1c5444d",
   "metadata": {},
   "source": [
    "(particion_partes_iguales_grafo)=\n",
    "# Introducción\n",
    "\n",
    "En este ejemplo lo que se pretende es dividir los nodos de un grafo en dos conjuntos de igual tamaño, de manera que los arcos entre estos dos conjuntos sean los menos posibles. También se puede resolver utilizando DQM como se puede ver en [el contenido que hay detrás de este enlace](particionGraficoDQM).\n",
    "\n",
    "Comenzamos cargando los módulos que vamos a necesitar"
   ]
  },
  {
   "cell_type": "code",
   "execution_count": 1,
   "id": "75ce64d0-03d2-4a62-949a-90f5667d1d98",
   "metadata": {},
   "outputs": [],
   "source": [
    "from dimod import BinaryQuadraticModel\n",
    "from dimod import ExactSolver\n",
    "from neal import SimulatedAnnealingSampler\n",
    "from itertools import combinations\n",
    "import networkx as nx"
   ]
  },
  {
   "cell_type": "markdown",
   "id": "b6140f6b-7f1f-4ea8-aa04-30bfb0a0f701",
   "metadata": {},
   "source": [
    "## Creación del grafo.\n",
    "\n",
    "Vamos a crear un grafo muy simple para comprobar que al final la solución obtenida es la que estamos buscando. Los condicionantes con los que vamos a trabajar son los siguientes:\n",
    "\n",
    "* Creamos un grafo con 6 nodos\n",
    "\n",
    "* Lo dividimos en dos conjuntos\n",
    "\n",
    "* Cada conjunto tendrá 6 nodos\n",
    "\n",
    "* La solución sólo va a tener un arco que conecta los dos conjuntos de nodos.\n",
    "\n",
    "Construimos el grafo y lo dibujamos por pantalla"
   ]
  },
  {
   "cell_type": "code",
   "execution_count": 2,
   "id": "cb51634e-947a-4d6c-b7f7-990304e6959b",
   "metadata": {},
   "outputs": [],
   "source": [
    "edges = [(1, 2), (2, 3), (1, 3), (4, 5), (5, 6), (4, 6), (2, 4)]\n",
    "nodes = sorted(set().union(*edges))\n",
    "graph = nx.Graph(edges)"
   ]
  },
  {
   "cell_type": "code",
   "execution_count": 3,
   "id": "76de9f4d-1332-4939-b7bc-919de22ec973",
   "metadata": {},
   "outputs": [
    {
     "data": {
      "image/png": "[encoded data removed]",
      "text/plain": [
       "<Figure size 640x480 with 1 Axes>"
      ]
     },
     "metadata": {},
     "output_type": "display_data"
    }
   ],
   "source": [
    "nx.draw(graph, with_labels=True)"
   ]
  },
  {
   "cell_type": "markdown",
   "id": "53049be3-9785-40bf-9944-a999bf86fa6d",
   "metadata": {},
   "source": [
    "## Cración del objeto BQM.\n",
    "\n",
    "Construimos las variables binarias $x_i$ de tal manera que vale 1 si el nodo i pertenece al primer conjunto y vale cero si pernece al segundo conjunto.\n",
    "\n",
    "Vamos a construir una función objetivo, y para ello tenemos en cuenta lo siguiente:\n",
    "\n",
    "Dados dos nodos, o lo que es lo mismo dos variables binarias x e y, se les deberá asignar energia cero si tienen igual valor ( porque eso quiere decir que están en el mismo grupo), y energía máxima 1 si tienen valores diferentes (porque eso quiere decir que están en grupos diferentes). Expreseamos esto mediante la siguiente tabla de la verdad:\n",
    "\n",
    "\n",
    "x | y | quadratic bias\n",
    ":----:|:---:|:----:\n",
    "0   | 0   | 0\n",
    "0   | 1   | 1\n",
    "1   | 0   | 1\n",
    "1   | 1   | 0\n",
    "\n",
    "La forma cuadrática que buscamos tiene la siguiente representación genérica:\n",
    "\n",
    "$$ ax+by+cxy+d $$\n",
    "\n",
    "* si x=y=0 (primera linea tabla de la verdad)  entonces se tiene $a \\cdot 0 +b \\cdot 0+c \\cdot 0 \\cdot 0 + d=0 $, luego d=0\n",
    "\n",
    "* si x=0, y=1 (segunda fila tabla de la verdad). Razonando como antes, se tiene que b=1\n",
    "\n",
    "* si x=1, y=0 (tercera linea tabla de la verdad). Razonando como antes, se tiene que a=1\n",
    "\n",
    "* POr último de la cuarta fila de la tabla de la verdad se tiene que c=2\n",
    "\n",
    "Por lo tanto, al final la ecuación que se obtiene (para cada nodo del grafo formado) es la siguiente:\n",
    "\n",
    "$$x + y- 2 x y$$\n",
    "\n",
    "Esta ecuación es aditiva, podemos recorrer cada arista del grafo y sumar al objetivo, por lo que se obtendrá lo siguiente:\n",
    "\n",
    "$$ E =\\sum_{i, j \\in Edges} (x_i + x_j - 2 x_i x_j) \n",
    "\n",
    "A continuación procedemos a modelizar mediante programación QUBO todo esto."
   ]
  },
  {
   "cell_type": "code",
   "execution_count": 4,
   "id": "59e2ddbc-d096-471b-9b79-3b2287a26714",
   "metadata": {},
   "outputs": [],
   "source": [
    "bqm = BinaryQuadraticModel('BINARY')\n",
    "\n",
    "x = [bqm.add_variable(node) for node in nodes]\n",
    "n = len(x)\n",
    "for a, b in edges:\n",
    "    bqm.add_variable(a, 1)\n",
    "    bqm.add_variable(b, 1)\n",
    "    bqm.add_interaction(a, b, -2)\n"
   ]
  },
  {
   "cell_type": "markdown",
   "id": "236d2384-1b6e-4188-83ed-0cbf5718722b",
   "metadata": {},
   "source": [
    "Veamos en concreto el modelo que se obtiene"
   ]
  },
  {
   "cell_type": "code",
   "execution_count": 5,
   "id": "ac636deb-0975-4e2d-ad03-3710d9f3832d",
   "metadata": {},
   "outputs": [
    {
     "data": {
      "text/plain": [
       "BinaryQuadraticModel({1: 2.0, 2: 3.0, 3: 2.0, 4: 3.0, 5: 2.0, 6: 2.0}, {(2, 1): -2.0, (3, 1): -2.0, (3, 2): -2.0, (4, 2): -2.0, (5, 4): -2.0, (6, 4): -2.0, (6, 5): -2.0}, 0.0, 'BINARY')"
      ]
     },
     "execution_count": 5,
     "metadata": {},
     "output_type": "execute_result"
    }
   ],
   "source": [
    "bqm"
   ]
  },
  {
   "cell_type": "markdown",
   "id": "6e6d2723-1699-4d82-96f0-434918057535",
   "metadata": {},
   "source": [
    "## Restricción\n",
    "\n",
    "Añadimos la siguiente restricción para asegurarnos de que el número de nodos en cada conjunto es el mismo:\n",
    "\n",
    "$$ \\sum_i x_i = \\sum_i (1 - x_i) $$\n",
    "\n",
    "Reagrupando términos se llega a la siguiente condición: \n",
    "\n",
    "$$ \\sum_i 2 x_i - n = 0$$\n",
    "\n",
    "donde $n$ es el número de nodos $n = \\sum_i 1$\n",
    "\n",
    "Añadimos esta restricción al modelo BQM anterior."
   ]
  },
  {
   "cell_type": "code",
   "execution_count": 6,
   "id": "651cbe64-582e-41d6-b5fa-564c55e66197",
   "metadata": {},
   "outputs": [],
   "source": [
    "bqm.add_linear_equality_constraint(\n",
    "    [(x[i], 2.0) for i in range(n)],\n",
    "    constant=-n,\n",
    "    lagrange_multiplier=10\n",
    ")"
   ]
  },
  {
   "cell_type": "markdown",
   "id": "e8c4ebbf-b6d5-4ca4-80e5-1bebab5aeae3",
   "metadata": {},
   "source": [
    "Resolvemos con ExactSolver"
   ]
  },
  {
   "cell_type": "code",
   "execution_count": 7,
   "id": "54fce657-65e2-4bcc-8ac5-803e2910fb16",
   "metadata": {},
   "outputs": [
    {
     "name": "stdout",
     "output_type": "stream",
     "text": [
      "   1  2  3  4  5  6 energy num_oc.\n",
      "0  0  0  0  1  1  1    1.0       1\n",
      "1  1  1  1  0  0  0    1.0       1\n",
      "2  1  0  1  0  1  0    4.0       1\n",
      "3  0  0  1  0  1  1    4.0       1\n",
      "4  1  0  0  0  1  1    4.0       1\n",
      "['BINARY', 5 rows, 5 samples, 6 variables]\n"
     ]
    }
   ],
   "source": [
    "print(ExactSolver().sample(bqm).truncate(5))"
   ]
  },
  {
   "cell_type": "markdown",
   "id": "839bc5ff-a076-4848-adb1-6de8a6917a1f",
   "metadata": {},
   "source": [
    "## Partición del grafo en más de dos conjuntos.\n",
    "\n",
    "Pretendemos ahora hacer algo similar al caso anterior, pero para más de dos grupos de nodos. Construimos el grafo siguiente para trabajar con él."
   ]
  },
  {
   "cell_type": "code",
   "execution_count": 8,
   "id": "b8426136-86f9-4f31-800f-72af2753c92a",
   "metadata": {},
   "outputs": [
    {
     "data": {
      "image/png": "[encoded data removed]",
      "text/plain": [
       "<Figure size 640x480 with 1 Axes>"
      ]
     },
     "metadata": {},
     "output_type": "display_data"
    }
   ],
   "source": [
    "edges = [\n",
    "    (1, 2), (2, 3), (1, 3), \n",
    "    (4, 5), (5, 6), (4, 6), \n",
    "    (7, 8), (8, 9), (7, 9),\n",
    "    (2, 4), (4, 8)\n",
    "]\n",
    "nodes = sorted(set().union(*edges))\n",
    "graph = nx.Graph(edges)\n",
    "nx.draw(graph, with_labels=True)"
   ]
  },
  {
   "cell_type": "markdown",
   "id": "18cf22af-a190-430c-be58-b290480806f5",
   "metadata": {},
   "source": [
    "## Variables de decisión.\n",
    "\n",
    "Ahora vamos a construir una variable binaria, pero en este caso con dos subíndices $x_{i,k}$ para cada nodo $i$ y conjunto $k$. Si el valor es uno el nodo $i$ va a estar en el grupo $k$.\n",
    "\n",
    "El modelo que construimos es el siguiente:"
   ]
  },
  {
   "cell_type": "code",
   "execution_count": 9,
   "id": "ad1742bf-1ac8-44eb-be73-9eef68ec9369",
   "metadata": {},
   "outputs": [],
   "source": [
    "bqm = BinaryQuadraticModel('BINARY')\n",
    "\n",
    "m = 3\n",
    "n = len(nodes)\n",
    "x = {(node, k): bqm.add_variable((f'x_{node}', k))\n",
    "     for node in nodes\n",
    "     for k in range(m)}"
   ]
  },
  {
   "cell_type": "code",
   "execution_count": 10,
   "id": "3c855ef0-ff03-4264-9981-df30546cfb29",
   "metadata": {},
   "outputs": [
    {
     "data": {
      "text/plain": [
       "BinaryQuadraticModel({('x_1', 0): 0.0, ('x_1', 1): 0.0, ('x_1', 2): 0.0, ('x_2', 0): 0.0, ('x_2', 1): 0.0, ('x_2', 2): 0.0, ('x_3', 0): 0.0, ('x_3', 1): 0.0, ('x_3', 2): 0.0, ('x_4', 0): 0.0, ('x_4', 1): 0.0, ('x_4', 2): 0.0, ('x_5', 0): 0.0, ('x_5', 1): 0.0, ('x_5', 2): 0.0, ('x_6', 0): 0.0, ('x_6', 1): 0.0, ('x_6', 2): 0.0, ('x_7', 0): 0.0, ('x_7', 1): 0.0, ('x_7', 2): 0.0, ('x_8', 0): 0.0, ('x_8', 1): 0.0, ('x_8', 2): 0.0, ('x_9', 0): 0.0, ('x_9', 1): 0.0, ('x_9', 2): 0.0}, {}, 0.0, 'BINARY')"
      ]
     },
     "execution_count": 10,
     "metadata": {},
     "output_type": "execute_result"
    }
   ],
   "source": [
    "bqm"
   ]
  },
  {
   "cell_type": "markdown",
   "id": "c3a6915a-8f16-442a-90d1-2f0b3e0f6179",
   "metadata": {},
   "source": [
    "## Objectivo\n",
    "\n",
    "En lugar de penalizar dos nodos que no están en el mismo conjunto, recompensamos si\n",
    "\n",
    "* dos nodos pertenecen al mismo conjunto, y\n",
    "\n",
    "* los dos nodos están conectados\n"
   ]
  },
  {
   "cell_type": "code",
   "execution_count": 11,
   "id": "be3875ac-b613-435e-891a-a7a6dd1e266a",
   "metadata": {},
   "outputs": [],
   "source": [
    "for a, b in edges:\n",
    "    for k in range(m):\n",
    "        bqm.add_interaction(x[a, k], x[b, k], -1)   "
   ]
  },
  {
   "cell_type": "code",
   "execution_count": 12,
   "id": "2a29b0e1-dc07-47f6-938a-9aa5124ed7b6",
   "metadata": {},
   "outputs": [
    {
     "data": {
      "text/plain": [
       "BinaryQuadraticModel({('x_1', 0): 0.0, ('x_1', 1): 0.0, ('x_1', 2): 0.0, ('x_2', 0): 0.0, ('x_2', 1): 0.0, ('x_2', 2): 0.0, ('x_3', 0): 0.0, ('x_3', 1): 0.0, ('x_3', 2): 0.0, ('x_4', 0): 0.0, ('x_4', 1): 0.0, ('x_4', 2): 0.0, ('x_5', 0): 0.0, ('x_5', 1): 0.0, ('x_5', 2): 0.0, ('x_6', 0): 0.0, ('x_6', 1): 0.0, ('x_6', 2): 0.0, ('x_7', 0): 0.0, ('x_7', 1): 0.0, ('x_7', 2): 0.0, ('x_8', 0): 0.0, ('x_8', 1): 0.0, ('x_8', 2): 0.0, ('x_9', 0): 0.0, ('x_9', 1): 0.0, ('x_9', 2): 0.0}, {(('x_2', 0), ('x_1', 0)): -1.0, (('x_2', 1), ('x_1', 1)): -1.0, (('x_2', 2), ('x_1', 2)): -1.0, (('x_3', 0), ('x_1', 0)): -1.0, (('x_3', 0), ('x_2', 0)): -1.0, (('x_3', 1), ('x_1', 1)): -1.0, (('x_3', 1), ('x_2', 1)): -1.0, (('x_3', 2), ('x_1', 2)): -1.0, (('x_3', 2), ('x_2', 2)): -1.0, (('x_4', 0), ('x_2', 0)): -1.0, (('x_4', 1), ('x_2', 1)): -1.0, (('x_4', 2), ('x_2', 2)): -1.0, (('x_5', 0), ('x_4', 0)): -1.0, (('x_5', 1), ('x_4', 1)): -1.0, (('x_5', 2), ('x_4', 2)): -1.0, (('x_6', 0), ('x_4', 0)): -1.0, (('x_6', 0), ('x_5', 0)): -1.0, (('x_6', 1), ('x_4', 1)): -1.0, (('x_6', 1), ('x_5', 1)): -1.0, (('x_6', 2), ('x_4', 2)): -1.0, (('x_6', 2), ('x_5', 2)): -1.0, (('x_8', 0), ('x_4', 0)): -1.0, (('x_8', 0), ('x_7', 0)): -1.0, (('x_8', 1), ('x_4', 1)): -1.0, (('x_8', 1), ('x_7', 1)): -1.0, (('x_8', 2), ('x_4', 2)): -1.0, (('x_8', 2), ('x_7', 2)): -1.0, (('x_9', 0), ('x_7', 0)): -1.0, (('x_9', 0), ('x_8', 0)): -1.0, (('x_9', 1), ('x_7', 1)): -1.0, (('x_9', 1), ('x_8', 1)): -1.0, (('x_9', 2), ('x_7', 2)): -1.0, (('x_9', 2), ('x_8', 2)): -1.0}, 0.0, 'BINARY')"
      ]
     },
     "execution_count": 12,
     "metadata": {},
     "output_type": "execute_result"
    }
   ],
   "source": [
    "bqm"
   ]
  },
  {
   "cell_type": "markdown",
   "id": "ca476ece-6bd5-4986-956a-50649a9e5ed0",
   "metadata": {},
   "source": [
    "## Restricciones\n",
    "\n",
    "El tamaño de cada conjunto es n/m\n",
    "- n es el número de nodos\n",
    "- m es el número de conjuntos"
   ]
  },
  {
   "cell_type": "code",
   "execution_count": 13,
   "id": "24ae4ddf-4149-4ea1-bff3-b32c51d03da3",
   "metadata": {},
   "outputs": [],
   "source": [
    "for k in range(m):\n",
    "    bqm.add_linear_equality_constraint(\n",
    "        [(x[i, k], 1.0) for i in nodes],\n",
    "        constant=-n/m,\n",
    "        lagrange_multiplier=10\n",
    "    )    "
   ]
  },
  {
   "cell_type": "markdown",
   "id": "8f75cc6d-2c69-4069-9060-ebff2a0a2742",
   "metadata": {},
   "source": [
    "Cada nodo sólo pertence a un conjunto"
   ]
  },
  {
   "cell_type": "code",
   "execution_count": 14,
   "id": "8204a1ba-8db5-4ee7-affe-00671197a5f7",
   "metadata": {},
   "outputs": [],
   "source": [
    "for node in nodes:\n",
    "    bqm.add_linear_equality_constraint(\n",
    "        [(x[node, k], 1.0) for k in range(m)],\n",
    "        constant=-1.0,\n",
    "        lagrange_multiplier=10\n",
    "    )"
   ]
  },
  {
   "cell_type": "code",
   "execution_count": 15,
   "id": "60cc0a65-a03c-43b9-b704-8e629d4018b0",
   "metadata": {},
   "outputs": [
    {
     "name": "stdout",
     "output_type": "stream",
     "text": [
      "  ('x_1', 0) ('x_1', 1) ('x_1', 2) ('x_2', 0) ... ('x_9', 2) energy num_oc.\n",
      "0          0          1          0          0 ...          0   -9.0       1\n",
      "1          1          0          0          1 ...          0   -9.0       1\n",
      "2          0          0          1          0 ...          0   -9.0       1\n",
      "['BINARY', 3 rows, 3 samples, 27 variables]\n"
     ]
    }
   ],
   "source": [
    "res = SimulatedAnnealingSampler().sample(bqm, num_reads=100, num_sweeps=10000).truncate(3)\n",
    "print(res)"
   ]
  },
  {
   "cell_type": "code",
   "execution_count": 16,
   "id": "f8069ccc-694f-4dff-a762-7f73ba73a04f",
   "metadata": {},
   "outputs": [
    {
     "name": "stdout",
     "output_type": "stream",
     "text": [
      "{'x_1': 1, 'x_2': 1, 'x_3': 1, 'x_4': 2, 'x_5': 2, 'x_6': 2, 'x_7': 0, 'x_8': 0, 'x_9': 0}\n"
     ]
    }
   ],
   "source": [
    "assignment = ({variable: set_assignment for (variable, set_assignment), v in res.first.sample.items() if v})\n",
    "print(assignment)"
   ]
  },
  {
   "cell_type": "code",
   "execution_count": 17,
   "id": "574d1c95-fa3a-42cf-aff8-c3a6c6652035",
   "metadata": {},
   "outputs": [
    {
     "data": {
      "image/png": "[encoded data removed]",
      "text/plain": [
       "<Figure size 640x480 with 1 Axes>"
      ]
     },
     "metadata": {},
     "output_type": "display_data"
    }
   ],
   "source": [
    "colors = ['r', 'g', 'b']\n",
    "color_map = [colors[assignment[f'x_{i}']] for i in nodes]   \n",
    "nx.draw(graph, node_color=color_map, with_labels=True)"
   ]
  },
  {
   "cell_type": "code",
   "execution_count": null,
   "id": "a2f0cecb-6faa-401e-91e3-6f5e65be954c",
   "metadata": {},
   "outputs": [],
   "source": []
  }
 ],
 "metadata": {
  "kernelspec": {
   "display_name": "Python 3 (ipykernel)",
   "language": "python",
   "name": "python3"
  },
  "language_info": {
   "codemirror_mode": {
    "name": "ipython",
    "version": 3
   },
   "file_extension": ".py",
   "mimetype": "text/x-python",
   "name": "python",
   "nbconvert_exporter": "python",
   "pygments_lexer": "ipython3",
   "version": "3.8.3"
  },
  "toc": {
   "base_numbering": 1,
   "nav_menu": {},
   "number_sections": true,
   "sideBar": true,
   "skip_h1_title": false,
   "title_cell": "Table of Contents",
   "title_sidebar": "Contents",
   "toc_cell": false,
   "toc_position": {},
   "toc_section_display": true,
   "toc_window_display": true
  },
  "varInspector": {
   "cols": {
    "lenName": 16,
    "lenType": 16,
    "lenVar": 40
   },
   "kernels_config": {
    "python": {
     "delete_cmd_postfix": "",
     "delete_cmd_prefix": "del ",
     "library": "var_list.py",
     "varRefreshCmd": "print(var_dic_list())"
    },
    "r": {
     "delete_cmd_postfix": ") ",
     "delete_cmd_prefix": "rm(",
     "library": "var_list.r",
     "varRefreshCmd": "cat(var_dic_list()) "
    }
   },
   "types_to_exclude": [
    "module",
    "function",
    "builtin_function_or_method",
    "instance",
    "_Feature"
   ],
   "window_display": false
  }
 },
 "nbformat": 4,
 "nbformat_minor": 5
}
