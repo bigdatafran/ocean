{
 "cells": [
  {
   "cell_type": "markdown",
   "id": "f17e0937-3708-4ed5-9c43-34806ca2f7a5",
   "metadata": {},
   "source": [
    "(problema_mochila)=\n",
    "# Introducción.\n",
    "\n",
    "El problema de la mochila es un problema clásico dentro del mundo de la optimización. La idea es que dado una serie de paquetes, con unas ciertas carcaterísticas y un lugar donde se quieren meter esos paquetes (puede ser un contenedor, camión etc), estudiar la manera óptima de colcar los paquetes en el contenedor. \n",
    "\n",
    "En este apartado vamos a ver diferentes versiones del problema y la forma de darlo solución.\n",
    "\n",
    "## versión 1.\n",
    "(problema_mochila-version_1)=\n",
    "Tenemos cuatro paquetes, cada paquete tiene un valor, un peso y un volumen. Se trata de maximizar el valor que se introduce teniendo el cuenta que el contenedor tiene un límite de pesos y y de volumen.\n",
    "\n",
    "En este caso la función objetivo seria:\n",
    "\n",
    "$$\\sum valor_{i}x_{i}$$\n",
    "\n",
    "Donde $x_i$ es una variable dicotómica que toma el valor 1 si es seleccionado el paquete y cero en caso contrario. Observar que lo que se pretende es maximimizar, luego lo que tenemos que hacer es poner esa función con signo negativo.\n",
    "\n",
    "Las restricciones se pondrían de forma similar. A continuación, se muestran los valores con los que vamos a trabajar"
   ]
  },
  {
   "cell_type": "code",
   "execution_count": 1,
   "id": "d68cbaf7-eda6-4529-aecc-2775a0cbd705",
   "metadata": {},
   "outputs": [],
   "source": [
    "values = [1, 2, 3, 4] # Valores de los paquetes\n",
    "weights = [2, 2, 3, 3] #pesos de los paquetes\n",
    "volumes = [3, 3, 2, 2] # volumen de los paquetes\n",
    "n = 4 # nº total de paquetes\n",
    "variables = list(range(n)) # Nos va a servir despues para definir las variables binarias\n",
    "max_weight = 4 # máximo peso que admite el contenedor\n",
    "max_volume = 6 # Volumen máximo que admite el contenedor\n",
    "\n",
    "penalty_strength_weight = 20 # Parámetro de lagrange para la condición de peso\n",
    "penalty_strength_volume = 20 # parámetro de lagrange para la condición de volumen"
   ]
  },
  {
   "cell_type": "markdown",
   "id": "f0a0249f-54cc-4dcd-abee-45b49d7b6160",
   "metadata": {},
   "source": [
    "A continuación mostramos una tabla de posibles valores y señalamos en negrita la opción que vamos buscando. Observar que hay soluciones que maximizan la función de costes, pero sin embargo no es una solucción factible pues no verifica alguna de las restricciones impuestas.\n",
    "\n",
    "x_1 | x_2 | x_3 | x_4 | total value | total weight | total volume | feasible|\n",
    ":----:|:---:|:----:|:----:|:----:|:-----:|:-----:|:------:\n",
    "1   | 0   |0   | 0   | 1  | 2  | 3  |   True\n",
    "0   | 1   |0   | 0   | 2  | 2  | 3  |   True\n",
    "0   | 0   |1   | 0   | 3  | 3  | 2  |   True\n",
    "**0**   | **0**   |**0**   | **1**   | **4**  | **3**  | **2**  |   **True**\n",
    "0   | 0   |1   | 1   | 7  | 6  | 4  |   False\n",
    "1   | 1   |0   | 0   | 3  | 4  | 6  |   True\n",
    "\n",
    "Comenzamos implementado el modelo de tipo BQM que vamos a utilizar"
   ]
  },
  {
   "cell_type": "code",
   "execution_count": 2,
   "id": "9cc9894e-a5fd-4809-a998-67976220679b",
   "metadata": {},
   "outputs": [],
   "source": [
    "from dimod import BinaryQuadraticModel\n",
    "\n",
    "bqm = BinaryQuadraticModel('BINARY')"
   ]
  },
  {
   "cell_type": "markdown",
   "id": "d8fd0f7e-0bf6-4dbf-8391-e9c10807aaff",
   "metadata": {},
   "source": [
    "bqm es una instancia de BinaryQuadraticModel y además le definimos como 'BINARY' para indicar que las variable $x_i$ sólo toman valores cero o uno, como ya se ha comentado antes."
   ]
  },
  {
   "cell_type": "code",
   "execution_count": 3,
   "id": "1b897ae3-ae74-4549-9353-b3b2bc3a38c6",
   "metadata": {},
   "outputs": [],
   "source": [
    "variables = [bqm.add_variable(f'x_{v}', -values[v]) for v in variables]"
   ]
  },
  {
   "cell_type": "code",
   "execution_count": 4,
   "id": "f117aacd-f35e-40bd-941e-1ff7b447c12d",
   "metadata": {},
   "outputs": [],
   "source": [
    "# Veamos las variables que hemos creado,"
   ]
  },
  {
   "cell_type": "code",
   "execution_count": 5,
   "id": "01a50d12-459d-45b6-896a-d893215a8e9e",
   "metadata": {},
   "outputs": [
    {
     "data": {
      "text/plain": [
       "['x_0', 'x_1', 'x_2', 'x_3']"
      ]
     },
     "execution_count": 5,
     "metadata": {},
     "output_type": "execute_result"
    }
   ],
   "source": [
    "variables"
   ]
  },
  {
   "cell_type": "markdown",
   "id": "e4076a18-fcf3-40f0-8d7e-cc24f2ab28ce",
   "metadata": {},
   "source": [
    "observar que a vada variable le hemos dado un ofset o coeficiente con signo negativo, porque lo que queremos es minimizar la función de coste. Veamos a continuación el modelo que hemos creado,"
   ]
  },
  {
   "cell_type": "code",
   "execution_count": 6,
   "id": "1ad5db0a-7e86-4c8f-ae76-e9e0d502c291",
   "metadata": {},
   "outputs": [
    {
     "data": {
      "text/plain": [
       "BinaryQuadraticModel({'x_0': -1.0, 'x_1': -2.0, 'x_2': -3.0, 'x_3': -4.0}, {}, 0.0, 'BINARY')"
      ]
     },
     "execution_count": 6,
     "metadata": {},
     "output_type": "execute_result"
    }
   ],
   "source": [
    "bqm"
   ]
  },
  {
   "cell_type": "markdown",
   "id": "23586004-b72a-4c3b-8772-01b865cf655c",
   "metadata": {},
   "source": [
    "```{index} bqm.add_linear_inequality_constraint\r\n",
    "```\n",
    "Ahora añadimos la restriccióm de la capacidad de la mochila. Observar que aquí para introducir una restricción de desigualdad utilizamos la propiedad<a href=\"https://docs.ocean.dwavesys.com/en/latest/docs_dimod/reference/generated/dimod.binary.BinaryQuadraticModel.add_linear_inequality_constraint.html\" target=\"_blank\">  bqm.add_linear_inequality_constrain </a>t."
   ]
  },
  {
   "cell_type": "code",
   "execution_count": 7,
   "id": "146c170c-01e6-4003-953d-5458e73acda7",
   "metadata": {},
   "outputs": [],
   "source": [
    "slacks_weight = bqm.add_linear_inequality_constraint(\n",
    "    [(x, w) for x, w in zip(variables, weights)],\n",
    "    constant=-max_weight, #este sería el peso máximo permitido\n",
    "    lagrange_multiplier=penalty_strength_weight, # el multiplicador de lagrange definido al principio\n",
    "    label='capacity'\n",
    ")"
   ]
  },
  {
   "cell_type": "markdown",
   "id": "98203291-8798-48d6-b4e8-443735bf019d",
   "metadata": {},
   "source": [
    "Hacemos un tratamaiento similar para la restricción del volumen."
   ]
  },
  {
   "cell_type": "code",
   "execution_count": 8,
   "id": "8fff70ea-c633-4c5e-b5d0-9ef110b173f9",
   "metadata": {},
   "outputs": [],
   "source": [
    "slacks_volume = bqm.add_linear_inequality_constraint(\n",
    "    [(x, v) for x, v in zip(variables, volumes)],\n",
    "    constant=-max_volume,\n",
    "    lagrange_multiplier=penalty_strength_volume,\n",
    "    label='volume_capacity'\n",
    ")"
   ]
  },
  {
   "cell_type": "markdown",
   "id": "de1e0e17-1abd-4352-959e-a6678f29e672",
   "metadata": {},
   "source": [
    "Para problemas reducidos con por ejemplo menos de 20 variables, podemos resolver el problema QUBO de forma exacta enumerando todas las posibles soluciones"
   ]
  },
  {
   "cell_type": "code",
   "execution_count": 9,
   "id": "175de4c7-11fa-4cb4-b243-095e1123ea1c",
   "metadata": {},
   "outputs": [
    {
     "name": "stdout",
     "output_type": "stream",
     "text": [
      "  slack_capacity_0 slack_capacity_1 slack_capacity_2 ... x_3 energy num_oc.\n",
      "0                1                0                0 ...   1   -4.0       1\n",
      "1                0                0                1 ...   1   -4.0       1\n",
      "2                0                0                0 ...   0   -3.0       1\n",
      "3                1                0                0 ...   0   -3.0       1\n",
      "4                0                0                1 ...   0   -3.0       1\n",
      "['BINARY', 5 rows, 5 samples, 10 variables]\n"
     ]
    }
   ],
   "source": [
    "from dimod import ExactSolver\n",
    "\n",
    "response = ExactSolver().sample(bqm)\n",
    "samples = response.samples()\n",
    "best_solution = response.first.sample\n",
    "print(response.truncate(5))"
   ]
  },
  {
   "cell_type": "code",
   "execution_count": 10,
   "id": "fb0dfcef-aafb-4ab4-8181-f3b93e44848e",
   "metadata": {},
   "outputs": [
    {
     "data": {
      "text/plain": [
       "dict_items([('slack_capacity_0', 1), ('slack_capacity_1', 0), ('slack_capacity_2', 0), ('slack_volume_capacity_0', 1), ('slack_volume_capacity_1', 0), ('slack_volume_capacity_2', 1), ('x_0', 0), ('x_1', 0), ('x_2', 0), ('x_3', 1)])"
      ]
     },
     "execution_count": 10,
     "metadata": {},
     "output_type": "execute_result"
    }
   ],
   "source": [
    "best_solution.items()"
   ]
  },
  {
   "cell_type": "markdown",
   "id": "f6c84f8b-f52a-4b45-8abc-0ea658b2aba9",
   "metadata": {},
   "source": [
    "Vamos a examinar la solución a continuación.\n",
    "\n",
    "* Las variables principales especifican el montaje de la mochila.\n",
    "\n",
    "* El primer conjunto de variables de holgura indica que el peso total de los artículos seleccionados es 1 unidad inferior a la capacidad de peso de la mochila.\n",
    "\n",
    "* El segundo conjunto de variables de holgura indica que el volumen total de los artículos seleccionados es 1 unidad inferior a la capacidad de volumen de la mochila."
   ]
  },
  {
   "cell_type": "code",
   "execution_count": 11,
   "id": "68a96366-78ff-4252-b3f3-c9997bea9112",
   "metadata": {},
   "outputs": [
    {
     "name": "stdout",
     "output_type": "stream",
     "text": [
      "{'x_0': 0, 'x_1': 0, 'x_2': 0, 'x_3': 1}\n",
      "{'slack_capacity_0': 1, 'slack_capacity_1': 0, 'slack_capacity_2': 0}\n",
      "{'slack_volume_capacity_0': 1, 'slack_volume_capacity_1': 0, 'slack_volume_capacity_2': 1}\n"
     ]
    }
   ],
   "source": [
    "print({k: v for k, v in best_solution.items() if k in variables})\n",
    "print({k: v for k, v in best_solution.items() if k in {v for v, _ in slacks_weight}})\n",
    "print({k: v for k, v in best_solution.items() if k in {v for v, _ in slacks_volume}})"
   ]
  },
  {
   "cell_type": "markdown",
   "id": "50e1fa06-1b73-4b08-8225-fd2f45c4a64a",
   "metadata": {},
   "source": [
    "Definimos a continuación una función que nos permita saber si se cumplen o no las restricciones del problema"
   ]
  },
  {
   "cell_type": "code",
   "execution_count": 13,
   "id": "8cd30c5e-70a4-4489-9dfa-3f6d3730fb04",
   "metadata": {},
   "outputs": [],
   "source": [
    "def violations(sample, slack_variables, array, capacity):\n",
    "    slack_total_weight = 0\n",
    "    weight = 0\n",
    "    for i, (v, c) in enumerate(slack_variables):\n",
    "        slack_total_weight += sample[v] * c\n",
    "    for i, v in enumerate(variables):\n",
    "        weight += array[i] * sample[v]\n",
    "    print('Total of items: ', weight)\n",
    "    print('Total slack value: ', slack_total_weight)\n",
    "    print('Left hand side: ', weight + slack_total_weight)\n",
    "    print('Satisfied? ', weight + slack_total_weight <= capacity)"
   ]
  },
  {
   "cell_type": "code",
   "execution_count": 14,
   "id": "2065d700-dd32-42a6-88d0-4a1576a78129",
   "metadata": {},
   "outputs": [
    {
     "name": "stdout",
     "output_type": "stream",
     "text": [
      "Weight capacity constraint:\n",
      "Total of items:  3\n",
      "Total slack value:  1\n",
      "Left hand side:  4\n",
      "Satisfied?  True\n",
      "Volume capacity constraint:\n",
      "Total of items:  2\n",
      "Total slack value:  4\n",
      "Left hand side:  6\n",
      "Satisfied?  True\n"
     ]
    }
   ],
   "source": [
    "print('Weight capacity constraint:')\n",
    "violations(samples[0], slacks_weight, weights, max_weight)\n",
    "print('Volume capacity constraint:')\n",
    "violations(samples[0], slacks_volume, volumes, max_volume)"
   ]
  },
  {
   "cell_type": "markdown",
   "id": "983e5588-504f-4566-86af-fe43af228726",
   "metadata": {},
   "source": [
    "## Version 2 (con CQM). \n",
    "(problema_mochila-version_2)=\n",
    "\n",
    "El problema es similar al mostrado anteriormente, pero en esta ocasión utilizo una instancia de la clase CQM. Este tipo de solución también lo podemos ver en <a herf=\"https://github.com/dwave-examples/knapsack\" target=\"_blank\"> https://github.com/dwave-examples/knapsack </a>."
   ]
  },
  {
   "cell_type": "code",
   "execution_count": 15,
   "id": "51b308fd-f1be-4341-80a9-983a1fc1a42d",
   "metadata": {},
   "outputs": [],
   "source": [
    "from dimod import Binary, CQM, quicksum\n",
    "from dwave.system import LeapHybridCQMSampler\n",
    "import itertools"
   ]
  },
  {
   "cell_type": "code",
   "execution_count": 16,
   "id": "0bf90f72-b182-49f7-a6af-3579d3805064",
   "metadata": {},
   "outputs": [],
   "source": [
    "values = [34, 25,78,21,64]\n",
    "weights = [3,5,9,4,2]\n",
    "W = 10\n",
    "n= len(values)"
   ]
  },
  {
   "cell_type": "code",
   "execution_count": 17,
   "id": "077bb393-e71f-4b96-b78b-462d3f80df59",
   "metadata": {},
   "outputs": [],
   "source": [
    " #Creamos las variable binarias\n",
    "x = [Binary(i)  for i in range(n)]"
   ]
  },
  {
   "cell_type": "code",
   "execution_count": 18,
   "id": "81e978f7-9096-4d37-bebf-f8745d10027e",
   "metadata": {},
   "outputs": [],
   "source": [
    " #Creamos las variable binarias\n",
    "x = [Binary(i)  for i in range(n)]"
   ]
  },
  {
   "cell_type": "code",
   "execution_count": 21,
   "id": "da4b127f-da56-4a43-8a12-16131e70cd1e",
   "metadata": {},
   "outputs": [],
   "source": [
    "\n",
    " cqm = CQM()\n",
    "# Añadimos la función objetivo\n",
    "cqm.set_objective(quicksum(-values[i]*x[i] for i in range(n)))"
   ]
  },
  {
   "cell_type": "code",
   "execution_count": 22,
   "id": "2df575f4-ff66-4552-81ac-6b2aec4c6d8b",
   "metadata": {},
   "outputs": [
    {
     "data": {
      "text/plain": [
       "'items máximo '"
      ]
     },
     "execution_count": 22,
     "metadata": {},
     "output_type": "execute_result"
    }
   ],
   "source": [
    "# Añadimos las restricciones\n",
    "cqm.add_constraint(quicksum(weights[i]*x[i] for i in range(n)) <= W, label ='peso maximo')\n",
    "cqm.add_constraint(quicksum(x[i] for i in range(n))<=2, label ='items máximo ')"
   ]
  },
  {
   "cell_type": "code",
   "execution_count": 23,
   "id": "36b231d2-a557-44c0-a8dc-f0d5d9c08720",
   "metadata": {},
   "outputs": [],
   "source": [
    "# submitimos el sampler\n",
    "sampler =  LeapHybridCQMSampler()\n",
    "sampleset = sampler.sample_cqm(cqm)"
   ]
  },
  {
   "cell_type": "markdown",
   "id": "07c2c9f6-d9ad-4557-9a87-2c206757f0d0",
   "metadata": {},
   "source": [
    "## Versión 3 (Con otras restricciones).\n",
    "(problema_mochila-version_3)=\n",
    "\n",
    "En este problema se trata de empaquetar un camión de reparto. En este ejemplo, consideramos un escenario simple en el que tenemos un solo camión y un solo tamaño de caja. Queremos elegir paquetes para cargar en el camión de modo que se maximice la cantidad de paquetes con estado de envío prioritario y se minimice el tiempo de tránsito total. No se debe exceder la capacidad de peso y tamaño del camión."
   ]
  },
  {
   "cell_type": "code",
   "execution_count": 24,
   "id": "a5e7998c-e655-4fbd-ace6-ece66fb1cd75",
   "metadata": {},
   "outputs": [],
   "source": [
    "from dimod import ConstrainedQuadraticModel, Binaries, quicksum \n",
    "from dwave.system import LeapHybridCQMSampler \n",
    "import random \n",
    "import numpy as np"
   ]
  },
  {
   "cell_type": "code",
   "execution_count": 25,
   "id": "87c33fd1-f40f-4aad-b9f6-1e22431ba4a0",
   "metadata": {},
   "outputs": [],
   "source": [
    "# Problem set up\n",
    "num_packages = 300\n",
    "\n",
    "# Prioridad de cada paquete, 3 = high priority, 1 = low priority\n",
    "priority = random.choices((1, 2, 3), k=num_packages)\n",
    "\n",
    "# Número de días transcurridos desde que se encargó cada paquete (a más días, mayor prioridad)\n",
    "days_since_order = random.choices((0, 1, 2, 3), k=num_packages)\n",
    "\n",
    "# Weight of each package\n",
    "weight = random.choices(range(1, 101), k=num_packages)\n",
    "\n",
    "# Peso máximo y número de bultos que puede transportar el camión\n",
    "max_weight = 3000  \n",
    "max_packages = 100\n",
    "\n",
    "# Pesos para cada sumando de la función objetivo\n",
    "obj_weight_priority = 1.0 \n",
    "obj_weight_days = 1.0"
   ]
  },
  {
   "cell_type": "code",
   "execution_count": 26,
   "id": "554c9767-5fb8-40d5-9f9d-54e85175b526",
   "metadata": {},
   "outputs": [],
   "source": [
    "# Build the CQM\n",
    "cqm = ConstrainedQuadraticModel()\n",
    "\n",
    "# Create the binary variables\n",
    "bin_variables = list(Binaries(range(num_packages)))"
   ]
  },
  {
   "cell_type": "code",
   "execution_count": 27,
   "id": "11a83a1e-6888-4e3b-ac3c-70ed7baaac0f",
   "metadata": {},
   "outputs": [
    {
     "data": {
      "text/plain": [
       "BinaryQuadraticModel({0: 1.0}, {}, 0.0, 'BINARY')"
      ]
     },
     "execution_count": 27,
     "metadata": {},
     "output_type": "execute_result"
    }
   ],
   "source": [
    "# Veamos cómo es una variable\n",
    "bin_variables[0]"
   ]
  },
  {
   "cell_type": "code",
   "execution_count": 28,
   "id": "9965aee2-5bf4-40b7-9538-589133f88d6e",
   "metadata": {},
   "outputs": [],
   "source": [
    "# quicksum() se utiliza para indicar que es una suma\n",
    "\n",
    "# ----------------- Objective functions ----------------- \n",
    "\n",
    "# 1. Maximize priority shipping packages\n",
    "objective1 = -obj_weight_priority * quicksum(priority[i] * bin_variables[i] \n",
    "                for i in range(num_packages))\n",
    "\n",
    "# 2. Minimize customers wait time\n",
    "objective2 = -obj_weight_days * quicksum(days_since_order[i] * bin_variables[i]\n",
    "                for i in range(num_packages))\n",
    "\n",
    "# Add the objectives to the CQM\n",
    "cqm.set_objective(objective1 + objective2)"
   ]
  },
  {
   "cell_type": "code",
   "execution_count": 29,
   "id": "949d1867-ffec-4800-bb65-0b795cd864c5",
   "metadata": {},
   "outputs": [
    {
     "data": {
      "text/plain": [
       "'max_packages'"
      ]
     },
     "execution_count": 29,
     "metadata": {},
     "output_type": "execute_result"
    }
   ],
   "source": [
    "# ----------------- Constraints ----------------- \n",
    "\n",
    "# Add the maximum capacity constraint\n",
    "cqm.add_constraint(quicksum(weight[i] * bin_variables[i] for i in\n",
    "range(num_packages)) <= max_weight, label='max_weight')\n",
    "\n",
    "# Add the maximum package (or truck size) constraint\n",
    "cqm.add_constraint(quicksum(bin_variables[i] for i in range(num_packages)) \n",
    "                    == max_packages, label='max_packages')"
   ]
  },
  {
   "cell_type": "code",
   "execution_count": 30,
   "id": "78535255-4254-4885-b120-fa5f2424a612",
   "metadata": {},
   "outputs": [],
   "source": [
    "# -----------------  Submit to the CQM sampler -----------------\n",
    "cqm_sampler = LeapHybridCQMSampler() \n",
    "sampleset = cqm_sampler.sample_cqm(cqm, label='Truck Packing Demo')"
   ]
  },
  {
   "cell_type": "code",
   "execution_count": 31,
   "id": "beb8dc9d-cdc8-4b5a-85af-274c9cbde6e1",
   "metadata": {},
   "outputs": [
    {
     "name": "stdout",
     "output_type": "stream",
     "text": [
      "{0: 1.0, 1: 0.0, 2: 1.0, 3: 1.0, 4: 0.0, 5: 0.0, 6: 1.0, 7: 0.0, 8: 0.0, 9: 0.0, 10: 1.0, 11: 0.0, 12: 1.0, 13: 0.0, 14: 0.0, 15: 0.0, 16: 0.0, 17: 0.0, 18: 0.0, 19: 0.0, 20: 1.0, 21: 1.0, 22: 1.0, 23: 0.0, 24: 0.0, 25: 0.0, 26: 0.0, 27: 0.0, 28: 1.0, 29: 0.0, 30: 0.0, 31: 0.0, 32: 0.0, 33: 1.0, 34: 1.0, 35: 0.0, 36: 0.0, 37: 0.0, 38: 0.0, 39: 1.0, 40: 0.0, 41: 0.0, 42: 0.0, 43: 1.0, 44: 0.0, 45: 0.0, 46: 0.0, 47: 1.0, 48: 0.0, 49: 0.0, 50: 1.0, 51: 1.0, 52: 1.0, 53: 0.0, 54: 0.0, 55: 0.0, 56: 0.0, 57: 1.0, 58: 1.0, 59: 0.0, 60: 1.0, 61: 0.0, 62: 1.0, 63: 1.0, 64: 0.0, 65: 0.0, 66: 0.0, 67: 0.0, 68: 0.0, 69: 1.0, 70: 0.0, 71: 1.0, 72: 0.0, 73: 0.0, 74: 0.0, 75: 0.0, 76: 0.0, 77: 1.0, 78: 1.0, 79: 0.0, 80: 0.0, 81: 0.0, 82: 0.0, 83: 0.0, 84: 0.0, 85: 0.0, 86: 0.0, 87: 0.0, 88: 0.0, 89: 1.0, 90: 0.0, 91: 0.0, 92: 1.0, 93: 0.0, 94: 0.0, 95: 0.0, 96: 0.0, 97: 0.0, 98: 0.0, 99: 0.0, 100: 0.0, 101: 1.0, 102: 0.0, 103: 0.0, 104: 0.0, 105: 0.0, 106: 1.0, 107: 0.0, 108: 0.0, 109: 0.0, 110: 0.0, 111: 0.0, 112: 1.0, 113: 0.0, 114: 0.0, 115: 1.0, 116: 0.0, 117: 0.0, 118: 0.0, 119: 0.0, 120: 0.0, 121: 1.0, 122: 0.0, 123: 0.0, 124: 1.0, 125: 1.0, 126: 0.0, 127: 1.0, 128: 1.0, 129: 0.0, 130: 0.0, 131: 0.0, 132: 0.0, 133: 1.0, 134: 0.0, 135: 1.0, 136: 1.0, 137: 1.0, 138: 0.0, 139: 0.0, 140: 0.0, 141: 0.0, 142: 0.0, 143: 0.0, 144: 0.0, 145: 1.0, 146: 1.0, 147: 0.0, 148: 0.0, 149: 0.0, 150: 1.0, 151: 0.0, 152: 1.0, 153: 0.0, 154: 0.0, 155: 0.0, 156: 0.0, 157: 1.0, 158: 1.0, 159: 1.0, 160: 1.0, 161: 1.0, 162: 1.0, 163: 1.0, 164: 1.0, 165: 0.0, 166: 0.0, 167: 1.0, 168: 1.0, 169: 1.0, 170: 0.0, 171: 1.0, 172: 1.0, 173: 1.0, 174: 0.0, 175: 1.0, 176: 1.0, 177: 0.0, 178: 0.0, 179: 0.0, 180: 1.0, 181: 0.0, 182: 1.0, 183: 0.0, 184: 1.0, 185: 1.0, 186: 0.0, 187: 0.0, 188: 0.0, 189: 0.0, 190: 1.0, 191: 0.0, 192: 0.0, 193: 1.0, 194: 0.0, 195: 0.0, 196: 1.0, 197: 0.0, 198: 0.0, 199: 0.0, 200: 0.0, 201: 1.0, 202: 0.0, 203: 0.0, 204: 0.0, 205: 0.0, 206: 0.0, 207: 0.0, 208: 1.0, 209: 1.0, 210: 1.0, 211: 0.0, 212: 0.0, 213: 0.0, 214: 0.0, 215: 0.0, 216: 1.0, 217: 1.0, 218: 0.0, 219: 0.0, 220: 0.0, 221: 0.0, 222: 0.0, 223: 0.0, 224: 1.0, 225: 0.0, 226: 0.0, 227: 0.0, 228: 0.0, 229: 0.0, 230: 1.0, 231: 0.0, 232: 0.0, 233: 1.0, 234: 1.0, 235: 0.0, 236: 0.0, 237: 0.0, 238: 0.0, 239: 0.0, 240: 1.0, 241: 1.0, 242: 0.0, 243: 1.0, 244: 0.0, 245: 0.0, 246: 1.0, 247: 0.0, 248: 0.0, 249: 1.0, 250: 1.0, 251: 0.0, 252: 0.0, 253: 0.0, 254: 0.0, 255: 1.0, 256: 0.0, 257: 0.0, 258: 0.0, 259: 1.0, 260: 0.0, 261: 1.0, 262: 0.0, 263: 1.0, 264: 0.0, 265: 0.0, 266: 1.0, 267: 0.0, 268: 1.0, 269: 0.0, 270: 1.0, 271: 1.0, 272: 0.0, 273: 0.0, 274: 0.0, 275: 0.0, 276: 0.0, 277: 0.0, 278: 0.0, 279: 0.0, 280: 0.0, 281: 1.0, 282: 0.0, 283: 0.0, 284: 0.0, 285: 0.0, 286: 0.0, 287: 1.0, 288: 1.0, 289: 1.0, 290: 0.0, 291: 0.0, 292: 0.0, 293: 0.0, 294: 0.0, 295: 0.0, 296: 0.0, 297: 1.0, 298: 1.0, 299: 1.0}\n"
     ]
    }
   ],
   "source": [
    "feasible_sampleset = sampleset.filter(lambda d: d.is_feasible)\n",
    "\n",
    "if not len(feasible_sampleset): \n",
    "    print(\"\\nNo feasible solution found.\\n\")\n",
    "\n",
    "else: \n",
    "    first_feasible_sol = feasible_sampleset.first.sample\n",
    "    print(first_feasible_sol)"
   ]
  },
  {
   "cell_type": "code",
   "execution_count": 32,
   "id": "6a878bfc-42f0-43ad-920e-b2ea89be82e2",
   "metadata": {},
   "outputs": [
    {
     "name": "stdout",
     "output_type": "stream",
     "text": [
      "\n",
      "****************** PROBLEM ******************\n",
      "\n",
      "Days since order was placed\n",
      "Priority |    3    2    1    0\n",
      "----------------------------------------\n",
      "    3        23   19   28   31\n",
      "    2        23   20   21   27\n",
      "    1        23   29   34   22\n",
      "\n",
      "****************** SOLUTION ******************\n",
      "\n",
      "Days since order was placed\n",
      "Priority |    3    2    1    0\n",
      "----------------------------------------\n",
      "    3        23   15   10    8\n",
      "    2        14    4    5    0\n",
      "    1        18    3    0    0\n",
      "\n",
      "Total number of selected items: 100\n",
      "Total weight of selected items: 3000\n"
     ]
    }
   ],
   "source": [
    "# ----------------- Process the results -----------------\n",
    "feasible_sampleset = sampleset.filter(lambda d: d.is_feasible)\n",
    "\n",
    "if not len(feasible_sampleset): \n",
    "    print(\"\\nNo feasible solution found.\\n\")\n",
    "\n",
    "else: \n",
    "    first_feasible_sol = feasible_sampleset.first.sample\n",
    "\n",
    "    # Characterize the problem\n",
    "    problem_array = np.zeros((3, 4)).astype(int) \n",
    "    for i in range(num_packages):\n",
    "        problem_array[-1 * (priority[i]-3)][-1 * (days_since_order[i] - 3)] += 1\n",
    "\n",
    "    print(\"\\n****************** PROBLEM ******************\\n\") \n",
    "    print('Days since order was placed')\n",
    "    print('{:>5s}{:>5s}{:>5s}{:>5s}{:>5s}'.format('Priority |',\n",
    "             '3', '2', '1', '0')) \n",
    "    print('-' * 40)\n",
    "\n",
    "    for i in range(3): \n",
    "        print('{:>5s}{:>10s}{:>5s}{:>5s}{:>5s}'.format(str(-1*(i- 3)), \n",
    "                str(problem_array[i][0]), str(problem_array[i][1]),\n",
    "                str(problem_array[i][2]), str(problem_array[i][3])))\n",
    "\n",
    "    # Calculate number of packages with each priority and number of days since\n",
    "    # order in the solution\n",
    "    chosen = [i for i in first_feasible_sol if first_feasible_sol[i] == 1]\n",
    "    total_weight = quicksum(weight[i] for i in chosen) \n",
    "    solution_priorities = [priority[i] for i in chosen] \n",
    "    solution_days_since_order = [days_since_order[i] for i in chosen]\n",
    "\n",
    "    # Characterize the solution \n",
    "    # Packages with higher priority (upper row) and the most days since the\n",
    "    # order (left most column) should be prioritized in the selection\n",
    "    results_array = np.zeros((3, 4)).astype(int) \n",
    "    for i in chosen:\n",
    "        results_array[-1 * (priority[i]-3)][-1 * (days_since_order[i] - 3)] += 1\n",
    "\n",
    "    print(\"\\n****************** SOLUTION ******************\\n\") \n",
    "    print('Days since order was placed')\n",
    "    print('{:>5s}{:>5s}{:>5s}{:>5s}{:>5s}'.format('Priority |',\n",
    "            '3', '2', '1', '0')) \n",
    "    print('-' * 40)\n",
    "\n",
    "    for i in range(3): \n",
    "        print('{:>5s}{:>10s}{:>5s}{:>5s}{:>5s}'.format(str(-1*(i - 3)),\n",
    "                str(results_array[i][0]), str(results_array[i][1]),\n",
    "                str(results_array[i][2]), str(results_array[i][3])))\n",
    "\n",
    "    print((\"\\nTotal number of selected items: {}\".format(len(chosen))))\n",
    "    print(\"Total weight of selected items: {}\".format(total_weight))"
   ]
  },
  {
   "cell_type": "code",
   "execution_count": null,
   "id": "45254078-235d-4cef-b6db-e797ee625a6b",
   "metadata": {},
   "outputs": [],
   "source": []
  }
 ],
 "metadata": {
  "kernelspec": {
   "display_name": "Python 3 (ipykernel)",
   "language": "python",
   "name": "python3"
  },
  "language_info": {
   "codemirror_mode": {
    "name": "ipython",
    "version": 3
   },
   "file_extension": ".py",
   "mimetype": "text/x-python",
   "name": "python",
   "nbconvert_exporter": "python",
   "pygments_lexer": "ipython3",
   "version": "3.8.3"
  }
 },
 "nbformat": 4,
 "nbformat_minor": 5
}
