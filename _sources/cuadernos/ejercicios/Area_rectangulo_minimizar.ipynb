{
 "cells": [
  {
   "cell_type": "markdown",
   "id": "7e647c71",
   "metadata": {},
   "source": [
    "(area_rectangulo)=\n",
    "# Introducción.\n",
    "\n",
    "en este ejemplo, se trata de encontra los lados de un rectángulo para maximizar el área, dado el perímetro. Este ejemplo es muy apropiado para las personas que quieran iniciar su aprendizaje en Ocean SDK, y además si quieren profundizar en conocimientos relacionados con lo que se expone en este apratado, lo pueden encontrar en el siguiente enlace:\n",
    "\n",
    "https://docs.dwavesys.com/docs/latest/c_gs_workflow.html\n",
    "\n",
    "Igualmente se aconseja ver el contenido del siguiente enlace:\n",
    "\n",
    "https://docs.ocean.dwavesys.com/en/stable/docs_dimod/intro/intro_symbolic_math.html\n",
    "\n",
    "En el siguiente bloque procedemosa definir dos variable de tipo entero que llamamos i y j, ambas con un límite superior igual a 4. POsteriormente obtenemos una instancia de la clase ConstrainedQuadraticModel()"
   ]
  },
  {
   "cell_type": "code",
   "execution_count": 1,
   "id": "bec40cac",
   "metadata": {},
   "outputs": [],
   "source": [
    "from dimod import ConstrainedQuadraticModel, Integer\n",
    "# Definimos la variables de tipo entero que llamamos i y j\n",
    "i = Integer('i', upper_bound=4)\n",
    "j = Integer('j', upper_bound=4)\n",
    "cqm = ConstrainedQuadraticModel()"
   ]
  },
  {
   "cell_type": "code",
   "execution_count": 3,
   "id": "fb15e228",
   "metadata": {},
   "outputs": [
    {
     "data": {
      "text/plain": [
       "dimod.quadratic.quadratic_model.QuadraticModel"
      ]
     },
     "execution_count": 3,
     "metadata": {},
     "output_type": "execute_result"
    }
   ],
   "source": [
    "# Veamos el typo de variable que es i (similar sería para j)\n",
    "type(i)"
   ]
  },
  {
   "cell_type": "markdown",
   "id": "ab5c9cf2-68a7-4f00-af52-493a63c376dc",
   "metadata": {},
   "source": [
    "Como queremos obtener el área del rectángulo definimos la variable *objetive* que es igual al producto de las dos variables definidas anteriormente. Pero como queremeos maximizar el área, y Ocean sólo permite obtener mínimos, lo que hacemos es cambiar el signo del producto.\n",
    "\n",
    "Igualmente definimos la restricción de que el perímetro sea menor o igual que 8"
   ]
  },
  {
   "cell_type": "code",
   "execution_count": 4,
   "id": "ce3a9e7c",
   "metadata": {},
   "outputs": [
    {
     "name": "stdout",
     "output_type": "stream",
     "text": [
      "-i*j\n"
     ]
    }
   ],
   "source": [
    "# Definimos la función objetivo\n",
    "objetive = - i*j\n",
    "\n",
    "# definimos la restricción de que el perímetro sea menor o igual que 8\n",
    "constraint = 2*i+2*j <= 8\n",
    "\n",
    "print(objetive.to_polystring())"
   ]
  },
  {
   "cell_type": "code",
   "execution_count": 12,
   "id": "c85fc460",
   "metadata": {},
   "outputs": [
    {
     "name": "stdout",
     "output_type": "stream",
     "text": [
      "2*i + 2*j\n"
     ]
    }
   ],
   "source": [
    "print(constraint.lhs.to_polystring() )\n",
    "#print(constraint.to_polystring()) # Esto da error"
   ]
  },
  {
   "cell_type": "markdown",
   "id": "4878c813",
   "metadata": {},
   "source": [
    "El área del rectángulo está dada por la multiplicación del lado i por lado j. El objetivo es maximizar el área,i∗j. Debido a que los muestreadores D-Wave minimizan, el objetivo debe tener su valor más bajo cuando se alcanza este objetivo. Objetivo−i∗jtiene su valor mínimo cuandoi∗j, el área, es mayor:"
   ]
  },
  {
   "cell_type": "code",
   "execution_count": 2,
   "id": "1b77ff26",
   "metadata": {},
   "outputs": [],
   "source": [
    "cqm.set_objective(-i*j)"
   ]
  },
  {
   "cell_type": "markdown",
   "id": "4d14878c",
   "metadata": {},
   "source": [
    "Añadimos la restricción 2i+2j<=8"
   ]
  },
  {
   "cell_type": "code",
   "execution_count": 3,
   "id": "d7630989",
   "metadata": {},
   "outputs": [
    {
     "data": {
      "text/plain": [
       "'Max perimeter'"
      ]
     },
     "execution_count": 3,
     "metadata": {},
     "output_type": "execute_result"
    }
   ],
   "source": [
    "cqm.add_constraint(2*i+2*j <= 8, \"Max perimeter\")"
   ]
  },
  {
   "cell_type": "markdown",
   "id": "92f4f2c0",
   "metadata": {},
   "source": [
    "Creamos una instancia de un muestreador de CQM híbrido y enviamos el problema para que lo solucione un sampler remoto proporcionado por el servicio de nube cuántica de Leap:"
   ]
  },
  {
   "cell_type": "code",
   "execution_count": 4,
   "id": "f639da5e",
   "metadata": {},
   "outputs": [
    {
     "name": "stdout",
     "output_type": "stream",
     "text": [
      "Sample(sample={'i': 2.0, 'j': 2.0}, energy=-4.0, num_occurrences=1, is_feasible=True, is_satisfied=array([ True]))\n"
     ]
    }
   ],
   "source": [
    "from dwave.system import LeapHybridCQMSampler\n",
    "sampler = LeapHybridCQMSampler()                \n",
    "sampleset = sampler.sample_cqm(cqm)             \n",
    "print(sampleset.first)  "
   ]
  },
  {
   "cell_type": "markdown",
   "id": "c022bac5-b4e5-4328-8b70-d2234ef35a4e",
   "metadata": {},
   "source": [
    "```{index} filter\r\n",
    "```\n",
    "\n",
    "**NOTA**. Es importante ver que la primera solución encontrada es una solución factible pues como podemos ver en la salida anterior una de las propiedades que muestra es la siguiente: *is_feasible=True*. Pero no siempre es así, puesto que con este tipo de solvers se pueden encontra soluciones que no cumplen alguna de las condiciones puestas en las restricciones. Entonces, para obtener soluciones factibles, lo que hay que hacer es utilizar el método *filter*, tal y como el lector puede ver en el siguiente enlace: https://github.com/dwavesystems/dwave-system/issues/460. "
   ]
  },
  {
   "cell_type": "markdown",
   "id": "4ff15e0b",
   "metadata": {},
   "source": [
    "Veamos cómo se comporta la operación con este tipo de variables declaradas como enteras anteriormente. Por ejemplo, definamos la siguiente relación "
   ]
  },
  {
   "cell_type": "code",
   "execution_count": 14,
   "id": "1b3f416e",
   "metadata": {},
   "outputs": [
    {
     "data": {
      "text/plain": [
       "QuadraticModel({'i': 4.4, 'j': 2.1}, {('j', 'i'): 4.0}, 0.0, {'i': 'INTEGER', 'j': 'INTEGER'}, dtype='float64')"
      ]
     },
     "execution_count": 14,
     "metadata": {},
     "output_type": "execute_result"
    }
   ],
   "source": [
    "relacion= 4.4*i+2.1*j+4*i*j\n",
    "relacion"
   ]
  },
  {
   "cell_type": "markdown",
   "id": "f0fa4664",
   "metadata": {},
   "source": [
    "Como podemos observar, el objeto que se obtiene sigue siendo del tipo 'QuadraticModel' teniendo términos independientes así como otros que interactúan entre ellos.\n",
    "\n",
    "Igualmente, se pueden añadir términos cuadráticos como por ejemplo $4.1i^2$, de la siguiente manera"
   ]
  },
  {
   "cell_type": "code",
   "execution_count": 15,
   "id": "410b3d8d",
   "metadata": {},
   "outputs": [
    {
     "data": {
      "text/plain": [
       "QuadraticModel({'i': 3.27}, {('i', 'i'): 7.1}, 0.0, {'i': 'INTEGER'}, dtype='float64')"
      ]
     },
     "execution_count": 15,
     "metadata": {},
     "output_type": "execute_result"
    }
   ],
   "source": [
    "3.27*i+7.1*i*i"
   ]
  }
 ],
 "metadata": {
  "kernelspec": {
   "display_name": "Python 3 (ipykernel)",
   "language": "python",
   "name": "python3"
  },
  "language_info": {
   "codemirror_mode": {
    "name": "ipython",
    "version": 3
   },
   "file_extension": ".py",
   "mimetype": "text/x-python",
   "name": "python",
   "nbconvert_exporter": "python",
   "pygments_lexer": "ipython3",
   "version": "3.8.3"
  },
  "toc": {
   "base_numbering": 1,
   "nav_menu": {},
   "number_sections": true,
   "sideBar": true,
   "skip_h1_title": false,
   "title_cell": "Table of Contents",
   "title_sidebar": "Contents",
   "toc_cell": false,
   "toc_position": {},
   "toc_section_display": true,
   "toc_window_display": false
  },
  "varInspector": {
   "cols": {
    "lenName": 16,
    "lenType": 16,
    "lenVar": 40
   },
   "kernels_config": {
    "python": {
     "delete_cmd_postfix": "",
     "delete_cmd_prefix": "del ",
     "library": "var_list.py",
     "varRefreshCmd": "print(var_dic_list())"
    },
    "r": {
     "delete_cmd_postfix": ") ",
     "delete_cmd_prefix": "rm(",
     "library": "var_list.r",
     "varRefreshCmd": "cat(var_dic_list()) "
    }
   },
   "types_to_exclude": [
    "module",
    "function",
    "builtin_function_or_method",
    "instance",
    "_Feature"
   ],
   "window_display": false
  }
 },
 "nbformat": 4,
 "nbformat_minor": 5
}
