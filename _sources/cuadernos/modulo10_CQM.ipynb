{
 "cells": [
  {
   "cell_type": "markdown",
   "id": "93fea495",
   "metadata": {},
   "source": [
    "(cqm)=\n",
    "# Introducción.\n",
    "```{index} CQM, Constrained Quadratic Model\n",
    "```\n",
    "\n",
    "\n",
    "La clase *Constrained Quadratic Model* nos permite resolver problemas de optimización con un planteamiento fácil y sin necesidad de definir funciones de penalización como ya se ha explicado en procedimientos anteriores. Por este motivo se constituye en  un herramienta muy potente y sencilla para ser utilizada dentro del campo de la optimización de recursos.\n",
    "\n",
    "## Modelo.\n",
    "\n",
    "La especificación matemática de esta modelo es la siguiente:\n",
    "\n",
    "**Minimizar la función objetivo:**\n",
    "\n",
    "$$\\sum_{i}a_{i}x_{i}+\\sum_{i\\le j}b_{ij}x_{i}x_{j}+c$$\n",
    "\n",
    "**Sujeto a la restricción:**\n",
    "\n",
    "$$\\sum_{i}a_{i}^{(m)}x_{i}+\\sum_{i\\le j}b_{ij}^{(m)}x_{i}x_{j}+c^{(m)}\\ \\odot\\ 0\\quad\\quad m=1,...,M $$\n",
    "\n",
    "Donde $\\{x_i\\}_{i=1,...N}$ puede ser binario, enteros o continuas (en este momento variables reales no esstán soportadas para interacciones cuadráticas). $a_i, b_{i,j},c$ son valores reales, $\\odot\\,\\in \\{\\ge,\\le,= \\}$ y M es el número de restricciones.\n",
    "\n",
    "Los atributos y métodos de esta clase se pueden encontrar <a href=\"https://docs.ocean.dwavesys.com/en/stable/docs_dimod/reference/models.html#dimod.ConstrainedQuadraticModel\" target=\"_blank\"> en este enlace </a>.\n",
    "\n",
    "\n"
   ]
  },
  {
   "cell_type": "markdown",
   "id": "1e28879e",
   "metadata": {},
   "source": [
    "## Características más relevantes de CQM.\n",
    "\n",
    "El solver CQM es otro solver híbrido disponible en Leap. Como se muestra en el diagrama, es el mejor solucionador híbrido para problemas con restricciones. Curiosamente, también  lo hace bastante bien en QUBOs.\n",
    "\n",
    "![Perfomance CQM](img/cqmperfomance.PNG)\n",
    "\n",
    "Soporta problemas binarios y de valores enteros, así como modelos que tienen una combinación de tipos de variables. Por ejemplo, la optimización de carteras utiliza variables enteras y la programación de tiendas de trabajo puede utilizar ambas: binarias para seleccionar las máquinas y enteras para determinar en qué intervalo de tiempo deben coincidir la máquina y los trabajos. \n",
    "\n",
    "\n",
    "El objeto CQM de Ocean nos permite formular y añadir restricciones al modelo de forma más intuitiva, especialmente con la introducción de la matemática simbólica en Ocean 4. \n",
    "\n",
    "Soporta de forma nativa hasta 100.000 restricciones de igualdad y/o desigualdad, con términos lineales y cuadráticos. \n",
    "\n",
    "Además soporta el denominado <a href=\"https://docs.ocean.dwavesys.com/en/stable/docs_dimod/intro/intro_symbolic_math.html\" target=\"_blank\"> *symbolic math* </a> para expresar de una forma muy intuitiva para el ser humano las expresiones para la función objetivo o para las restricciones que se quieren incorpoprar al modelo.\n",
    "\n",
    "De forma abreviada, los pasos a seguir para constrior este tipo de modelos son los siguientes:\n",
    "\n",
    "1.- Definir las variables.\n",
    "\n",
    "2.- Crear un objeto de tipo CQM\n",
    "\n",
    "3.- Construir y añadir la/las función/es objetivo.\n",
    "\n",
    "4.- Construir y añadir las restricciones.\n",
    "\n",
    "5.- Enviar lo programado al solucionador CQM.\n",
    "\n",
    "6.- Procesar los resultados.\n",
    "\n",
    "## Instanciar in objeto CQM.\n",
    "```{index} CQM\n",
    "```\n",
    "\n",
    "CQM es un objeto de la librería dimod, y se instancia de la siguiente manera:\n",
    "\n",
    "\n",
    "> from dimod import CQM\n",
    ">\n",
    "> cqm = CQM()\n",
    "\n",
    "Sin embargo CQM sampler está en dwave.system:\n",
    "\n",
    "> from dwave.system import LeapHybridCQMSampler\n",
    ">\n",
    "> sampler = LeapHybridCQMSampler()\n",
    "\n",
    "## CQM Variables.\n",
    "```{index} CQM variables\n",
    "```\n",
    "\n",
    "Cuando se trabaja con CQM se necesita definir explícitamente las variables con las que se va a trabajar. A continuación vamosa a ver algún ejemplo de construcción de estas variables.\n",
    "\n",
    "Comenzamos definiendo variables de tipo binario (toma valores 0 ó 1) o de tipo Spin (toma valores 1 ó -1)"
   ]
  },
  {
   "cell_type": "code",
   "execution_count": 1,
   "id": "8e5859c7",
   "metadata": {},
   "outputs": [
    {
     "name": "stdout",
     "output_type": "stream",
     "text": [
      "BinaryQuadraticModel({'x': 1.0}, {}, 0.0, 'BINARY')\n"
     ]
    }
   ],
   "source": [
    "from dimod import Binary, Spin\n",
    "\n",
    "x = Binary('x')\n",
    "\n",
    "print(x)"
   ]
  },
  {
   "cell_type": "code",
   "execution_count": 2,
   "id": "01059521",
   "metadata": {},
   "outputs": [
    {
     "name": "stdout",
     "output_type": "stream",
     "text": [
      "BinaryQuadraticModel({'s': 1.0}, {}, 0.0, 'SPIN')\n"
     ]
    }
   ],
   "source": [
    "s = Spin('s')\n",
    "print(s)"
   ]
  },
  {
   "cell_type": "markdown",
   "id": "ff88a293",
   "metadata": {},
   "source": [
    "Como vemos en los ejemplos anteriores, en estos casos podemos trabajar en el espacio binari o de Spin y dimod nos ofrece las herramientas correspondientes para usar constructores para ser utilizados para crear variables binarias o de Spin. Estos constructores de los ejemplos anteriores crean un BQM con una sola variables que tiene un sesgo lineal igual a 1.\n",
    "\n",
    "Fijarse en que la cadena entre paréntesis se convierte en la etiqueta de la variable en el BQM que se genera.\n",
    "\n",
    "Cuando se crean estas variables de tipo entero, sin especificar singún otro parámetro al constructor, entonces los valores que pueden tomar están en el intervalo $[-2^53, 2^53]$, sin embargo un ejercicio de buenas prácticas al definir estas variables consiste en definir en la construcción de las mismas un valor máximo y/o un valor mínimo. A continuación se muestra un ejemplo que nos muestra cómo poder conseguir esto:"
   ]
  },
  {
   "cell_type": "code",
   "execution_count": 4,
   "id": "d515c02d",
   "metadata": {},
   "outputs": [
    {
     "name": "stdout",
     "output_type": "stream",
     "text": [
      "QuadraticModel({'i': 1.0}, {}, 0.0, {'i': 'INTEGER'}, dtype='float64')\n"
     ]
    }
   ],
   "source": [
    "from dimod import Integer\n",
    "\n",
    "# mala práctica\n",
    "i = Integer(\"i\")\n",
    "\n",
    "# Buena práctica\n",
    "i = Integer(\"i\", lower_bound=0, upper_bound=100)\n",
    "print(i)"
   ]
  },
  {
   "cell_type": "markdown",
   "id": "e7b1b6e5",
   "metadata": {},
   "source": [
    "Al meter estos límites a las variables enteras se reduce el espacio de soluciones lo cual es muy útil para el solucionador del problema. \n",
    "\n",
    "Como hemos podido comprobar, una variables entera para Ocean es un modelo cuadrático que contiene una variables con un sesgo lineal igual a 1.\n",
    "\n",
    "Lógicamente en los problemas de gran envergadura, definir una a una las variables de la forma descrita anteriormente, supone un esfuerzo enorme e incluso en algunos casos inabordable, si el número de variables a tener en cuanta es cuantioso. Para estas situaciones, Python nos ofrece mecanismos muy interesantes y que ahorran gran cantidad de trabajo. A continuación se muestran dos ejemplos ilustrtivos de cómo usar estos procedimientos."
   ]
  },
  {
   "cell_type": "code",
   "execution_count": 5,
   "id": "b201ebd4",
   "metadata": {},
   "outputs": [],
   "source": [
    "# utilizamos la facilidad list comprehension de python\n",
    "N=100\n",
    "var_binarias = [Binary(f'bin_{i}') for i in range(N)]"
   ]
  },
  {
   "cell_type": "markdown",
   "id": "ae356bbb",
   "metadata": {},
   "source": [
    "Otra forma puede ser la siguiente (observar que utilizamos en este caso el constructor Integers ):"
   ]
  },
  {
   "cell_type": "code",
   "execution_count": 6,
   "id": "39d2fcfd",
   "metadata": {},
   "outputs": [],
   "source": [
    "from dimod import Integers\n",
    "# Con esta forma incluimos más de una variables en una sola declaración\n",
    "v,w,x,y,z = Integers(['v','w','x','y','z'])"
   ]
  },
  {
   "cell_type": "markdown",
   "id": "fa4a49b2",
   "metadata": {},
   "source": [
    "Estas dos formas últimas, son las sugeridas para ser utilizadas cuando se esté familiarizado con este modelo.\n",
    "\n",
    "Existen dos formas de añadir variables a un modelo CQM. La primera es definiendo las variables como hemos visto anteriormente y luego y añadirlas al CQM a través de un objetivo o una restricción. A continuación se muestra un ejemplo de esta situación.\n"
   ]
  },
  {
   "cell_type": "code",
   "execution_count": 15,
   "id": "aa58ea24",
   "metadata": {},
   "outputs": [
    {
     "data": {
      "text/plain": [
       "ObjectiveView({'x1': 1.0}, {}, 0.0, {'x1': 'BINARY'})"
      ]
     },
     "execution_count": 15,
     "metadata": {},
     "output_type": "execute_result"
    }
   ],
   "source": [
    "from dimod import ConstrainedQuadraticModel, Binary\n",
    "\n",
    "#Definimos las variables bianrias\n",
    "x1 = Binary(\"x1\")\n",
    "\n",
    "\n",
    "# Creamos una instancia de CQM \n",
    "cqm = ConstrainedQuadraticModel()\n",
    "\n",
    "# añadimos una variables a través de un objetivo o restricción\n",
    "cqm.set_objective(x1)\n",
    "cqm.objective"
   ]
  },
  {
   "cell_type": "markdown",
   "id": "7fdb1c24",
   "metadata": {},
   "source": [
    "El resultado del fragmento de código anterior es un objeto CQM que tiene un objetivo con una única variable x1. \n",
    "\n",
    "La segunda forma de añadir variables a un objeto CQM es a través de la función *add_variable*. Esto añade una variable que tiene un sesgo lineal de 0 al objetivo del CQM. "
   ]
  },
  {
   "cell_type": "code",
   "execution_count": 16,
   "id": "f76e8911",
   "metadata": {},
   "outputs": [
    {
     "data": {
      "text/plain": [
       "ObjectiveView({'x1': 1.0}, {}, 0.0, {'x1': 'BINARY'})"
      ]
     },
     "execution_count": 16,
     "metadata": {},
     "output_type": "execute_result"
    }
   ],
   "source": [
    "#cqm = ConstrainedQuadraticModel()\n",
    "\n",
    "cqm.add_variable('BINARY', 'b')\n",
    "cqm.objective"
   ]
  },
  {
   "cell_type": "markdown",
   "id": "952910c8",
   "metadata": {},
   "source": [
    "El primer método tiende a ser más fácil de usar ya que nos permite construir objetivos y restricciones usando matemáticas simbólicas. \n",
    "\n",
    "Sin embargo, el segundo método es más eficaz. Por lo tanto, a medida que se escalan los problemas de CQM esto permitirá una construcción más rápida del CQM.\n",
    "\n",
    "## Funciones objetivo de un CQM.\n",
    "```{index} CQM funciones objetivo\n",
    "```\n",
    "Las funciones objetivo de los modelos CQM se almacenan como modelos cuadráticos. Los QM aceptan variables binarias y enteras, admiten términos lineales y cuadráticos y son similares al modelo cuadrático binario en cuanto a su funcionalidad.\n",
    "\n",
    "Existen dos formas de añadir funiones objetivo a los modelos CQM. Para mostrar estas dos formas, supongamos que nuestra función objetivo es la siguiente:\n",
    "\n",
    "$$ \\sum_i w_i \\cdot x_i$$\n",
    "\n",
    "Las variables $x_i$ las vamos a designar mediante *weights* y las otras por *x*. Por lo tanto lo que queremos es minimizar la suma de variables ponderadas.\n",
    "\n",
    "Entonces la primera opción es utilizar la denominada  <a href=\"https://docs.ocean.dwavesys.com/en/stable/docs_dimod/intro/intro_symbolic_math.html\" target=\"_blank\"> *symbolic math* </a>. De esta manera, Si x es una lista de variables binarias, pesos es una lista de pesos enteros y n es el número de variables binarias podemos definir y establecer la función objetivo en una línea. "
   ]
  },
  {
   "cell_type": "code",
   "execution_count": 17,
   "id": "f992fd76",
   "metadata": {},
   "outputs": [],
   "source": [
    "# Creamos una instancia de CQM \n",
    "cqm = ConstrainedQuadraticModel()\n",
    "\n",
    "#cqm.set_objetive(quicksum(weights[i]*x[i] for i in range(n)))"
   ]
  },
  {
   "cell_type": "markdown",
   "id": "a1189ee1",
   "metadata": {},
   "source": [
    "La función **quicksum** es una versión optimizada de la función suma de python. Podemos utilizarla para construir funciones objetivo y restricciones.Podemos usarla para construir el objetivo lineal mostrado.\n",
    "\n",
    "La segunda opción es mucho más elaborada que la anterior, y lo que hace es construir un modelo cuadrático, añade las variables en la función objetivo y luego los pesos lineales.\n",
    "\n",
    "Una vez que tenemos un modelo cuadrático podemos añadirlo al CQM con **set_objective()**.\n",
    "\n",
    "Esta última opción, aunque cuesta más su creación, es más óptima que la primera, en el sentido de que es más rápida que usar matemática simbólica. \n",
    "\n",
    "Es una buena opción cuando se trabaja con modelos grandes, sin embargo para inciare en esto,  recomendamos la primera opción ya que es más intuitiva o más cercana a la expresión matemática que  se está añadiendo."
   ]
  },
  {
   "cell_type": "code",
   "execution_count": 18,
   "id": "b762ec6f",
   "metadata": {},
   "outputs": [],
   "source": [
    "\n",
    "#qm= dimod.QuadraticModel()\n",
    "#qm.add_variables_from('BINARY', range(len(weights)))\n",
    "#qm.add_linear_from((i,j) for i,j in zip(qm.variables,weights))\n",
    "\n",
    "#cqm.set_objetive(qm)"
   ]
  },
  {
   "cell_type": "markdown",
   "id": "678986ea",
   "metadata": {},
   "source": [
    "A continuación vamos a poner en marcha los dos métodos que se han presentado anteriormente. En primer lugar vamos a crear el modelo utilizando matemática simbólica"
   ]
  },
  {
   "cell_type": "code",
   "execution_count": 21,
   "id": "62e59a9c",
   "metadata": {},
   "outputs": [
    {
     "data": {
      "text/plain": [
       "ObjectiveView({0: 1.0, 1: 2.0, 2: 3.0}, {}, 0.0, {0: 'BINARY', 1: 'BINARY', 2: 'BINARY'})"
      ]
     },
     "execution_count": 21,
     "metadata": {},
     "output_type": "execute_result"
    }
   ],
   "source": [
    "from dimod import CQM, Binary, quicksum\n",
    "\n",
    "weights = [1,2,3]\n",
    "n = len(weights)\n",
    "\n",
    "#creamos las variables de tipo Binary\n",
    "x = [Binary(i) for i in range(n)]\n",
    "\n",
    "# creamos el objeto CQM y añadimos la función objetivo\n",
    "cqm = CQM()\n",
    "cqm.set_objective(quicksum(weights[i]*x[i] for i in range(n)))\n",
    "\n",
    "cqm.objective"
   ]
  },
  {
   "cell_type": "markdown",
   "id": "a347f323",
   "metadata": {},
   "source": [
    "A continuación mostramos cómo construir el mismo modelo anterior, pero utilizando el segundo método que hemos comentado anteriormente, es decir utilizando la clase QuadraticModel()."
   ]
  },
  {
   "cell_type": "code",
   "execution_count": 27,
   "id": "ca7224b8",
   "metadata": {},
   "outputs": [
    {
     "data": {
      "text/plain": [
       "ObjectiveView({0: 1.0, 1: 2.0, 2: 3.0}, {}, 0.0, {0: 'BINARY', 1: 'BINARY', 2: 'BINARY'})"
      ]
     },
     "execution_count": 27,
     "metadata": {},
     "output_type": "execute_result"
    }
   ],
   "source": [
    "from dimod import QM\n",
    "\n",
    "weights = [1,2,3]\n",
    "n = len(weights)\n",
    "\n",
    "# creamos un modelo cuadrático\n",
    "qm = QM()\n",
    "\n",
    "#Añadimos las variables al modelo cuadrático\n",
    "qm.add_variables_from('BINARY', range(n))\n",
    "qm.add_linear_from((i,j) for i,j in zip(qm.variables, weights))\n",
    "\n",
    "# ahora ya creamos el CQM y la función objetivo\n",
    "cqm=CQM()\n",
    "cqm.set_objective(qm)\n",
    "\n",
    "cqm.objective"
   ]
  },
  {
   "cell_type": "markdown",
   "id": "fca1e633",
   "metadata": {},
   "source": [
    "La salida de ambas opciones es la misma. Sólo que toman una cantidad de tiempo diferente para construir el CQM. \n",
    "\n",
    "### Objetivos cuadráticos\n",
    "\n",
    "Hasta ahora los ejemplos que hemos visto sólo muestran objetivos lineales.El solucionador CQM también admite objetivos cuadráticos. \n",
    "\n",
    "Algunas aplicaciones comunes que utilizan objetivos cuadráticos son el problema cuadrático de  la mochila cuadrática, la partición de grafos y la búsqueda conformacional.\n",
    "\n",
    "## Restricciones de un modelo CQM\n",
    "\n",
    "Uno de los puntos fuertes de un modelo CQM es que le podemos añadir hasta un total de 100000 restricciones, las cuales se almacenan como un diccionario.\n",
    "\n",
    "Las restricciones se almacenan como un diccionario de modelos cuadráticos binarios (BQM, si hay sólo variables binarias) y de modelos cuadráticos binarios y cuadráticos (QM), dependiendo del tipo de variables que haya en las restricciones del problema.\n",
    "\n",
    "Las restricciones que sólo utilizan variables binarias se almacenan como BQM y las restricciones con variables enteras o mixtas se almacenan como QM. \n",
    "\n",
    "Veamos a continuación un ejemplo de modelo CQM con ¿¿¿¿¿¿dos restricciones?????? (MIRAR ESTO EN EL ORIGINAL. La primera restricción la vamos a llamar \"choose 2\" porque de una serie de variables binarias, nos queremos quedar sólo con dos. La restricción que ponemos es la siguiente:\n",
    "\n",
    "$$ \\sum_i x_i = 2 $$\n",
    "\n",
    "Entonces como ya hemos comentado anteriormente, también para las restricciones tenemos dos opciones:\n",
    "\n",
    "1.- Usando matemática simbólica:\n",
    "\n",
    "> cqm,add_constraint(quicksum(x[i] for i in range(n)) ==2, label='choose 2')\n",
    "\n",
    "2.- Construir un modelo quadrático y añadirlo al modelo CQM\n",
    "\n",
    "> qm.add_variables_from('BINARY', range(n))\n",
    ">\n",
    "> qm.add_linear_from((i,1) for i in qm.variables)\n",
    ">\n",
    "> cqm.add_constraint(qm, rhs=2, sense='==', label='choose 2')\n",
    "\n",
    "\n",
    "Así pues lo que aquí planteamos es una restricción de igualdad en la que se quieren elegir dos variables binarias. \n",
    "\n",
    "\n",
    "En este , x representa una lista de variables binarias. Usando la matemática simbólica podemos emplear la misma técnica que hicimos con el objetivo. \n",
    "\n",
    "Podemos utilizar la función *quicksum* para sumar las variables binarias en x y utilizar el operador de igualdad para definir la restricción de igualdad.\n",
    "\n",
    "También es útil *incluir una etiqueta* para poder diferenciar las restricciones en el modelo. \n",
    "\n",
    "Con la segunda opción, tenemos que crear un modelo cuadrático, añadir las variables binarias, y luego establecer los pesos lineales, incluso cuando los pesos son uno.\n",
    "\n",
    "Al añadir un QM como una restricción con la función add_constraint, tenemos que especificar parámetros de entrada adicionales. \n",
    "\n",
    "El modelo cuadrático que construimos sólo contiene el lado izquierdo de la ecuación que se muestra. Añadimos este lado izquierdo de la restricción con la propiedad *add_linear_from* y añadimos como primer parámetro el par (i,1), indicando que tomamos la variable i-ésima, la cual está multiplicado por 1 (que en general será otro valor $w_i$)\n",
    "\n",
    "En *add_constraint*, tenemos que especificar el lado derecho de la ecuación que es el 2 en este caso. Para ello utilizamos el parámetro \"sense\" es el que utilizamos para definir el tipo de restricción. En este caso estamos añadiendo una restricción de igualdad como puedes ver. Además añadimos el parámetro *rhs* para indicar que es el lado derecho de la ecuación.\n",
    "\n",
    "Para ver el significado de estos términos con mayor claridad, se invita al lector para que <a href=\"https://docs.ocean.dwavesys.com/en/stable/docs_dimod/intro/intro_symbolic_math.html\" target=\"_blank\"> visite este enlace </a> y acuda al apartado \"Representing Constraints\" donde podrá ver un mayor detalle de todo esto.\n",
    "\n",
    "Los fragmenmtos de código que se utilizarían para implementar todo esto serían los siguientes:"
   ]
  },
  {
   "cell_type": "code",
   "execution_count": 28,
   "id": "f9c57e4b",
   "metadata": {},
   "outputs": [
    {
     "data": {
      "text/plain": [
       "<dimod.constrained.cyconstrained.ConstraintsView at 0x1d176ee4340>"
      ]
     },
     "execution_count": 28,
     "metadata": {},
     "output_type": "execute_result"
    }
   ],
   "source": [
    "# primer caso\n",
    "from dimod import CQM, QM, Binary, quicksum\n",
    "\n",
    "# symbolic math\n",
    "n=3\n",
    "#Creamos las variables binarias\n",
    "x = [Binary(i) for i in range(n)]\n",
    "\n",
    "# Creamos el CQM y la restricción\n",
    "cqm = CQM()\n",
    "cqm.add_constraint(quicksum(x[i] for i in range(n))==2, label='choose 2')\n",
    "\n",
    "cqm.constraints"
   ]
  },
  {
   "cell_type": "markdown",
   "id": "e8912f34",
   "metadata": {},
   "source": [
    "Observar que cuando construimos la restricción de esta manera, se añade al CQM como un modelo cuadrático binario.\n",
    "\n",
    "Creamos ahora el código para implementar el segundo método"
   ]
  },
  {
   "cell_type": "code",
   "execution_count": 29,
   "id": "7c9526e9",
   "metadata": {},
   "outputs": [
    {
     "data": {
      "text/plain": [
       "<dimod.constrained.cyconstrained.ConstraintsView at 0x1d176f43ac0>"
      ]
     },
     "execution_count": 29,
     "metadata": {},
     "output_type": "execute_result"
    }
   ],
   "source": [
    "from dimod import CQM, QM, Binary\n",
    "\n",
    "n=3\n",
    "\n",
    "#Creamos el modelo cuadrático\n",
    "qm=QM()\n",
    "\n",
    "# Añadimos variables al modelo cuadrático\n",
    "qm.add_variables_from('BINARY', range(n))\n",
    "qm.add_linear_from((i,1) for i in qm.variables)\n",
    "\n",
    "#creamos el CQM y le añadimos las restricciones\n",
    "cqm = CQM()\n",
    "cqm.add_constraint(qm, rhs=2, sense='==', label='choose 2')\n",
    "\n",
    "\n",
    "cqm.constraints"
   ]
  },
  {
   "cell_type": "markdown",
   "id": "30f17405",
   "metadata": {},
   "source": [
    "Cabe destacar que todas las restricciones que se añaden a un CQM con la función función add_constraint se evalúan como **restricciones duras**, por lo que el CQM ajusta el parámetro de Lagrange para que todas las restricciones se satisfagan idealmente. \n",
    "\n",
    "Si tiene **restricciones blandas** que quiere tener en cuenta en su modelo, puede construir un modelo de penalización, como se ha visto en módulos anteriores del curso, y añadirlo al objetivo. \n",
    "\n",
    "En ese caso, es posible que tenga que ponderar manualmente la restricción en relación con las funciones objetivo.  \n",
    "\n",
    "El solucionador CQM también soporta restricciones cuadráticas. \n",
    "\n",
    "El ejemplo que vimos sólo mostraba una restricción lineal, pero las restricciones cuadráticas tambiénse pueden añadir fácilmente. \n",
    "\n",
    "Algunas aplicaciones que utilizan restricciones cuadráticas son la programación de empleados, la optimización de carteras y la selección de ensayos clínicos.\n",
    "\n",
    "\n",
    "## CQM sampler.\n",
    "\n",
    "El último paso en la construcción de un programa CQM es definir el sampler y enviarle el CQM a él. Esto se consigue con las siguientes instrucciones:\n",
    "\n",
    "> from dwave.system import LeapHybridCQMSampler\n",
    ">\n",
    "> cqm_sampler = LeapHybridCQMSampler()\n",
    ">\n",
    "> sampleset = cqm_sampler.sample_cqm(cqm, time_limit=5, label='CQM problem')\n",
    "\n",
    "\n",
    "El solver CQM se accede a través del LeapHybridCQMSampler en el paquete  dwave.system y la función sample_cqm es la que utilizamos para enviar un CQM al muestreador. \n",
    "\n",
    "Al igual que los otros solucionadores híbridos, el único parámetro ajustable disponible es el límite de tiempo.Por defecto, el límite de tiempo es de 5 segundos para problemas pequeños. Este valor por defecto se ajusta con el tamaño del problema.\n"
   ]
  },
  {
   "cell_type": "markdown",
   "id": "fe0d1598",
   "metadata": {},
   "source": [
    "## Ejemplo 1. Problema de la mochila. (Knapsack)\n",
    "```{index} Mochila problema, Knapsack problem\n",
    "```\n",
    "\n",
    "En este ejemplo vamos a tratar el problema de la mochila. En este problema queremos seleccionar los artículos que vamos a meter en una mochila, camión u otro contenedor de manera que maximicemos el valor total de los artículos seleccionados. \n",
    "\n",
    "Otra restricción también que debemos tener en cuenta es que el camión  o contenedor tiene una capacidad máxima que no debemos sobrepasar. \n",
    "\n",
    "Entonces para modelar este problema, vamos a utilizar variables binarias $x_i$, tantas como artículos tenemos, de manera que esa variable vale 1 si el artículo i-ésimo es elegido y cero en caso contrario. Entonces la función objetivo va a ser la siguiente:\n",
    "\n",
    "$$-\\sum_{i=0}^{N-1}v_i\\cdot x_i$$\n",
    "\n",
    "Donde $v_i$ es el valor del objeto i-ésimo. Ponemos el signo menos porque lo que realmente queremos es maximizar el valor, pero los ordenadores de D-Wave siempre minimizan una función, por lo que si cambiamos de signo al final el valor mínimo, se convierte en máximo.\n",
    "\n",
    "Este problema también tiene una restricción de desigualdad. El peso total de todos los artículos elegidos no puede exceder la capacidad máxima de peso de la mochila.\n",
    "\n",
    "Lo expresamos con la expresión de desigualdad que se muestra aquí, donde la minúscula w en la suma representa el peso de cada elemento y la mayúscula W es el peso máximo de la mochila.\n",
    "\n",
    "$$ \\sum_{i=0}^{N-1}w_i \\cdot x_i \\le W $$\n",
    "\n",
    "Para este ejemplo, vamos a añadir una segunda restricción. Un máximo de 2 artículos pueden caber en la mochila.Es decir:\n",
    "\n",
    "$$\\sum_{i=0}^{N-1} \\le 2 $$\n",
    "\n",
    "Todo esto traducido en código Python, sería lo siguiente:"
   ]
  },
  {
   "cell_type": "code",
   "execution_count": 34,
   "id": "016f512c",
   "metadata": {},
   "outputs": [],
   "source": [
    "from dimod import Binary, CQM, quicksum\n",
    "from dwave.system import LeapHybridCQMSampler\n",
    "import itertools\n",
    "\n",
    "values = [34,25,78,21,64]\n",
    "weights = [3,5,9,4,2]\n",
    "\n",
    "W = 10 #peso máximo admitido por el camión o mochila\n",
    "n = len(values)\n",
    "\n",
    "# creamos las variables binarias\n",
    "x = [Binary(i) for i in range(n)]\n",
    "\n",
    "# Construimos el objeto CQM\n",
    "cqm = CQM()\n",
    "\n",
    "# Añadimos la función objetivo\n",
    "cqm.set_objective(quicksum(-values[i]*x[i] for i in range(n)))\n",
    "\n",
    "#Añadimos las dos restricciones\n",
    "cqm.add_constraint(quicksum(weights[i]*x[i] for i in range(n)) <= W, label='max peso')\n",
    "cqm.add_constraint(quicksum(x[i] for i in range(n)) <= 2, label='max items')\n",
    "\n",
    "\n",
    "# submitimos el problema\n",
    "sampler = LeapHybridCQMSampler()\n",
    "sampleset = sampler.sample_cqm(cqm)"
   ]
  },
  {
   "cell_type": "markdown",
   "id": "633d2de1",
   "metadata": {},
   "source": [
    "Para este ejemplo, vamos a ver un problema realmente pequeño que sólo tiene 5 elementos. \n",
    "\n",
    "El valor y el peso de cada elemento se define en las listas de valores y pesos. \n",
    "\n",
    "El peso máximo de la mochila se establece en 10.\n",
    "\n",
    "Empezamos creando 5 variables binarias, una para cada elemento. A continuación, creamos el CQM y establecemos el objetivo de maximizar el valor de los elementos seleccionados. \n",
    "\n",
    "Obsérvese el signo negativo delante de la multiplicación de los valores por las variables binarias. De nuevo, esto hace que el objetivo de maximización sea compatible con el solucionador CQM que naturalmente minimiza.\n",
    "\n",
    "A continuación añadimos las dos restricciones de desigualdad. \n",
    "\n",
    "En primer lugar, sumamos el peso de cada elemento por la variable binaria asociada con el artículo y establecemos la suma como menor o igual al peso máximo de la mochila.Llamamos a esta restricción \"max peso\".\n",
    "\n",
    "Luego añadimos la restricción que limita el número de elementos elegidos a un máximo de 2.Esta restricción se denomina \"max items\".Por último, instanciamos el muestreador CQM y le enviamos el sampler CQM.\n",
    "\n",
    "\n",
    "El formato del resultado que obtenemos es el que se muestra en la siguiente figura\n",
    "\n",
    "![sampleset CQM](img/SamplesetCQM.PNG)\n",
    "\n",
    "El sampler CQM devuelve un conjunto de muestras y como se desprende de la observación de la figura anterior, hay algunas diferencias entre este conjunto de muestras y los devueltos por los otros solvers. \n",
    "\n",
    "La primera es que la energía **sólo se calcula a partir de la función objetivo**, por lo que las restricciones no afectan a la energía.\n",
    "\n",
    "La segunda diferencia es que **tenemos dos columnas adicionales** en el conjunto de muestras devuelto por el solucionador CQM (*Constraint satisfaction array* y *soluction feasibility*). \n",
    "\n",
    "\n",
    "La columna *is_satisfied* contiene una matriz para cada muestra. La matriz contiene el estado de cada restricción en la muestra. En otras palabras, nos dice si cada restricción  fue satisfecha o no.\n",
    "\n",
    "La columna *is_feasible* nos dice si la muestra es factible. Una muestra sólo es factible si se cumplen todas las restricciones. \n",
    "\n",
    "Se observa que el solucionador CQM devuelve soluciones factibles,   así como soluciones no factibles. Informamos de la satisfacción de las restricciones individuales para que pueda  examinar las soluciones no factibles de baja energía. \n",
    "\n",
    "Dependiendo de la aplicación, puede haber casos en los que una solución de baja energía de energía vale la pena considerar, dependiendo de cuántas y cuáles restricciones son violadas.\n",
    "\n",
    "![Solicionesfactibles](img/solucionadorCDQM.PNG)\n",
    "\n",
    "Si observamos cada muestra del conjunto de muestras, podemos ver que todas las muestras devuelven soluciones que seleccionan 1 o 2 elementos, por lo que la restricción de \"máximo de elementos\" se cumple en todas. \n",
    "\n",
    "Recordemos que la capacidad máxima de peso de la mochila es de 10.\n",
    "\n",
    "En este ejemplo, las mejores soluciones que satisfacen ambas restricciones (las dos últimas muestras del conjunto de muestras) tienen un valor total relativamente bajo. Sus valores son 98 y 64, como se muestra a la derecha. Entonces, si podemos violar la restricción de capacidad máxima sólo un poco, podemos aumentar el valor total a 142. \n",
    "\n",
    "En algunos casos podemos tener esa flexibilidad y puede valer la pena violar la para aumentar el valor total proporcionado por el objetivo.\n",
    "\n",
    "Las programación de Ocean, nos permite entresacar información de las soluciones obtenidas, y así por ejemplo, podem os chequear las soluciones no factibles, con el código siguiente:\n",
    "\n",
    "> muestra_nofactible = sampleset.filter(lambda d: not d.is_feasible).first\n",
    "\n",
    "Por el contrario, si queremos la solución factible de menor enegía, entonces lo haríamos con el siguiente código:\n",
    "\n",
    "> muestra_factible = sampleset.filter(lambda d:  d.is_feasible).first"
   ]
  },
  {
   "cell_type": "code",
   "execution_count": null,
   "id": "e2d9b0a2",
   "metadata": {},
   "outputs": [],
   "source": []
  },
  {
   "cell_type": "markdown",
   "id": "a7c71721",
   "metadata": {},
   "source": [
    "## Ampliar conocimientos.\n",
    "\n",
    "Para el lector que quiera ampliar conocimientos sobre esta clase, puede <a href=\"https://www.dwavesys.com/media/0ftjce4l/measuring-performance-of-the-leap-constrained-quadratic-model-solver.pdf\" target=\"_blank\">  consultar más aspectos de este solver en este enlace</a>."
   ]
  },
  {
   "cell_type": "code",
   "execution_count": null,
   "id": "98cc4cbd",
   "metadata": {},
   "outputs": [],
   "source": []
  }
 ],
 "metadata": {
  "kernelspec": {
   "display_name": "Python 3 (ipykernel)",
   "language": "python",
   "name": "python3"
  },
  "language_info": {
   "codemirror_mode": {
    "name": "ipython",
    "version": 3
   },
   "file_extension": ".py",
   "mimetype": "text/x-python",
   "name": "python",
   "nbconvert_exporter": "python",
   "pygments_lexer": "ipython3",
   "version": "3.8.3"
  },
  "toc": {
   "base_numbering": 1,
   "nav_menu": {},
   "number_sections": true,
   "sideBar": true,
   "skip_h1_title": false,
   "title_cell": "Table of Contents",
   "title_sidebar": "Contents",
   "toc_cell": false,
   "toc_position": {},
   "toc_section_display": true,
   "toc_window_display": true
  },
  "varInspector": {
   "cols": {
    "lenName": 16,
    "lenType": 16,
    "lenVar": 40
   },
   "kernels_config": {
    "python": {
     "delete_cmd_postfix": "",
     "delete_cmd_prefix": "del ",
     "library": "var_list.py",
     "varRefreshCmd": "print(var_dic_list())"
    },
    "r": {
     "delete_cmd_postfix": ") ",
     "delete_cmd_prefix": "rm(",
     "library": "var_list.r",
     "varRefreshCmd": "cat(var_dic_list()) "
    }
   },
   "types_to_exclude": [
    "module",
    "function",
    "builtin_function_or_method",
    "instance",
    "_Feature"
   ],
   "window_display": false
  }
 },
 "nbformat": 4,
 "nbformat_minor": 5
}
