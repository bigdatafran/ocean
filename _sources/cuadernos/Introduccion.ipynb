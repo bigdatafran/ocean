{
 "cells": [
  {
   "cell_type": "markdown",
   "id": "38424076",
   "metadata": {},
   "source": [
    "# Introducción.\n",
    "\n",
    "En este apartado se va a abordar un enfoque especial de optimización de funciones basado enla computación cuántica, hoy en día en proceso de madurez pero con grandes esperanzas de cara al futuro para poder resolver con ellas problemas presentes hoy en día con la computación tipo bit existente.\n",
    "\n",
    "Existen diferentes enfoque de implementación de la computación cuántica, liderando estos enfoques diversas empresas punteras en la matería. \n",
    "\n",
    "En este sentido, el modelo de **circuitos cuánticos** es el que está recibiendo más atención por parte de diversas\n",
    "empresas como IBM, Google o Riggeti para construir un computador cuántico capaz de resolver problemas con aplicación real.\n",
    "\n",
    "Estos computadores están basados en puertas cuánticas, similares a las puertas lógicas que se usan en la computación tradicional, pero que en vez de usar lógica booleana, manipulan los estados de superposición de los cúbits que pasan por esas puertas.\n",
    "\n",
    "Sin embargo, el computador que se va a utilizar en este trabajo utiliza otro paradigma, el llamado **quantum anneling** (recocido cuántico) o computación adiabática cuántica. \n",
    "\n",
    "Antes de hablar de este paradigma de computación, hay que entender algunos conceptos básicos como por ejemplo el cúbit que es la unidad mínima de información en este tipo de máquinas, y sus propiedades, que son las que brindan a estas máquinas su capacidad masiva de computación.\n",
    "\n",
    "## El qubit.\n",
    "\n",
    "En la informática tradicional, un bit es la unidad mínima de información. Los bits tienen dos estados: el 0 y el 1. Estos\n",
    "estados vienen representados por distintos niveles de voltaje.  \n",
    "\n",
    "En informática cuántica, los **qúbits**, al igual que los bits tienen dos estados (los cuales pueden ser tomados con probabilidades ciertas probabilidades); pero estos se representan con propiedades cuánticas tales como el “spin” de una partícula o el campo magnético de un superconductor en temperaturas cercanas al cero absoluto. Sin embargo, los cúbits al estar representados con estos fenómenos, la información que codificamos en ellos goza de propiedades cuánticas como la *superposición y el entrelazamiento*.\n",
    "\n",
    "La *superposición*  es el fenómeno por el cual un cúbit está en un estado indeterminado de sus dos estados básicos. Este estado se puede describir como la combinación lineal de sus estados básicos. Matemáticamente se describe así :\n",
    "\n",
    "$$Q = a|0 \\rangle+b|1 \\rangle $$\n",
    "\n",
    "Los coeficientes a y b son las denominadas amplitudes de probabilidad. Para saber con cuanta probabilidad se medirá cada estado en el cúbit, se obtiene el cuadrado de cada término. De esta manera, $a^2$ es la probabilidad de medir el estado $|0 \\rangle$ (más bien que *colapse* hacia el estado $|0\\rangle$) en el cúbit y $b^2$ la probabilidad de medir $|1\\rangle$.\n",
    "\n",
    "Como es evidente, ambos valores tienen que obedecer la expresión $a^2 +b^2 = 1$. Esto es así porque la suma de la probabilidad de todos los sucesos posibles debe ser exactamente igual a 1. De esta forma, se puede definir el cúbit que tiene el 50% de medir $|0\\rangle$ y 50% de medir $|1\\rangle$ sería $\\frac{1}{\\sqrt{2}}|0\\rangle +\\frac{1}.{\\sqrt{2}}|1\\rangle $\n",
    "\n",
    "Un sistema de mútiples cubits, supongamos 2 cubits similares al de arriba descrito, se definiría como el producto tensorial de ambos cubits:\n",
    "\n",
    "$$1/\\sqrt{2}(|0\\rangle + |1\\rangle) \\otimes 1/\\sqrt{2}(|0\\rangle + |1\\rangle) $$\n",
    "\n",
    "Pero para verlo de forma más clara se escribe con la siguiente notación donde se perciben todos los estados posibles del sistema:\n",
    "\n",
    "$$ S=1/2(|00\\rangle+|01\\rangle+|10\\rangle+|11\\rangle)$$\n",
    "\n",
    "Si en este sistema midiésemos el primer cúbit, recibiríamos $|0\\rangle$ o $|1\\rangle$ con la misma probabilidad. Después de esta acción, medir el segundo cúbit sería totalmente igual que en el cúbit anterior, recibiríamos un resultado aleatorio. En este sistema los cúbits son independientes y no se afectan los unos a los otros.\n",
    "\n",
    "Usando la superposición de cúbits se pueden crear sistemas de N cúbits donde se representan $2^N$ estados con los que operar todos a la vez. Es la superposición la que encierra la potencia de estas máquinas. \n",
    "\n",
    "El entrelazamiento es un caso particular de superposición entre objetos cuánticos. Supongamos el siguiente sistema:\n",
    "\n",
    "$$ S=|10\\rangle + |01\\rangle $$\n",
    "\n",
    "En este caso los cúbits están entrelazados. Si midiésemos el primer cúbit, automáticamente determinaríamos el estado del cúbit siguiente.\n",
    "\n",
    "Otra forma de saber si un sistema de cúbits están entrelazados es intentando factorizar el sistema en sus cúbits fundamentales. Es decir, si ese sistema es posible construirlo a través del producto tensorial entre cúbits. Si no es el caso, el sistema es un sistema entrelazado. \n",
    "\n",
    "## DWave.\n",
    "\n",
    "DWave es una empresa canadiense dedicada exclusivamente a la investigación y comercialización de computadores cuánticos. Al contrario que otras empresas, que intentan mediante puertas cuánticas lograr un computador cuántico general, DWave tras unos intentos poco exitosos, centró su investigación en este paradigma de computación adiabática. Tras esa decisión, la empresa ha conseguido grandes logros; como ofrecer al público el primer omputador cuántico de 7000 cúbits.\n",
    "\n",
    "Esta empresa ha desarrollado un software denominado SDK (software development kit) que permite a los usuarios interactuar con los ordenadores de esa empresa (conocidos como QPUs, es decir quantum processing units) así como con los *solvers* híbridos, utilizando para ello programas escritos en python.\n",
    "\n",
    "La api a utilizar para realizar estas tareas la podemos encontrar <a href=\"https://docs.ocean.dwavesys.com/en/stable/getting_started.html\" target=\"_blank\"> en este enlace </a>.\n",
    "\n",
    "\n",
    "## Modelos soportados por Ocean.\n",
    "\n",
    "Como puede verse en la documentación que ofrece D-Wave Ocean, son soportados cuatro modelos básicos para expresar el problema a optimizar como una función objetivo y submitirlo para encontrar la solución buscada.\n",
    "\n",
    "* <a href=\"https://docs.ocean.dwavesys.com/en/stable/concepts/bqm.html#bqm-sdk\" target=\"_blank\"> Binary Quadratic Models </a>. Conocidos también por la iniciales BQM, y son modelos sin restricciones (aunque las restricciones se pueden añadir mediante *funciones de penalización*) construidos en base a variables binarias. Este tipo de modelos, tienen dos subcategorías: Modelos *Ising* ( cuyas variables binarias pueden tomar los valores -1 ó 1, y los modelos QUBO, cuyas variables pueden tomar los valores 0 ó 1).\n",
    "\n",
    "* <a href=\"https://docs.ocean.dwavesys.com/en/stable/concepts/cqm.html#cqm-sdk\" target=\"_blank\"> Constrained Quadratic Models </a> . Conocidos también con las iniciales CQM pueden tener restricciones y las variables pueden ser de tipo real (aunque en la actualidad este tipo de variables no están soportadas para interacciones cuadráticas), entero o binario.\n",
    "\n",
    "    Este tipo de modelos, son normalmente utilizados para aplicaciones sobre problemas de optimización que pueden incluir variables de tipo entero y/o binario así como una o más restricciones.\n",
    "\n",
    "* <a href=\"https://docs.ocean.dwavesys.com/en/stable/concepts/dqm.html#dqm-sdk\" target=\"_blank\"> Discrete Quadratic Models </a>. También conocidos por las siglas DQM de tal manera que no admiten restricciones ( por regla general estas restricciones se introducen mediante funciones de penalización).\n",
    "\n",
    "**NOTA**. Ocean también ofrece soporte para los <a href=\"https://docs.ocean.dwavesys.com/en/stable/docs_dimod/reference/models.html#higher-order\" target=\"_blak\"> modelos denominados de orden superior </a> y son modelos que no están restringidos a interacciones cuadráticas. "
   ]
  },
  {
   "cell_type": "code",
   "execution_count": null,
   "id": "74b6f9cf",
   "metadata": {},
   "outputs": [],
   "source": []
  },
  {
   "cell_type": "code",
   "execution_count": null,
   "id": "9cb5a9b8",
   "metadata": {},
   "outputs": [],
   "source": []
  }
 ],
 "metadata": {
  "kernelspec": {
   "display_name": "Python 3 (ipykernel)",
   "language": "python",
   "name": "python3"
  },
  "language_info": {
   "codemirror_mode": {
    "name": "ipython",
    "version": 3
   },
   "file_extension": ".py",
   "mimetype": "text/x-python",
   "name": "python",
   "nbconvert_exporter": "python",
   "pygments_lexer": "ipython3",
   "version": "3.8.3"
  },
  "toc": {
   "base_numbering": 1,
   "nav_menu": {},
   "number_sections": true,
   "sideBar": true,
   "skip_h1_title": false,
   "title_cell": "Table of Contents",
   "title_sidebar": "Contents",
   "toc_cell": false,
   "toc_position": {},
   "toc_section_display": true,
   "toc_window_display": true
  },
  "varInspector": {
   "cols": {
    "lenName": 16,
    "lenType": 16,
    "lenVar": 40
   },
   "kernels_config": {
    "python": {
     "delete_cmd_postfix": "",
     "delete_cmd_prefix": "del ",
     "library": "var_list.py",
     "varRefreshCmd": "print(var_dic_list())"
    },
    "r": {
     "delete_cmd_postfix": ") ",
     "delete_cmd_prefix": "rm(",
     "library": "var_list.r",
     "varRefreshCmd": "cat(var_dic_list()) "
    }
   },
   "types_to_exclude": [
    "module",
    "function",
    "builtin_function_or_method",
    "instance",
    "_Feature"
   ],
   "window_display": false
  }
 },
 "nbformat": 4,
 "nbformat_minor": 5
}
