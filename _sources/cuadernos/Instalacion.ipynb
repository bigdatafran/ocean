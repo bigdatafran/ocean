{
 "cells": [
  {
   "cell_type": "markdown",
   "id": "dd43fa9d-0069-41f9-b356-29119e11bc79",
   "metadata": {},
   "source": [
    "# Instalación de Ocean\n",
    "\n",
    "En este trabajo se va a necesitar ejecutar una serie de instrucciones escritas en código python, para lo cual se necesita bien entrar en <a href=\"https://cloud.dwavesys.com/leap/login/\" target=\"_bliank\"> Leap Ocean </a> o bien instalar Ocean en nuestro equipo.\n",
    "\n",
    "Si optamos por la primera opción, debemos crar una cuenta la cual nos va a permitir acceder a los ordenadores de D-Wave de forma gratuita durante un minuto al mes (tiempo, principio suficiente para aprender  a manejar la herranmienta), y además nos creará una api-key que nos servirá para poder acceder a los ordenadores de D-Wave de forma remota desde nuestro equipo, una vez que hayamos instalado Ocean de forma local de la forma que se indicará posteriormente.\n",
    "\n",
    "Esta api-key se puede localizar en la opción del menú \"Dashboard\" y en concreto en la zona izquierda de la pantalla. Además aquí podremos localizar muchos ejemplos para poder a manejar esta herramienta, así como un ide con un contexto similar al que se tiene cuando se trabaja con visual studio code.\n",
    "\n",
    "Otra forma de interactuar con los ordenadores de D-D-Wave es procediendo a realizar una instalación  en local.\n",
    "\n",
    "## Instalación en local.\n",
    "\n",
    "El software de Ocean esta soportado para los siguientes sistemas operativos:\n",
    "\n",
    "* Linux\n",
    "\n",
    "* Windows\n",
    "\n",
    "* Mac\n",
    "\n",
    "Para hacer este tipo de instalación se aconseja instalar en primer lugar un entorno de trabajo de Python con una versión de Python igual o superior a la 3.7. Para crear este entorno virtual, y desde la carpeta donde se quiera trabajar (que será donde se haga la instalación del entorno virtual), se deberá ejecutar desde la línea de comando la siguiente isntrucción:\n",
    "\n",
    "> python -m venv ocean\n",
    "\n",
    "Una vez ejecutada esta instrucción se habrá creado una carpeta denominada *ocean* que contendrá el entorno de python que se caba de crear. Entonces para entrar en este entorno virtual, y desde el sistema de windows, y desde la carpeta donde se ha creado el entorno de trabajo, se deberá ejecutar el siguiente comando para entrar en él:\n",
    "\n",
    "> ocean\\Scripts\\activate\n",
    "\n",
    "y una vez ejecutado el comando anterior, sabremos que estamos dentro de ese entorno de trabajo, si en la parte izquierda vemos entre paréntesis la expresión *(ocean)* seguida del nombre del directorio donde nos encontramos. Con esto lo que hemos conseguido es crear un entorno, con una determinada versión de Python, dentro del cual se almacenarán los paquetes que necesitamos para nuestro trabajo. \n",
    "\n",
    "Ahora lo que necesitamos es proceder a instalar el software de OCean en nuestri equipo, para lo cual necesitamos ejecutar lo siguiente (recordar que debemos estar en el entorno de trabajo que se ha creado):\n",
    "\n",
    "> pip install dwave-ocean-sdk\n",
    "\n",
    "NOTA: cuando se ha ejecutado esta instruicción y durante su instalación, nos ha aparecido un mensajo de que se tenía instalada una versión de networkx que no sopoprtaba la instalación de Ocean, y entonces el problema se ha solucionado sin más que desinstalar la versión que por defecto se tenía cargada, y después se ha instalado de nuevo este paquete pero con la versión que se acepta por parte de D-Wave.\n",
    "\n",
    "Un vez instalado lo que nos falta es añadir el api-key de Leap Ocean, para que se comunique con los equipode Ocean y se puedan ejecutar desde nuestro equipo local los códigos que necesiten esta comunicación. Para conseguir esto y desde el sistema operativo y desde el entorno de trabajo creado, lo que se necesita es ejecutar la siguiente instrucción:\n",
    "\n",
    "> dwave setup\n",
    "\n",
    "Una vez ejecutada la sentencia anterior, comienza a aparecer una serie de mensajes a los que responderemos con la tecla *intro* para aceptar lo que por defecto nos propone, salvo cuando nos aparece el siguiente mensaje *Authentication token [skip]: * . En esta línea debemos pegar el token de Leap Ocean antes de hacer click en la tecla *enter* de nuestro equipo, a fin de añadir este token en el fichero de configuración que se crea. \n",
    "\n",
    "Siguiendo esto pasos ya tendremos todo preparado para ejecutar *solvers* desde los equipos de Ocean. Para más detalles de todo este proceso,<a href=\"https://docs.ocean.dwavesys.com/en/stable/overview/install.html\" target=\"_blank\"> se invita al lector acudir a este enlace</a>."
   ]
  },
  {
   "cell_type": "code",
   "execution_count": null,
   "id": "b7b77ee7-5517-45eb-96ad-011c513c8633",
   "metadata": {},
   "outputs": [],
   "source": []
  }
 ],
 "metadata": {
  "kernelspec": {
   "display_name": "Python 3 (ipykernel)",
   "language": "python",
   "name": "python3"
  },
  "language_info": {
   "codemirror_mode": {
    "name": "ipython",
    "version": 3
   },
   "file_extension": ".py",
   "mimetype": "text/x-python",
   "name": "python",
   "nbconvert_exporter": "python",
   "pygments_lexer": "ipython3",
   "version": "3.8.3"
  }
 },
 "nbformat": 4,
 "nbformat_minor": 5
}
