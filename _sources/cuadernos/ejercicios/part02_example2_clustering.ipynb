{
 "cells": [
  {
   "cell_type": "markdown",
   "id": "5e9339d7",
   "metadata": {},
   "source": [
    "(clustering)=\n",
    "# Introducción.\n",
    "\n",
    "En este módulo vamos a utilizar un modelo de optimización de con variables de tipo discreto, aunque realmente las variables van a ser binario (con valores 0 ó 1) a las que añadimos una restricción para que algunas de ellas valgan 1. Eso lo vemos en la exposición de la resolución del problema\n",
    "\n"
   ]
  },
  {
   "cell_type": "markdown",
   "id": "6f778653",
   "metadata": {},
   "source": [
    "En primer lugar creamos la función que va a ser la encargada de generar los puntos que después vamos a clasificar."
   ]
  },
  {
   "cell_type": "code",
   "execution_count": 1,
   "id": "b9fbc3e9",
   "metadata": {},
   "outputs": [],
   "source": [
    "import numpy as np\n",
    "\n",
    "def generate_points(centers, counts, scales):\n",
    "    \"\"\"Generamos puntos en un espacio bidimensional\n",
    "    \n",
    "    Args:\n",
    "        centers: lista de pares que serán los centros de los cluster\n",
    "        counts: lista conteniendo el número de puntos de cada cluster\n",
    "        scales: Desviación estándar a tener en cuenta para generar los puntos.\n",
    "        \n",
    "    Returns:\n",
    "        points: lista de los puntos (con un tamaño igual a la suma del tamaño de cada cluster)\n",
    "    \n",
    "    \"\"\"\n",
    "    centers = np.array(centers)\n",
    "    points = np.zeros([sum(counts), 2])\n",
    "    start = 0\n",
    "    for center, count, scale in zip(centers, counts, scales):\n",
    "        points[start:start + count] = center + np.random.normal(0, scale, size=[count, 2])\n",
    "        start += count\n",
    "    return points"
   ]
  },
  {
   "cell_type": "code",
   "execution_count": 2,
   "id": "fab3201c",
   "metadata": {},
   "outputs": [
    {
     "data": {
      "text/plain": [
       "<matplotlib.collections.PathCollection at 0x18ff2ba3940>"
      ]
     },
     "execution_count": 2,
     "metadata": {},
     "output_type": "execute_result"
    },
    {
     "data": {
      "image/png": "[encoded data removed]",
      "text/plain": [
       "<Figure size 640x480 with 1 Axes>"
      ]
     },
     "metadata": {},
     "output_type": "display_data"
    }
   ],
   "source": [
    "# tres clusters con 3,4 y 3 puntos cada uno\n",
    "counts = [3, 4, 3]\n",
    "\n",
    "num_points = sum(counts)\n",
    "num_clusters = len(counts)\n",
    "\n",
    "points = generate_points([(-1, 1), (1, 1), (0, 2)], counts, [0.1, 0.1, 0.1])\n",
    "\n",
    "# obtenemos la distancia entre cada punto\n",
    "distances = {(i, j): np.sqrt(np.sum(np.square(points[i] - points[j])))\n",
    "            for i in range(num_points)\n",
    "            for j in range(num_points)\n",
    "            if i != j\n",
    "            }\n",
    "\n",
    "one_hot_penalty = 10\n",
    "\n",
    "import matplotlib.pyplot as plt\n",
    "plt.scatter(*zip(*points))"
   ]
  },
  {
   "cell_type": "code",
   "execution_count": 3,
   "id": "ca21a8b7",
   "metadata": {},
   "outputs": [
    {
     "data": {
      "text/plain": [
       "array([[-0.97364196,  0.99692865],\n",
       "       [-1.00124489,  0.85792989],\n",
       "       [-1.02138938,  0.9935812 ],\n",
       "       [ 1.0844558 ,  1.08735894],\n",
       "       [ 1.0450974 ,  0.89236925],\n",
       "       [ 1.00101437,  1.22698843],\n",
       "       [ 1.24970983,  0.87214967],\n",
       "       [-0.04712933,  2.01777102],\n",
       "       [ 0.14536791,  2.20676083],\n",
       "       [-0.05612416,  1.9437752 ]])"
      ]
     },
     "execution_count": 3,
     "metadata": {},
     "output_type": "execute_result"
    }
   ],
   "source": [
    "points"
   ]
  },
  {
   "cell_type": "code",
   "execution_count": 5,
   "id": "fb0210ec",
   "metadata": {},
   "outputs": [
    {
     "data": {
      "text/plain": [
       "array([-0.22886348, -0.04683578])"
      ]
     },
     "execution_count": 5,
     "metadata": {},
     "output_type": "execute_result"
    }
   ],
   "source": [
    "points[1]-points[2]"
   ]
  },
  {
   "cell_type": "code",
   "execution_count": 5,
   "id": "a4e1e97e",
   "metadata": {},
   "outputs": [],
   "source": [
    "#distances"
   ]
  },
  {
   "cell_type": "markdown",
   "id": "20f8e7c3",
   "metadata": {},
   "source": [
    "##  Creación del objeto BQM \n",
    "\n",
    "Creamos un objeto de tipo BQM con las siguientes características.\n",
    "\n",
    "* La variables de decisión $x_{ij}$ van a valer 1 si el punto i es asignado al conglomerado j y cero en caso contrario.\n",
    "\n",
    "* El número total de variables será igual al número de clúster multiplicado por el número de puntos.\n",
    "\n",
    "* No hay ninguna incialización de los valores *bias* puesto que se asignan los mismos valores iniciales a todas las variables\n"
   ]
  },
  {
   "cell_type": "code",
   "execution_count": 7,
   "id": "c5e1ca21",
   "metadata": {},
   "outputs": [],
   "source": [
    "#!pip install dimod"
   ]
  },
  {
   "cell_type": "markdown",
   "id": "ca6af159-b1ce-4ab0-9a49-5d5a0ab69f82",
   "metadata": {},
   "source": [
    "Para la generación de variables con Dewava se utiliza mucho el formato de representación de Python de tipo f'xxxx{}i', para el lector que no lo conozca a continuación se muestran una serie de ejemplos, que ayudan a comprender su uso."
   ]
  },
  {
   "cell_type": "code",
   "execution_count": 8,
   "id": "ec9d0102",
   "metadata": {},
   "outputs": [
    {
     "data": {
      "text/plain": [
       "'aaaa_casa'"
      ]
     },
     "execution_count": 8,
     "metadata": {},
     "output_type": "execute_result"
    }
   ],
   "source": [
    "i=\"casa\"\n",
    "f'aaaa_{i}'"
   ]
  },
  {
   "cell_type": "code",
   "execution_count": 9,
   "id": "ca386794",
   "metadata": {},
   "outputs": [
    {
     "data": {
      "text/plain": [
       "'aaa_casa'"
      ]
     },
     "execution_count": 9,
     "metadata": {},
     "output_type": "execute_result"
    }
   ],
   "source": [
    "# Otra forma es la siguiente\n",
    "'aaa_{}'.format(i)"
   ]
  },
  {
   "cell_type": "markdown",
   "id": "8a2764a1-1912-441e-90d9-9166f68f0237",
   "metadata": {},
   "source": [
    "A continuación implementado el modelo QUBO. Hay que observar que para definir las variables se crea un diccionario, de tal manera que los índices son los pares (i,j) que hacen referencia a la variable $x_{ij}$."
   ]
  },
  {
   "cell_type": "code",
   "execution_count": 9,
   "id": "9f345628",
   "metadata": {},
   "outputs": [],
   "source": [
    "from dimod import AdjVectorBQM\n",
    "\n",
    "# AdjVectorBQMy AdjDictBQM ahora son alias para BinaryQuadraticModely DictBQM respectivamente \n",
    "#en lugar de tener su propia implementación con una API ligeramente diferente\n",
    "\n",
    "bqm = AdjVectorBQM('BINARY')\n",
    "# Creamos el diccionario que contiene las variables\n",
    "x = {(i, j): bqm.add_variable((f'x_{i}', j), 0) # Inicializamos con bias=0\n",
    "     for i in range(num_points)\n",
    "     for j in range(num_clusters)\n",
    "     }"
   ]
  },
  {
   "cell_type": "code",
   "execution_count": 10,
   "id": "056f50ef",
   "metadata": {},
   "outputs": [
    {
     "data": {
      "text/plain": [
       "{(0, 0): ('x_0', 0),\n",
       " (0, 1): ('x_0', 1),\n",
       " (0, 2): ('x_0', 2),\n",
       " (1, 0): ('x_1', 0),\n",
       " (1, 1): ('x_1', 1),\n",
       " (1, 2): ('x_1', 2),\n",
       " (2, 0): ('x_2', 0),\n",
       " (2, 1): ('x_2', 1),\n",
       " (2, 2): ('x_2', 2),\n",
       " (3, 0): ('x_3', 0),\n",
       " (3, 1): ('x_3', 1),\n",
       " (3, 2): ('x_3', 2),\n",
       " (4, 0): ('x_4', 0),\n",
       " (4, 1): ('x_4', 1),\n",
       " (4, 2): ('x_4', 2),\n",
       " (5, 0): ('x_5', 0),\n",
       " (5, 1): ('x_5', 1),\n",
       " (5, 2): ('x_5', 2),\n",
       " (6, 0): ('x_6', 0),\n",
       " (6, 1): ('x_6', 1),\n",
       " (6, 2): ('x_6', 2),\n",
       " (7, 0): ('x_7', 0),\n",
       " (7, 1): ('x_7', 1),\n",
       " (7, 2): ('x_7', 2),\n",
       " (8, 0): ('x_8', 0),\n",
       " (8, 1): ('x_8', 1),\n",
       " (8, 2): ('x_8', 2),\n",
       " (9, 0): ('x_9', 0),\n",
       " (9, 1): ('x_9', 1),\n",
       " (9, 2): ('x_9', 2)}"
      ]
     },
     "execution_count": 10,
     "metadata": {},
     "output_type": "execute_result"
    }
   ],
   "source": [
    "x"
   ]
  },
  {
   "cell_type": "code",
   "execution_count": 17,
   "id": "03f12ccf",
   "metadata": {},
   "outputs": [
    {
     "data": {
      "text/plain": [
       "('x_0', 0)"
      ]
     },
     "execution_count": 17,
     "metadata": {},
     "output_type": "execute_result"
    }
   ],
   "source": [
    "x[(0,0]"
   ]
  },
  {
   "cell_type": "markdown",
   "id": "fd2afae9-338b-4b55-9532-5d4fdbe3150d",
   "metadata": {},
   "source": [
    "Realmente interesa ver el objeto de tipo BQM que hemos generado. Veámoslo con la siguiente instrucción:"
   ]
  },
  {
   "cell_type": "code",
   "execution_count": 12,
   "id": "d880115b",
   "metadata": {},
   "outputs": [
    {
     "data": {
      "text/plain": [
       "Float64BQM({('x_0', 0): 0.0, ('x_0', 1): 0.0, ('x_0', 2): 0.0, ('x_1', 0): 0.0, ('x_1', 1): 0.0, ('x_1', 2): 0.0, ('x_2', 0): 0.0, ('x_2', 1): 0.0, ('x_2', 2): 0.0, ('x_3', 0): 0.0, ('x_3', 1): 0.0, ('x_3', 2): 0.0, ('x_4', 0): 0.0, ('x_4', 1): 0.0, ('x_4', 2): 0.0, ('x_5', 0): 0.0, ('x_5', 1): 0.0, ('x_5', 2): 0.0, ('x_6', 0): 0.0, ('x_6', 1): 0.0, ('x_6', 2): 0.0, ('x_7', 0): 0.0, ('x_7', 1): 0.0, ('x_7', 2): 0.0, ('x_8', 0): 0.0, ('x_8', 1): 0.0, ('x_8', 2): 0.0, ('x_9', 0): 0.0, ('x_9', 1): 0.0, ('x_9', 2): 0.0}, {}, 0.0, 'BINARY')"
      ]
     },
     "execution_count": 12,
     "metadata": {},
     "output_type": "execute_result"
    }
   ],
   "source": [
    "bqm"
   ]
  },
  {
   "cell_type": "markdown",
   "id": "b22283bd",
   "metadata": {},
   "source": [
    "Las penalizaciones que imponemos van a ser proporcionales a la distancia que hay entre cada par de puntos"
   ]
  },
  {
   "cell_type": "code",
   "execution_count": 13,
   "id": "59a1e110",
   "metadata": {},
   "outputs": [],
   "source": [
    "from itertools import combinations\n",
    "\n",
    "for i, j in combinations(range(num_points), r=2):\n",
    "    for k in range(num_clusters):\n",
    "        bqm.add_interaction(x[i, k], x[j, k], distances[i, j])"
   ]
  },
  {
   "cell_type": "code",
   "execution_count": 14,
   "id": "02e0d611",
   "metadata": {},
   "outputs": [
    {
     "data": {
      "text/plain": [
       "0.14171301363998623"
      ]
     },
     "execution_count": 14,
     "metadata": {},
     "output_type": "execute_result"
    }
   ],
   "source": [
    "distances[(0,1)]"
   ]
  },
  {
   "cell_type": "code",
   "execution_count": 15,
   "id": "55fadcdc",
   "metadata": {},
   "outputs": [
    {
     "name": "stdout",
     "output_type": "stream",
     "text": [
      "Float64BQM({('x_0', 0): 0.0, ('x_0', 1): 0.0, ('x_0', 2): 0.0, ('x_1', 0): 0.0, ('x_1', 1): 0.0, ('x_1', 2): 0.0, ('x_2', 0): 0.0, ('x_2', 1): 0.0, ('x_2', 2): 0.0, ('x_3', 0): 0.0, ('x_3', 1): 0.0, ('x_3', 2): 0.0, ('x_4', 0): 0.0, ('x_4', 1): 0.0, ('x_4', 2): 0.0, ('x_5', 0): 0.0, ('x_5', 1): 0.0, ('x_5', 2): 0.0, ('x_6', 0): 0.0, ('x_6', 1): 0.0, ('x_6', 2): 0.0, ('x_7', 0): 0.0, ('x_7', 1): 0.0, ('x_7', 2): 0.0, ('x_8', 0): 0.0, ('x_8', 1): 0.0, ('x_8', 2): 0.0, ('x_9', 0): 0.0, ('x_9', 1): 0.0, ('x_9', 2): 0.0}, {(('x_1', 0), ('x_0', 0)): 0.14171301363998623, (('x_1', 1), ('x_0', 1)): 0.14171301363998623, (('x_1', 2), ('x_0', 2)): 0.14171301363998623, (('x_2', 0), ('x_0', 0)): 0.04786461576403033, (('x_2', 0), ('x_1', 0)): 0.13713890777482518, (('x_2', 1), ('x_0', 1)): 0.04786461576403033, (('x_2', 1), ('x_1', 1)): 0.13713890777482518, (('x_2', 2), ('x_0', 2)): 0.04786461576403033, (('x_2', 2), ('x_1', 2)): 0.13713890777482518, (('x_3', 0), ('x_0', 0)): 2.060083502578733, (('x_3', 0), ('x_1', 0)): 2.0982814520019986, (('x_3', 0), ('x_2', 0)): 2.1079322079296503, (('x_3', 1), ('x_0', 1)): 2.060083502578733, (('x_3', 1), ('x_1', 1)): 2.0982814520019986, (('x_3', 1), ('x_2', 1)): 2.1079322079296503, (('x_3', 2), ('x_0', 2)): 2.060083502578733, (('x_3', 2), ('x_1', 2)): 2.0982814520019986, (('x_3', 2), ('x_2', 2)): 2.1079322079296503, (('x_4', 0), ('x_0', 0)): 2.021445339881007, (('x_4', 0), ('x_1', 0)): 2.0466320647533833, (('x_4', 0), ('x_2', 0)): 2.0689638606906113, (('x_4', 0), ('x_3', 0)): 0.19892225900002158, (('x_4', 1), ('x_0', 1)): 2.021445339881007, (('x_4', 1), ('x_1', 1)): 2.0466320647533833, (('x_4', 1), ('x_2', 1)): 2.0689638606906113, (('x_4', 1), ('x_3', 1)): 0.19892225900002158, (('x_4', 2), ('x_0', 2)): 2.021445339881007, (('x_4', 2), ('x_1', 2)): 2.0466320647533833, (('x_4', 2), ('x_2', 2)): 2.0689638606906113, (('x_4', 2), ('x_3', 2)): 0.19892225900002158, (('x_5', 0), ('x_0', 0)): 1.988012861806546, (('x_5', 0), ('x_1', 0)): 2.0359878071872926, (('x_5', 0), ('x_2', 0)): 2.0358280560977313, (('x_5', 0), ('x_3', 0)): 0.16266181570569063, (('x_5', 0), ('x_4', 0)): 0.3375104609602114, (('x_5', 1), ('x_0', 1)): 1.988012861806546, (('x_5', 1), ('x_1', 1)): 2.0359878071872926, (('x_5', 1), ('x_2', 1)): 2.0358280560977313, (('x_5', 1), ('x_3', 1)): 0.16266181570569063, (('x_5', 1), ('x_4', 1)): 0.3375104609602114, (('x_5', 2), ('x_0', 2)): 1.988012861806546, (('x_5', 2), ('x_1', 2)): 2.0359878071872926, (('x_5', 2), ('x_2', 2)): 2.0358280560977313, (('x_5', 2), ('x_3', 2)): 0.16266181570569063, (('x_5', 2), ('x_4', 2)): 0.3375104609602114, (('x_6', 0), ('x_0', 0)): 2.2268504592580047, (('x_6', 0), ('x_1', 0)): 2.2509996278268907, (('x_6', 0), ('x_2', 0)): 2.2743432514648183, (('x_6', 0), ('x_3', 0)): 0.27133728939707086, (('x_6', 0), ('x_4', 0)): 0.205609041974235, (('x_6', 0), ('x_5', 0)): 0.43331279341820195, (('x_6', 1), ('x_0', 1)): 2.2268504592580047, (('x_6', 1), ('x_1', 1)): 2.2509996278268907, (('x_6', 1), ('x_2', 1)): 2.2743432514648183, (('x_6', 1), ('x_3', 1)): 0.27133728939707086, (('x_6', 1), ('x_4', 1)): 0.205609041974235, (('x_6', 1), ('x_5', 1)): 0.43331279341820195, (('x_6', 2), ('x_0', 2)): 2.2268504592580047, (('x_6', 2), ('x_1', 2)): 2.2509996278268907, (('x_6', 2), ('x_2', 2)): 2.2743432514648183, (('x_6', 2), ('x_3', 2)): 0.27133728939707086, (('x_6', 2), ('x_4', 2)): 0.205609041974235, (('x_6', 2), ('x_5', 2)): 0.43331279341820195, (('x_7', 0), ('x_0', 0)): 1.3786024797238556, (('x_7', 0), ('x_1', 0)): 1.5018548366862834, (('x_7', 0), ('x_2', 0)): 1.4135584280215412, (('x_7', 0), ('x_3', 0)): 1.4649749253207014, (('x_7', 0), ('x_4', 0)): 1.568275600203059, (('x_7', 0), ('x_5', 0)): 1.3129898372728241, (('x_7', 0), ('x_6', 0)): 1.7303872590573925, (('x_7', 1), ('x_0', 1)): 1.3786024797238556, (('x_7', 1), ('x_1', 1)): 1.5018548366862834, (('x_7', 1), ('x_2', 1)): 1.4135584280215412, (('x_7', 1), ('x_3', 1)): 1.4649749253207014, (('x_7', 1), ('x_4', 1)): 1.568275600203059, (('x_7', 1), ('x_5', 1)): 1.3129898372728241, (('x_7', 1), ('x_6', 1)): 1.7303872590573925, (('x_7', 2), ('x_0', 2)): 1.3786024797238556, (('x_7', 2), ('x_1', 2)): 1.5018548366862834, (('x_7', 2), ('x_2', 2)): 1.4135584280215412, (('x_7', 2), ('x_3', 2)): 1.4649749253207014, (('x_7', 2), ('x_4', 2)): 1.568275600203059, (('x_7', 2), ('x_5', 2)): 1.3129898372728241, (('x_7', 2), ('x_6', 2)): 1.7303872590573925, (('x_8', 0), ('x_0', 0)): 1.6479918054288936, (('x_8', 0), ('x_1', 0)): 1.7703292966235378, (('x_8', 0), ('x_2', 0)): 1.6831896457539017, (('x_8', 0), ('x_3', 0)): 1.4611456608927758, (('x_8', 0), ('x_4', 0)): 1.5928397182594412, (('x_8', 0), ('x_5', 0)): 1.3008016034427274, (('x_8', 0), ('x_6', 0)): 1.7322696120830763, (('x_8', 0), ('x_7', 0)): 0.2697634806026235, (('x_8', 1), ('x_0', 1)): 1.6479918054288936, (('x_8', 1), ('x_1', 1)): 1.7703292966235378, (('x_8', 1), ('x_2', 1)): 1.6831896457539017, (('x_8', 1), ('x_3', 1)): 1.4611456608927758, (('x_8', 1), ('x_4', 1)): 1.5928397182594412, (('x_8', 1), ('x_5', 1)): 1.3008016034427274, (('x_8', 1), ('x_6', 1)): 1.7322696120830763, (('x_8', 1), ('x_7', 1)): 0.2697634806026235, (('x_8', 2), ('x_0', 2)): 1.6479918054288936, (('x_8', 2), ('x_1', 2)): 1.7703292966235378, (('x_8', 2), ('x_2', 2)): 1.6831896457539017, (('x_8', 2), ('x_3', 2)): 1.4611456608927758, (('x_8', 2), ('x_4', 2)): 1.5928397182594412, (('x_8', 2), ('x_5', 2)): 1.3008016034427274, (('x_8', 2), ('x_6', 2)): 1.7322696120830763, (('x_8', 2), ('x_7', 2)): 0.2697634806026235, (('x_9', 0), ('x_0', 0)): 1.3184677820847432, (('x_9', 0), ('x_1', 0)): 1.4395531331129483, (('x_9', 0), ('x_2', 0)): 1.3544761237410892, (('x_9', 0), ('x_3', 0)): 1.4263139402858502, (('x_9', 0), ('x_4', 0)): 1.52254503816272, (('x_9', 0), ('x_5', 0)): 1.2772333969863539, (('x_9', 0), ('x_6', 0)): 1.6892553634688006, (('x_9', 0), ('x_7', 0)): 0.07454051523423368, (('x_9', 0), ('x_8', 0)): 0.33130121905248167, (('x_9', 1), ('x_0', 1)): 1.3184677820847432, (('x_9', 1), ('x_1', 1)): 1.4395531331129483, (('x_9', 1), ('x_2', 1)): 1.3544761237410892, (('x_9', 1), ('x_3', 1)): 1.4263139402858502, (('x_9', 1), ('x_4', 1)): 1.52254503816272, (('x_9', 1), ('x_5', 1)): 1.2772333969863539, (('x_9', 1), ('x_6', 1)): 1.6892553634688006, (('x_9', 1), ('x_7', 1)): 0.07454051523423368, (('x_9', 1), ('x_8', 1)): 0.33130121905248167, (('x_9', 2), ('x_0', 2)): 1.3184677820847432, (('x_9', 2), ('x_1', 2)): 1.4395531331129483, (('x_9', 2), ('x_2', 2)): 1.3544761237410892, (('x_9', 2), ('x_3', 2)): 1.4263139402858502, (('x_9', 2), ('x_4', 2)): 1.52254503816272, (('x_9', 2), ('x_5', 2)): 1.2772333969863539, (('x_9', 2), ('x_6', 2)): 1.6892553634688006, (('x_9', 2), ('x_7', 2)): 0.07454051523423368, (('x_9', 2), ('x_8', 2)): 0.33130121905248167}, 0.0, 'BINARY')\n"
     ]
    }
   ],
   "source": [
    "print(bqm)"
   ]
  },
  {
   "cell_type": "markdown",
   "id": "513fbcb6",
   "metadata": {},
   "source": [
    "## Restricción.\n",
    "\n",
    "Añadimos la restricción para conseguir que las variables sean discretas, para ello debemos conseguir que para cara puntoa (es decir para cada subíndice i) la suma en el suíndice j sea 1. de esta manera conseguimos que cada punto pertenezca a uno y solo uno de los clúster.\n"
   ]
  },
  {
   "cell_type": "code",
   "execution_count": 16,
   "id": "534e35dc",
   "metadata": {},
   "outputs": [],
   "source": [
    "for i in range(num_points):\n",
    "    bqm.add_linear_equality_constraint(\n",
    "        [(x[i, k], 1.0) for k in range(num_clusters)],\n",
    "        constant=-1.0,\n",
    "        lagrange_multiplier=one_hot_penalty\n",
    "    )"
   ]
  },
  {
   "cell_type": "markdown",
   "id": "c6f5b839",
   "metadata": {},
   "source": [
    "## Resolución.\n",
    "```{index} SimulatedAnnealingSampler\r\n",
    "```\n",
    "\n",
    "Utilizamos ahora el solver SimulatedAnnealingSampler,"
   ]
  },
  {
   "cell_type": "code",
   "execution_count": 17,
   "id": "f701b3bf",
   "metadata": {},
   "outputs": [
    {
     "name": "stdout",
     "output_type": "stream",
     "text": [
      "  ('x_0', 0) ('x_0', 1) ('x_0', 2) ('x_1', 0) ... ('x_9', 2)   energy num_oc.\n",
      "0          0          0          1          0 ...          0 2.611675       1\n",
      "1          0          0          1          0 ...          0 2.611675       1\n",
      "2          0          0          1          0 ...          0 2.611675       1\n",
      "['BINARY', 3 rows, 3 samples, 30 variables]\n"
     ]
    }
   ],
   "source": [
    "from neal import SimulatedAnnealingSampler\n",
    "\n",
    "\n",
    "response = SimulatedAnnealingSampler().sample(bqm, num_reads=100, num_sweeps=10000).truncate(3)\n",
    "print(response)"
   ]
  },
  {
   "cell_type": "code",
   "execution_count": 18,
   "id": "2f57dacc",
   "metadata": {},
   "outputs": [
    {
     "data": {
      "text/plain": [
       "{('x_0', 0): 0,\n",
       " ('x_0', 1): 0,\n",
       " ('x_0', 2): 1,\n",
       " ('x_1', 0): 0,\n",
       " ('x_1', 1): 0,\n",
       " ('x_1', 2): 1,\n",
       " ('x_2', 0): 0,\n",
       " ('x_2', 1): 0,\n",
       " ('x_2', 2): 1,\n",
       " ('x_3', 0): 1,\n",
       " ('x_3', 1): 0,\n",
       " ('x_3', 2): 0,\n",
       " ('x_4', 0): 1,\n",
       " ('x_4', 1): 0,\n",
       " ('x_4', 2): 0,\n",
       " ('x_5', 0): 1,\n",
       " ('x_5', 1): 0,\n",
       " ('x_5', 2): 0,\n",
       " ('x_6', 0): 1,\n",
       " ('x_6', 1): 0,\n",
       " ('x_6', 2): 0,\n",
       " ('x_7', 0): 0,\n",
       " ('x_7', 1): 1,\n",
       " ('x_7', 2): 0,\n",
       " ('x_8', 0): 0,\n",
       " ('x_8', 1): 1,\n",
       " ('x_8', 2): 0,\n",
       " ('x_9', 0): 0,\n",
       " ('x_9', 1): 1,\n",
       " ('x_9', 2): 0}"
      ]
     },
     "execution_count": 18,
     "metadata": {},
     "output_type": "execute_result"
    }
   ],
   "source": [
    "response.first.sample"
   ]
  },
  {
   "cell_type": "code",
   "execution_count": 19,
   "id": "d2a77d65",
   "metadata": {},
   "outputs": [
    {
     "name": "stdout",
     "output_type": "stream",
     "text": [
      "{'x_0': 2, 'x_1': 2, 'x_2': 2, 'x_3': 0, 'x_4': 0, 'x_5': 0, 'x_6': 0, 'x_7': 1, 'x_8': 1, 'x_9': 1}\n"
     ]
    }
   ],
   "source": [
    "best_solution = response.first.sample\n",
    "assignments = {point: cluster for (point, cluster), value in best_solution.items() if value}\n",
    "\n",
    "print(assignments)"
   ]
  },
  {
   "cell_type": "code",
   "execution_count": 20,
   "id": "e7e9630e",
   "metadata": {},
   "outputs": [
    {
     "data": {
      "text/plain": [
       "<matplotlib.collections.PathCollection at 0x18ff54337c0>"
      ]
     },
     "execution_count": 20,
     "metadata": {},
     "output_type": "execute_result"
    },
    {
     "data": {
      "image/png": "[encoded data removed]",
      "text/plain": [
       "<Figure size 640x480 with 1 Axes>"
      ]
     },
     "metadata": {},
     "output_type": "display_data"
    }
   ],
   "source": [
    "colors = ['r', 'g', 'b']\n",
    "point_colors = [colors[assignments['x_{}'.format(i)]] for i in range(len(points))]\n",
    "plt.scatter(*zip(*points), c=point_colors)"
   ]
  },
  {
   "cell_type": "markdown",
   "id": "a6c53bb3",
   "metadata": {},
   "source": [
    "## Otro ejemplo.\n",
    "\n",
    "Ahora hacemos lo mismo que antes, pero con otro conjunto de datos"
   ]
  },
  {
   "cell_type": "code",
   "execution_count": 21,
   "id": "b46f93b0",
   "metadata": {},
   "outputs": [],
   "source": [
    "import numpy as np\n",
    "\n",
    "origenes = np.array([[1,1],[6,6]])\n",
    "puntos = np.array([[11,10],[2,1],[1.5,2],[3,2],[0,1],[0.5,1],[7,6],[8,7],[5,6],[8,7],[6,8],[7,7],[2,2],[11,11]])"
   ]
  },
  {
   "cell_type": "code",
   "execution_count": 22,
   "id": "f095701f",
   "metadata": {},
   "outputs": [],
   "source": [
    "distances = {(i, j): np.sqrt(np.sum(np.square(puntos[i] - puntos[j])))+\n",
    "             np.sqrt(np.sum(((puntos[1]+puntos[2])/2)-origenes[0]))\n",
    "            for i in range(len(puntos))\n",
    "            for j in range(len(puntos))\n",
    "            if i != j\n",
    "            }\n",
    "\n"
   ]
  },
  {
   "cell_type": "code",
   "execution_count": 23,
   "id": "7fe7402b",
   "metadata": {},
   "outputs": [
    {
     "data": {
      "text/plain": [
       "1.118033988749895"
      ]
     },
     "execution_count": 23,
     "metadata": {},
     "output_type": "execute_result"
    }
   ],
   "source": [
    "np.sqrt(np.sum(((puntos[1]+puntos[2])/2)-origenes[0]))"
   ]
  },
  {
   "cell_type": "code",
   "execution_count": 24,
   "id": "650ca9d6",
   "metadata": {},
   "outputs": [],
   "source": [
    "#distances"
   ]
  },
  {
   "cell_type": "code",
   "execution_count": 25,
   "id": "ec3cc130",
   "metadata": {},
   "outputs": [],
   "source": [
    "from dimod import AdjVectorBQM\n",
    "\n",
    "bqm = AdjVectorBQM('BINARY')\n",
    "num_clusters = 2\n",
    "x = {(i, j): bqm.add_variable((f'x_{i}', j), 0)\n",
    "     for i in range(len(puntos))\n",
    "     for j in range(num_clusters)\n",
    "     }"
   ]
  },
  {
   "cell_type": "code",
   "execution_count": 26,
   "id": "adc93616",
   "metadata": {},
   "outputs": [],
   "source": [
    "from itertools import combinations\n",
    "\n",
    "for i, j in combinations(range(len(puntos)), r=2):\n",
    "    for k in range(num_clusters):\n",
    "        bqm.add_interaction(x[i, k], x[j, k], distances[i, j])"
   ]
  },
  {
   "cell_type": "code",
   "execution_count": 27,
   "id": "585d164b",
   "metadata": {},
   "outputs": [],
   "source": [
    "one_hot_penalty = 100\n",
    "\n",
    "for i in range(len(puntos)):\n",
    "    bqm.add_linear_equality_constraint(\n",
    "        [(x[i, k], 1.0) for k in range(num_clusters)],\n",
    "        constant=-1.0,\n",
    "        lagrange_multiplier=one_hot_penalty\n",
    "    )"
   ]
  },
  {
   "cell_type": "code",
   "execution_count": 28,
   "id": "847e4fae",
   "metadata": {},
   "outputs": [],
   "source": [
    "bqm.add_linear_equality_constraint(\n",
    "   [(x[i, 0], 1.0) for i in range(len(puntos))],\n",
    "        constant=-int(len(puntos)/2),\n",
    "        lagrange_multiplier=one_hot_penalty \n",
    ")"
   ]
  },
  {
   "cell_type": "code",
   "execution_count": 29,
   "id": "ca39b535",
   "metadata": {},
   "outputs": [
    {
     "name": "stdout",
     "output_type": "stream",
     "text": [
      "  ('x_0', 0) ('x_0', 1) ('x_1', 0) ('x_1', 1) ... ('x_9', 1)     energy num_oc.\n",
      "0          1          0          0          1 ...          0 172.385484       1\n",
      "1          1          0          0          1 ...          0 172.385484       1\n",
      "2          1          0          0          1 ...          0 172.385484       1\n",
      "['BINARY', 3 rows, 3 samples, 28 variables]\n"
     ]
    }
   ],
   "source": [
    "from neal import SimulatedAnnealingSampler\n",
    "\n",
    "\n",
    "response = SimulatedAnnealingSampler().sample(bqm, num_reads=100, num_sweeps=10000).truncate(3)\n",
    "print(response)"
   ]
  },
  {
   "cell_type": "code",
   "execution_count": 30,
   "id": "8b18ba33",
   "metadata": {},
   "outputs": [
    {
     "name": "stdout",
     "output_type": "stream",
     "text": [
      "{'x_0': 0, 'x_1': 1, 'x_10': 0, 'x_11': 0, 'x_12': 1, 'x_13': 0, 'x_2': 1, 'x_3': 1, 'x_4': 1, 'x_5': 1, 'x_6': 0, 'x_7': 0, 'x_8': 1, 'x_9': 0}\n"
     ]
    }
   ],
   "source": [
    "best_solution = response.first.sample\n",
    "assignments = {point: cluster for (point, cluster), value in best_solution.items() if value}\n",
    "\n",
    "print(assignments)"
   ]
  },
  {
   "cell_type": "code",
   "execution_count": 31,
   "id": "8a0a4002",
   "metadata": {},
   "outputs": [
    {
     "data": {
      "text/plain": [
       "<matplotlib.collections.PathCollection at 0x18ff5480280>"
      ]
     },
     "execution_count": 31,
     "metadata": {},
     "output_type": "execute_result"
    },
    {
     "data": {
      "image/png": "[encoded data removed]",
      "text/plain": [
       "<Figure size 640x480 with 1 Axes>"
      ]
     },
     "metadata": {},
     "output_type": "display_data"
    }
   ],
   "source": [
    "import matplotlib.pyplot as plt\n",
    "colors = ['r', 'g', 'b']\n",
    "point_colors = [colors[assignments['x_{}'.format(i)]] for i in range(len(puntos))]\n",
    "plt.scatter(*zip(*puntos), c=point_colors)"
   ]
  },
  {
   "cell_type": "markdown",
   "id": "7e71c3b0",
   "metadata": {},
   "source": [
    "## Otra prueba"
   ]
  },
  {
   "cell_type": "code",
   "execution_count": 55,
   "id": "41e409f0",
   "metadata": {},
   "outputs": [],
   "source": [
    "origenes = np.array([[1,1],[6,6]])\n",
    "puntos = np.array([[1,0],[2,1],[1.5,2],[3,2],[0,1],[0.5,1],[7,6],[8,7],[5,6],[8,7],[6,8],[7,7]])"
   ]
  },
  {
   "cell_type": "code",
   "execution_count": 56,
   "id": "d810fdb8",
   "metadata": {},
   "outputs": [],
   "source": [
    "distances = {(i, j): np.sqrt(np.sum(np.square(puntos[i] - puntos[j])))\n",
    "            for i in range(len(puntos))\n",
    "            for j in range(len(puntos))\n",
    "            if i != j\n",
    "            }\n",
    "\n",
    "one_hot_penalty = 10"
   ]
  },
  {
   "cell_type": "code",
   "execution_count": 58,
   "id": "c97cfd64",
   "metadata": {},
   "outputs": [],
   "source": [
    "#distances"
   ]
  },
  {
   "cell_type": "code",
   "execution_count": 59,
   "id": "c146288a",
   "metadata": {},
   "outputs": [],
   "source": [
    "from dimod import AdjVectorBQM\n",
    "num_clusters = 2\n",
    "bqm = AdjVectorBQM('BINARY')\n",
    "\n",
    "x = {(i, j): bqm.add_variable((f'x_{i}', j), 0)\n",
    "     for i in range(len(puntos))\n",
    "     #for j in range(num_clusters-1)\n",
    "     for j in range(num_clusters)\n",
    "     }\n"
   ]
  },
  {
   "cell_type": "code",
   "execution_count": 60,
   "id": "2088d629",
   "metadata": {},
   "outputs": [],
   "source": [
    "#x"
   ]
  },
  {
   "cell_type": "code",
   "execution_count": 61,
   "id": "630e08a6",
   "metadata": {},
   "outputs": [],
   "source": [
    "from itertools import combinations\n",
    "\n",
    "for i, j in combinations(range(num_points), r=2):\n",
    "    for k in range(num_clusters):\n",
    "        bqm.add_interaction(x[i, k], x[j, k], distances[i, j])\n",
    "        \n",
    "        \n",
    "from itertools import combinations\n"
   ]
  },
  {
   "cell_type": "code",
   "execution_count": 62,
   "id": "8319f8a2",
   "metadata": {},
   "outputs": [
    {
     "name": "stdout",
     "output_type": "stream",
     "text": [
      "AdjVectorBQM({('x_0', 0): 0.0, ('x_0', 1): 0.0, ('x_1', 0): 0.0, ('x_1', 1): 0.0, ('x_2', 0): 0.0, ('x_2', 1): 0.0, ('x_3', 0): 0.0, ('x_3', 1): 0.0, ('x_4', 0): 0.0, ('x_4', 1): 0.0, ('x_5', 0): 0.0, ('x_5', 1): 0.0, ('x_6', 0): 0.0, ('x_6', 1): 0.0, ('x_7', 0): 0.0, ('x_7', 1): 0.0, ('x_8', 0): 0.0, ('x_8', 1): 0.0, ('x_9', 0): 0.0, ('x_9', 1): 0.0, ('x_10', 0): 0.0, ('x_10', 1): 0.0, ('x_11', 0): 0.0, ('x_11', 1): 0.0}, {(('x_0', 0), ('x_1', 0)): 1.4142135623730951, (('x_0', 0), ('x_2', 0)): 2.0615528128088303, (('x_0', 0), ('x_3', 0)): 2.8284271247461903, (('x_0', 0), ('x_4', 0)): 1.4142135623730951, (('x_0', 0), ('x_5', 0)): 1.118033988749895, (('x_0', 0), ('x_6', 0)): 8.48528137423857, (('x_0', 0), ('x_7', 0)): 9.899494936611665, (('x_0', 0), ('x_8', 0)): 7.211102550927978, (('x_0', 1), ('x_1', 1)): 1.4142135623730951, (('x_0', 1), ('x_2', 1)): 2.0615528128088303, (('x_0', 1), ('x_3', 1)): 2.8284271247461903, (('x_0', 1), ('x_4', 1)): 1.4142135623730951, (('x_0', 1), ('x_5', 1)): 1.118033988749895, (('x_0', 1), ('x_6', 1)): 8.48528137423857, (('x_0', 1), ('x_7', 1)): 9.899494936611665, (('x_0', 1), ('x_8', 1)): 7.211102550927978, (('x_1', 0), ('x_2', 0)): 1.118033988749895, (('x_1', 0), ('x_3', 0)): 1.4142135623730951, (('x_1', 0), ('x_4', 0)): 2.0, (('x_1', 0), ('x_5', 0)): 1.5, (('x_1', 0), ('x_6', 0)): 7.0710678118654755, (('x_1', 0), ('x_7', 0)): 8.48528137423857, (('x_1', 0), ('x_8', 0)): 5.830951894845301, (('x_1', 1), ('x_2', 1)): 1.118033988749895, (('x_1', 1), ('x_3', 1)): 1.4142135623730951, (('x_1', 1), ('x_4', 1)): 2.0, (('x_1', 1), ('x_5', 1)): 1.5, (('x_1', 1), ('x_6', 1)): 7.0710678118654755, (('x_1', 1), ('x_7', 1)): 8.48528137423857, (('x_1', 1), ('x_8', 1)): 5.830951894845301, (('x_2', 0), ('x_3', 0)): 1.5, (('x_2', 0), ('x_4', 0)): 1.8027756377319946, (('x_2', 0), ('x_5', 0)): 1.4142135623730951, (('x_2', 0), ('x_6', 0)): 6.800735254367722, (('x_2', 0), ('x_7', 0)): 8.200609733428363, (('x_2', 0), ('x_8', 0)): 5.315072906367325, (('x_2', 1), ('x_3', 1)): 1.5, (('x_2', 1), ('x_4', 1)): 1.8027756377319946, (('x_2', 1), ('x_5', 1)): 1.4142135623730951, (('x_2', 1), ('x_6', 1)): 6.800735254367722, (('x_2', 1), ('x_7', 1)): 8.200609733428363, (('x_2', 1), ('x_8', 1)): 5.315072906367325, (('x_3', 0), ('x_4', 0)): 3.1622776601683795, (('x_3', 0), ('x_5', 0)): 2.692582403567252, (('x_3', 0), ('x_6', 0)): 5.656854249492381, (('x_3', 0), ('x_7', 0)): 7.0710678118654755, (('x_3', 0), ('x_8', 0)): 4.47213595499958, (('x_3', 1), ('x_4', 1)): 3.1622776601683795, (('x_3', 1), ('x_5', 1)): 2.692582403567252, (('x_3', 1), ('x_6', 1)): 5.656854249492381, (('x_3', 1), ('x_7', 1)): 7.0710678118654755, (('x_3', 1), ('x_8', 1)): 4.47213595499958, (('x_4', 0), ('x_5', 0)): 0.5, (('x_4', 0), ('x_6', 0)): 8.602325267042627, (('x_4', 0), ('x_7', 0)): 10.0, (('x_4', 0), ('x_8', 0)): 7.0710678118654755, (('x_4', 1), ('x_5', 1)): 0.5, (('x_4', 1), ('x_6', 1)): 8.602325267042627, (('x_4', 1), ('x_7', 1)): 10.0, (('x_4', 1), ('x_8', 1)): 7.0710678118654755, (('x_5', 0), ('x_6', 0)): 8.200609733428363, (('x_5', 0), ('x_7', 0)): 9.604686356149273, (('x_5', 0), ('x_8', 0)): 6.726812023536855, (('x_5', 1), ('x_6', 1)): 8.200609733428363, (('x_5', 1), ('x_7', 1)): 9.604686356149273, (('x_5', 1), ('x_8', 1)): 6.726812023536855, (('x_6', 0), ('x_7', 0)): 1.4142135623730951, (('x_6', 0), ('x_8', 0)): 2.0, (('x_6', 1), ('x_7', 1)): 1.4142135623730951, (('x_6', 1), ('x_8', 1)): 2.0, (('x_7', 0), ('x_8', 0)): 3.1622776601683795, (('x_7', 1), ('x_8', 1)): 3.1622776601683795}, 0.0, 'BINARY')\n"
     ]
    }
   ],
   "source": [
    "print(bqm)"
   ]
  },
  {
   "cell_type": "code",
   "execution_count": 63,
   "id": "8bb78701",
   "metadata": {},
   "outputs": [],
   "source": [
    "one_hot_penalty = 28\n",
    "for i in range(len(puntos)):\n",
    "    bqm.add_linear_equality_constraint(\n",
    "        [(x[i, k], 1.0) for k in range(num_clusters)],\n",
    "        constant=-1.0,\n",
    "        lagrange_multiplier=one_hot_penalty\n",
    "    )"
   ]
  },
  {
   "cell_type": "code",
   "execution_count": 64,
   "id": "8a9a66ec",
   "metadata": {},
   "outputs": [],
   "source": [
    "#for i in range(len(puntos)):\n",
    "bqm.add_linear_equality_constraint(\n",
    "    [(x[i, 1], 1.0) for i in range(len(puntos))],\n",
    "    constant=-int(len(puntos)/2),\n",
    "    lagrange_multiplier=one_hot_penalty\n",
    ")"
   ]
  },
  {
   "cell_type": "code",
   "execution_count": 65,
   "id": "0ce56b89",
   "metadata": {},
   "outputs": [
    {
     "name": "stdout",
     "output_type": "stream",
     "text": [
      "  ('x_0', 0) ('x_0', 1) ('x_1', 0) ('x_1', 1) ... ('x_9', 1)    energy num_oc.\n",
      "0          1          0          1          0 ...          1 32.517029       1\n",
      "1          1          0          1          0 ...          1 32.517029       1\n",
      "2          1          0          1          0 ...          1 32.517029       1\n",
      "['BINARY', 3 rows, 3 samples, 24 variables]\n"
     ]
    }
   ],
   "source": [
    "from neal import SimulatedAnnealingSampler\n",
    "\n",
    "\n",
    "response = SimulatedAnnealingSampler().sample(bqm, num_reads=100, num_sweeps=10000).truncate(3)\n",
    "print(response)"
   ]
  },
  {
   "cell_type": "code",
   "execution_count": 66,
   "id": "b1581ec9",
   "metadata": {},
   "outputs": [
    {
     "name": "stdout",
     "output_type": "stream",
     "text": [
      "{'x_0': 0, 'x_1': 0, 'x_10': 1, 'x_11': 1, 'x_2': 0, 'x_3': 0, 'x_4': 0, 'x_5': 0, 'x_6': 1, 'x_7': 1, 'x_8': 1, 'x_9': 1}\n"
     ]
    }
   ],
   "source": [
    "best_solution = response.first.sample\n",
    "assignments = {point: cluster for (point, cluster), value in best_solution.items() if value}\n",
    "\n",
    "print(assignments)"
   ]
  },
  {
   "cell_type": "code",
   "execution_count": 67,
   "id": "24d0ee95",
   "metadata": {},
   "outputs": [
    {
     "data": {
      "text/plain": [
       "{('x_0', 0): 1,\n",
       " ('x_0', 1): 0,\n",
       " ('x_1', 0): 1,\n",
       " ('x_1', 1): 0,\n",
       " ('x_10', 0): 0,\n",
       " ('x_10', 1): 1,\n",
       " ('x_11', 0): 0,\n",
       " ('x_11', 1): 1,\n",
       " ('x_2', 0): 1,\n",
       " ('x_2', 1): 0,\n",
       " ('x_3', 0): 1,\n",
       " ('x_3', 1): 0,\n",
       " ('x_4', 0): 1,\n",
       " ('x_4', 1): 0,\n",
       " ('x_5', 0): 1,\n",
       " ('x_5', 1): 0,\n",
       " ('x_6', 0): 0,\n",
       " ('x_6', 1): 1,\n",
       " ('x_7', 0): 0,\n",
       " ('x_7', 1): 1,\n",
       " ('x_8', 0): 0,\n",
       " ('x_8', 1): 1,\n",
       " ('x_9', 0): 0,\n",
       " ('x_9', 1): 1}"
      ]
     },
     "execution_count": 67,
     "metadata": {},
     "output_type": "execute_result"
    }
   ],
   "source": [
    "best_solution"
   ]
  },
  {
   "cell_type": "markdown",
   "id": "f40b2754",
   "metadata": {},
   "source": [
    "(conDQM)=\n",
    "###Con DQM"
   ]
  },
  {
   "cell_type": "markdown",
   "id": "26d4be55",
   "metadata": {},
   "source": [
    "Vamos a cambiar un poco el ejemplo anterior, y vamos a suponer que tenemos dos coches ubicados en un lugar definido por unas coordenadas. Después tenemos otros coches en otros puntos, también definidos por un par de coordenadas. \n",
    "\n",
    "A cada coche le vamos a dar una preferencia de asignación a un coche u otro. Esta preferencia está dada por un par de valores, cada valor del par indica la preferencia por un coche u otro. Un valor más pequeño indica mayor preferencia (esto es debido a que al fina la ecuación que tratamos es de minimización). \n",
    "\n",
    "Formulamos todo esto de la siguiente manera"
   ]
  },
  {
   "cell_type": "code",
   "execution_count": 39,
   "id": "0f4faa14",
   "metadata": {},
   "outputs": [],
   "source": [
    "from dimod import DiscreteQuadraticModel\n",
    "from dwave.system import LeapHybridDQMSampler"
   ]
  },
  {
   "cell_type": "code",
   "execution_count": 40,
   "id": "f45bce51",
   "metadata": {},
   "outputs": [],
   "source": [
    "sampler = LeapHybridDQMSampler()"
   ]
  },
  {
   "cell_type": "code",
   "execution_count": 34,
   "id": "50f9e8fd",
   "metadata": {},
   "outputs": [],
   "source": [
    "origenes = np.array([[1,1],[6,6]]) # Los orígenes de los coches\n",
    "puntos = np.array([[6.5,10],[2,1],[1.5,2],[3,2],[0,1],[0.5,1],[7,6],[8,7],[5,6],[8,7],[6,8],[7,7]])"
   ]
  },
  {
   "cell_type": "markdown",
   "id": "2d2bdbd7",
   "metadata": {},
   "source": [
    "Al final veo que lo de la celda anterior no lo utilizo para este caso, pero sí sería necesario cuando se calculen de forma programática las preferencias de cada punto.\n",
    "Las preferencias para este ejemplo lo asigno de forma manual en la siguiente celda, utilizo como criterio la cercanía de un punto a cada uno de los coches."
   ]
  },
  {
   "cell_type": "code",
   "execution_count": 43,
   "id": "105c2c00",
   "metadata": {},
   "outputs": [],
   "source": [
    "preferences = { \"y_1\": [2,1],\n",
    "                \"y_2\":[1,2],\n",
    "                \"y_3\" :[1,2],\n",
    "                \"y_4\": [1,2],\n",
    "                \"y_5\": [1,2],\n",
    "                \"y_6\" : [1,2],\n",
    "                \"y_7\":[2,1],\n",
    "                \"y_8\":[2,1],\n",
    "               \"y_9\":[2,1],\n",
    "               \"y_10\":[2,1],\n",
    "               \"y_11\":[2,1],\n",
    "               \"y_12\":[2,1]\n",
    "              }"
   ]
  },
  {
   "cell_type": "code",
   "execution_count": 44,
   "id": "31dd486c",
   "metadata": {},
   "outputs": [],
   "source": [
    "num_coches = 2\n",
    "dqm = DiscreteQuadraticModel()"
   ]
  },
  {
   "cell_type": "markdown",
   "id": "04a5c20e-b926-4316-9f3b-e7eaddd2cfbc",
   "metadata": {},
   "source": [
    "Para ver la propiedad *add_variable* <a href=\"https://docs.ocean.dwavesys.com/en/stable/docs_dimod/reference/generated/dimod.DiscreteQuadraticModel.add_variable.html\" target=\"_blank\"> ver este enlace</a>:"
   ]
  },
  {
   "cell_type": "code",
   "execution_count": 45,
   "id": "e2401f2c",
   "metadata": {},
   "outputs": [],
   "source": [
    "#Creamos las variables  del modelo\n",
    "for name in preferences:\n",
    "        \n",
    "        dqm.add_variable(num_coches, label=name)\n",
    "        "
   ]
  },
  {
   "cell_type": "code",
   "execution_count": 49,
   "id": "a222aa1a-b5ca-444c-8379-4e5649a9e0bb",
   "metadata": {},
   "outputs": [
    {
     "name": "stdout",
     "output_type": "stream",
     "text": [
      "12\n"
     ]
    }
   ],
   "source": [
    "#Sacamos el número de variables\n",
    "print(dqm.num_variables() )"
   ]
  },
  {
   "cell_type": "code",
   "execution_count": 89,
   "id": "bb09c8b7",
   "metadata": {},
   "outputs": [],
   "source": [
    "for name in preferences:\n",
    "        dqm.set_linear(name, preferences[name])"
   ]
  },
  {
   "cell_type": "markdown",
   "id": "dbb643e3-42c0-4de8-91ef-549ba7f44292",
   "metadata": {},
   "source": [
    "Resolvemos el problema"
   ]
  },
  {
   "cell_type": "code",
   "execution_count": 50,
   "id": "6e369254",
   "metadata": {},
   "outputs": [],
   "source": [
    "sampleset = sampler.sample_dqm(dqm, label='Training - Asignacion puntos')"
   ]
  },
  {
   "cell_type": "code",
   "execution_count": 51,
   "id": "73875d44",
   "metadata": {},
   "outputs": [
    {
     "data": {
      "text/plain": [
       "SampleSet(rec.array([([0, 0, 0, 1, 1, 1, 1, 1, 0, 0, 1, 1], 0., 1),\n",
       "           ([0, 1, 0, 1, 0, 0, 0, 0, 1, 1, 0, 1], 0., 1),\n",
       "           ([1, 1, 0, 0, 0, 0, 0, 0, 1, 1, 0, 1], 0., 1),\n",
       "           ([1, 1, 0, 0, 0, 0, 0, 1, 0, 1, 1, 1], 0., 1),\n",
       "           ([1, 1, 0, 1, 0, 1, 0, 0, 0, 1, 0, 0], 0., 1),\n",
       "           ([1, 1, 1, 0, 0, 0, 1, 0, 1, 0, 1, 0], 0., 1),\n",
       "           ([1, 1, 1, 1, 1, 1, 1, 0, 0, 1, 0, 1], 0., 1),\n",
       "           ([0, 0, 1, 1, 1, 1, 1, 1, 0, 0, 0, 1], 0., 1),\n",
       "           ([0, 0, 0, 0, 1, 1, 1, 0, 0, 1, 1, 1], 0., 1),\n",
       "           ([1, 1, 0, 0, 1, 1, 0, 0, 1, 1, 0, 0], 0., 1),\n",
       "           ([1, 0, 1, 0, 1, 0, 1, 0, 0, 0, 0, 0], 0., 1),\n",
       "           ([0, 1, 1, 0, 1, 1, 1, 1, 0, 0, 1, 0], 0., 1),\n",
       "           ([0, 0, 0, 1, 1, 1, 1, 1, 1, 0, 1, 0], 0., 1),\n",
       "           ([0, 1, 0, 0, 0, 0, 0, 1, 0, 1, 0, 0], 0., 1),\n",
       "           ([1, 1, 0, 0, 0, 0, 1, 1, 0, 1, 1, 1], 0., 1),\n",
       "           ([0, 1, 0, 0, 1, 0, 1, 1, 0, 0, 1, 1], 0., 1),\n",
       "           ([1, 1, 0, 1, 1, 1, 1, 0, 0, 1, 1, 1], 0., 1),\n",
       "           ([0, 1, 0, 0, 0, 0, 0, 1, 0, 1, 0, 0], 0., 1),\n",
       "           ([0, 1, 1, 1, 1, 1, 0, 1, 1, 0, 0, 1], 0., 1),\n",
       "           ([0, 0, 1, 1, 1, 0, 0, 0, 1, 1, 0, 1], 0., 1),\n",
       "           ([1, 0, 1, 1, 1, 1, 0, 0, 1, 1, 0, 1], 0., 1),\n",
       "           ([1, 1, 1, 0, 0, 1, 1, 0, 0, 0, 0, 1], 0., 1),\n",
       "           ([1, 1, 0, 0, 0, 1, 0, 1, 0, 1, 1, 1], 0., 1),\n",
       "           ([1, 1, 1, 1, 0, 0, 1, 0, 1, 0, 0, 0], 0., 1),\n",
       "           ([0, 0, 0, 0, 1, 0, 0, 0, 1, 0, 0, 1], 0., 1),\n",
       "           ([1, 1, 0, 0, 0, 0, 1, 0, 1, 1, 1, 1], 0., 1),\n",
       "           ([1, 1, 0, 0, 1, 1, 0, 0, 1, 0, 1, 1], 0., 1),\n",
       "           ([0, 1, 1, 1, 1, 0, 1, 0, 1, 0, 1, 1], 0., 1),\n",
       "           ([1, 0, 1, 1, 1, 1, 1, 0, 1, 0, 1, 0], 0., 1),\n",
       "           ([1, 1, 0, 0, 0, 1, 0, 0, 0, 1, 1, 0], 0., 1),\n",
       "           ([0, 1, 0, 0, 0, 0, 1, 0, 0, 0, 0, 1], 0., 1),\n",
       "           ([0, 1, 1, 0, 1, 1, 0, 0, 1, 0, 0, 0], 0., 1),\n",
       "           ([1, 0, 0, 1, 0, 0, 0, 0, 1, 0, 0, 1], 0., 1),\n",
       "           ([1, 1, 1, 0, 0, 0, 0, 1, 0, 0, 1, 1], 0., 1),\n",
       "           ([0, 0, 0, 1, 0, 1, 1, 1, 1, 1, 1, 1], 0., 1),\n",
       "           ([0, 0, 1, 1, 1, 0, 1, 0, 1, 1, 0, 0], 0., 1),\n",
       "           ([0, 1, 0, 1, 0, 1, 0, 1, 0, 1, 1, 1], 0., 1),\n",
       "           ([0, 1, 1, 1, 1, 0, 0, 0, 1, 0, 1, 1], 0., 1),\n",
       "           ([1, 1, 0, 1, 1, 0, 0, 1, 1, 0, 1, 0], 0., 1),\n",
       "           ([1, 1, 1, 1, 0, 1, 0, 0, 1, 1, 1, 1], 0., 1),\n",
       "           ([0, 1, 1, 0, 1, 0, 1, 0, 0, 1, 1, 0], 0., 1),\n",
       "           ([1, 0, 1, 0, 1, 1, 0, 1, 1, 1, 1, 1], 0., 1),\n",
       "           ([1, 1, 1, 1, 0, 0, 0, 0, 0, 0, 0, 1], 0., 1),\n",
       "           ([0, 0, 1, 1, 0, 1, 1, 1, 1, 1, 0, 0], 0., 1),\n",
       "           ([0, 1, 0, 0, 0, 1, 0, 1, 0, 1, 0, 1], 0., 1),\n",
       "           ([0, 0, 0, 0, 1, 1, 0, 0, 1, 0, 0, 1], 0., 1),\n",
       "           ([1, 0, 1, 1, 0, 0, 1, 1, 0, 1, 0, 0], 0., 1),\n",
       "           ([1, 0, 1, 1, 0, 1, 1, 1, 1, 1, 0, 1], 0., 1),\n",
       "           ([0, 0, 1, 1, 1, 1, 1, 0, 1, 0, 1, 0], 0., 1),\n",
       "           ([1, 1, 1, 1, 0, 1, 1, 0, 1, 1, 0, 0], 0., 1),\n",
       "           ([0, 0, 0, 1, 1, 1, 1, 1, 0, 0, 1, 0], 0., 1),\n",
       "           ([0, 0, 0, 1, 0, 0, 0, 0, 0, 1, 0, 1], 0., 1),\n",
       "           ([0, 0, 1, 0, 0, 0, 1, 0, 1, 0, 0, 1], 0., 1),\n",
       "           ([1, 0, 0, 0, 0, 0, 1, 0, 0, 0, 0, 1], 0., 1),\n",
       "           ([1, 0, 0, 0, 1, 1, 0, 0, 1, 0, 1, 1], 0., 1),\n",
       "           ([1, 0, 0, 0, 0, 0, 0, 1, 1, 1, 0, 0], 0., 1),\n",
       "           ([0, 1, 0, 1, 0, 1, 0, 1, 0, 1, 0, 0], 0., 1),\n",
       "           ([1, 1, 1, 1, 1, 1, 1, 0, 0, 1, 0, 1], 0., 1),\n",
       "           ([0, 1, 0, 1, 0, 0, 1, 1, 0, 0, 1, 1], 0., 1),\n",
       "           ([1, 1, 1, 0, 0, 0, 0, 0, 1, 0, 1, 0], 0., 1),\n",
       "           ([0, 1, 1, 1, 0, 0, 1, 1, 0, 0, 1, 1], 0., 1),\n",
       "           ([0, 1, 0, 0, 0, 0, 1, 1, 1, 0, 1, 0], 0., 1),\n",
       "           ([0, 1, 0, 0, 0, 1, 0, 1, 1, 0, 0, 0], 0., 1),\n",
       "           ([1, 1, 0, 1, 0, 1, 1, 0, 1, 1, 0, 1], 0., 1),\n",
       "           ([1, 0, 1, 1, 0, 0, 0, 1, 1, 1, 1, 0], 0., 1),\n",
       "           ([0, 1, 0, 1, 1, 0, 1, 0, 0, 0, 0, 0], 0., 1),\n",
       "           ([0, 1, 0, 1, 1, 0, 0, 0, 0, 0, 1, 0], 0., 1),\n",
       "           ([1, 1, 1, 1, 1, 1, 0, 1, 1, 0, 1, 1], 0., 1),\n",
       "           ([0, 0, 0, 0, 1, 0, 1, 0, 0, 0, 1, 0], 0., 1),\n",
       "           ([1, 1, 1, 1, 1, 1, 0, 0, 1, 1, 0, 1], 0., 1),\n",
       "           ([1, 1, 0, 1, 0, 1, 0, 1, 1, 1, 1, 1], 0., 1),\n",
       "           ([0, 1, 0, 0, 1, 0, 0, 1, 1, 0, 1, 1], 0., 1),\n",
       "           ([1, 0, 0, 1, 1, 1, 1, 0, 0, 1, 1, 1], 0., 1),\n",
       "           ([0, 0, 0, 1, 1, 0, 0, 1, 0, 1, 1, 1], 0., 1),\n",
       "           ([1, 1, 0, 0, 0, 0, 0, 0, 0, 1, 1, 0], 0., 1),\n",
       "           ([0, 1, 1, 1, 1, 0, 0, 1, 1, 0, 1, 1], 0., 1),\n",
       "           ([1, 1, 0, 0, 0, 1, 1, 1, 0, 1, 0, 0], 0., 1),\n",
       "           ([1, 1, 1, 1, 0, 0, 1, 0, 0, 1, 1, 1], 0., 1),\n",
       "           ([0, 0, 0, 1, 1, 1, 1, 1, 1, 0, 1, 1], 0., 1),\n",
       "           ([0, 0, 0, 1, 0, 1, 1, 1, 1, 1, 1, 1], 0., 1),\n",
       "           ([1, 0, 1, 0, 1, 0, 1, 1, 0, 0, 0, 0], 0., 1),\n",
       "           ([0, 1, 0, 1, 0, 1, 0, 1, 1, 0, 0, 0], 0., 1),\n",
       "           ([0, 0, 1, 1, 1, 0, 0, 1, 0, 0, 1, 1], 0., 1),\n",
       "           ([0, 1, 0, 0, 1, 1, 1, 0, 0, 1, 1, 0], 0., 1),\n",
       "           ([0, 1, 0, 0, 0, 0, 0, 1, 0, 1, 0, 0], 0., 1),\n",
       "           ([1, 1, 0, 0, 0, 0, 1, 1, 0, 1, 1, 0], 0., 1),\n",
       "           ([1, 1, 0, 0, 0, 0, 0, 1, 1, 1, 0, 1], 0., 1),\n",
       "           ([1, 0, 1, 1, 0, 0, 0, 0, 1, 0, 0, 0], 0., 1)],\n",
       "          dtype=[('sample', '<i4', (12,)), ('energy', '<f8'), ('num_occurrences', '<i8')]), Variables(['y_1', 'y_2', 'y_3', 'y_4', 'y_5', 'y_6', 'y_7', 'y_8', 'y_9', 'y_10', 'y_11', 'y_12']), {'qpu_access_time': 31804, 'charge_time': 5000000, 'run_time': 5117988, 'problem_id': 'ce947f3a-9dba-422e-a429-34de48de0d37', 'problem_label': 'Training - Asignacion puntos'}, 'INTEGER')"
      ]
     },
     "execution_count": 51,
     "metadata": {},
     "output_type": "execute_result"
    }
   ],
   "source": [
    "sampleset"
   ]
  },
  {
   "cell_type": "code",
   "execution_count": 52,
   "id": "f06f3f64",
   "metadata": {},
   "outputs": [
    {
     "data": {
      "text/plain": [
       "[['y_1', 'y_2', 'y_3', 'y_9', 'y_10'],\n",
       " ['y_4', 'y_5', 'y_6', 'y_7', 'y_8', 'y_11', 'y_12']]"
      ]
     },
     "execution_count": 52,
     "metadata": {},
     "output_type": "execute_result"
    }
   ],
   "source": [
    "sample = sampleset.first.sample\n",
    "shift_schedule=[ [] for i in range(num_coches)]\n",
    "for key, val in sample.items():\n",
    "        shift_schedule[val].append(key)\n",
    "        \n",
    "shift_schedule"
   ]
  },
  {
   "cell_type": "code",
   "execution_count": 53,
   "id": "6e10a364",
   "metadata": {},
   "outputs": [
    {
     "data": {
      "text/plain": [
       "dict_items([('y_1', 0), ('y_2', 0), ('y_3', 0), ('y_4', 1), ('y_5', 1), ('y_6', 1), ('y_7', 1), ('y_8', 1), ('y_9', 0), ('y_10', 0), ('y_11', 1), ('y_12', 1)])"
      ]
     },
     "execution_count": 53,
     "metadata": {},
     "output_type": "execute_result"
    }
   ],
   "source": [
    "sample.items()"
   ]
  },
  {
   "cell_type": "markdown",
   "id": "88815ddd",
   "metadata": {},
   "source": [
    "## Otra forma con DQM.\n",
    "\n",
    "En esta ocasión voy a utilizar la información que me dan las distancias a cada centro de salida"
   ]
  },
  {
   "cell_type": "code",
   "execution_count": 1,
   "id": "d2ec6c6e",
   "metadata": {},
   "outputs": [],
   "source": [
    "import numpy as np\n",
    "\n",
    "origenes = np.array([[1,1],[6,6]])\n",
    "puntos = np.array([[6.5,10],[2,1],[1.5,2],[3,2],[0,1],[0.5,1],[7,6],[8,7],[5,6],[8,7],[6,8],[7,7]])"
   ]
  },
  {
   "cell_type": "code",
   "execution_count": 2,
   "id": "253a25a9",
   "metadata": {},
   "outputs": [],
   "source": [
    "distances = {(i, j): np.sqrt(np.sum(np.square(puntos[i] - origenes[j])))\n",
    "            for i in range(len(puntos))\n",
    "            for j in range(len(origenes))\n",
    "            #if i != j\n",
    "            }"
   ]
  },
  {
   "cell_type": "code",
   "execution_count": 3,
   "id": "24f92e3a",
   "metadata": {},
   "outputs": [],
   "source": [
    "n_coches = len(origenes)\n"
   ]
  },
  {
   "cell_type": "code",
   "execution_count": 4,
   "id": "6de331f5",
   "metadata": {},
   "outputs": [],
   "source": [
    "from dimod import DiscreteQuadraticModel\n",
    "from dwave.system import LeapHybridDQMSampler"
   ]
  },
  {
   "cell_type": "code",
   "execution_count": 5,
   "id": "76211d22",
   "metadata": {},
   "outputs": [],
   "source": [
    "dqm=DiscreteQuadraticModel()"
   ]
  },
  {
   "cell_type": "code",
   "execution_count": 6,
   "id": "56bbf61a",
   "metadata": {},
   "outputs": [],
   "source": [
    "for punto in range(len(puntos)):\n",
    "    dqm.add_variable(n_coches,label=punto)"
   ]
  },
  {
   "cell_type": "code",
   "execution_count": 8,
   "id": "64b2e92f",
   "metadata": {},
   "outputs": [],
   "source": [
    "# Cosntruimos la función objetivo\n",
    "for punto in range(len(puntos)):\n",
    "    #for coche in range(len(origenes)):\n",
    "    dqm.set_linear_case(punto,0,distances[punto,0])"
   ]
  },
  {
   "cell_type": "code",
   "execution_count": 9,
   "id": "dca9442e",
   "metadata": {},
   "outputs": [],
   "source": [
    "gamma = 20\n"
   ]
  },
  {
   "cell_type": "code",
   "execution_count": 10,
   "id": "272ea8f2",
   "metadata": {},
   "outputs": [],
   "source": [
    "for i in range(len(puntos)):\n",
    "    dqm.set_linear_case(i,0,gamma)\n",
    "    dqm.set_linear_case(i,1,gamma)\n",
    "    for j in range(i+1, len(puntos)):\n",
    "        dqm.set_quadratic_case(i,0,j,0,2*gamma)\n",
    "        dqm.set_quadratic_case(i,1,j,1,2*gamma)\n",
    "        dqm.set_quadratic_case(i,0,j,1,-2*gamma)\n",
    "        dqm.set_quadratic_case(i,1,j,0,-2*gamma)\n",
    "        "
   ]
  },
  {
   "cell_type": "code",
   "execution_count": 11,
   "id": "7b49e0bc",
   "metadata": {},
   "outputs": [],
   "source": [
    "sampler = LeapHybridDQMSampler()\n",
    "sampleset = sampler.sample_dqm(dqm, label='distribucion puntos coche')"
   ]
  },
  {
   "cell_type": "code",
   "execution_count": 12,
   "id": "1fe455ce",
   "metadata": {},
   "outputs": [
    {
     "data": {
      "text/plain": [
       "{0: 0, 1: 0, 2: 1, 3: 1, 4: 0, 5: 0, 6: 0, 7: 1, 8: 1, 9: 1, 10: 1, 11: 0}"
      ]
     },
     "execution_count": 12,
     "metadata": {},
     "output_type": "execute_result"
    }
   ],
   "source": [
    "sample = sampleset.first.sample\n",
    "sample"
   ]
  },
  {
   "cell_type": "code",
   "execution_count": null,
   "id": "e7c57a4e",
   "metadata": {},
   "outputs": [],
   "source": [
    "distances"
   ]
  },
  {
   "cell_type": "code",
   "execution_count": 13,
   "id": "015f2f3a",
   "metadata": {},
   "outputs": [
    {
     "data": {
      "text/plain": [
       "SampleSet(rec.array([([1, 1, 1, 0, 0, 0, 1, 0, 1, 0, 1, 0],   0., 1),\n",
       "           ([1, 1, 0, 1, 1, 0, 0, 0, 0, 1, 1, 0],   0., 1),\n",
       "           ([1, 0, 0, 1, 1, 0, 0, 1, 0, 1, 1, 0],   0., 1),\n",
       "           ([0, 0, 0, 0, 1, 1, 1, 1, 1, 0, 1, 0],   0., 1),\n",
       "           ([1, 0, 1, 1, 0, 1, 1, 0, 0, 0, 1, 0],   0., 1),\n",
       "           ([1, 0, 1, 0, 1, 1, 0, 0, 0, 1, 1, 0],   0., 1),\n",
       "           ([0, 1, 0, 0, 1, 1, 1, 0, 1, 0, 0, 1],   0., 1),\n",
       "           ([0, 0, 1, 0, 0, 0, 1, 1, 1, 1, 1, 0],   0., 1),\n",
       "           ([1, 1, 0, 0, 0, 1, 1, 0, 0, 1, 1, 0],   0., 1),\n",
       "           ([0, 0, 1, 1, 1, 0, 0, 1, 0, 1, 0, 1],   0., 1),\n",
       "           ([1, 1, 0, 0, 0, 0, 0, 0, 1, 1, 1, 1],   0., 1),\n",
       "           ([1, 0, 0, 1, 0, 1, 1, 0, 1, 0, 1, 0],   0., 1),\n",
       "           ([0, 0, 1, 0, 0, 1, 1, 0, 0, 1, 0, 0], 320., 1),\n",
       "           ([0, 1, 0, 0, 1, 1, 1, 0, 1, 1, 0, 0],   0., 1),\n",
       "           ([0, 1, 1, 1, 0, 1, 0, 0, 0, 1, 0, 0],  80., 1),\n",
       "           ([1, 0, 0, 1, 1, 1, 0, 1, 0, 1, 0, 0],   0., 1),\n",
       "           ([0, 1, 1, 1, 1, 0, 0, 1, 0, 0, 1, 1],  80., 1),\n",
       "           ([1, 0, 0, 0, 1, 0, 1, 1, 0, 1, 1, 0],   0., 1),\n",
       "           ([0, 0, 1, 0, 0, 1, 1, 0, 1, 1, 1, 0],   0., 1),\n",
       "           ([1, 1, 1, 1, 0, 0, 1, 1, 0, 0, 1, 1], 320., 1),\n",
       "           ([0, 1, 1, 0, 1, 1, 0, 1, 0, 0, 1, 1],  80., 1),\n",
       "           ([1, 1, 0, 1, 0, 0, 1, 0, 1, 0, 0, 0],  80., 1),\n",
       "           ([0, 1, 1, 0, 0, 1, 1, 0, 1, 1, 1, 0],  80., 1),\n",
       "           ([1, 1, 0, 0, 0, 1, 1, 1, 1, 0, 0, 1],  80., 1)],\n",
       "          dtype=[('sample', '<i4', (12,)), ('energy', '<f8'), ('num_occurrences', '<i8')]), Variables(range(0, 12)), {'qpu_access_time': 58469, 'charge_time': 5000000, 'run_time': 5053213, 'problem_id': '410aa80e-5a8f-4497-95c7-efd83f30e2b0', 'problem_label': 'distribucion puntos coche'}, 'INTEGER')"
      ]
     },
     "execution_count": 13,
     "metadata": {},
     "output_type": "execute_result"
    }
   ],
   "source": [
    "sampleset"
   ]
  },
  {
   "cell_type": "code",
   "execution_count": null,
   "id": "27956828",
   "metadata": {},
   "outputs": [],
   "source": []
  }
 ],
 "metadata": {
  "kernelspec": {
   "display_name": "Python 3 (ipykernel)",
   "language": "python",
   "name": "python3"
  },
  "language_info": {
   "codemirror_mode": {
    "name": "ipython",
    "version": 3
   },
   "file_extension": ".py",
   "mimetype": "text/x-python",
   "name": "python",
   "nbconvert_exporter": "python",
   "pygments_lexer": "ipython3",
   "version": "3.8.3"
  },
  "toc": {
   "base_numbering": 1,
   "nav_menu": {},
   "number_sections": true,
   "sideBar": true,
   "skip_h1_title": false,
   "title_cell": "Table of Contents",
   "title_sidebar": "Contents",
   "toc_cell": false,
   "toc_position": {},
   "toc_section_display": true,
   "toc_window_display": true
  },
  "varInspector": {
   "cols": {
    "lenName": 16,
    "lenType": 16,
    "lenVar": 40
   },
   "kernels_config": {
    "python": {
     "delete_cmd_postfix": "",
     "delete_cmd_prefix": "del ",
     "library": "var_list.py",
     "varRefreshCmd": "print(var_dic_list())"
    },
    "r": {
     "delete_cmd_postfix": ") ",
     "delete_cmd_prefix": "rm(",
     "library": "var_list.r",
     "varRefreshCmd": "cat(var_dic_list()) "
    }
   },
   "types_to_exclude": [
    "module",
    "function",
    "builtin_function_or_method",
    "instance",
    "_Feature"
   ],
   "window_display": false
  }
 },
 "nbformat": 4,
 "nbformat_minor": 5
}
