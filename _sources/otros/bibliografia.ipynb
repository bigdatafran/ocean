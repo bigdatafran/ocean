{
 "cells": [
  {
   "cell_type": "markdown",
   "metadata": {},
   "source": [
    "# Bibliografia.\n",
    "\n",
    "## Sitios web interesantes.\n",
    "\n",
    "\n",
    "* <a href=\"https://www.dwavesys.com/media/0ftjce4l/measuring-performance-of-the-leap-constrained-quadratic-model-solver.pdf\" target=\"_blank\"> Measuring Performance of the Leap Constrained Quadratic Model Solver </a>\n",
    "\n",
    "* <a href=\"https://www.dwavesys.com/learn/resource-library/\" target=\"blank\"> Librería recursos D-Wave </a>\n",
    "\n",
    "* <a href=\"https://www.dwavesys.com/\"  target=\"_blank\"> Sitio oficial D-Wave </a>\n",
    "\n",
    "* <a href=\"https://learn.dwavesys.com/catalog\" target=\"_blank\"> Cursos D-Wave Learn</a>\n",
    "\n",
    "* <a href=\"https://github.com/dwave-examples\" target=\"_blank\"> Ejemplos de código</a>\n",
    "\n",
    "* <a href=\"https://github.com/dwavesystems\" target=\"_blank\"> D-Wave Systems Inc.</a>"
   ]
  },
  {
   "cell_type": "code",
   "execution_count": null,
   "metadata": {},
   "outputs": [],
   "source": []
  }
 ],
 "metadata": {
  "kernelspec": {
   "display_name": "Python 3 (ipykernel)",
   "language": "python",
   "name": "python3"
  },
  "language_info": {
   "codemirror_mode": {
    "name": "ipython",
    "version": 3
   },
   "file_extension": ".py",
   "mimetype": "text/x-python",
   "name": "python",
   "nbconvert_exporter": "python",
   "pygments_lexer": "ipython3",
   "version": "3.8.3"
  },
  "toc": {
   "base_numbering": 1,
   "nav_menu": {},
   "number_sections": true,
   "sideBar": true,
   "skip_h1_title": false,
   "title_cell": "Table of Contents",
   "title_sidebar": "Contents",
   "toc_cell": false,
   "toc_position": {},
   "toc_section_display": true,
   "toc_window_display": true
  },
  "varInspector": {
   "cols": {
    "lenName": 16,
    "lenType": 16,
    "lenVar": 40
   },
   "kernels_config": {
    "python": {
     "delete_cmd_postfix": "",
     "delete_cmd_prefix": "del ",
     "library": "var_list.py",
     "varRefreshCmd": "print(var_dic_list())"
    },
    "r": {
     "delete_cmd_postfix": ") ",
     "delete_cmd_prefix": "rm(",
     "library": "var_list.r",
     "varRefreshCmd": "cat(var_dic_list()) "
    }
   },
   "types_to_exclude": [
    "module",
    "function",
    "builtin_function_or_method",
    "instance",
    "_Feature"
   ],
   "window_display": false
  }
 },
 "nbformat": 4,
 "nbformat_minor": 4
}
