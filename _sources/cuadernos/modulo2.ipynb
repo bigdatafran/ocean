{
 "cells": [
  {
   "cell_type": "markdown",
   "id": "dd9a2883",
   "metadata": {},
   "source": [
    "# Introducción a Ocean.\n",
    "\n",
    "```{index} solvers Ocean, samplers, solvers, QPU\n",
    "```\n",
    "\n",
    "En este apartado vamos a hacer una introducción a Ocean SDK, que es el lenguaje para poder implementar código que formalice los problemas de optimización con los que nos enfrentamos. \n",
    "\n",
    "Para una correcta instalación de este sofware se recomienda seguir los pasos que se pueden encontrar <a href=\"https://docs.ocean.dwavesys.com/en/latest/overview/install.html\" target=\"_blank\"> en esta guía de instalación</a>.\n",
    "\n",
    "Igualmente para comenzar a familiarizarse con estas herramientas, se recomienda <a href=\"https://www.dwavesys.com/media/fmtj2fw3/20210920_ofbguide.pdf\"> consultar este enlace </a>. Igualmente toda la documentación oficial de Ocean se puede <a href=\"https://docs.ocean.dwavesys.com/en/stable/\" target=\"_blank\"> consultar igualmente en esta dirección web </a>\n",
    "\n",
    "Para encontrar el estado de energía mínima para un modelo cuadrático(en adelante QM) (la asignación de valores variables que nos da el valor mínimo de energía para nuestro QM), el Ocean SDK proporciona *samplers* y *solvers*. \n",
    "\n",
    "Un **solver** es un recurso que ejecuta un problema. Los **samplers** son procesos que ejecutan un problema muchas veces para obtener una colección de muestras, cada una de las cuales es una posible solución a nuestro problema. Por comodidad nos referiremos generalmente a los samplers de Ocean como un todo, para incluir también a los solvers.\n",
    "\n",
    "Una vez que se tiene definido un problema QUBO y un modelo de tipo binary quadratic model (BQM), necesitamos conocer cómo podemos submitir nuestro programa en el computador cuántico. Entonces para poder enviar nuestros programas al QPU (quantum processing unit), necesitamos utilizar Ocean SDK, que es un paquete para utilizar desde python y que además es de tipo open-source. \n",
    "\n",
    "En la siguiente figura se muestra un esquema de la pila de software de Ocean\n",
    "\n",
    "En la parte inferior están los recursos informáticos con los que puede interactuar al usuario. D-Wave  proporciona acceso a su QPU  y también se puede tener recursos adicionales como CPUs, GPUs. \n",
    "\n",
    "![](img/oceanSDK.PNG)\n",
    "\n",
    "Por encima de los recursos informáticos tenemos los samplers y solvers. Estos son  los diferentes algoritmos y herramientas disponibles para resolver un problema por parte de usuario final.\n",
    "\n",
    "Algunos de los samplers interactúan con los recursos cuánticos, como la API de D-Wave interactúa con la QPU. \n",
    ". Otros son sampllers clásicos como el recocido simulado  en hardware clásico, y otros son híbridos, como el Hybrid Solver Service. \n",
    "\n",
    "Para algunos dominios de problemas especiales, como la teoría de grafos o la satisfacción de restricciones \n",
    "D-Wave dispone de paquetes especializados. La capa verde de paquetes en la parte superior, son paquetes de clientes individuales escritos para sus aplicaciones específicas.  En aplicaciones concretas , es probable que el usuario construya sus propios paquetes y  pipelines que se asientan sobre el Kit de Desarrollo de Software Ocean, o SDK.\n",
    "\n",
    "Dentro del SDK de Ocean hay muchos paquetes diferentes disponibles para los usuario. <a href=\"https://docs.ocean.dwavesys.com/en/stable/\" target=\"_blank\"> En este enlace se pueden ver los paquetes disponibles</a>, cada uno de los cuales tiene una función diferente. \n",
    "\n",
    "Asi por ejemplo , *dwave-cloud-client* se llama cada vez que se  envía un problema al sistema de D-Wave en \n",
    "la nube, y el paquete   *minorminer* se utiliza para averiguar dónde y cómo mapear el problema del usuario\n",
    "en el chip físico. Cada paquete tiene una función diferente, y todos ellos trabajan juntos para ejecutar tu problema.\n",
    "\n",
    "Para trabajar con estos métodos, lo primero que hay que hacer es mapear el problema a resolver a un modelo binario de tipo QUBO. Una vez se tenga bien definido el problema QUBO, las herramientas de software de D-wave construirán las herramientas de la máquina cuántica adecuadas o QMI, entendiendo por este último concepto, el conjunto de instrucciones utilizadas para asignar el problema al chip a nivel de hardware, siendo el SDK de Ocean el encargado de hacer este tipo de trabajo totalmente trasparente al usuario final.\n",
    "\n",
    "Básicamente los pasos a seguir en estos problemas son los siguientes:\n",
    "\n",
    "* Trasladar el problema a una expresión matemática de variables binarias\n",
    "\n",
    "* Definir la función objetivo y las restricciones correspondientes.\n",
    "\n",
    "* Construir el BQM\n",
    "\n",
    "* Enviar el problema BQM al solver\n",
    "\n",
    "* Post-procesamiento e interpretación de los resultados.\n",
    "\n",
    "Cuando se está programando este tipo de problemas, una de las primeras decisiones que hay que tomar es el tipo de *sampler* que se utilizará para resolver el problema. En este entorno de programación son cuatro los samplers que normalmente se utilizan:\n",
    "\n",
    "![](img/samplers.PNG)\n",
    "\n",
    "A continuación y a modo de introducción, se muestra un ejemplo de cómo utilizar uno de estos sampler"
   ]
  },
  {
   "cell_type": "code",
   "execution_count": 26,
   "id": "686d3580",
   "metadata": {},
   "outputs": [],
   "source": [
    "from dimod import Sampler"
   ]
  },
  {
   "cell_type": "code",
   "execution_count": 27,
   "id": "609e7780",
   "metadata": {},
   "outputs": [],
   "source": [
    "# Si queremos obtener información de este sampler\n",
    "\n",
    "Sampler?"
   ]
  },
  {
   "cell_type": "markdown",
   "id": "4ea96856",
   "metadata": {},
   "source": [
    "Ahora procedemos a implementar el código necesario "
   ]
  },
  {
   "cell_type": "code",
   "execution_count": 28,
   "id": "10c42964",
   "metadata": {},
   "outputs": [
    {
     "data": {
      "image/png": "[encoded data removed]",
      "text/plain": [
       "<Figure size 432x288 with 1 Axes>"
      ]
     },
     "metadata": {},
     "output_type": "display_data"
    }
   ],
   "source": [
    "from dimod import BinaryQuadraticModel, to_networkx_graph\n",
    "# definimos los valores de la matriz del BQM\n",
    "bqm = BinaryQuadraticModel('SPIN')\n",
    "bqm.add_variable(0, -1)\n",
    "bqm.add_variable(1, -1)\n",
    "bqm.add_variable(4, -1)\n",
    "bqm.add_variable(5, -1)\n",
    "# bqm.add_variable(6,-1) # lo añadí yo de prueba\n",
    "bqm.add_interaction(0, 4, 1.0)\n",
    "bqm.add_interaction(0, 5, 1.0)\n",
    "bqm.add_interaction(1, 4, 1.0)\n",
    "bqm.add_interaction(1, 5, 1.0)\n",
    "# bqm.add_interaction(0, 1, 1.0) # lo añadí so de prueba\n",
    "\n",
    "\n",
    "import networkx as nx\n",
    "\n",
    "nx.draw(to_networkx_graph(bqm))"
   ]
  },
  {
   "cell_type": "markdown",
   "id": "75e35a69",
   "metadata": {},
   "source": [
    "## Exacsolver.\n",
    "\n",
    "```{index} Exacsolver\n",
    "```\n",
    "\n",
    "Este módulo está desarrollado principalmente para depuración de código, ya que puede resolver problemas con hasta 20 variable, aunque este número depende del sistema con el que se trabaje. \n",
    "\n",
    "Entonces utilizamos este solver para que nos resuelva el problema anterior"
   ]
  },
  {
   "cell_type": "code",
   "execution_count": 29,
   "id": "7fffb03b",
   "metadata": {},
   "outputs": [
    {
     "name": "stdout",
     "output_type": "stream",
     "text": [
      "   0  1  4  5 energy num_oc.\n",
      "0 +1 +1 -1 -1   -4.0       1\n",
      "1 -1 -1 +1 +1   -4.0       1\n",
      "2 +1 +1 +1 -1   -2.0       1\n",
      "3 +1 -1 +1 +1   -2.0       1\n",
      "4 -1 +1 +1 +1   -2.0       1\n",
      "5 +1 +1 -1 +1   -2.0       1\n",
      "6 -1 +1 +1 -1    0.0       1\n",
      "7 +1 -1 +1 -1    0.0       1\n",
      "8 +1 +1 +1 +1    0.0       1\n",
      "9 -1 +1 -1 +1    0.0       1\n",
      "['SPIN', 10 rows, 10 samples, 4 variables]\n"
     ]
    }
   ],
   "source": [
    "from dimod import ExactSolver\n",
    "\n",
    "solver = ExactSolver()\n",
    "response = solver.sample(bqm)\n",
    "print(response.truncate(10))"
   ]
  },
  {
   "cell_type": "markdown",
   "id": "28115536",
   "metadata": {},
   "source": [
    "## Definiendo los valores de un Qubo.\n",
    "\n",
    "Para introducir los valores de un programa de tipo QUBO, podemos utilizar por ejemplo un diccionario de Python o también un *defaultDictionary*. Para ver esto, supongamos que queremos crear la siguiente expresión:\n",
    "\n",
    "$$x+5y+8xy$$\n",
    "\n",
    "Entonces la matriz que debemos crear sería la siguiente:\n",
    "\n",
    "$$\\left[\\begin{array}{cc}\n",
    "1 & 8\\\\\n",
    " & 5\n",
    "\\end{array}\\right]$$\n",
    "\n",
    "Esto lo definiríamos con código python de la siguiente manera"
   ]
  },
  {
   "cell_type": "code",
   "execution_count": 30,
   "id": "f312d92a",
   "metadata": {},
   "outputs": [],
   "source": [
    "from collections import defaultdict\n",
    "\n",
    "# Q={}  #Esta puede ser una manera\n",
    "# La otra forma pudiera ser\n",
    "Q = defaultdict()\n",
    "\n",
    "Q[('x','x')]=1\n",
    "Q[('y','y')]=5\n",
    "Q[('x','y')]=8"
   ]
  },
  {
   "cell_type": "markdown",
   "id": "f830ec7b",
   "metadata": {},
   "source": [
    "En el ejemplo anterior, estamos utilizando los nombres o índices de fila y columna de nuestra matriz QUBO \n",
    "como claves de nuestro diccionario. Las claves son los elementos entre paréntesis, como ('x', 'x') o ('x', \n",
    "'y'), que indican qué coeficiente estamos asignando en nuestra ecuación.\n",
    "\n",
    "Las claves son cadenas o números enteros. Aquí vemos coeficientes lineales asignados a las variables \n",
    "x e y, así como un coeficiente cuadrático en el término x por y. El valor en nuestro diccionario, como los números 1, 5 y 8, son los coeficientes en nuestra ecuación QUBO.\n",
    "\n",
    "Otra manera de agregar esta información es utilizando la clase *BinaryQuadraticModel* (que por otra parta es la que se ha utilizado en un código reciente de este capítulo). Veamos cómo utilizamos esto."
   ]
  },
  {
   "cell_type": "code",
   "execution_count": 31,
   "id": "30a13953",
   "metadata": {},
   "outputs": [],
   "source": [
    "from dimod import BinaryQuadraticModel\n",
    "\n",
    "bqm = BinaryQuadraticModel('BINARY')\n",
    "\n",
    "bqm.add_variables_from([('x',1),('y',5)])\n",
    "bqm.add_interactions_from([('x','y',8)])"
   ]
  },
  {
   "cell_type": "markdown",
   "id": "9d19e816",
   "metadata": {},
   "source": [
    "Como vemos, podemos construir nuestra ecuación de forma similar a como vimos en código inmediatamente anterior,  asignando coeficientes lineales y coeficientes cuadráticos directamente usando las funciones \n",
    "*add_variables_from* y *add_interactions_from*, respectivamente.\n",
    "\n",
    "Pero  también hay otra opción, dar la ecuación directamente al modelo cuadrático binario. Esto permitirá\n",
    "construir la misma estructura de datos que si hubiéramos asignado directamente los coeficientes lineales y cuadráticos individualmente. Todos estos métodos producen el mismo BQM para la ecuación ecuación $x+5y+8xy$. \n",
    "\n",
    "El código para este último caso sería el siguiente"
   ]
  },
  {
   "cell_type": "code",
   "execution_count": 32,
   "id": "814e1329",
   "metadata": {},
   "outputs": [],
   "source": [
    "from dimod import Binary"
   ]
  },
  {
   "cell_type": "code",
   "execution_count": 33,
   "id": "cf60f243",
   "metadata": {},
   "outputs": [],
   "source": [
    "x = Binary('x')\n",
    "y= Binary('y')\n",
    "bqm=x+5*y+8*x*y"
   ]
  },
  {
   "cell_type": "markdown",
   "id": "a6465835",
   "metadata": {},
   "source": [
    "Después quedaría enviar nuestro problema a la resolución del SDK de Ocean. Para ello tenemos dos opciones"
   ]
  },
  {
   "cell_type": "code",
   "execution_count": 38,
   "id": "f8214c0c",
   "metadata": {},
   "outputs": [],
   "source": [
    "from dimod import Sampler\n",
    "\n",
    "# Mediante QUBO\n",
    "sampleset = ExactSolver().sample_qubo( Q)\n"
   ]
  },
  {
   "cell_type": "code",
   "execution_count": 37,
   "id": "a094be22",
   "metadata": {},
   "outputs": [],
   "source": [
    "# Mediante BQM\n",
    "\n",
    "sampleset = ExactSolver().sample(bqm)"
   ]
  },
  {
   "cell_type": "markdown",
   "id": "b473cd0b",
   "metadata": {},
   "source": [
    "Veamos a continuación cómo utilizar diferentes solvers para resolver el programa QUBO que hemos desarrollado anteriormente.\n"
   ]
  },
  {
   "cell_type": "markdown",
   "id": "07d96d5b",
   "metadata": {},
   "source": [
    "## Simulated Annealing\n",
    "\n",
    "* Históricamente ha sido la principal referencia frente al QPU debido a la similitud de los principios subyacentes.\n",
    "\n",
    "* Puede ser un buen solver/sampler para problemas pequeños\n",
    "\n",
    "* Una buena herramienta para procesos de depuración\n",
    "\n",
    "* Puede ser lento para problemas grandes y densos"
   ]
  },
  {
   "cell_type": "code",
   "execution_count": 22,
   "id": "cdcfa9fc",
   "metadata": {},
   "outputs": [],
   "source": [
    "from neal import SimulatedAnnealingSampler\n",
    "\n",
    "from dimod import BinaryQuadraticModel, to_networkx_graph\n",
    "# definimos los valores de la matriz del BQM\n",
    "bqm = BinaryQuadraticModel('SPIN')\n",
    "bqm.add_variable(0, -1)\n",
    "bqm.add_variable(1, -1)\n",
    "bqm.add_variable(4, -1)\n",
    "bqm.add_variable(5, -1)\n",
    "# bqm.add_variable(6,-1) # lo añadí yo de prueba\n",
    "bqm.add_interaction(0, 4, 1.0)\n",
    "bqm.add_interaction(0, 5, 1.0)\n",
    "bqm.add_interaction(1, 4, 1.0)\n",
    "bqm.add_interaction(1, 5, 1.0)\n",
    "\n",
    "\n",
    "solver = SimulatedAnnealingSampler()\n",
    "\n",
    "response = solver.sample(bqm, num_reads=10,\n",
    "                          num_sweeps=1000,\n",
    "                          initial_states=None,\n",
    "                          beta_range=[10, 100])"
   ]
  },
  {
   "cell_type": "code",
   "execution_count": null,
   "id": "0f288d2d",
   "metadata": {},
   "outputs": [],
   "source": [
    "print(response)"
   ]
  },
  {
   "cell_type": "code",
   "execution_count": null,
   "id": "65b264f7",
   "metadata": {},
   "outputs": [],
   "source": [
    "# Aquí se pueden ver los parámetros que acepta\n",
    "sampler.sample?"
   ]
  },
  {
   "cell_type": "markdown",
   "id": "66fc5e80",
   "metadata": {},
   "source": [
    "## DWaveSampler"
   ]
  },
  {
   "cell_type": "code",
   "execution_count": null,
   "id": "1603fbe2",
   "metadata": {},
   "outputs": [],
   "source": [
    "from dwave.system import DWaveSampler\n",
    "\n",
    "sampler = DWaveSampler(solver=dict(topology__type='chimera'))\n",
    "\n",
    "response = sampler.sample(\n",
    "    bqm, num_reads=10,\n",
    "    annealing_time=10,\n",
    "    auto_scale=False,\n",
    "    answer_mode='raw',\n",
    "    label='Prueba_DWaveSampler'\n",
    "    )\n",
    "print(response)"
   ]
  },
  {
   "cell_type": "markdown",
   "id": "dddccc83",
   "metadata": {},
   "source": [
    "## LeapHybridSampler\n",
    "\n",
    "* El solver más flexible\n",
    "\n",
    "* Puede resolver problemas grandes y densos de forma eficiente utilizando recursos clásicos y cuánticos.\n",
    "\n",
    "* 20000 variables fuly connected\n",
    "\n",
    "* 1 millón de variables con al menos 200M biases\n",
    "\n",
    "* Sólo un parámetro - límite de tiempo (el límite de tiempo mínimo se elige por defecto)\n",
    "\n"
   ]
  },
  {
   "cell_type": "code",
   "execution_count": null,
   "id": "0321d16f",
   "metadata": {},
   "outputs": [],
   "source": [
    "from dwave.system import LeapHybridSampler\n",
    "\n",
    "sampler = LeapHybridSampler()\n",
    "print(\"Propiedades de este Sampler:\\n\")\n",
    "print(sampler.properties)\n",
    "\n",
    "response = sampler.sample(\n",
    "    bqm, time_limit=3,\n",
    "    label = \"Prueba con LeapHybridSampler\"\n",
    "    )\n",
    "print(\"\\nla respuesta es la siguiente.\\n\")\n",
    "print(response)"
   ]
  },
  {
   "cell_type": "markdown",
   "id": "bc737ced",
   "metadata": {},
   "source": [
    "## Problema de las antenas.\n",
    "\n",
    "En este caso tenemos la siguiente información.\n",
    "\n",
    "* Conjunto de posibles localización de las antenas\n",
    "\n",
    "* Información de qué localización interfiere con la otra\n",
    "\n",
    "Deseamos buscar los puntos de ubicación de las antenas de manera que no hay interferencias entre ellas.\n",
    "\n",
    "En el siguiente gráfico podemos ver las posibles interferencias entre estas antenas\n",
    "\n",
    "![](img/antenas.PNG)"
   ]
  },
  {
   "cell_type": "markdown",
   "id": "558b5d26",
   "metadata": {},
   "source": [
    "Empezamos con un conjunto de posibles ubicaciones de las antenas. Los números azules oscuros son todas \n",
    "posiciones donde posiblemente podríamos construir una antena. Queremos elegir ubicaciones para \n",
    "antenas para que no interfieran entre sí.  \n",
    "\n",
    "Si las antenas están demasiado cerca  pueden interferir entre sí. Estos círculos más claros y sombreados \n",
    "representan la interferencia para cada ubicación.  \n",
    "\n",
    "Si dos de estos círculos sombreados se superponen, entonces, si construyéramos antenas en ambas ubicaciones, tendríamos interferencias. En \n",
    "este ejemplo, las ubicaciones uno y dos tienen zonas de interferencia superpuestas, por lo que esas  antenas interferirían entre sí, lo que no queremos.\n",
    "\n",
    "Lo primero que debemos hacer  es convertir este problema en un gráfico, para que podamos visualizar lo que está pasando. \n",
    "Tomamos cada lugar, cada uno de estos círculos numerados en azul oscuro... un nodo en nuestro gráfico. \n",
    "\n",
    "Si dos de las ubicaciones tienen sus círculos claros superpuestos, o si las dos ubicaciones interfieren entre sí... \n",
    "entre ellas. De esta manera podemos pasar el problema del mundo real al del dominio del problema y el mapa en un problema gráfico. Esto nos ayudará a ver lo que está pasando un poco más fácil.\n",
    "\n",
    "![](img/antenas2.PNG)"
   ]
  },
  {
   "cell_type": "markdown",
   "id": "173a0e91",
   "metadata": {},
   "source": [
    "Al convertirlo en un problema de grafos, pasamos de buscar \"dónde construimos las antenas\" a \"cuál es el mejor subconjunto\". Recuerde que la interferencia se asigna a los bordes, por lo que la no interferencia se asigna a ningún borde.\n",
    "\n",
    "En el problema del grafo significa que buscamos un subconjunto de nodos sin aristas entre ellos.Esto es lo que se llama un conjunto independiente. Este es un problema conocido en teoría de grafos que tiene muchas aplicaciones y variaciones en el mundo real. Este caso cae en la clase de problemas NP-completos o NP-duros que pueden ser muy difíciles de ejecutar... \n",
    "para los ordenadores clásicos.\n",
    "\n",
    "En este ejemplo, podríamos haber construido un QUBO para nuestro problema. Pero,en algunos de estos casos es bueno ver si ya hay ya desarrollada una herramienta o algoritmo allí para su resolución. Si la hay, entonces se puede simplemente ejecutar las herramientas existentes. Puede ahorrarse algo de trabajo si ya existe una herramienta de algoritmo QUBO para resolver algún tipo de  problema. Eche un vistazo a los paquetes especializados en Ocean y vea qué hay allí y si puede hacer que funcione para su problema antes de empezar desde cero. \n",
    "\n",
    "En este caso ya existe una herramienta diseñada para resolver este tipo de problemas como vamos a ver a continuación."
   ]
  },
  {
   "cell_type": "code",
   "execution_count": 23,
   "id": "ad4b1a7d",
   "metadata": {},
   "outputs": [],
   "source": [
    "# Import networkx for graph tools\n",
    "import networkx as nx\n",
    "\n",
    "# Import dwave_networkx for d-wave graph tools/functions\n",
    "import dwave_networkx as dnx\n",
    "\n",
    "# Import matplotlib.pyplot to draw graphs on screen\n",
    "import matplotlib\n",
    "matplotlib.use(\"tkAgg\")\n",
    "import matplotlib.pyplot as plt\n",
    "\n",
    "\n",
    "\n",
    "# Set the solver we're going to use\n",
    "from dwave.system.samplers import DWaveSampler\n",
    "from dwave.system.composites import EmbeddingComposite"
   ]
  },
  {
   "cell_type": "code",
   "execution_count": 24,
   "id": "f0704513",
   "metadata": {},
   "outputs": [
    {
     "name": "stdout",
     "output_type": "stream",
     "text": [
      "Maximum independent set size found is 3\n",
      "[2, 5, 7]\n"
     ]
    }
   ],
   "source": [
    "# Creamos el sampler\n",
    "sampler = EmbeddingComposite(DWaveSampler())\n",
    "\n",
    "# Create empty graph\n",
    "G = nx.Graph()\n",
    "\n",
    "# Añadimos arcos (edges) al gráfico (lo cual añadirá también nodos), siguiendo el diseño\n",
    "#del gráfico mostrado anteriormente\n",
    "G.add_edges_from([(1, 2), (1, 3), (2, 3), (3, 4), (3, 5), (4, 5), (4, 6), (5, 6), (6, 7)])\n",
    "\n",
    "# Find the maximum independent set, \n",
    "# maximum_independent_set es un ejemplo de lo ya implementado en Ocean\n",
    "S = dnx.maximum_independent_set(G, sampler=sampler, num_reads=10, label='Example - Antenna Selection')\n",
    "\n",
    "# Print the solution for the user\n",
    "print('Maximum independent set size found is', len(S))\n",
    "print(S)"
   ]
  },
  {
   "cell_type": "markdown",
   "id": "84647ec1",
   "metadata": {},
   "source": [
    "El código anterior es  un ejemplo de cómo podría ser ese programa. Primero importamos los paquetes  y definimos nuestro muestreador.  Estamos usando EmbeddingComposite con DWaveSampler en este ejemplo para ejecutar nuestro problema en el ordenador cuántico.\n",
    "\n",
    "Definimos nuestro grafo usando el paquete NetworkX que es un paquete realmente bueno para problemas de grafos.\n",
    "\n",
    "Definimos un grafo vacío (esa es la primera línea nx.graph()) y luego construimos el grafo añadiendo aristas entre los nodos. A medida que añadimos estas aristas,también se van añadiendo los nodos que que aún no existan.\n",
    "\n",
    "Veamos ahora la  línea: *S = dnx.maximum_independent_set(G, sampler=sampler, num_reads=10, label='Example - Antenna Selection')*\n",
    "\n",
    "Aquí es donde está todo lo bueno. Aquí es donde el software está definiendo el QUBO, enviándolo al muestreador que hemos \n",
    "definido."
   ]
  },
  {
   "cell_type": "code",
   "execution_count": 30,
   "id": "7804325b",
   "metadata": {},
   "outputs": [
    {
     "data": {
      "image/png": "[encoded data removed]",
      "text/plain": [
       "<Figure size 432x288 with 1 Axes>"
      ]
     },
     "metadata": {},
     "output_type": "display_data"
    }
   ],
   "source": [
    "# visualizamos el diagrama\n",
    "nx.draw(G)\n",
    "plt.show()"
   ]
  },
  {
   "cell_type": "markdown",
   "id": "145d9b8a",
   "metadata": {},
   "source": [
    "Al ejecutar el programa, la respuesta que devolvió fue 2, 5 y 7. Cuando traducimos de nuevo a las antenas problema que nos \n",
    "comenzó con, esto nos dice que queremos construir nuestras antenas en los lugares 2, 5 y 7. Hay que  en cuenta que esto es sólo una posible solución."
   ]
  },
  {
   "cell_type": "code",
   "execution_count": 31,
   "id": "04b23450",
   "metadata": {},
   "outputs": [
    {
     "data": {
      "text/plain": [
       "<Figure size 432x288 with 0 Axes>"
      ]
     },
     "execution_count": 31,
     "metadata": {},
     "output_type": "execute_result"
    },
    {
     "data": {
      "text/plain": [
       "<Figure size 432x288 with 0 Axes>"
      ]
     },
     "metadata": {},
     "output_type": "display_data"
    }
   ],
   "source": [
    "# Visualize the results\n",
    "k = G.subgraph(S)\n",
    "notS = list(set(G.nodes()) - set(S))\n",
    "othersubgraph = G.subgraph(notS)\n",
    "pos = nx.spring_layout(G)\n",
    "plt.figure()"
   ]
  },
  {
   "cell_type": "code",
   "execution_count": 32,
   "id": "b4778b30",
   "metadata": {},
   "outputs": [
    {
     "data": {
      "image/png": "[encoded data removed]",
      "text/plain": [
       "<Figure size 432x288 with 1 Axes>"
      ]
     },
     "metadata": {},
     "output_type": "display_data"
    }
   ],
   "source": [
    "# Save original problem graph\n",
    "original_name = \"antenna_plot_original.png\"\n",
    "nx.draw_networkx(G, pos=pos, with_labels=True)\n",
    "#plt.savefig(original_name, bbox_inches='tight')\n",
    "plt.show()"
   ]
  },
  {
   "cell_type": "code",
   "execution_count": 33,
   "id": "3649b709",
   "metadata": {},
   "outputs": [
    {
     "data": {
      "image/png": "[encoded data removed]",
      "text/plain": [
       "<Figure size 432x288 with 1 Axes>"
      ]
     },
     "metadata": {},
     "output_type": "display_data"
    }
   ],
   "source": [
    "# Save solution graph\n",
    "# Note: red nodes are in the set, blue nodes are not\n",
    "solution_name = \"antenna_plot_solution.png\"\n",
    "nx.draw_networkx(k, pos=pos, with_labels=True, node_color='r', font_color='k')\n",
    "nx.draw_networkx(othersubgraph, pos=pos, with_labels=True, node_color='b', font_color='w')\n",
    "#plt.savefig(solution_name, bbox_inches='tight')\n",
    "plt.show()"
   ]
  },
  {
   "cell_type": "markdown",
   "id": "794403fd",
   "metadata": {},
   "source": [
    "# Minimum Vertex Cover\n",
    "\n",
    "\n",
    "En teoría de grafos, se denomina *Vertex Cover* (o cobertura de vértices) a un conjunto de vértices V tales que cada arista del grafo G es incidente al menos a un vértice del conjunto V. \n",
    "\n",
    "Al problema de encontrar la menor cobertura de vértices en un grafo se denomina *problema de la cobertura de vértices*\n",
    "\n",
    "En el grafo que se puede ver en la siguiente imagen, los vértices de color rojo formarían este conjunto de vértices denominado vertex cover.\n",
    "\n",
    "![vertex cover](img/vertexcober.PNG)\n",
    "\n",
    "A continuación vamos a mostrar un grafo, en el que se ha añadido las etiquetas de los nodos\n"
   ]
  },
  {
   "cell_type": "code",
   "execution_count": 50,
   "id": "4f0f53e6",
   "metadata": {},
   "outputs": [],
   "source": [
    "import networkx as nx\n",
    "s5 = nx.star_graph(4)"
   ]
  },
  {
   "cell_type": "code",
   "execution_count": 51,
   "id": "05cb1062",
   "metadata": {},
   "outputs": [
    {
     "data": {
      "image/png": "[encoded data removed]",
      "text/plain": [
       "<Figure size 432x288 with 1 Axes>"
      ]
     },
     "metadata": {},
     "output_type": "display_data"
    }
   ],
   "source": [
    "nx.draw(s5, with_labels = True)"
   ]
  },
  {
   "cell_type": "markdown",
   "id": "4455e46f",
   "metadata": {},
   "source": [
    "En este sencillo ejemplo un vertex cover mínimo claramente estaría formado por el nodo marcado con etiqueta 0, pero veamos cómo podríamos detectar este nodo de forma fácil con las herramientas que nos proporciona ocean.\n",
    "\n",
    "Primero definimos el solver que vamos a utilizar"
   ]
  },
  {
   "cell_type": "code",
   "execution_count": 52,
   "id": "cab6ed46",
   "metadata": {},
   "outputs": [],
   "source": [
    "from dimod.reference.samplers import ExactSolver\n",
    "sampler = ExactSolver()"
   ]
  },
  {
   "cell_type": "markdown",
   "id": "a8a06731",
   "metadata": {},
   "source": [
    "a continuación utilizamos el paquete denominado *dwave-networks* y ejecutamos el siguiente código"
   ]
  },
  {
   "cell_type": "code",
   "execution_count": 53,
   "id": "58c7e5ab",
   "metadata": {},
   "outputs": [
    {
     "name": "stdout",
     "output_type": "stream",
     "text": [
      "[0]\n"
     ]
    }
   ],
   "source": [
    "import dwave_networkx as dnx\n",
    "print(dnx.min_vertex_cover(s5, sampler))"
   ]
  },
  {
   "cell_type": "markdown",
   "id": "fb0bbf3e",
   "metadata": {},
   "source": [
    "Podemos cambiar el solver, para enviar a los ordenadores de Dwave la ejecución del problema"
   ]
  },
  {
   "cell_type": "code",
   "execution_count": 54,
   "id": "330c67ec",
   "metadata": {},
   "outputs": [
    {
     "name": "stdout",
     "output_type": "stream",
     "text": [
      "[0]\n"
     ]
    }
   ],
   "source": [
    "from dwave.system import DWaveSampler, EmbeddingComposite\n",
    "sampler = EmbeddingComposite(DWaveSampler())\n",
    "print(dnx.min_vertex_cover(s5, sampler))"
   ]
  },
  {
   "cell_type": "markdown",
   "id": "e5307640",
   "metadata": {},
   "source": [
    "Resolvamos ahora el mismo problema pero con un grafo diferente."
   ]
  },
  {
   "cell_type": "code",
   "execution_count": 55,
   "id": "91ec0a46",
   "metadata": {},
   "outputs": [
    {
     "data": {
      "image/png": "[encoded data removed]",
      "text/plain": [
       "<Figure size 432x288 with 1 Axes>"
      ]
     },
     "metadata": {},
     "output_type": "display_data"
    }
   ],
   "source": [
    "w5 = nx.wheel_graph(5)\n",
    "nx.draw(w5, with_labels = True) "
   ]
  },
  {
   "cell_type": "markdown",
   "id": "3829a9af",
   "metadata": {},
   "source": [
    "Resolvemos ahora el problema de encontrar la cobertura de vértices mínima "
   ]
  },
  {
   "cell_type": "code",
   "execution_count": 56,
   "id": "497e2086",
   "metadata": {},
   "outputs": [
    {
     "name": "stdout",
     "output_type": "stream",
     "text": [
      "[0, 2, 4]\n"
     ]
    }
   ],
   "source": [
    "print(dnx.min_vertex_cover(w5, sampler)) "
   ]
  },
  {
   "cell_type": "markdown",
   "id": "d5236beb",
   "metadata": {},
   "source": [
    "Observar que en este ejemplo, la solución al problema planteado no es única, pues por ejemplo, también se puede encontrar otra solución diferente, las cuales se pueden encontrar ejecutando varias veces el código anterior."
   ]
  },
  {
   "cell_type": "code",
   "execution_count": 57,
   "id": "83d45b60",
   "metadata": {},
   "outputs": [
    {
     "name": "stdout",
     "output_type": "stream",
     "text": [
      "[0, 2, 4]\n"
     ]
    }
   ],
   "source": [
    "print(dnx.min_vertex_cover(w5, sampler)) "
   ]
  },
  {
   "cell_type": "markdown",
   "id": "953fc1c9",
   "metadata": {},
   "source": [
    "Lo podemos hacer con 10 nodos"
   ]
  },
  {
   "cell_type": "code",
   "execution_count": 58,
   "id": "004fe9a9",
   "metadata": {},
   "outputs": [
    {
     "data": {
      "image/png": "[encoded data removed]",
      "text/plain": [
       "<Figure size 432x288 with 1 Axes>"
      ]
     },
     "metadata": {},
     "output_type": "display_data"
    }
   ],
   "source": [
    "c5 = nx.circular_ladder_graph(5)\n",
    "nx.draw(c5, with_labels = True) "
   ]
  },
  {
   "cell_type": "markdown",
   "id": "7aaeaa0e",
   "metadata": {},
   "source": [
    "Y una solución de mínimo vertex cover podría ser la siguiente"
   ]
  },
  {
   "cell_type": "code",
   "execution_count": 61,
   "id": "9b84e4b3",
   "metadata": {},
   "outputs": [
    {
     "name": "stdout",
     "output_type": "stream",
     "text": [
      "[1, 3, 4, 5, 7, 8]\n"
     ]
    }
   ],
   "source": [
    "sampler = ExactSolver()\n",
    "print(dnx.min_vertex_cover(c5, sampler)) "
   ]
  },
  {
   "cell_type": "code",
   "execution_count": null,
   "id": "b730d349",
   "metadata": {},
   "outputs": [],
   "source": []
  }
 ],
 "metadata": {
  "kernelspec": {
   "display_name": "Python 3 (ipykernel)",
   "language": "python",
   "name": "python3"
  },
  "language_info": {
   "codemirror_mode": {
    "name": "ipython",
    "version": 3
   },
   "file_extension": ".py",
   "mimetype": "text/x-python",
   "name": "python",
   "nbconvert_exporter": "python",
   "pygments_lexer": "ipython3",
   "version": "3.7.6"
  },
  "toc": {
   "base_numbering": 1,
   "nav_menu": {},
   "number_sections": true,
   "sideBar": true,
   "skip_h1_title": false,
   "title_cell": "Table of Contents",
   "title_sidebar": "Contents",
   "toc_cell": false,
   "toc_position": {
    "height": "calc(100% - 180px)",
    "left": "10px",
    "top": "150px",
    "width": "165px"
   },
   "toc_section_display": true,
   "toc_window_display": false
  },
  "varInspector": {
   "cols": {
    "lenName": 16,
    "lenType": 16,
    "lenVar": 40
   },
   "kernels_config": {
    "python": {
     "delete_cmd_postfix": "",
     "delete_cmd_prefix": "del ",
     "library": "var_list.py",
     "varRefreshCmd": "print(var_dic_list())"
    },
    "r": {
     "delete_cmd_postfix": ") ",
     "delete_cmd_prefix": "rm(",
     "library": "var_list.r",
     "varRefreshCmd": "cat(var_dic_list()) "
    }
   },
   "types_to_exclude": [
    "module",
    "function",
    "builtin_function_or_method",
    "instance",
    "_Feature"
   ],
   "window_display": false
  }
 },
 "nbformat": 4,
 "nbformat_minor": 5
}
