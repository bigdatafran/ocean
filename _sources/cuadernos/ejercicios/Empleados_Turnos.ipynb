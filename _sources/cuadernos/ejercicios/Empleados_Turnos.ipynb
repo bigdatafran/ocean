{
 "cells": [
  {
   "cell_type": "markdown",
   "id": "5b826084-e269-45f9-b929-562459be01ab",
   "metadata": {},
   "source": [
    "(reparto_turnos)=\n",
    "# Introducción.\n",
    "\n",
    "Supongamos que tenemos un conjunto de M empleados y los tenemos que distribuir en N turnos de trabajo, y cada trabajador manifiesta su preferencia por un determinado turno ( en una escala de valoración que va del cero al N-1). Distribuir esos trabajadores en esos turnos y atendiendo a la preferencia del trabajador puede ser algo bastante tedioso a medida que se incrementa el número de trabajadores y el número de turnos a tener en cuenta. Este problema es el que se pretende resolver en este apartado, de tal manera que los trabajadores acudan a los turnos que se les asigne pero teniendo en cuenta sus preferencias.\n",
    "\n",
    "Para resolver este problema utilizaremos un modelo de tipo DQM, aunque como se podrá apreciar durante el desarrollo del ejemplo, en el fondo va a ser un modelo BQM, con las variables $x_{i,j}$ que toma valores 0 ó 1 y el subíndice i haciendo referencia al turno y el j al empleado j. \n",
    "\n",
    "A continuación procedemos a desarrollar el problema y explicando en cada celda el procedimiento que se está utilizando. Comenzamos importando las librerías que vamos a necesitar."
   ]
  },
  {
   "cell_type": "code",
   "execution_count": 5,
   "id": "96e96080-35fb-48c6-8880-cb6655d36ee2",
   "metadata": {},
   "outputs": [],
   "source": [
    "from dimod import DiscreteQuadraticModel\n",
    "from dwave.system import LeapHybridDQMSampler\n",
    "import numpy as np\n",
    "import matplotlib\n",
    "matplotlib.use(\"agg\")\n",
    "import matplotlib.pyplot as plt\n"
   ]
  },
  {
   "cell_type": "markdown",
   "id": "0dc27fda-33cf-4529-bceb-5042ef6a4b80",
   "metadata": {},
   "source": [
    "Comenzamos definiendo las variables que se van a utilizar en el problema. El valor de estas variables se puede modificar como el lector crea conveniente, pero siempre respetanto la restricción de que el número de empleados (M) tiene que ser mayor o igual que el número de turnos (N)."
   ]
  },
  {
   "cell_type": "code",
   "execution_count": 9,
   "id": "081f503d-6027-4851-a44f-04af2254b568",
   "metadata": {},
   "outputs": [
    {
     "name": "stdout",
     "output_type": "stream",
     "text": [
      "\n",
      "Planificando 12 empleados sobre 4 turnos...\n",
      "\n"
     ]
    }
   ],
   "source": [
    "# Definimos el número de empleados\n",
    "num_employees = 12\n",
    "\n",
    "# Definimos el número de turnos\n",
    "num_shifts = 4\n",
    "\n",
    "# El número de empleados debe ser mayor o igual que el de turnos\n",
    "if num_employees < num_shifts:\n",
    "    print(\"\\n**Número de empleados debe ser mayor o igual que el número de turnos.**\")\n",
    "\n",
    "\n",
    "print(\"\\nPlanificando\", num_employees, \"empleados sobre\", num_shifts, \"turnos...\\n\")"
   ]
  },
  {
   "cell_type": "markdown",
   "id": "d2a81855-2c6d-4184-887c-819e7dc3f159",
   "metadata": {},
   "source": [
    "Procedemos a generar de forma aleatoria las preferencias en los turnos de cada empleado, de tal manera que cuanto menor valor mayor preferencia se tendra por el turno indicado por la posición en la que se encuentra la preferencia manifestada. De esta manera si un trabajador manifiesta las siguientes preferencias [1,3,2,0] significara que en primer lugar prefiere el cuarto turno, después sería el primer turno y así sucesivamente.\n",
    "\n",
    "Se toma este tipo de codificación para las preferencia, ya que los valores así indicados serán los coeficientes (bias) que acompañan a las variables en la parte lineal del problema, y como los solvers lo que hacen es minimizar la energia, son estos valores los mejores a utilizar como *bias* en la parte lineal del problema.\n",
    "\n",
    "Procedemos por lo tanto a generar estas preferencias, y después de su generación procedemos a mostrar el resultado obtenido."
   ]
  },
  {
   "cell_type": "code",
   "execution_count": 10,
   "id": "84330aad-f742-48d9-b744-07b875f304da",
   "metadata": {},
   "outputs": [
    {
     "data": {
      "text/plain": [
       "array([[2, 1, 3, 0],\n",
       "       [0, 2, 1, 3],\n",
       "       [0, 1, 3, 2],\n",
       "       [2, 0, 1, 3],\n",
       "       [0, 1, 2, 3],\n",
       "       [1, 3, 0, 2],\n",
       "       [3, 2, 0, 1],\n",
       "       [1, 0, 3, 2],\n",
       "       [3, 0, 1, 2],\n",
       "       [1, 3, 2, 0],\n",
       "       [0, 1, 3, 2],\n",
       "       [0, 3, 2, 1]])"
      ]
     },
     "execution_count": 10,
     "metadata": {},
     "output_type": "execute_result"
    }
   ],
   "source": [
    "# Generamos de forma aleatoria un array con las preferencias de turnos de los empleados.\n",
    "# A menor valor mayor preferencia por ese turno\n",
    "preferences = np.tile(np.arange(num_shifts), (num_employees, 1))\n",
    "rows = np.indices((num_employees,num_shifts))[0]\n",
    "cols = [np.random.permutation(num_shifts) for _ in range(num_employees)]\n",
    "preferences = preferences[rows, cols]\n",
    "\n",
    "preferences"
   ]
  },
  {
   "cell_type": "markdown",
   "id": "902a4113-f8ee-470a-b6cd-13af6acf1c59",
   "metadata": {},
   "source": [
    "Una vez hechos todos estos preparativos inciales, procedemos a implementar el código que resolverá nuestro problema y para ello, lo primero que hacemos es generar una instancia de la clase *DiscreteQuadraticModel*"
   ]
  },
  {
   "cell_type": "code",
   "execution_count": 8,
   "id": "68eaf152-b730-48a1-b71b-61f374b61318",
   "metadata": {},
   "outputs": [],
   "source": [
    "# Inicializamos un modelo de tipo DQM\n",
    "dqm = DiscreteQuadraticModel()"
   ]
  },
  {
   "cell_type": "markdown",
   "id": "f8d7e7df-b877-496d-bf52-0edb9b040c52",
   "metadata": {},
   "source": [
    "A continuación pasamos a explicar todos los condionantes que tengamos en cuenta para la generación de nuestro modelo. Un primer condicionante es que el número de trabajadores por turnos deberá ser aproximadamente el mismo, es decir, deberemos hacer una distribución uniforme de los trabajadores por cada turno, en consecuencia en cada turno habrá M/N=num_employees/num_shifts trabajadores. Esta será una condición a tener en cuenta en nuestro problema.\n",
    "\n",
    "En la siguiente figura podemos ver de forma clara cuales son las condiciones a tener en cuenta.\n",
    "\n",
    "![Reparto empleados](../img/Reparto_empleados.png)\n",
    "\n",
    "Una condición es que la suma por filas debe ser igual a 1, es decir un trabajador debe ser asignado a uno y sólo un turno. Esta restricción la vamos a tener porque vamos a definir una variable de tipo discreta para cada trabajador y entonces el sistema ya va a saber que la suma debe ser igual a uno.\n",
    "\n",
    "Otro condicionante muy importante es que la suma por columnas debe ser igual a num_employees/num_shift=M/N. Como ya sabemos por la parte teórica, esta restricción se consigue añadiendo mediante una suma el factor $\\left(\\sum_{j}x_{ij}-M/N\\right)^{2}$ multiplicado por el factor de Lagrange $\\gamma$, y esto para cada turno i. Desarrollamos a continuación ese término al cuadrado.\n",
    "\n",
    "$$\\left(\\sum_{j}x_{ij}-M/N\\right)^{2}=\\left(\\sum_{j}x_{ij}\\right)^{2}+\\left(M/N\\right)^{2}-2\\frac{M}{N}\\sum_{j}x_{ij}=\\sum_{j}x_{ij}^{2}+2\\sum_{j}\\sum_{k>j}x_{ij}x_{ik}+\\left(M/N\\right)^{2}-2\\frac{M}{N}\\sum_{j}x_{ij}$$\n",
    "\n",
    "Ahora hay que tener en cuenta que las variables con las que trabajamos son binarias, con valores igual a cero o uno, por lo tanto $x_{ij}^2=x_{ij}$, y en consecuencia la expresión anterior queda de la siguiente forma:\n",
    "\n",
    "$$\\left(\\sum_{j}x_{ij}-M/N\\right)^{2}=(1-2\\frac{M}{N})\\sum_{j}x_{ij}+2\\sum_{j}\\sum_{k>j}x_{ij}x_{ik}+\\left(M/N\\right)^{2}$$\n",
    "\n",
    "Como estamos minimizando el término constante $(M/N)^2$ nos podemos olvidar de él. Y no olvidemos que los términos anteriores deben estar multiplicados por la contante de Lagrange gamma.\r\n",
    "Teniendo en cuenta todo lo anterior procedemos a construir el modelo. Lo primero que debemos hacer es crear las variables discreteas, una para cada empleado: \n"
   ]
  },
  {
   "cell_type": "code",
   "execution_count": 11,
   "id": "239b9b1d-063e-43b7-83d7-f7bc62724828",
   "metadata": {},
   "outputs": [],
   "source": [
    "# Para cada empleado añadimos una variable discreta al modelo DQM\n",
    "for name in range(num_employees):\n",
    "    dqm.add_variable(num_shifts, label=name)"
   ]
  },
  {
   "cell_type": "markdown",
   "id": "6584c257-4998-46dc-aa37-92eca6e22b4c",
   "metadata": {},
   "source": [
    "Al crear para cada empleado las variables de esta manera, tenemos granatizado que:\n",
    "\n",
    "* El número de valores es *num_shifts* que es el primero parámetro del método *add_variable*.\n",
    "\n",
    "* Al convertir estas variables en otras de tipo one-hot encoding (variables binarias), la suma para cada empleado es 1\n",
    "\n",
    "Procedemos ahora a incorporar la condición que hemos visto anteriormente, de que la suma por columnas debe ser igual a M/N.\n",
    "\n",
    "Primero definimos el valor del parámetro de Lagrange gamma y establecemos el valor de M/N."
   ]
  },
  {
   "cell_type": "code",
   "execution_count": 12,
   "id": "7ebd3056-c8c1-4107-bb0e-8e465ff1bbdb",
   "metadata": {},
   "outputs": [],
   "source": [
    "# Debe haber igual número empleados en cada turnos\n",
    "num_per_shift = int(num_employees/num_shifts)\n",
    "# Parámetro de Lagrange gamma\n",
    "gamma = num_employees\n"
   ]
  },
  {
   "cell_type": "markdown",
   "id": "19b0f8ae-4161-479e-9d63-215ed0078f60",
   "metadata": {},
   "source": [
    "Procedemos ahora a establecer la condición de que la suma por columnas es M/N"
   ]
  },
  {
   "cell_type": "code",
   "execution_count": 13,
   "id": "3e32dd4c-2522-4745-9e2f-7d009889725f",
   "metadata": {},
   "outputs": [],
   "source": [
    "for i in range(num_shifts):\n",
    "    for j in range(num_employees):\n",
    "        dqm.set_linear_case(j, i, preferences[j, i] - gamma*(2*num_per_shift-1))\n",
    "        for k in range(j+1, num_employees):\n",
    "            dqm.set_quadratic_case(j, i, k, i, gamma*2)"
   ]
  },
  {
   "cell_type": "markdown",
   "id": "ada226a2-e5e7-4d3e-8467-50d1649ea48b",
   "metadata": {},
   "source": [
    "Ahora ya resolvemos mediante un solver híbrido"
   ]
  },
  {
   "cell_type": "code",
   "execution_count": 14,
   "id": "76f81fb1-bc13-4230-8f74-3b181c2ce108",
   "metadata": {},
   "outputs": [
    {
     "name": "stdout",
     "output_type": "stream",
     "text": [
      "\n",
      "horario score: -430.0\n"
     ]
    }
   ],
   "source": [
    "# Inicializamos el  DQM solver\n",
    "sampler = LeapHybridDQMSampler()\n",
    "\n",
    "# Resolvemos el problema utilizando el DQM solver\n",
    "sampleset = sampler.sample_dqm(dqm, label='Ejemplo - Employee Scheduling')\n",
    "\n",
    "# Nos quedamos con la primera solución\n",
    "sample = sampleset.first.sample\n",
    "energy = sampleset.first.energy\n",
    "print(\"\\nhorario score:\", energy)"
   ]
  },
  {
   "cell_type": "markdown",
   "id": "f8c0513d-72ce-4c46-b723-76b4802493a7",
   "metadata": {},
   "source": [
    "Una vez se tenga la solución la construcción y visualización del horario ya es inmediata"
   ]
  },
  {
   "cell_type": "code",
   "execution_count": 15,
   "id": "59ecefea-6376-4029-b5af-8f87d76a967d",
   "metadata": {},
   "outputs": [],
   "source": [
    "# Construimos el horario\n",
    "schedule = np.ones((num_employees, num_shifts))*num_shifts\n",
    "prefs = [0]*num_shifts\n",
    "shifts = [0]*num_shifts\n",
    "for key, val in sample.items():\n",
    "    schedule[key,val]=preferences[key,val]\n",
    "    prefs[preferences[key,val]] += 1\n",
    "    shifts[val] += 1"
   ]
  },
  {
   "cell_type": "markdown",
   "id": "78c6ac8e-fbb7-4cd1-8370-38241524c114",
   "metadata": {},
   "source": [
    "Para evitar el warning *UserWarning: Matplotlib is currently using agg, which is a non-GUI backend, so cannot show the figure*  al ejecutar los comandos que siguen, es necesario previamente instalar TKinter, lo hacemos con el siguiente código que se deja comentado, si ya se tuviera instalado es módulo."
   ]
  },
  {
   "cell_type": "code",
   "execution_count": 18,
   "id": "d87dd540-6e72-4e04-bf34-a0d48abd5436",
   "metadata": {},
   "outputs": [
    {
     "name": "stdout",
     "output_type": "stream",
     "text": [
      "Collecting tk\n",
      "  Downloading tk-0.1.0-py3-none-any.whl (3.9 kB)\n",
      "Installing collected packages: tk\n",
      "Successfully installed tk-0.1.0\n",
      "Note: you may need to restart the kernel to use updated packages.\n"
     ]
    }
   ],
   "source": [
    "#pip install tk"
   ]
  },
  {
   "cell_type": "code",
   "execution_count": 19,
   "id": "f33c793c-70af-441e-acc8-60da8c791fd4",
   "metadata": {},
   "outputs": [
    {
     "name": "stdout",
     "output_type": "stream",
     "text": [
      "\n",
      "Average happiness:\t 0.16666666666666666\n"
     ]
    },
    {
     "name": "stderr",
     "output_type": "stream",
     "text": [
      "C:\\Users\\Francisco\\AppData\\Local\\Temp\\ipykernel_20296\\2811326044.py:37: UserWarning: Matplotlib is currently using agg, which is a non-GUI backend, so cannot show the figure.\n",
      "  plt.show()\n"
     ]
    }
   ],
   "source": [
    "# mostramos las preferencias mediante un mapa de calor\n",
    "cmap = plt.get_cmap('seismic')\n",
    "cmaplist = [cmap(i) for i in range(cmap.N)]\n",
    "cmaplist[-1] = (1.0,1.0,1.0,1.0)\n",
    "cmap = cmap.from_list('Custom cmap', cmaplist, cmap.N)\n",
    "\n",
    "fig, (ax1, ax2) = plt.subplots(1, 2)\n",
    "ax1.imshow(preferences, cmap='seismic', interpolation='nearest', vmin=0, vmax=num_shifts, aspect='auto')\n",
    "ax1.xlabel = 'Shifts'\n",
    "ax1.ylabel = 'Employees'\n",
    "ax1.set_title(\"Employee Shift Preferences\", color='Black', fontstyle='italic')\n",
    "\n",
    "# Show heatmap of schedule\n",
    "cax = ax2.imshow(schedule, cmap=cmap, interpolation='nearest', aspect='auto', vmin=0)\n",
    "cbar = fig.colorbar(cax, ticks=[0, num_shifts])\n",
    "cbar.set_ticklabels(['Best', 'Worst'])\n",
    "ax2.xlabel = 'Shifts'\n",
    "ax2.set_title(\"Employee Shift Schedule\", color='Black', fontstyle='italic')\n",
    "plt.savefig(\"employee_schedule.png\")\n",
    "\n",
    "# Compute/display schedule statistics\n",
    "plt.clf()\n",
    "plt.subplot(1, 2, 1)\n",
    "plt.bar(np.arange(num_shifts), shifts)\n",
    "plt.xlabel(\"Shift\")\n",
    "plt.ylabel(\"Number Scheduled\")\n",
    "plt.title(\"Employees Scheduled Per Shift\")\n",
    "\n",
    "mean_happiness = sum([i*prefs[i] for i in range(num_shifts)])/num_employees\n",
    "print(\"\\nAverage happiness:\\t\", mean_happiness)\n",
    "\n",
    "plt.subplot(1, 2, 2)\n",
    "plt.bar(np.arange(num_shifts), prefs)\n",
    "plt.xlabel(\"Preference Rank\")\n",
    "plt.title(\"Average Preference per Shift\")\n",
    "#plt.savefig(\"schedule_statistics.png\")\n",
    "plt.show()"
   ]
  },
  {
   "cell_type": "markdown",
   "id": "f7baef43-3db5-4186-964a-0461e8d5ed5e",
   "metadata": {},
   "source": [
    "Para finalizar la exposición de este ejemplo, simplemente volver a decir que este problema se podría haber resuelto utilizando un modelo de tipo CQM, lo cual se deja como ejercicio al lector para que de esta manera vaya adquiriendo la destreza necesaria en la utilización de Ocena SDK."
   ]
  }
 ],
 "metadata": {
  "kernelspec": {
   "display_name": "Python 3 (ipykernel)",
   "language": "python",
   "name": "python3"
  },
  "language_info": {
   "codemirror_mode": {
    "name": "ipython",
    "version": 3
   },
   "file_extension": ".py",
   "mimetype": "text/x-python",
   "name": "python",
   "nbconvert_exporter": "python",
   "pygments_lexer": "ipython3",
   "version": "3.8.3"
  }
 },
 "nbformat": 4,
 "nbformat_minor": 5
}
