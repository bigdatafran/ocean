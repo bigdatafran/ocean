{
 "cells": [
  {
   "cell_type": "markdown",
   "id": "c3ee6768-7ede-4a73-aea9-274a77e7900f",
   "metadata": {},
   "source": [
    "(inmunizacion_2)=\n",
    "# Introdución\n",
    "\n",
    "```{index} Inmunización estrategia\r\n",
    "```\n",
    "\n",
    "En este apartado se va a desarrollar una estrategia para inmunizar a una población frente a un determinado virus, el cual ya se ha comentado en el apartado dedicado al [modelo Discrete Quadratic Model](DQM). Aunque en este apartado se le da el enfoque de resolución de un problema de tipo [Constrained Quadratic Model](cqm).\n",
    "\n",
    "La resolución del problema se puede <a href=\"https://github.com/dwave-examples/immunization-strategy/blob/main/demo.py\" target=\"_blank\"> localizar en internet en este enlace </a>, pero se ha considerado oportuno profundizar más en su desarrollo a fin de que el lector pueda conocer con mayor grado de detalle su solución.\n",
    "\n",
    "La idea básica del problema es la siguiente: Existen muchas estrategias  para inmunizar poblaciones con el fin de prevenir la transmisión de un virus o una enfermedad infecciosa utilizando para ello un número mínimo de dosis. \n",
    "\n",
    "Una de esas estrategias, que será la utilizada en este apartado, es fragmentar una población en grupos separados a través de un \"separador\". Esta estrategia divide una población en dos grandes grupos de tamaño similar y un *tercer grupo que sirve como separador*. El separador se elige de modo que todas las conexiones entre los dos grupos más grandes pasen a través de él y debe mantenerse lo más pequeño posible. \n",
    "\n",
    "En este escenario, la eliminación del separador de la población desconecta los dos grandes grupos, evitando la transmisión de la infección entre los grupos. La inmunización del separador rompe el ciclo de transmisión, y así, seleccionar un separador que contenga la menor cantidad posible de individuos minimizará el número de dosis de inmunización requeridas. En este ejemplo, mostramos cómo se puede implementar este problema de optimización usando Ocean SDK y resolverlo usando el solucionador de modelo cuadrático restringido híbrido disponible en Leap.\n",
    "\n",
    "En  en este problema a cada persona de la población se le va a asignar a un grupo de los tres que se van a tener encuenta:\n",
    "\n",
    "* Grupo 0, es uno de los grandes grupo\n",
    "\n",
    "* Grupo 1, es el otro gran grupo de población\n",
    "\n",
    "* Grupo 2, es el grupo separador\n",
    "\n",
    "Procedemos incialmente a cargar los módulos que necesitamos. \n"
   ]
  },
  {
   "cell_type": "code",
   "execution_count": 35,
   "id": "c71501fa-2bd0-4892-9a43-06a6330f57b0",
   "metadata": {},
   "outputs": [],
   "source": [
    "import argparse\n",
    "import sys\n",
    "import matplotlib\n",
    "import networkx as nx\n",
    "from dimod import ConstrainedQuadraticModel, Binary, quicksum\n",
    "from dwave.system import LeapHybridCQMSampler\n",
    "import matplotlib.pyplot as plt"
   ]
  },
  {
   "cell_type": "markdown",
   "id": "7b5a183f-209e-4843-8cfb-153a9bc4d2ab",
   "metadata": {},
   "source": [
    "A continuación definimos una función que nos va a servir para elegir entre varios gráficos disponible, junto con las opciones de ese gráfico que deseamos utilizar.\n",
    "\n",
    "Varios tipos diferentes de gráficos o redes están disponibles para esta demostración utilizando las opciones proporcionadas en la función que se desarrolla a continuación. Todos estos gráficos están construidos usando <a href=\"https://networkx.org/documentation/stable/index.html\" target=\"_blank\"> funciones del generador nerador de gráficos N </a>etwoalguno de rkX, y los depara elegir se indican a continuaciónr Los gráficos disponibles son los siguientes: a* quí .\n",
    "\n",
    "karate: Gráfico del Club de Karate; un gráfico fijo en 34\n",
    "\n",
    "* nodos.\n",
    "internet: Red del Sistema Autónomo Internet; especifique el número de nodos entre 1000 \n",
    "\n",
    "*  1666.\n",
    "rand-reg: Un gráfico d-regular aleatorio; especifique el número de nodos y el valo\n",
    "\n",
    "*  de d.\n",
    "ER: Gráfico aleatorio de Erdos-Renyi; especificar el número de nodos y la probabilidad de\n",
    "\n",
    "* borde.\n",
    "SF: Gráfico sin escala de Barabasi-Albert; especifique el número de nodos y el número de bordes para agregar desde un nuevo nodo a cualquier nodo exi\n",
    "* stente.\n",
    "El gráfico predeterminado es el gráfico de Internet en 1000 nodos. El mayor número de nodos permitidos para cualquier gráfico especificado puede ser como máximo 1.666\n"
   ]
  },
  {
   "cell_type": "code",
   "execution_count": 2,
   "id": "f0ed72cb-60b9-4570-a048-362fa20f787c",
   "metadata": {},
   "outputs": [],
   "source": [
    "def read_in_args(args):\n",
    "    \"\"\" Read in user specified parameters.\"\"\"\n",
    "\n",
    "    # Set up user-specified optional arguments\n",
    "    parser = argparse.ArgumentParser()\n",
    "    parser.add_argument(\"-g\", \"--graph\", default='internet', choices=['karate', 'internet', 'rand-reg', 'ER', 'SF'], \n",
    "                        help='Graph to partition (default: %(default)s)')\n",
    "    parser.add_argument(\"-n\", \"--nodes\", help=\"Set graph size for graph. (default: %(default)s)\", default=1000, type=int)\n",
    "    parser.add_argument(\"-d\", \"--degree\", help=\"Set node degree for random regular graph. (default: %(default)s)\", default=4, type=int)\n",
    "    parser.add_argument(\"-p\", \"--prob\", help=\"Set graph edge probability for ER graph. Must be between 0 and 1. (default: %(default)s)\", default=0.25, type=float)\n",
    "    parser.add_argument(\"-e\", \"--new-edges\", help=\"Set number of edges from new node to existing node in SF graph. (default: %(default)s)\", default=4, type=int)\n",
    "\n",
    "    return parser.parse_args(args)"
   ]
  },
  {
   "cell_type": "markdown",
   "id": "d46738c4-8243-4af1-9092-8bd78632c088",
   "metadata": {},
   "source": [
    "A continuación se muestra un ejemplo de cómo poder hacer las elecciones que nos ofrece la función anterior."
   ]
  },
  {
   "cell_type": "code",
   "execution_count": 29,
   "id": "4fcc5c96-99e3-4ff2-8771-03b8979375a0",
   "metadata": {},
   "outputs": [],
   "source": [
    "#args = read_in_args(sys.argv[1:])\n",
    "args = read_in_args(['--graph','karate','--nodes','500'])"
   ]
  },
  {
   "cell_type": "code",
   "execution_count": 30,
   "id": "eb2cdca4-361d-4184-8360-c02012e5a497",
   "metadata": {},
   "outputs": [
    {
     "data": {
      "text/plain": [
       "Namespace(degree=4, graph='karate', new_edges=4, nodes=500, prob=0.25)"
      ]
     },
     "execution_count": 30,
     "metadata": {},
     "output_type": "execute_result"
    }
   ],
   "source": [
    "# Veamos los valores que hemos elegido\n",
    "args"
   ]
  },
  {
   "cell_type": "markdown",
   "id": "a194132c-84db-42b5-851d-2696223d6d4f",
   "metadata": {},
   "source": [
    "Una vez elegidas las opciones que nos ofrece la función anterior, su resultado lo utilizamos para cosntruir el gráfico, el cual será dibujado posteriormente."
   ]
  },
  {
   "cell_type": "code",
   "execution_count": 36,
   "id": "6d51259e-a2c3-442c-916b-8afc1e423aad",
   "metadata": {},
   "outputs": [],
   "source": [
    "def build_graph(args):\n",
    "    \n",
    "    \"\"\"Construimos el gráfico con los parámetros definidos anteriormente\"\"\"\n",
    "\n",
    "    max_vars = int(5000/3)\n",
    "    \n",
    "    # Build graph using networkx\n",
    "    if args.graph == 'karate':\n",
    "        print(\"\\nReading in karate graph...\")\n",
    "        G = nx.karate_club_graph()\n",
    "    elif args.graph == 'internet':\n",
    "        if args.nodes < 1000 or args.nodes > max_vars:\n",
    "            args.nodes = 1000\n",
    "            print(\"\\nSize for internet graph must be between 1000 and \" + str(max_vars) + \". Setting size to 1000.\\n\")\n",
    "        print(\"\\nReading in internet graph of size\", args.nodes, \"...\")\n",
    "        G = nx.random_internet_as_graph(args.nodes)\n",
    "    elif args.graph == 'rand-reg':\n",
    "        if args.nodes < 1 or args.nodes > max_vars:\n",
    "            print(\"\\nSize for random regular graph must be between 1 and \" + str(max_vars) + \". Setting size to 1000.\\n\")\n",
    "        if args.degree < 0 or args.degree >= args.nodes:\n",
    "            print(\"\\nDegree must be between 0 and n-1. Setting size to min(4, n-1).\\n\")\n",
    "            args.degree = min(4, args.nodes-1)\n",
    "        if args.degree*args.nodes % 2 == 1:\n",
    "            print(\"\\nRequirement: n*d must be even.\\n\")\n",
    "            if args.degree > 0:\n",
    "                args.degree -= 1\n",
    "                print(\"\\nSetting degree to\", args.degree, \"\\n\")\n",
    "            elif args.nodes-1 > args.degree:\n",
    "                args.nodes -= 1\n",
    "                print(\"\\nSetting nodes to\", args.nodes, \"\\n\")\n",
    "            else:\n",
    "                print(\"\\nSetting nodes to 1000 and degree to 4.\\n\")\n",
    "                args.nodes = 1000\n",
    "                args.degree = 4\n",
    "        print(\"\\nGenerating random regular graph...\")\n",
    "        G = nx.random_regular_graph(args.degree, args.nodes)\n",
    "    elif args.graph == 'ER':\n",
    "        if args.nodes < 1 or args.nodes > max_vars:\n",
    "            print(\"\\nSize for ER graph must be between 1 and \" + str(max_vars) + \". Setting size to 1000.\\n\")\n",
    "            args.nodes = 1000\n",
    "        if args.prob < 0 or args.prob > 1:\n",
    "            print(\"\\nProbability must be between 0 and 1. Setting prob to 0.25.\\n\")\n",
    "            args.prob = 0.25\n",
    "        print(\"\\nGenerating Erdos-Renyi graph...\")\n",
    "        G = nx.erdos_renyi_graph(args.nodes, args.prob)\n",
    "    elif args.graph == 'SF':\n",
    "        if args.nodes < 1 or args.nodes > max_vars:\n",
    "            print(\"\\nSize for SF graph must be between 1 and \" + str(max_vars) + \". Setting size to 1000.\\n\")\n",
    "            args.nodes = 1000\n",
    "        if args.new_edges < 0 or args.new_edges > args.nodes:\n",
    "            print(\"\\nNumber of edges must be between 1 and n. Setting to 5.\\n\")\n",
    "            args.new_edges = 5\n",
    "        print(\"\\nGenerating Barabasi-Albert scale-free graph...\")\n",
    "        G = nx.barabasi_albert_graph(args.nodes, args.new_edges)\n",
    "    else:\n",
    "        print(\"\\nReading in karate graph...\")\n",
    "        G = nx.karate_club_graph()\n",
    "\n",
    "    return G"
   ]
  },
  {
   "cell_type": "markdown",
   "id": "c0af6c7d-ce0c-4ffc-8a27-a84fa28bdc55",
   "metadata": {},
   "source": [
    "Procedemos a construir el gráficos de la siguient manera"
   ]
  },
  {
   "cell_type": "code",
   "execution_count": 32,
   "id": "7f7b1c9e-af18-43e1-8a93-bcd438613041",
   "metadata": {},
   "outputs": [
    {
     "name": "stdout",
     "output_type": "stream",
     "text": [
      "\n",
      "Reading in karate graph...\n"
     ]
    }
   ],
   "source": [
    "G = build_graph(args)"
   ]
  },
  {
   "cell_type": "code",
   "execution_count": null,
   "id": "d9f4cf4a-f5ae-4d49-b753-159679be2917",
   "metadata": {},
   "outputs": [],
   "source": []
  },
  {
   "cell_type": "code",
   "execution_count": 37,
   "id": "075d0058-27a0-4f66-ab85-df455118bfdf",
   "metadata": {},
   "outputs": [],
   "source": [
    "# Visualize the input graph\n",
    "def visualize_input_graph(G, guardar='N'):\n",
    "    \"\"\" Visualizamos el gráfico que va a ser particionado, el parámetro guardar se utiliza por si queremos almacenar\n",
    "        en un fichero denominado input_graph.png el resultado\n",
    "    \"\"\"\n",
    "\n",
    "    pos = nx.spring_layout(G)\n",
    "    nx.draw_networkx_nodes(G, pos, node_size=20, node_color='r', edgecolors='k')\n",
    "    nx.draw_networkx_edges(G, pos, edgelist=G.edges(), style='solid', edge_color='#808080')\n",
    "    plt.draw()\n",
    "    if guardar=='N':\n",
    "        plt.show()\n",
    "    else:\n",
    "        plt.savefig('input_graph.png')\n",
    "    plt.close()"
   ]
  },
  {
   "cell_type": "markdown",
   "id": "6e14aec5-6195-4a6e-be62-297917c57348",
   "metadata": {},
   "source": [
    "Visualizamos el resultado de la forma predefinida, es decir mostrando el gráfico por pantalla"
   ]
  },
  {
   "cell_type": "code",
   "execution_count": 38,
   "id": "eaf0d443-e717-4471-8745-f4835804203b",
   "metadata": {},
   "outputs": [
    {
     "data": {
      "image/png": "[encoded data removed]",
      "text/plain": [
       "<Figure size 640x480 with 1 Axes>"
      ]
     },
     "metadata": {},
     "output_type": "display_data"
    }
   ],
   "source": [
    "visualize_input_graph(G)"
   ]
  },
  {
   "cell_type": "markdown",
   "id": "279d9105-cefd-4fa6-8354-5b0c797ee56b",
   "metadata": {},
   "source": [
    "Ahora ya viene la parte más interesante del problema, construir las instrucciones Python para enviar a los ordenadores de D-Wave para que nos resuelvan el problema, y en este caso lo resolveremos <a href=\"https://docs.ocean.dwavesys.com/en/stable/concepts/cqm.html\" target=\"_blank\"> utilizando la clase ConstrainedQuadraticModel() </a>.\n",
    "\n",
    "Los pasos que damos son los siguientes:\n",
    "\n",
    "1.- Definimos con la variable *num_groups* el número de grupos, que serán 3 como ya se ha explicado en apartado anterior.\n",
    "\n",
    "![grupos de inmunización](../img/GruposInmunizacion.PNG)\n",
    "\n",
    "2.- Se procede a construir una instancia de la clase CQM\n",
    "\n",
    "3.- Creamos las variables binarias $x_{i,j}$, donde el índice i hace referencia al nodo o la personas y el índice j a la clase de pertenencia, que puede ser 0,1 ó 2. Observar que la construcción de estas variables es mediante dos list comprehesion ( una añadida a la otra), con lo que se obtiene una lista de listas, de tal manera que la lista más interna tiene tres elementos, y la más externa el número de nodos de la red y sus elementos son las listas internas.\n",
    "\n",
    "4.- Se construye la función objetivo, de tal manera que lo que se quiere minimizar es el número de personas (o nodos) que hay en el grupo 2. Por lo tanto la función objetivo sería la siguiente:\n",
    "\n",
    "$$\\sum_{i=0}^{N}x_{i,2}$$\n",
    "\n",
    "Para construir esta función objetivo se utiliza <a href=\"https://docs.ocean.dwavesys.com/en/stable/docs_dimod/reference/generated/dimod.binary.quicksum.html\" target=\"_blank\"> la función quicksum </a> muy utilizada en este tipo de problemas.\n",
    "\n",
    "5.- Ahora hay que tener en cuenta que cada nodo o persona debe pertener a un sólo grupo, lo que se traduce en que para cada i la suma en j de $x_{i,j}$ debe ser 1. Es decir:\n",
    "\n",
    "$$\\sum_{j=0}^{2}x_{i,j}=1\\ \\ \\forall i=1,2,...,N$$\n",
    "\n",
    "```{index} cqm.add_discrete(), add_discrete()\r\n",
    "```\r\n",
    "Via código esto se consigue utilizando la propiedad *add_discrete(). **NOTA IMPORTANTE**. Esta consición es muy importante y hay que tenerla en cuenta en todos los problemas de variables discretas que se resuelvan con el modelo CQM().*\n",
    "6.- Ahora debemos de tener en cuenta que una de las restricciones de nuestro problema es que el número de personas en el grupo 0 será igual al número de personas del grupo 1. O lo que es lo mismo:\n",
    "\n",
    "$$\\sum_{i=1}^{N}x_{i,0}=\\sum_{i=1}^{N}x_{i,1}$$\n",
    "\n",
    "**NOTA**. Observar que lo escrito en el código es la forma que admite Ocean SDK, pues a la derecha del signo igual no admite ninguna expresión, solo un valor determinado.\n",
    "\n",
    "7.- Ahora nos falta añadir la restricción de que no haya arcos entre el grupo 0 y el grupo 1. Observar que cunado hay un arco entre elementos de estos dos grupos se debe cumplir que vars[a][0]*vars[b][1]=1 o que vars[a][1]*vars[b][0]= 1, para lo cual los dos elementos del producto deben valer 1 (tener en cuenta que nuestras variables sólo pueden valer 0 ó 1)\n",
    "\n"
   ]
  },
  {
   "cell_type": "code",
   "execution_count": 39,
   "id": "147f7b1d-0bdc-40d4-8e82-0b145d2fe89f",
   "metadata": {},
   "outputs": [],
   "source": [
    "def build_cqm(G):\n",
    "    \"\"\" Build the CQM for the problem instance.\"\"\"\n",
    "    \n",
    "    # Definimos el número total de grupos : 1\n",
    "    # Dos grupos más numerosos (valores 0, 1) y un grupo que actúa como separador (case 2)\n",
    "    num_groups = 3\n",
    "\n",
    "    # Initialize the CQM object\n",
    "    print(\"\\n Construyendo CQM...\")\n",
    "    # Creamos una instancia del modelo CQM : 2\n",
    "    cqm = ConstrainedQuadraticModel()\n",
    "\n",
    "    # Build the CQM starting by creating variables\n",
    "    # Creamos las variables binarias (0 ó 1) Xij (i=nodo o persona ; j=grupo de pertenencia: 0,1 ó 2) : 3\n",
    "    vars = [[Binary(f'x_{name}_{i}') for i in range(num_groups)] for name in G.nodes()]\n",
    "\n",
    "    # Función objetivo para el modelo  CQM :4\n",
    "    cqm.set_objective(quicksum(vars[i][2] for i in range(len(vars))))\n",
    "\n",
    "    # Añadimos la restricción para que las variables sean discretas :5\n",
    "    for v in range(len(vars)):\n",
    "        cqm.add_discrete([f'x_{v}_{i}' for i in range(num_groups)])\n",
    "\n",
    "   \n",
    "    # Añadimos la restricción de que el número de  elementos del grupo 0 es igual a los del grupo 1 : 6\n",
    "    g1 = [vars[i][0] for i in range(len(vars))]\n",
    "    g2 = [vars[i][1] for i in range(len(vars))]\n",
    "    cqm.add_constraint(quicksum(g1) - quicksum(g2) == 0)\n",
    "\n",
    "    # añadimos la restricción de que entre los grupos 0 y 1 no hay arcos (e(G0,G1)=0):7\n",
    "    edge_sum = []\n",
    "    for a, b in G.edges():\n",
    "        if a != b:\n",
    "            edge_sum.append(vars[a][0]*vars[b][1]+vars[a][1]*vars[b][0])\n",
    "    cqm.add_constraint(quicksum(edge_sum) == 0, label='cross edges')\n",
    "\n",
    "    print(\"\\n  ... CQM construido\")\n",
    "    return cqm"
   ]
  },
  {
   "cell_type": "markdown",
   "id": "c709142f-10b6-4a5f-b28c-ac12791e1eb2",
   "metadata": {},
   "source": [
    "Con todas estas premisas, ahora ya estamos en disposición de crear nuestro modelo CQM"
   ]
  },
  {
   "cell_type": "code",
   "execution_count": 40,
   "id": "93c0325b-ff52-405f-b833-9b22feedcff5",
   "metadata": {},
   "outputs": [
    {
     "name": "stdout",
     "output_type": "stream",
     "text": [
      "\n",
      " Construyendo CQM...\n",
      "\n",
      "  ... CQM construido\n"
     ]
    }
   ],
   "source": [
    "cqm = build_cqm(G)"
   ]
  },
  {
   "cell_type": "markdown",
   "id": "95f75b16-708f-497b-91db-656b35932b43",
   "metadata": {},
   "source": [
    "Ahora ya vamos a definir la función que ejecute nuestro modelo con un sampler."
   ]
  },
  {
   "cell_type": "code",
   "execution_count": 24,
   "id": "b73e0eee-a660-4f51-ad2a-e3c194bcbcdd",
   "metadata": {},
   "outputs": [],
   "source": [
    "def run_cqm_and_collect_solutions(cqm, sampler):\n",
    "    \"\"\" Send the CQM to the sampler and return the best sample found.\"\"\"\n",
    "\n",
    "    # Initialize the solver\n",
    "    print(\"\\nSending to the solver...\")\n",
    "    \n",
    "    # Solve the CQM problem using the solver\n",
    "    sampleset = sampler.sample_cqm(cqm, label='Example - Immunization Strategy')\n",
    "\n",
    "    # Observar que filtramos las soluciones para obtener las soluciones factibles \n",
    "    feasible_sampleset = sampleset.filter(lambda d: d.is_feasible)\n",
    "    if len(feasible_sampleset) == 0:\n",
    "        print(\"\\nNo feasible solution found. Returning best infeasible solution.\")\n",
    "        # devolvemos si existe la mejor solución factible\n",
    "        return sampleset.first.sample\n",
    "\n",
    "    return feasible_sampleset.first.sample"
   ]
  },
  {
   "cell_type": "markdown",
   "id": "131ea4d4-3a80-4de5-b459-ac3d528202e9",
   "metadata": {},
   "source": [
    "A continuación definimos el sampler que vamos a utilizar  para pasarlo como parámetro de la función *run_cqm_and_collect_solutions()*:"
   ]
  },
  {
   "cell_type": "code",
   "execution_count": null,
   "id": "b41774fb-e821-4ab9-8b5c-229d61fbf292",
   "metadata": {},
   "outputs": [],
   "source": [
    "# Definimos el sampler\n",
    "sampler = LeapHybridCQMSampler()\n",
    "# Ejecutamos en el sampler nuestro modelo\n",
    "sample = run_cqm_and_collect_solutions(cqm, sampler)"
   ]
  },
  {
   "cell_type": "markdown",
   "id": "5815e25a-6f42-479f-a4a7-b032a8b6f325",
   "metadata": {},
   "source": [
    "Con la solución anterior ya podemos formas los tres grupos que buscamos"
   ]
  },
  {
   "cell_type": "code",
   "execution_count": 25,
   "id": "f10b63d4-a55b-401b-8663-ab925a7cd0f0",
   "metadata": {},
   "outputs": [],
   "source": [
    "def process_sample(G, sample):\n",
    "    \"\"\" Interpret the CQM solution in terms of the partitioning problem.\"\"\"\n",
    "\n",
    "    # Display results to user\n",
    "    group_1 = []\n",
    "    group_2 = []\n",
    "    sep_group = []\n",
    "    results = [[],[],[]]\n",
    "    for key, val in sample.items():\n",
    "        if val == 1:\n",
    "            v = key.split(\"_\")\n",
    "            results[int(v[-1])].append(int(v[1]))\n",
    "\n",
    "    group_1 = results[0]\n",
    "    group_2 = results[1]\n",
    "    sep_group = results[2]\n",
    "\n",
    "    # Display best result\n",
    "    print(\"\\nPartition Found:\")\n",
    "    print(\"\\tGroup 1: \\tSize\", len(group_1))\n",
    "    print(\"\\tGroup 2: \\tSize\", len(group_2))\n",
    "    print(\"\\tSeparator: \\tSize\", len(sep_group))\n",
    "\n",
    "    print(\"\\nSeparator Fraction: \\t\", len(sep_group)/len(G.nodes()))\n",
    "\n",
    "    # Determines if there are any edges directly between the large groups\n",
    "    illegal_edges = [(u, v) for u, v in G.edges if (sample[f'x_{u}_{0}']*sample[f'x_{v}_{1}'] == 1 or sample[f'x_{u}_{1}']*sample[f'x_{v}_{0}'] == 1)]\n",
    "\n",
    "    print(\"\\nNumber of illegal edges:\\t\", len(illegal_edges))\n",
    "\n",
    "    return group_1, group_2, sep_group, illegal_edges"
   ]
  },
  {
   "cell_type": "markdown",
   "id": "d781dc19-36c3-4b57-888c-b9dbf73bbcc0",
   "metadata": {},
   "source": [
    "Ejecutamos la función anterior"
   ]
  },
  {
   "cell_type": "code",
   "execution_count": null,
   "id": "2bcbf50f-576a-4c2e-a1e0-94828aa27196",
   "metadata": {},
   "outputs": [],
   "source": [
    "group_1, group_2, sep_group, illegal_edges = process_sample(G, sample)"
   ]
  },
  {
   "cell_type": "markdown",
   "id": "63b5991f-4437-43be-abd6-15e05b55c9c7",
   "metadata": {},
   "source": [
    "Ya podemos ver el resultado obtenido"
   ]
  },
  {
   "cell_type": "code",
   "execution_count": 26,
   "id": "d458615f-cc14-4592-9e97-81799cdf7e53",
   "metadata": {},
   "outputs": [],
   "source": [
    "def visualize_results(G, group_1, group_2, sep_group, illegal_edges, guardar='N' ):\n",
    "    \"\"\" Visualize the partition.\"\"\"\n",
    "\n",
    "    print(\"\\nVisualizing output...\")\n",
    "\n",
    "    G1 = G.subgraph(group_1)\n",
    "    G2 = G.subgraph(group_2)\n",
    "    SG = G.subgraph(sep_group)\n",
    "\n",
    "    pos_1 = nx.random_layout(G1, center=(-5,0))\n",
    "    pos_2 = nx.random_layout(G2, center=(5,0))\n",
    "    pos_sep = nx.random_layout(SG, center=(0,0))\n",
    "    pos = {**pos_1, **pos_2, **pos_sep}\n",
    "\n",
    "    nx.draw_networkx_nodes(G, pos_1, node_size=10, nodelist=group_1, node_color='#17bebb', edgecolors='k')\n",
    "    nx.draw_networkx_nodes(G, pos_2, node_size=10, nodelist=group_2, node_color='#2a7de1', edgecolors='k')\n",
    "    nx.draw_networkx_nodes(G, pos_sep, node_size=10, nodelist=sep_group, node_color='#f37820', edgecolors='k')\n",
    "\n",
    "    nx.draw_networkx_edges(G, pos, edgelist=G.edges(), style='solid', edge_color='#808080')\n",
    "    nx.draw_networkx_edges(G, pos, edgelist=illegal_edges, style='solid')\n",
    "\n",
    "    plt.draw()\n",
    "    if guardar=='N':\n",
    "        plt.show()\n",
    "    else:\n",
    "        output_name = 'separator.png'\n",
    "        plt.savefig(output_name)\n",
    "\n",
    "    print(\"\\tOutput stored in\", output_name)"
   ]
  },
  {
   "cell_type": "markdown",
   "id": "d63fe2a2-6dee-4e49-80f8-7bb9dafe665b",
   "metadata": {},
   "source": [
    "Ejecutamos la función anterior para ver el resultado"
   ]
  },
  {
   "cell_type": "code",
   "execution_count": null,
   "id": "415386fa-4edf-41c8-841c-3a5032937419",
   "metadata": {},
   "outputs": [],
   "source": [
    "visualize_results(G, group_1, group_2, sep_group, illegal_edges)"
   ]
  }
 ],
 "metadata": {
  "kernelspec": {
   "display_name": "Python 3 (ipykernel)",
   "language": "python",
   "name": "python3"
  },
  "language_info": {
   "codemirror_mode": {
    "name": "ipython",
    "version": 3
   },
   "file_extension": ".py",
   "mimetype": "text/x-python",
   "name": "python",
   "nbconvert_exporter": "python",
   "pygments_lexer": "ipython3",
   "version": "3.8.3"
  }
 },
 "nbformat": 4,
 "nbformat_minor": 5
}
