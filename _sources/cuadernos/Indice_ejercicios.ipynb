{
 "cells": [
  {
   "cell_type": "markdown",
   "id": "45d927cc-0edc-4579-b666-8db97f9d2f87",
   "metadata": {},
   "source": [
    "(indice_ejercicios)=\n",
    "# Introducción.\n",
    "\n",
    "En todo el tutorial, se han mostrado una serie de ejemplos enfocados a mostrar cómo popder utilizar la herramientas que pone a nuestra disposición Ocean SDK para poder obtener los resultados que buscamos en nuestros problemas de optimización.\n",
    "\n",
    "Son muchos los métodos y procedimientos explicados en este tutorial y también son muchos los ejemplos que se han implementado en el mismo, por lo que eso puede dar lugar a un cierto desorden a la hora de ordenar los conceptos por parte del lector. \n",
    "\n",
    "POr este motivo se ha considerado oportuno crear este índice en el que se pondrá como título el / los prcedimientos que se utilizan en el ejemplo, y a continuación un enlace al ejemplo que el alumno quiere ver.\n",
    "\n",
    "## Modelos Binary Qadratic Model (BQM)\n",
    "\n",
    "* [Partición de un conjunto de números en dos o más grupos](particionConjuntoNumeros)\n",
    "\n",
    "* [Problema mochila con BQM](problema_mochila-version_1)\n",
    "\n",
    "## Modelos Discrete Quadratic Model (DQM)\n",
    "\n",
    "* [Map Coloring. Colorear un mapa de manera que dos regiones con alguna frontera en común tengan color diferente](MapColoring)\n",
    "\n",
    "* [Reaparto de Empleados por turnos de trabajo](reparto_turnos)\n",
    "\n",
    "## Modelos Constrained Quadratic Model (CQM):\n",
    "\n",
    "* [Inmunización-estrategia](inmunizacion_2)\n",
    "\n",
    "* [Problema de la Mochila con CQM](problema_mochila-version_2)\n",
    "\n",
    "* [Problema de la Mochila con QPM y más restricciones](problema_mochila-version_3)\n",
    "\n",
    "## Otros:\n",
    "\n",
    "* [Primeros pasos. Compendio de pequeños ejemplo para familiarizarse con el entorno Ocean SDK](primeros_pasos)\n"
   ]
  },
  {
   "cell_type": "code",
   "execution_count": null,
   "id": "d44e8a99-e5b2-42b8-811f-bd099d71a60f",
   "metadata": {},
   "outputs": [],
   "source": []
  }
 ],
 "metadata": {
  "kernelspec": {
   "display_name": "Python 3 (ipykernel)",
   "language": "python",
   "name": "python3"
  },
  "language_info": {
   "codemirror_mode": {
    "name": "ipython",
    "version": 3
   },
   "file_extension": ".py",
   "mimetype": "text/x-python",
   "name": "python",
   "nbconvert_exporter": "python",
   "pygments_lexer": "ipython3",
   "version": "3.8.3"
  }
 },
 "nbformat": 4,
 "nbformat_minor": 5
}
