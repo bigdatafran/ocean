{
 "cells": [
  {
   "cell_type": "markdown",
   "id": "416d36de",
   "metadata": {},
   "source": [
    "(ProblemaMochila_mejorar_rendimiento)=\n",
    "# Introducción.\n",
    "\n",
    "En este notebook, vamos a mostrar un ejemplo sobre cómo mejorar el rendimiento de la programación hecha con Ocean a la hora de resolver un problema de programación lineal. Al mismo tiempo vamos a ver una serie de pautas que el lector puede seguir a la hora de resolver otro enfoque del problema de la mochila que ya se ha visto en otros ejemplos.\n",
    "\n",
    "Para ello vamos a resolver el típico problema de tipo `bin packing` que básicamente consiste en distribuir de forma óptima una serie de paquetes, con unos determinados pesos en unos contenedores con una limitación de capacidad dada. La referencia a este problema se puede ver en https://en.wikipedia.org/wiki/Bin_packing_problem.\n",
    "\n",
    "Inicialmente lo resolvemos como se indica en este enlace: https://docs.ocean.dwavesys.com/en/stable/examples/hybrid_cqm_binpacking.html.\n",
    "\n",
    "La función objetivo en este caso va a consistir en minimizar el número de contenedores (bins) utilizados. Puesto que un contenedor puede ser utilizado o no, podemos denotar esa situación mediante una variable de tipo binario, por lo tanto la variable `bin_used_<j>` indicará si el contenedor $b_j$ va a ser utilizado o no. Vamos a definir inicialmente una serie de valores para este problema"
   ]
  },
  {
   "cell_type": "code",
   "execution_count": 1,
   "id": "8b9ec0aa",
   "metadata": {},
   "outputs": [
    {
     "name": "stdout",
     "output_type": "stream",
     "text": [
      "Problem: pack a total weight of 71 into bins of capacity 47.\n"
     ]
    }
   ],
   "source": [
    "import numpy as np\n",
    "num_items = 15 # Es el número de items para cargar que vamos a utilizar\n",
    "item_weight_range = [3, 7] # Rango de pesos\n",
    "weights = list(np.random.randint(*item_weight_range, num_items))\n",
    "bin_capacity = int(10 * np.mean(weights)) # Capacidad de los bins\n",
    "print(\"Problem: pack a total weight of {} into bins of capacity {}.\".format(\n",
    "      sum(weights), bin_capacity))              "
   ]
  },
  {
   "cell_type": "code",
   "execution_count": null,
   "id": "8685819d",
   "metadata": {},
   "outputs": [],
   "source": [
    "# Veamos los pesos que obtenemos\n",
    "weights"
   ]
  },
  {
   "cell_type": "markdown",
   "id": "8bf32ab5",
   "metadata": {},
   "source": [
    "Como estamos en presencia de un problema de optimización lineal con restricciones, utilizamos un modelo de tipo `ConstrainedQuadraticModel` conocido también como `CQM`"
   ]
  },
  {
   "cell_type": "code",
   "execution_count": 3,
   "id": "456ebdd8",
   "metadata": {},
   "outputs": [],
   "source": [
    "from dimod import ConstrainedQuadraticModel\n",
    "cqm = ConstrainedQuadraticModel()"
   ]
  },
  {
   "cell_type": "markdown",
   "id": "4d11a8cd",
   "metadata": {},
   "source": [
    "# Función objetivo.\n",
    "\n",
    "Tal y como hemos explicado anteriormente, vamos a definir la variable $b_j$ de tipo binario e indicativo si se utiliza o no el contenedor j de la siguiente manera"
   ]
  },
  {
   "cell_type": "code",
   "execution_count": 4,
   "id": "265a6dbc",
   "metadata": {},
   "outputs": [],
   "source": [
    "from dimod import Binary\n",
    "bin_used = [Binary(f'bin_used_{j}') for j in range(num_items)]"
   ]
  },
  {
   "cell_type": "markdown",
   "id": "26a7091e",
   "metadata": {},
   "source": [
    "Veamos cual es el contenido de las variables que acabamos de generar"
   ]
  },
  {
   "cell_type": "code",
   "execution_count": 5,
   "id": "90078673",
   "metadata": {},
   "outputs": [
    {
     "data": {
      "text/plain": [
       "[BinaryQuadraticModel({'bin_used_0': 1.0}, {}, 0.0, 'BINARY'),\n",
       " BinaryQuadraticModel({'bin_used_1': 1.0}, {}, 0.0, 'BINARY'),\n",
       " BinaryQuadraticModel({'bin_used_2': 1.0}, {}, 0.0, 'BINARY'),\n",
       " BinaryQuadraticModel({'bin_used_3': 1.0}, {}, 0.0, 'BINARY'),\n",
       " BinaryQuadraticModel({'bin_used_4': 1.0}, {}, 0.0, 'BINARY'),\n",
       " BinaryQuadraticModel({'bin_used_5': 1.0}, {}, 0.0, 'BINARY'),\n",
       " BinaryQuadraticModel({'bin_used_6': 1.0}, {}, 0.0, 'BINARY'),\n",
       " BinaryQuadraticModel({'bin_used_7': 1.0}, {}, 0.0, 'BINARY'),\n",
       " BinaryQuadraticModel({'bin_used_8': 1.0}, {}, 0.0, 'BINARY'),\n",
       " BinaryQuadraticModel({'bin_used_9': 1.0}, {}, 0.0, 'BINARY'),\n",
       " BinaryQuadraticModel({'bin_used_10': 1.0}, {}, 0.0, 'BINARY'),\n",
       " BinaryQuadraticModel({'bin_used_11': 1.0}, {}, 0.0, 'BINARY'),\n",
       " BinaryQuadraticModel({'bin_used_12': 1.0}, {}, 0.0, 'BINARY'),\n",
       " BinaryQuadraticModel({'bin_used_13': 1.0}, {}, 0.0, 'BINARY'),\n",
       " BinaryQuadraticModel({'bin_used_14': 1.0}, {}, 0.0, 'BINARY')]"
      ]
     },
     "execution_count": 5,
     "metadata": {},
     "output_type": "execute_result"
    }
   ],
   "source": [
    "bin_used"
   ]
  },
  {
   "cell_type": "markdown",
   "id": "17474892",
   "metadata": {},
   "source": [
    "La función objetivo tendrá el siguiente formato:\n",
    "\n",
    "$$min(\\sum {b_j}) $$\n",
    "\n",
    "Es decir:"
   ]
  },
  {
   "cell_type": "code",
   "execution_count": 6,
   "id": "219d95e7",
   "metadata": {},
   "outputs": [],
   "source": [
    "cqm.set_objective(sum(bin_used))"
   ]
  },
  {
   "cell_type": "markdown",
   "id": "067065ff",
   "metadata": {},
   "source": [
    "Como hemos visto anteriormente las variables generadas son del tipo `BinaryQuadraticModel`, pero veamos qué ocurre si a estas variables les multiplicamos por una determinada cantidad"
   ]
  },
  {
   "cell_type": "code",
   "execution_count": 7,
   "id": "d3f4576a",
   "metadata": {},
   "outputs": [
    {
     "data": {
      "text/plain": [
       "BinaryQuadraticModel({'bin_used_0': 4.5}, {}, 0.0, 'BINARY')"
      ]
     },
     "execution_count": 7,
     "metadata": {},
     "output_type": "execute_result"
    }
   ],
   "source": [
    "4.5*bin_used[0]"
   ]
  },
  {
   "cell_type": "markdown",
   "id": "587d5e81",
   "metadata": {},
   "source": [
    "o incluso si multiplicamos dos de esta variables"
   ]
  },
  {
   "cell_type": "code",
   "execution_count": 8,
   "id": "1540cc51",
   "metadata": {},
   "outputs": [
    {
     "data": {
      "text/plain": [
       "BinaryQuadraticModel({'bin_used_0': 0.0, 'bin_used_1': 0.0}, {('bin_used_1', 'bin_used_0'): 4.5}, 0.0, 'BINARY')"
      ]
     },
     "execution_count": 8,
     "metadata": {},
     "output_type": "execute_result"
    }
   ],
   "source": [
    "4.5*bin_used[0]*bin_used[1]"
   ]
  },
  {
   "cell_type": "markdown",
   "id": "8d0da621",
   "metadata": {},
   "source": [
    "Si multiplicamos tres variables tendriamos un error porque no sería un término cuadrático"
   ]
  },
  {
   "cell_type": "code",
   "execution_count": 9,
   "id": "d61b35f2",
   "metadata": {},
   "outputs": [
    {
     "ename": "TypeError",
     "evalue": "cannot multiply BQMs with interactions",
     "output_type": "error",
     "traceback": [
      "\u001b[1;31m---------------------------------------------------------------------------\u001b[0m",
      "\u001b[1;31mTypeError\u001b[0m                                 Traceback (most recent call last)",
      "\u001b[1;32m~\\AppData\\Local\\Temp\\ipykernel_15812\\820587232.py\u001b[0m in \u001b[0;36m<module>\u001b[1;34m\u001b[0m\n\u001b[1;32m----> 1\u001b[1;33m \u001b[1;36m4.5\u001b[0m\u001b[1;33m*\u001b[0m\u001b[0mbin_used\u001b[0m\u001b[1;33m[\u001b[0m\u001b[1;36m0\u001b[0m\u001b[1;33m]\u001b[0m\u001b[1;33m*\u001b[0m\u001b[0mbin_used\u001b[0m\u001b[1;33m[\u001b[0m\u001b[1;36m1\u001b[0m\u001b[1;33m]\u001b[0m\u001b[1;33m*\u001b[0m\u001b[0mbin_used\u001b[0m\u001b[1;33m[\u001b[0m\u001b[1;36m3\u001b[0m\u001b[1;33m]\u001b[0m\u001b[1;33m\u001b[0m\u001b[1;33m\u001b[0m\u001b[0m\n\u001b[0m",
      "\u001b[1;32md:\\mistrabajos\\dwaveocean\\ocean\\lib\\site-packages\\dimod\\binary\\binary_quadratic_model.py\u001b[0m in \u001b[0;36m__mul__\u001b[1;34m(self, other)\u001b[0m\n\u001b[0;32m    335\u001b[0m             \u001b[1;32mif\u001b[0m \u001b[1;32mnot\u001b[0m \u001b[1;33m(\u001b[0m\u001b[0mself\u001b[0m\u001b[1;33m.\u001b[0m\u001b[0mis_linear\u001b[0m\u001b[1;33m(\u001b[0m\u001b[1;33m)\u001b[0m \u001b[1;32mand\u001b[0m \u001b[0mother\u001b[0m\u001b[1;33m.\u001b[0m\u001b[0mis_linear\u001b[0m\u001b[1;33m(\u001b[0m\u001b[1;33m)\u001b[0m\u001b[1;33m)\u001b[0m\u001b[1;33m:\u001b[0m\u001b[1;33m\u001b[0m\u001b[1;33m\u001b[0m\u001b[0m\n\u001b[0;32m    336\u001b[0m                 raise TypeError(\n\u001b[1;32m--> 337\u001b[1;33m                     \"cannot multiply BQMs with interactions\")\n\u001b[0m\u001b[0;32m    338\u001b[0m             \u001b[1;32melif\u001b[0m \u001b[0mother\u001b[0m\u001b[1;33m.\u001b[0m\u001b[0mnum_variables\u001b[0m \u001b[1;32mand\u001b[0m \u001b[0mother\u001b[0m\u001b[1;33m.\u001b[0m\u001b[0mvartype\u001b[0m \u001b[1;33m!=\u001b[0m \u001b[0mself\u001b[0m\u001b[1;33m.\u001b[0m\u001b[0mvartype\u001b[0m\u001b[1;33m:\u001b[0m\u001b[1;33m\u001b[0m\u001b[1;33m\u001b[0m\u001b[0m\n\u001b[0;32m    339\u001b[0m                 \u001b[1;31m# promote self\u001b[0m\u001b[1;33m\u001b[0m\u001b[1;33m\u001b[0m\u001b[1;33m\u001b[0m\u001b[0m\n",
      "\u001b[1;31mTypeError\u001b[0m: cannot multiply BQMs with interactions"
     ]
    }
   ],
   "source": [
    "4.5*bin_used[0]*bin_used[1]*bin_used[3]"
   ]
  },
  {
   "cell_type": "markdown",
   "id": "82b2d967",
   "metadata": {},
   "source": [
    "# Restricciones.\n",
    "\n",
    "A continuación procedemos a implementar las restricciones que deben tenerse en cuenta en este modelo.\n",
    "\n",
    "En primer lugar se debe cargar cada item en un sólo bin o contenedor. Entonces si designamos por $x_{i,j}$ la variable binaria relativa a que el objeto o item i va en el contenedor j, entonces para cada i la suma en j de estas variables debe ser 1. Es decir:\n",
    "\n",
    "$$\\sum_{j}{x_{i,j}}=1 $$\n",
    "\n",
    "Definamos estas variables $x_{i,j}$"
   ]
  },
  {
   "cell_type": "code",
   "execution_count": 10,
   "id": "76bf4c4c",
   "metadata": {},
   "outputs": [
    {
     "data": {
      "text/plain": [
       "[[BinaryQuadraticModel({'item_0_in_bin_0': 1.0}, {}, 0.0, 'BINARY'),\n",
       "  BinaryQuadraticModel({'item_0_in_bin_1': 1.0}, {}, 0.0, 'BINARY'),\n",
       "  BinaryQuadraticModel({'item_0_in_bin_2': 1.0}, {}, 0.0, 'BINARY'),\n",
       "  BinaryQuadraticModel({'item_0_in_bin_3': 1.0}, {}, 0.0, 'BINARY'),\n",
       "  BinaryQuadraticModel({'item_0_in_bin_4': 1.0}, {}, 0.0, 'BINARY'),\n",
       "  BinaryQuadraticModel({'item_0_in_bin_5': 1.0}, {}, 0.0, 'BINARY'),\n",
       "  BinaryQuadraticModel({'item_0_in_bin_6': 1.0}, {}, 0.0, 'BINARY'),\n",
       "  BinaryQuadraticModel({'item_0_in_bin_7': 1.0}, {}, 0.0, 'BINARY'),\n",
       "  BinaryQuadraticModel({'item_0_in_bin_8': 1.0}, {}, 0.0, 'BINARY'),\n",
       "  BinaryQuadraticModel({'item_0_in_bin_9': 1.0}, {}, 0.0, 'BINARY'),\n",
       "  BinaryQuadraticModel({'item_0_in_bin_10': 1.0}, {}, 0.0, 'BINARY'),\n",
       "  BinaryQuadraticModel({'item_0_in_bin_11': 1.0}, {}, 0.0, 'BINARY'),\n",
       "  BinaryQuadraticModel({'item_0_in_bin_12': 1.0}, {}, 0.0, 'BINARY'),\n",
       "  BinaryQuadraticModel({'item_0_in_bin_13': 1.0}, {}, 0.0, 'BINARY'),\n",
       "  BinaryQuadraticModel({'item_0_in_bin_14': 1.0}, {}, 0.0, 'BINARY')],\n",
       " [BinaryQuadraticModel({'item_1_in_bin_0': 1.0}, {}, 0.0, 'BINARY'),\n",
       "  BinaryQuadraticModel({'item_1_in_bin_1': 1.0}, {}, 0.0, 'BINARY'),\n",
       "  BinaryQuadraticModel({'item_1_in_bin_2': 1.0}, {}, 0.0, 'BINARY'),\n",
       "  BinaryQuadraticModel({'item_1_in_bin_3': 1.0}, {}, 0.0, 'BINARY'),\n",
       "  BinaryQuadraticModel({'item_1_in_bin_4': 1.0}, {}, 0.0, 'BINARY'),\n",
       "  BinaryQuadraticModel({'item_1_in_bin_5': 1.0}, {}, 0.0, 'BINARY'),\n",
       "  BinaryQuadraticModel({'item_1_in_bin_6': 1.0}, {}, 0.0, 'BINARY'),\n",
       "  BinaryQuadraticModel({'item_1_in_bin_7': 1.0}, {}, 0.0, 'BINARY'),\n",
       "  BinaryQuadraticModel({'item_1_in_bin_8': 1.0}, {}, 0.0, 'BINARY'),\n",
       "  BinaryQuadraticModel({'item_1_in_bin_9': 1.0}, {}, 0.0, 'BINARY'),\n",
       "  BinaryQuadraticModel({'item_1_in_bin_10': 1.0}, {}, 0.0, 'BINARY'),\n",
       "  BinaryQuadraticModel({'item_1_in_bin_11': 1.0}, {}, 0.0, 'BINARY'),\n",
       "  BinaryQuadraticModel({'item_1_in_bin_12': 1.0}, {}, 0.0, 'BINARY'),\n",
       "  BinaryQuadraticModel({'item_1_in_bin_13': 1.0}, {}, 0.0, 'BINARY'),\n",
       "  BinaryQuadraticModel({'item_1_in_bin_14': 1.0}, {}, 0.0, 'BINARY')],\n",
       " [BinaryQuadraticModel({'item_2_in_bin_0': 1.0}, {}, 0.0, 'BINARY'),\n",
       "  BinaryQuadraticModel({'item_2_in_bin_1': 1.0}, {}, 0.0, 'BINARY'),\n",
       "  BinaryQuadraticModel({'item_2_in_bin_2': 1.0}, {}, 0.0, 'BINARY'),\n",
       "  BinaryQuadraticModel({'item_2_in_bin_3': 1.0}, {}, 0.0, 'BINARY'),\n",
       "  BinaryQuadraticModel({'item_2_in_bin_4': 1.0}, {}, 0.0, 'BINARY'),\n",
       "  BinaryQuadraticModel({'item_2_in_bin_5': 1.0}, {}, 0.0, 'BINARY'),\n",
       "  BinaryQuadraticModel({'item_2_in_bin_6': 1.0}, {}, 0.0, 'BINARY'),\n",
       "  BinaryQuadraticModel({'item_2_in_bin_7': 1.0}, {}, 0.0, 'BINARY'),\n",
       "  BinaryQuadraticModel({'item_2_in_bin_8': 1.0}, {}, 0.0, 'BINARY'),\n",
       "  BinaryQuadraticModel({'item_2_in_bin_9': 1.0}, {}, 0.0, 'BINARY'),\n",
       "  BinaryQuadraticModel({'item_2_in_bin_10': 1.0}, {}, 0.0, 'BINARY'),\n",
       "  BinaryQuadraticModel({'item_2_in_bin_11': 1.0}, {}, 0.0, 'BINARY'),\n",
       "  BinaryQuadraticModel({'item_2_in_bin_12': 1.0}, {}, 0.0, 'BINARY'),\n",
       "  BinaryQuadraticModel({'item_2_in_bin_13': 1.0}, {}, 0.0, 'BINARY'),\n",
       "  BinaryQuadraticModel({'item_2_in_bin_14': 1.0}, {}, 0.0, 'BINARY')],\n",
       " [BinaryQuadraticModel({'item_3_in_bin_0': 1.0}, {}, 0.0, 'BINARY'),\n",
       "  BinaryQuadraticModel({'item_3_in_bin_1': 1.0}, {}, 0.0, 'BINARY'),\n",
       "  BinaryQuadraticModel({'item_3_in_bin_2': 1.0}, {}, 0.0, 'BINARY'),\n",
       "  BinaryQuadraticModel({'item_3_in_bin_3': 1.0}, {}, 0.0, 'BINARY'),\n",
       "  BinaryQuadraticModel({'item_3_in_bin_4': 1.0}, {}, 0.0, 'BINARY'),\n",
       "  BinaryQuadraticModel({'item_3_in_bin_5': 1.0}, {}, 0.0, 'BINARY'),\n",
       "  BinaryQuadraticModel({'item_3_in_bin_6': 1.0}, {}, 0.0, 'BINARY'),\n",
       "  BinaryQuadraticModel({'item_3_in_bin_7': 1.0}, {}, 0.0, 'BINARY'),\n",
       "  BinaryQuadraticModel({'item_3_in_bin_8': 1.0}, {}, 0.0, 'BINARY'),\n",
       "  BinaryQuadraticModel({'item_3_in_bin_9': 1.0}, {}, 0.0, 'BINARY'),\n",
       "  BinaryQuadraticModel({'item_3_in_bin_10': 1.0}, {}, 0.0, 'BINARY'),\n",
       "  BinaryQuadraticModel({'item_3_in_bin_11': 1.0}, {}, 0.0, 'BINARY'),\n",
       "  BinaryQuadraticModel({'item_3_in_bin_12': 1.0}, {}, 0.0, 'BINARY'),\n",
       "  BinaryQuadraticModel({'item_3_in_bin_13': 1.0}, {}, 0.0, 'BINARY'),\n",
       "  BinaryQuadraticModel({'item_3_in_bin_14': 1.0}, {}, 0.0, 'BINARY')],\n",
       " [BinaryQuadraticModel({'item_4_in_bin_0': 1.0}, {}, 0.0, 'BINARY'),\n",
       "  BinaryQuadraticModel({'item_4_in_bin_1': 1.0}, {}, 0.0, 'BINARY'),\n",
       "  BinaryQuadraticModel({'item_4_in_bin_2': 1.0}, {}, 0.0, 'BINARY'),\n",
       "  BinaryQuadraticModel({'item_4_in_bin_3': 1.0}, {}, 0.0, 'BINARY'),\n",
       "  BinaryQuadraticModel({'item_4_in_bin_4': 1.0}, {}, 0.0, 'BINARY'),\n",
       "  BinaryQuadraticModel({'item_4_in_bin_5': 1.0}, {}, 0.0, 'BINARY'),\n",
       "  BinaryQuadraticModel({'item_4_in_bin_6': 1.0}, {}, 0.0, 'BINARY'),\n",
       "  BinaryQuadraticModel({'item_4_in_bin_7': 1.0}, {}, 0.0, 'BINARY'),\n",
       "  BinaryQuadraticModel({'item_4_in_bin_8': 1.0}, {}, 0.0, 'BINARY'),\n",
       "  BinaryQuadraticModel({'item_4_in_bin_9': 1.0}, {}, 0.0, 'BINARY'),\n",
       "  BinaryQuadraticModel({'item_4_in_bin_10': 1.0}, {}, 0.0, 'BINARY'),\n",
       "  BinaryQuadraticModel({'item_4_in_bin_11': 1.0}, {}, 0.0, 'BINARY'),\n",
       "  BinaryQuadraticModel({'item_4_in_bin_12': 1.0}, {}, 0.0, 'BINARY'),\n",
       "  BinaryQuadraticModel({'item_4_in_bin_13': 1.0}, {}, 0.0, 'BINARY'),\n",
       "  BinaryQuadraticModel({'item_4_in_bin_14': 1.0}, {}, 0.0, 'BINARY')],\n",
       " [BinaryQuadraticModel({'item_5_in_bin_0': 1.0}, {}, 0.0, 'BINARY'),\n",
       "  BinaryQuadraticModel({'item_5_in_bin_1': 1.0}, {}, 0.0, 'BINARY'),\n",
       "  BinaryQuadraticModel({'item_5_in_bin_2': 1.0}, {}, 0.0, 'BINARY'),\n",
       "  BinaryQuadraticModel({'item_5_in_bin_3': 1.0}, {}, 0.0, 'BINARY'),\n",
       "  BinaryQuadraticModel({'item_5_in_bin_4': 1.0}, {}, 0.0, 'BINARY'),\n",
       "  BinaryQuadraticModel({'item_5_in_bin_5': 1.0}, {}, 0.0, 'BINARY'),\n",
       "  BinaryQuadraticModel({'item_5_in_bin_6': 1.0}, {}, 0.0, 'BINARY'),\n",
       "  BinaryQuadraticModel({'item_5_in_bin_7': 1.0}, {}, 0.0, 'BINARY'),\n",
       "  BinaryQuadraticModel({'item_5_in_bin_8': 1.0}, {}, 0.0, 'BINARY'),\n",
       "  BinaryQuadraticModel({'item_5_in_bin_9': 1.0}, {}, 0.0, 'BINARY'),\n",
       "  BinaryQuadraticModel({'item_5_in_bin_10': 1.0}, {}, 0.0, 'BINARY'),\n",
       "  BinaryQuadraticModel({'item_5_in_bin_11': 1.0}, {}, 0.0, 'BINARY'),\n",
       "  BinaryQuadraticModel({'item_5_in_bin_12': 1.0}, {}, 0.0, 'BINARY'),\n",
       "  BinaryQuadraticModel({'item_5_in_bin_13': 1.0}, {}, 0.0, 'BINARY'),\n",
       "  BinaryQuadraticModel({'item_5_in_bin_14': 1.0}, {}, 0.0, 'BINARY')],\n",
       " [BinaryQuadraticModel({'item_6_in_bin_0': 1.0}, {}, 0.0, 'BINARY'),\n",
       "  BinaryQuadraticModel({'item_6_in_bin_1': 1.0}, {}, 0.0, 'BINARY'),\n",
       "  BinaryQuadraticModel({'item_6_in_bin_2': 1.0}, {}, 0.0, 'BINARY'),\n",
       "  BinaryQuadraticModel({'item_6_in_bin_3': 1.0}, {}, 0.0, 'BINARY'),\n",
       "  BinaryQuadraticModel({'item_6_in_bin_4': 1.0}, {}, 0.0, 'BINARY'),\n",
       "  BinaryQuadraticModel({'item_6_in_bin_5': 1.0}, {}, 0.0, 'BINARY'),\n",
       "  BinaryQuadraticModel({'item_6_in_bin_6': 1.0}, {}, 0.0, 'BINARY'),\n",
       "  BinaryQuadraticModel({'item_6_in_bin_7': 1.0}, {}, 0.0, 'BINARY'),\n",
       "  BinaryQuadraticModel({'item_6_in_bin_8': 1.0}, {}, 0.0, 'BINARY'),\n",
       "  BinaryQuadraticModel({'item_6_in_bin_9': 1.0}, {}, 0.0, 'BINARY'),\n",
       "  BinaryQuadraticModel({'item_6_in_bin_10': 1.0}, {}, 0.0, 'BINARY'),\n",
       "  BinaryQuadraticModel({'item_6_in_bin_11': 1.0}, {}, 0.0, 'BINARY'),\n",
       "  BinaryQuadraticModel({'item_6_in_bin_12': 1.0}, {}, 0.0, 'BINARY'),\n",
       "  BinaryQuadraticModel({'item_6_in_bin_13': 1.0}, {}, 0.0, 'BINARY'),\n",
       "  BinaryQuadraticModel({'item_6_in_bin_14': 1.0}, {}, 0.0, 'BINARY')],\n",
       " [BinaryQuadraticModel({'item_7_in_bin_0': 1.0}, {}, 0.0, 'BINARY'),\n",
       "  BinaryQuadraticModel({'item_7_in_bin_1': 1.0}, {}, 0.0, 'BINARY'),\n",
       "  BinaryQuadraticModel({'item_7_in_bin_2': 1.0}, {}, 0.0, 'BINARY'),\n",
       "  BinaryQuadraticModel({'item_7_in_bin_3': 1.0}, {}, 0.0, 'BINARY'),\n",
       "  BinaryQuadraticModel({'item_7_in_bin_4': 1.0}, {}, 0.0, 'BINARY'),\n",
       "  BinaryQuadraticModel({'item_7_in_bin_5': 1.0}, {}, 0.0, 'BINARY'),\n",
       "  BinaryQuadraticModel({'item_7_in_bin_6': 1.0}, {}, 0.0, 'BINARY'),\n",
       "  BinaryQuadraticModel({'item_7_in_bin_7': 1.0}, {}, 0.0, 'BINARY'),\n",
       "  BinaryQuadraticModel({'item_7_in_bin_8': 1.0}, {}, 0.0, 'BINARY'),\n",
       "  BinaryQuadraticModel({'item_7_in_bin_9': 1.0}, {}, 0.0, 'BINARY'),\n",
       "  BinaryQuadraticModel({'item_7_in_bin_10': 1.0}, {}, 0.0, 'BINARY'),\n",
       "  BinaryQuadraticModel({'item_7_in_bin_11': 1.0}, {}, 0.0, 'BINARY'),\n",
       "  BinaryQuadraticModel({'item_7_in_bin_12': 1.0}, {}, 0.0, 'BINARY'),\n",
       "  BinaryQuadraticModel({'item_7_in_bin_13': 1.0}, {}, 0.0, 'BINARY'),\n",
       "  BinaryQuadraticModel({'item_7_in_bin_14': 1.0}, {}, 0.0, 'BINARY')],\n",
       " [BinaryQuadraticModel({'item_8_in_bin_0': 1.0}, {}, 0.0, 'BINARY'),\n",
       "  BinaryQuadraticModel({'item_8_in_bin_1': 1.0}, {}, 0.0, 'BINARY'),\n",
       "  BinaryQuadraticModel({'item_8_in_bin_2': 1.0}, {}, 0.0, 'BINARY'),\n",
       "  BinaryQuadraticModel({'item_8_in_bin_3': 1.0}, {}, 0.0, 'BINARY'),\n",
       "  BinaryQuadraticModel({'item_8_in_bin_4': 1.0}, {}, 0.0, 'BINARY'),\n",
       "  BinaryQuadraticModel({'item_8_in_bin_5': 1.0}, {}, 0.0, 'BINARY'),\n",
       "  BinaryQuadraticModel({'item_8_in_bin_6': 1.0}, {}, 0.0, 'BINARY'),\n",
       "  BinaryQuadraticModel({'item_8_in_bin_7': 1.0}, {}, 0.0, 'BINARY'),\n",
       "  BinaryQuadraticModel({'item_8_in_bin_8': 1.0}, {}, 0.0, 'BINARY'),\n",
       "  BinaryQuadraticModel({'item_8_in_bin_9': 1.0}, {}, 0.0, 'BINARY'),\n",
       "  BinaryQuadraticModel({'item_8_in_bin_10': 1.0}, {}, 0.0, 'BINARY'),\n",
       "  BinaryQuadraticModel({'item_8_in_bin_11': 1.0}, {}, 0.0, 'BINARY'),\n",
       "  BinaryQuadraticModel({'item_8_in_bin_12': 1.0}, {}, 0.0, 'BINARY'),\n",
       "  BinaryQuadraticModel({'item_8_in_bin_13': 1.0}, {}, 0.0, 'BINARY'),\n",
       "  BinaryQuadraticModel({'item_8_in_bin_14': 1.0}, {}, 0.0, 'BINARY')],\n",
       " [BinaryQuadraticModel({'item_9_in_bin_0': 1.0}, {}, 0.0, 'BINARY'),\n",
       "  BinaryQuadraticModel({'item_9_in_bin_1': 1.0}, {}, 0.0, 'BINARY'),\n",
       "  BinaryQuadraticModel({'item_9_in_bin_2': 1.0}, {}, 0.0, 'BINARY'),\n",
       "  BinaryQuadraticModel({'item_9_in_bin_3': 1.0}, {}, 0.0, 'BINARY'),\n",
       "  BinaryQuadraticModel({'item_9_in_bin_4': 1.0}, {}, 0.0, 'BINARY'),\n",
       "  BinaryQuadraticModel({'item_9_in_bin_5': 1.0}, {}, 0.0, 'BINARY'),\n",
       "  BinaryQuadraticModel({'item_9_in_bin_6': 1.0}, {}, 0.0, 'BINARY'),\n",
       "  BinaryQuadraticModel({'item_9_in_bin_7': 1.0}, {}, 0.0, 'BINARY'),\n",
       "  BinaryQuadraticModel({'item_9_in_bin_8': 1.0}, {}, 0.0, 'BINARY'),\n",
       "  BinaryQuadraticModel({'item_9_in_bin_9': 1.0}, {}, 0.0, 'BINARY'),\n",
       "  BinaryQuadraticModel({'item_9_in_bin_10': 1.0}, {}, 0.0, 'BINARY'),\n",
       "  BinaryQuadraticModel({'item_9_in_bin_11': 1.0}, {}, 0.0, 'BINARY'),\n",
       "  BinaryQuadraticModel({'item_9_in_bin_12': 1.0}, {}, 0.0, 'BINARY'),\n",
       "  BinaryQuadraticModel({'item_9_in_bin_13': 1.0}, {}, 0.0, 'BINARY'),\n",
       "  BinaryQuadraticModel({'item_9_in_bin_14': 1.0}, {}, 0.0, 'BINARY')],\n",
       " [BinaryQuadraticModel({'item_10_in_bin_0': 1.0}, {}, 0.0, 'BINARY'),\n",
       "  BinaryQuadraticModel({'item_10_in_bin_1': 1.0}, {}, 0.0, 'BINARY'),\n",
       "  BinaryQuadraticModel({'item_10_in_bin_2': 1.0}, {}, 0.0, 'BINARY'),\n",
       "  BinaryQuadraticModel({'item_10_in_bin_3': 1.0}, {}, 0.0, 'BINARY'),\n",
       "  BinaryQuadraticModel({'item_10_in_bin_4': 1.0}, {}, 0.0, 'BINARY'),\n",
       "  BinaryQuadraticModel({'item_10_in_bin_5': 1.0}, {}, 0.0, 'BINARY'),\n",
       "  BinaryQuadraticModel({'item_10_in_bin_6': 1.0}, {}, 0.0, 'BINARY'),\n",
       "  BinaryQuadraticModel({'item_10_in_bin_7': 1.0}, {}, 0.0, 'BINARY'),\n",
       "  BinaryQuadraticModel({'item_10_in_bin_8': 1.0}, {}, 0.0, 'BINARY'),\n",
       "  BinaryQuadraticModel({'item_10_in_bin_9': 1.0}, {}, 0.0, 'BINARY'),\n",
       "  BinaryQuadraticModel({'item_10_in_bin_10': 1.0}, {}, 0.0, 'BINARY'),\n",
       "  BinaryQuadraticModel({'item_10_in_bin_11': 1.0}, {}, 0.0, 'BINARY'),\n",
       "  BinaryQuadraticModel({'item_10_in_bin_12': 1.0}, {}, 0.0, 'BINARY'),\n",
       "  BinaryQuadraticModel({'item_10_in_bin_13': 1.0}, {}, 0.0, 'BINARY'),\n",
       "  BinaryQuadraticModel({'item_10_in_bin_14': 1.0}, {}, 0.0, 'BINARY')],\n",
       " [BinaryQuadraticModel({'item_11_in_bin_0': 1.0}, {}, 0.0, 'BINARY'),\n",
       "  BinaryQuadraticModel({'item_11_in_bin_1': 1.0}, {}, 0.0, 'BINARY'),\n",
       "  BinaryQuadraticModel({'item_11_in_bin_2': 1.0}, {}, 0.0, 'BINARY'),\n",
       "  BinaryQuadraticModel({'item_11_in_bin_3': 1.0}, {}, 0.0, 'BINARY'),\n",
       "  BinaryQuadraticModel({'item_11_in_bin_4': 1.0}, {}, 0.0, 'BINARY'),\n",
       "  BinaryQuadraticModel({'item_11_in_bin_5': 1.0}, {}, 0.0, 'BINARY'),\n",
       "  BinaryQuadraticModel({'item_11_in_bin_6': 1.0}, {}, 0.0, 'BINARY'),\n",
       "  BinaryQuadraticModel({'item_11_in_bin_7': 1.0}, {}, 0.0, 'BINARY'),\n",
       "  BinaryQuadraticModel({'item_11_in_bin_8': 1.0}, {}, 0.0, 'BINARY'),\n",
       "  BinaryQuadraticModel({'item_11_in_bin_9': 1.0}, {}, 0.0, 'BINARY'),\n",
       "  BinaryQuadraticModel({'item_11_in_bin_10': 1.0}, {}, 0.0, 'BINARY'),\n",
       "  BinaryQuadraticModel({'item_11_in_bin_11': 1.0}, {}, 0.0, 'BINARY'),\n",
       "  BinaryQuadraticModel({'item_11_in_bin_12': 1.0}, {}, 0.0, 'BINARY'),\n",
       "  BinaryQuadraticModel({'item_11_in_bin_13': 1.0}, {}, 0.0, 'BINARY'),\n",
       "  BinaryQuadraticModel({'item_11_in_bin_14': 1.0}, {}, 0.0, 'BINARY')],\n",
       " [BinaryQuadraticModel({'item_12_in_bin_0': 1.0}, {}, 0.0, 'BINARY'),\n",
       "  BinaryQuadraticModel({'item_12_in_bin_1': 1.0}, {}, 0.0, 'BINARY'),\n",
       "  BinaryQuadraticModel({'item_12_in_bin_2': 1.0}, {}, 0.0, 'BINARY'),\n",
       "  BinaryQuadraticModel({'item_12_in_bin_3': 1.0}, {}, 0.0, 'BINARY'),\n",
       "  BinaryQuadraticModel({'item_12_in_bin_4': 1.0}, {}, 0.0, 'BINARY'),\n",
       "  BinaryQuadraticModel({'item_12_in_bin_5': 1.0}, {}, 0.0, 'BINARY'),\n",
       "  BinaryQuadraticModel({'item_12_in_bin_6': 1.0}, {}, 0.0, 'BINARY'),\n",
       "  BinaryQuadraticModel({'item_12_in_bin_7': 1.0}, {}, 0.0, 'BINARY'),\n",
       "  BinaryQuadraticModel({'item_12_in_bin_8': 1.0}, {}, 0.0, 'BINARY'),\n",
       "  BinaryQuadraticModel({'item_12_in_bin_9': 1.0}, {}, 0.0, 'BINARY'),\n",
       "  BinaryQuadraticModel({'item_12_in_bin_10': 1.0}, {}, 0.0, 'BINARY'),\n",
       "  BinaryQuadraticModel({'item_12_in_bin_11': 1.0}, {}, 0.0, 'BINARY'),\n",
       "  BinaryQuadraticModel({'item_12_in_bin_12': 1.0}, {}, 0.0, 'BINARY'),\n",
       "  BinaryQuadraticModel({'item_12_in_bin_13': 1.0}, {}, 0.0, 'BINARY'),\n",
       "  BinaryQuadraticModel({'item_12_in_bin_14': 1.0}, {}, 0.0, 'BINARY')],\n",
       " [BinaryQuadraticModel({'item_13_in_bin_0': 1.0}, {}, 0.0, 'BINARY'),\n",
       "  BinaryQuadraticModel({'item_13_in_bin_1': 1.0}, {}, 0.0, 'BINARY'),\n",
       "  BinaryQuadraticModel({'item_13_in_bin_2': 1.0}, {}, 0.0, 'BINARY'),\n",
       "  BinaryQuadraticModel({'item_13_in_bin_3': 1.0}, {}, 0.0, 'BINARY'),\n",
       "  BinaryQuadraticModel({'item_13_in_bin_4': 1.0}, {}, 0.0, 'BINARY'),\n",
       "  BinaryQuadraticModel({'item_13_in_bin_5': 1.0}, {}, 0.0, 'BINARY'),\n",
       "  BinaryQuadraticModel({'item_13_in_bin_6': 1.0}, {}, 0.0, 'BINARY'),\n",
       "  BinaryQuadraticModel({'item_13_in_bin_7': 1.0}, {}, 0.0, 'BINARY'),\n",
       "  BinaryQuadraticModel({'item_13_in_bin_8': 1.0}, {}, 0.0, 'BINARY'),\n",
       "  BinaryQuadraticModel({'item_13_in_bin_9': 1.0}, {}, 0.0, 'BINARY'),\n",
       "  BinaryQuadraticModel({'item_13_in_bin_10': 1.0}, {}, 0.0, 'BINARY'),\n",
       "  BinaryQuadraticModel({'item_13_in_bin_11': 1.0}, {}, 0.0, 'BINARY'),\n",
       "  BinaryQuadraticModel({'item_13_in_bin_12': 1.0}, {}, 0.0, 'BINARY'),\n",
       "  BinaryQuadraticModel({'item_13_in_bin_13': 1.0}, {}, 0.0, 'BINARY'),\n",
       "  BinaryQuadraticModel({'item_13_in_bin_14': 1.0}, {}, 0.0, 'BINARY')],\n",
       " [BinaryQuadraticModel({'item_14_in_bin_0': 1.0}, {}, 0.0, 'BINARY'),\n",
       "  BinaryQuadraticModel({'item_14_in_bin_1': 1.0}, {}, 0.0, 'BINARY'),\n",
       "  BinaryQuadraticModel({'item_14_in_bin_2': 1.0}, {}, 0.0, 'BINARY'),\n",
       "  BinaryQuadraticModel({'item_14_in_bin_3': 1.0}, {}, 0.0, 'BINARY'),\n",
       "  BinaryQuadraticModel({'item_14_in_bin_4': 1.0}, {}, 0.0, 'BINARY'),\n",
       "  BinaryQuadraticModel({'item_14_in_bin_5': 1.0}, {}, 0.0, 'BINARY'),\n",
       "  BinaryQuadraticModel({'item_14_in_bin_6': 1.0}, {}, 0.0, 'BINARY'),\n",
       "  BinaryQuadraticModel({'item_14_in_bin_7': 1.0}, {}, 0.0, 'BINARY'),\n",
       "  BinaryQuadraticModel({'item_14_in_bin_8': 1.0}, {}, 0.0, 'BINARY'),\n",
       "  BinaryQuadraticModel({'item_14_in_bin_9': 1.0}, {}, 0.0, 'BINARY'),\n",
       "  BinaryQuadraticModel({'item_14_in_bin_10': 1.0}, {}, 0.0, 'BINARY'),\n",
       "  BinaryQuadraticModel({'item_14_in_bin_11': 1.0}, {}, 0.0, 'BINARY'),\n",
       "  BinaryQuadraticModel({'item_14_in_bin_12': 1.0}, {}, 0.0, 'BINARY'),\n",
       "  BinaryQuadraticModel({'item_14_in_bin_13': 1.0}, {}, 0.0, 'BINARY'),\n",
       "  BinaryQuadraticModel({'item_14_in_bin_14': 1.0}, {}, 0.0, 'BINARY')]]"
      ]
     },
     "execution_count": 10,
     "metadata": {},
     "output_type": "execute_result"
    }
   ],
   "source": [
    "item_in_bin = [[Binary(f'item_{i}_in_bin_{j}') for j in range(num_items)]\n",
    "     for i in range(num_items)]\n",
    "item_in_bin"
   ]
  },
  {
   "cell_type": "markdown",
   "id": "c029029a",
   "metadata": {},
   "source": [
    "Ahora añadimos la restricción anterior para cada uno de los i_es"
   ]
  },
  {
   "cell_type": "code",
   "execution_count": 11,
   "id": "25e56901",
   "metadata": {},
   "outputs": [],
   "source": [
    "for i in range(num_items):\n",
    "    one_bin_per_item = cqm.add_constraint(sum(item_in_bin[i]) == 1, label=f'item_placing_{i}')"
   ]
  },
  {
   "cell_type": "markdown",
   "id": "7ba3a708",
   "metadata": {},
   "source": [
    "Otra restricción a tener en cuenta es que la capacidad de cada contenedor o bin es limitada y entonces para cada j se tiene que se debe cumplir:\n",
    "\n",
    "$$\\sum_{i}{x_{i,j}*{w_i}}<=C $$\n",
    "\n",
    "es decir:"
   ]
  },
  {
   "cell_type": "code",
   "execution_count": 12,
   "id": "b7bbc423",
   "metadata": {},
   "outputs": [],
   "source": [
    "for j in range(num_items):\n",
    "    bin_up_to_capacity = cqm.add_constraint(\n",
    "        sum(weights[i] * item_in_bin[i][j] for i in range(num_items)) - bin_used[j] * bin_capacity <= 0,\n",
    "        label=f'capacity_bin_{j}')"
   ]
  },
  {
   "cell_type": "code",
   "execution_count": 13,
   "id": "03537cda",
   "metadata": {},
   "outputs": [
    {
     "data": {
      "text/plain": [
       "240"
      ]
     },
     "execution_count": 13,
     "metadata": {},
     "output_type": "execute_result"
    }
   ],
   "source": [
    "len(cqm.variables)"
   ]
  },
  {
   "cell_type": "markdown",
   "id": "3edf2c3c",
   "metadata": {},
   "source": [
    "# Resolución del problema.\n",
    "\n"
   ]
  },
  {
   "cell_type": "code",
   "execution_count": 14,
   "id": "f44e76c9",
   "metadata": {},
   "outputs": [],
   "source": [
    "from dwave.system import LeapHybridCQMSampler\n",
    "sampler = LeapHybridCQMSampler()     "
   ]
  },
  {
   "cell_type": "code",
   "execution_count": 15,
   "id": "5f2c79b8",
   "metadata": {},
   "outputs": [
    {
     "name": "stdout",
     "output_type": "stream",
     "text": [
      "127 feasible solutions of 131.\n"
     ]
    }
   ],
   "source": [
    "sampleset = sampler.sample_cqm(cqm,\n",
    "                               time_limit=180,\n",
    "                               label=\"SDK Examples - Bin Packing\")\n",
    "# Nos quedamos con las soluciones factibles\n",
    "feasible_sampleset = sampleset.filter(lambda row: row.is_feasible)  \n",
    "if len(feasible_sampleset):      \n",
    "   best = feasible_sampleset.first\n",
    "   print(\"{} feasible solutions of {}.\".format(\n",
    "      len(feasible_sampleset), len(sampleset)))"
   ]
  },
  {
   "cell_type": "code",
   "execution_count": 16,
   "id": "61b48304",
   "metadata": {},
   "outputs": [
    {
     "data": {
      "text/plain": [
       "Sample(sample={'bin_used_0': 0.0, 'bin_used_1': 0.0, 'bin_used_10': 0.0, 'bin_used_11': 1.0, 'bin_used_12': 0.0, 'bin_used_13': 0.0, 'bin_used_14': 0.0, 'bin_used_2': 0.0, 'bin_used_3': 0.0, 'bin_used_4': 0.0, 'bin_used_5': 1.0, 'bin_used_6': 0.0, 'bin_used_7': 0.0, 'bin_used_8': 0.0, 'bin_used_9': 0.0, 'item_0_in_bin_0': 0.0, 'item_0_in_bin_1': 0.0, 'item_0_in_bin_10': 0.0, 'item_0_in_bin_11': 1.0, 'item_0_in_bin_12': 0.0, 'item_0_in_bin_13': 0.0, 'item_0_in_bin_14': 0.0, 'item_0_in_bin_2': 0.0, 'item_0_in_bin_3': 0.0, 'item_0_in_bin_4': 0.0, 'item_0_in_bin_5': 0.0, 'item_0_in_bin_6': 0.0, 'item_0_in_bin_7': 0.0, 'item_0_in_bin_8': 0.0, 'item_0_in_bin_9': 0.0, 'item_10_in_bin_0': 0.0, 'item_10_in_bin_1': 0.0, 'item_10_in_bin_10': 0.0, 'item_10_in_bin_11': 0.0, 'item_10_in_bin_12': 0.0, 'item_10_in_bin_13': 0.0, 'item_10_in_bin_14': 0.0, 'item_10_in_bin_2': 0.0, 'item_10_in_bin_3': 0.0, 'item_10_in_bin_4': 0.0, 'item_10_in_bin_5': 1.0, 'item_10_in_bin_6': 0.0, 'item_10_in_bin_7': 0.0, 'item_10_in_bin_8': 0.0, 'item_10_in_bin_9': 0.0, 'item_11_in_bin_0': 0.0, 'item_11_in_bin_1': 0.0, 'item_11_in_bin_10': 0.0, 'item_11_in_bin_11': 0.0, 'item_11_in_bin_12': 0.0, 'item_11_in_bin_13': 0.0, 'item_11_in_bin_14': 0.0, 'item_11_in_bin_2': 0.0, 'item_11_in_bin_3': 0.0, 'item_11_in_bin_4': 0.0, 'item_11_in_bin_5': 1.0, 'item_11_in_bin_6': 0.0, 'item_11_in_bin_7': 0.0, 'item_11_in_bin_8': 0.0, 'item_11_in_bin_9': 0.0, 'item_12_in_bin_0': 0.0, 'item_12_in_bin_1': 0.0, 'item_12_in_bin_10': 0.0, 'item_12_in_bin_11': 0.0, 'item_12_in_bin_12': 0.0, 'item_12_in_bin_13': 0.0, 'item_12_in_bin_14': 0.0, 'item_12_in_bin_2': 0.0, 'item_12_in_bin_3': 0.0, 'item_12_in_bin_4': 0.0, 'item_12_in_bin_5': 1.0, 'item_12_in_bin_6': 0.0, 'item_12_in_bin_7': 0.0, 'item_12_in_bin_8': 0.0, 'item_12_in_bin_9': 0.0, 'item_13_in_bin_0': 0.0, 'item_13_in_bin_1': 0.0, 'item_13_in_bin_10': 0.0, 'item_13_in_bin_11': 1.0, 'item_13_in_bin_12': 0.0, 'item_13_in_bin_13': 0.0, 'item_13_in_bin_14': 0.0, 'item_13_in_bin_2': 0.0, 'item_13_in_bin_3': 0.0, 'item_13_in_bin_4': 0.0, 'item_13_in_bin_5': 0.0, 'item_13_in_bin_6': 0.0, 'item_13_in_bin_7': 0.0, 'item_13_in_bin_8': 0.0, 'item_13_in_bin_9': 0.0, 'item_14_in_bin_0': 0.0, 'item_14_in_bin_1': 0.0, 'item_14_in_bin_10': 0.0, 'item_14_in_bin_11': 1.0, 'item_14_in_bin_12': 0.0, 'item_14_in_bin_13': 0.0, 'item_14_in_bin_14': 0.0, 'item_14_in_bin_2': 0.0, 'item_14_in_bin_3': 0.0, 'item_14_in_bin_4': 0.0, 'item_14_in_bin_5': 0.0, 'item_14_in_bin_6': 0.0, 'item_14_in_bin_7': 0.0, 'item_14_in_bin_8': 0.0, 'item_14_in_bin_9': 0.0, 'item_1_in_bin_0': 0.0, 'item_1_in_bin_1': 0.0, 'item_1_in_bin_10': 0.0, 'item_1_in_bin_11': 0.0, 'item_1_in_bin_12': 0.0, 'item_1_in_bin_13': 0.0, 'item_1_in_bin_14': 0.0, 'item_1_in_bin_2': 0.0, 'item_1_in_bin_3': 0.0, 'item_1_in_bin_4': 0.0, 'item_1_in_bin_5': 1.0, 'item_1_in_bin_6': 0.0, 'item_1_in_bin_7': 0.0, 'item_1_in_bin_8': 0.0, 'item_1_in_bin_9': 0.0, 'item_2_in_bin_0': 0.0, 'item_2_in_bin_1': 0.0, 'item_2_in_bin_10': 0.0, 'item_2_in_bin_11': 1.0, 'item_2_in_bin_12': 0.0, 'item_2_in_bin_13': 0.0, 'item_2_in_bin_14': 0.0, 'item_2_in_bin_2': 0.0, 'item_2_in_bin_3': 0.0, 'item_2_in_bin_4': 0.0, 'item_2_in_bin_5': 0.0, 'item_2_in_bin_6': 0.0, 'item_2_in_bin_7': 0.0, 'item_2_in_bin_8': 0.0, 'item_2_in_bin_9': 0.0, 'item_3_in_bin_0': 0.0, 'item_3_in_bin_1': 0.0, 'item_3_in_bin_10': 0.0, 'item_3_in_bin_11': 1.0, 'item_3_in_bin_12': 0.0, 'item_3_in_bin_13': 0.0, 'item_3_in_bin_14': 0.0, 'item_3_in_bin_2': 0.0, 'item_3_in_bin_3': 0.0, 'item_3_in_bin_4': 0.0, 'item_3_in_bin_5': 0.0, 'item_3_in_bin_6': 0.0, 'item_3_in_bin_7': 0.0, 'item_3_in_bin_8': 0.0, 'item_3_in_bin_9': 0.0, 'item_4_in_bin_0': 0.0, 'item_4_in_bin_1': 0.0, 'item_4_in_bin_10': 0.0, 'item_4_in_bin_11': 0.0, 'item_4_in_bin_12': 0.0, 'item_4_in_bin_13': 0.0, 'item_4_in_bin_14': 0.0, 'item_4_in_bin_2': 0.0, 'item_4_in_bin_3': 0.0, 'item_4_in_bin_4': 0.0, 'item_4_in_bin_5': 1.0, 'item_4_in_bin_6': 0.0, 'item_4_in_bin_7': 0.0, 'item_4_in_bin_8': 0.0, 'item_4_in_bin_9': 0.0, 'item_5_in_bin_0': 0.0, 'item_5_in_bin_1': 0.0, 'item_5_in_bin_10': 0.0, 'item_5_in_bin_11': 0.0, 'item_5_in_bin_12': 0.0, 'item_5_in_bin_13': 0.0, 'item_5_in_bin_14': 0.0, 'item_5_in_bin_2': 0.0, 'item_5_in_bin_3': 0.0, 'item_5_in_bin_4': 0.0, 'item_5_in_bin_5': 1.0, 'item_5_in_bin_6': 0.0, 'item_5_in_bin_7': 0.0, 'item_5_in_bin_8': 0.0, 'item_5_in_bin_9': 0.0, 'item_6_in_bin_0': 0.0, 'item_6_in_bin_1': 0.0, 'item_6_in_bin_10': 0.0, 'item_6_in_bin_11': 0.0, 'item_6_in_bin_12': 0.0, 'item_6_in_bin_13': 0.0, 'item_6_in_bin_14': 0.0, 'item_6_in_bin_2': 0.0, 'item_6_in_bin_3': 0.0, 'item_6_in_bin_4': 0.0, 'item_6_in_bin_5': 1.0, 'item_6_in_bin_6': 0.0, 'item_6_in_bin_7': 0.0, 'item_6_in_bin_8': 0.0, 'item_6_in_bin_9': 0.0, 'item_7_in_bin_0': 0.0, 'item_7_in_bin_1': 0.0, 'item_7_in_bin_10': 0.0, 'item_7_in_bin_11': 1.0, 'item_7_in_bin_12': 0.0, 'item_7_in_bin_13': 0.0, 'item_7_in_bin_14': 0.0, 'item_7_in_bin_2': 0.0, 'item_7_in_bin_3': 0.0, 'item_7_in_bin_4': 0.0, 'item_7_in_bin_5': 0.0, 'item_7_in_bin_6': 0.0, 'item_7_in_bin_7': 0.0, 'item_7_in_bin_8': 0.0, 'item_7_in_bin_9': 0.0, 'item_8_in_bin_0': 0.0, 'item_8_in_bin_1': 0.0, 'item_8_in_bin_10': 0.0, 'item_8_in_bin_11': 0.0, 'item_8_in_bin_12': 0.0, 'item_8_in_bin_13': 0.0, 'item_8_in_bin_14': 0.0, 'item_8_in_bin_2': 0.0, 'item_8_in_bin_3': 0.0, 'item_8_in_bin_4': 0.0, 'item_8_in_bin_5': 1.0, 'item_8_in_bin_6': 0.0, 'item_8_in_bin_7': 0.0, 'item_8_in_bin_8': 0.0, 'item_8_in_bin_9': 0.0, 'item_9_in_bin_0': 0.0, 'item_9_in_bin_1': 0.0, 'item_9_in_bin_10': 0.0, 'item_9_in_bin_11': 1.0, 'item_9_in_bin_12': 0.0, 'item_9_in_bin_13': 0.0, 'item_9_in_bin_14': 0.0, 'item_9_in_bin_2': 0.0, 'item_9_in_bin_3': 0.0, 'item_9_in_bin_4': 0.0, 'item_9_in_bin_5': 0.0, 'item_9_in_bin_6': 0.0, 'item_9_in_bin_7': 0.0, 'item_9_in_bin_8': 0.0, 'item_9_in_bin_9': 0.0}, energy=2.0, num_occurrences=1, is_satisfied=array([ True,  True,  True,  True,  True,  True,  True,  True,  True,\n",
       "        True,  True,  True,  True,  True,  True,  True,  True,  True,\n",
       "        True,  True,  True,  True,  True,  True,  True,  True,  True,\n",
       "        True,  True,  True]), is_feasible=True)"
      ]
     },
     "execution_count": 16,
     "metadata": {},
     "output_type": "execute_result"
    }
   ],
   "source": [
    "best"
   ]
  },
  {
   "cell_type": "code",
   "execution_count": 18,
   "id": "ac1ed7b2",
   "metadata": {},
   "outputs": [
    {
     "data": {
      "text/plain": [
       "dict_items([('bin_used_0', 0.0), ('bin_used_1', 0.0), ('bin_used_10', 0.0), ('bin_used_11', 1.0), ('bin_used_12', 0.0), ('bin_used_13', 0.0), ('bin_used_14', 0.0), ('bin_used_2', 0.0), ('bin_used_3', 0.0), ('bin_used_4', 0.0), ('bin_used_5', 1.0), ('bin_used_6', 0.0), ('bin_used_7', 0.0), ('bin_used_8', 0.0), ('bin_used_9', 0.0), ('item_0_in_bin_0', 0.0), ('item_0_in_bin_1', 0.0), ('item_0_in_bin_10', 0.0), ('item_0_in_bin_11', 1.0), ('item_0_in_bin_12', 0.0), ('item_0_in_bin_13', 0.0), ('item_0_in_bin_14', 0.0), ('item_0_in_bin_2', 0.0), ('item_0_in_bin_3', 0.0), ('item_0_in_bin_4', 0.0), ('item_0_in_bin_5', 0.0), ('item_0_in_bin_6', 0.0), ('item_0_in_bin_7', 0.0), ('item_0_in_bin_8', 0.0), ('item_0_in_bin_9', 0.0), ('item_10_in_bin_0', 0.0), ('item_10_in_bin_1', 0.0), ('item_10_in_bin_10', 0.0), ('item_10_in_bin_11', 0.0), ('item_10_in_bin_12', 0.0), ('item_10_in_bin_13', 0.0), ('item_10_in_bin_14', 0.0), ('item_10_in_bin_2', 0.0), ('item_10_in_bin_3', 0.0), ('item_10_in_bin_4', 0.0), ('item_10_in_bin_5', 1.0), ('item_10_in_bin_6', 0.0), ('item_10_in_bin_7', 0.0), ('item_10_in_bin_8', 0.0), ('item_10_in_bin_9', 0.0), ('item_11_in_bin_0', 0.0), ('item_11_in_bin_1', 0.0), ('item_11_in_bin_10', 0.0), ('item_11_in_bin_11', 0.0), ('item_11_in_bin_12', 0.0), ('item_11_in_bin_13', 0.0), ('item_11_in_bin_14', 0.0), ('item_11_in_bin_2', 0.0), ('item_11_in_bin_3', 0.0), ('item_11_in_bin_4', 0.0), ('item_11_in_bin_5', 1.0), ('item_11_in_bin_6', 0.0), ('item_11_in_bin_7', 0.0), ('item_11_in_bin_8', 0.0), ('item_11_in_bin_9', 0.0), ('item_12_in_bin_0', 0.0), ('item_12_in_bin_1', 0.0), ('item_12_in_bin_10', 0.0), ('item_12_in_bin_11', 0.0), ('item_12_in_bin_12', 0.0), ('item_12_in_bin_13', 0.0), ('item_12_in_bin_14', 0.0), ('item_12_in_bin_2', 0.0), ('item_12_in_bin_3', 0.0), ('item_12_in_bin_4', 0.0), ('item_12_in_bin_5', 1.0), ('item_12_in_bin_6', 0.0), ('item_12_in_bin_7', 0.0), ('item_12_in_bin_8', 0.0), ('item_12_in_bin_9', 0.0), ('item_13_in_bin_0', 0.0), ('item_13_in_bin_1', 0.0), ('item_13_in_bin_10', 0.0), ('item_13_in_bin_11', 1.0), ('item_13_in_bin_12', 0.0), ('item_13_in_bin_13', 0.0), ('item_13_in_bin_14', 0.0), ('item_13_in_bin_2', 0.0), ('item_13_in_bin_3', 0.0), ('item_13_in_bin_4', 0.0), ('item_13_in_bin_5', 0.0), ('item_13_in_bin_6', 0.0), ('item_13_in_bin_7', 0.0), ('item_13_in_bin_8', 0.0), ('item_13_in_bin_9', 0.0), ('item_14_in_bin_0', 0.0), ('item_14_in_bin_1', 0.0), ('item_14_in_bin_10', 0.0), ('item_14_in_bin_11', 1.0), ('item_14_in_bin_12', 0.0), ('item_14_in_bin_13', 0.0), ('item_14_in_bin_14', 0.0), ('item_14_in_bin_2', 0.0), ('item_14_in_bin_3', 0.0), ('item_14_in_bin_4', 0.0), ('item_14_in_bin_5', 0.0), ('item_14_in_bin_6', 0.0), ('item_14_in_bin_7', 0.0), ('item_14_in_bin_8', 0.0), ('item_14_in_bin_9', 0.0), ('item_1_in_bin_0', 0.0), ('item_1_in_bin_1', 0.0), ('item_1_in_bin_10', 0.0), ('item_1_in_bin_11', 0.0), ('item_1_in_bin_12', 0.0), ('item_1_in_bin_13', 0.0), ('item_1_in_bin_14', 0.0), ('item_1_in_bin_2', 0.0), ('item_1_in_bin_3', 0.0), ('item_1_in_bin_4', 0.0), ('item_1_in_bin_5', 1.0), ('item_1_in_bin_6', 0.0), ('item_1_in_bin_7', 0.0), ('item_1_in_bin_8', 0.0), ('item_1_in_bin_9', 0.0), ('item_2_in_bin_0', 0.0), ('item_2_in_bin_1', 0.0), ('item_2_in_bin_10', 0.0), ('item_2_in_bin_11', 1.0), ('item_2_in_bin_12', 0.0), ('item_2_in_bin_13', 0.0), ('item_2_in_bin_14', 0.0), ('item_2_in_bin_2', 0.0), ('item_2_in_bin_3', 0.0), ('item_2_in_bin_4', 0.0), ('item_2_in_bin_5', 0.0), ('item_2_in_bin_6', 0.0), ('item_2_in_bin_7', 0.0), ('item_2_in_bin_8', 0.0), ('item_2_in_bin_9', 0.0), ('item_3_in_bin_0', 0.0), ('item_3_in_bin_1', 0.0), ('item_3_in_bin_10', 0.0), ('item_3_in_bin_11', 1.0), ('item_3_in_bin_12', 0.0), ('item_3_in_bin_13', 0.0), ('item_3_in_bin_14', 0.0), ('item_3_in_bin_2', 0.0), ('item_3_in_bin_3', 0.0), ('item_3_in_bin_4', 0.0), ('item_3_in_bin_5', 0.0), ('item_3_in_bin_6', 0.0), ('item_3_in_bin_7', 0.0), ('item_3_in_bin_8', 0.0), ('item_3_in_bin_9', 0.0), ('item_4_in_bin_0', 0.0), ('item_4_in_bin_1', 0.0), ('item_4_in_bin_10', 0.0), ('item_4_in_bin_11', 0.0), ('item_4_in_bin_12', 0.0), ('item_4_in_bin_13', 0.0), ('item_4_in_bin_14', 0.0), ('item_4_in_bin_2', 0.0), ('item_4_in_bin_3', 0.0), ('item_4_in_bin_4', 0.0), ('item_4_in_bin_5', 1.0), ('item_4_in_bin_6', 0.0), ('item_4_in_bin_7', 0.0), ('item_4_in_bin_8', 0.0), ('item_4_in_bin_9', 0.0), ('item_5_in_bin_0', 0.0), ('item_5_in_bin_1', 0.0), ('item_5_in_bin_10', 0.0), ('item_5_in_bin_11', 0.0), ('item_5_in_bin_12', 0.0), ('item_5_in_bin_13', 0.0), ('item_5_in_bin_14', 0.0), ('item_5_in_bin_2', 0.0), ('item_5_in_bin_3', 0.0), ('item_5_in_bin_4', 0.0), ('item_5_in_bin_5', 1.0), ('item_5_in_bin_6', 0.0), ('item_5_in_bin_7', 0.0), ('item_5_in_bin_8', 0.0), ('item_5_in_bin_9', 0.0), ('item_6_in_bin_0', 0.0), ('item_6_in_bin_1', 0.0), ('item_6_in_bin_10', 0.0), ('item_6_in_bin_11', 0.0), ('item_6_in_bin_12', 0.0), ('item_6_in_bin_13', 0.0), ('item_6_in_bin_14', 0.0), ('item_6_in_bin_2', 0.0), ('item_6_in_bin_3', 0.0), ('item_6_in_bin_4', 0.0), ('item_6_in_bin_5', 1.0), ('item_6_in_bin_6', 0.0), ('item_6_in_bin_7', 0.0), ('item_6_in_bin_8', 0.0), ('item_6_in_bin_9', 0.0), ('item_7_in_bin_0', 0.0), ('item_7_in_bin_1', 0.0), ('item_7_in_bin_10', 0.0), ('item_7_in_bin_11', 1.0), ('item_7_in_bin_12', 0.0), ('item_7_in_bin_13', 0.0), ('item_7_in_bin_14', 0.0), ('item_7_in_bin_2', 0.0), ('item_7_in_bin_3', 0.0), ('item_7_in_bin_4', 0.0), ('item_7_in_bin_5', 0.0), ('item_7_in_bin_6', 0.0), ('item_7_in_bin_7', 0.0), ('item_7_in_bin_8', 0.0), ('item_7_in_bin_9', 0.0), ('item_8_in_bin_0', 0.0), ('item_8_in_bin_1', 0.0), ('item_8_in_bin_10', 0.0), ('item_8_in_bin_11', 0.0), ('item_8_in_bin_12', 0.0), ('item_8_in_bin_13', 0.0), ('item_8_in_bin_14', 0.0), ('item_8_in_bin_2', 0.0), ('item_8_in_bin_3', 0.0), ('item_8_in_bin_4', 0.0), ('item_8_in_bin_5', 1.0), ('item_8_in_bin_6', 0.0), ('item_8_in_bin_7', 0.0), ('item_8_in_bin_8', 0.0), ('item_8_in_bin_9', 0.0), ('item_9_in_bin_0', 0.0), ('item_9_in_bin_1', 0.0), ('item_9_in_bin_10', 0.0), ('item_9_in_bin_11', 1.0), ('item_9_in_bin_12', 0.0), ('item_9_in_bin_13', 0.0), ('item_9_in_bin_14', 0.0), ('item_9_in_bin_2', 0.0), ('item_9_in_bin_3', 0.0), ('item_9_in_bin_4', 0.0), ('item_9_in_bin_5', 0.0), ('item_9_in_bin_6', 0.0), ('item_9_in_bin_7', 0.0), ('item_9_in_bin_8', 0.0), ('item_9_in_bin_9', 0.0)])"
      ]
     },
     "execution_count": 18,
     "metadata": {},
     "output_type": "execute_result"
    }
   ],
   "source": [
    "best.sample.items()"
   ]
  },
  {
   "cell_type": "code",
   "execution_count": 19,
   "id": "8f66f67e",
   "metadata": {},
   "outputs": [
    {
     "name": "stdout",
     "output_type": "stream",
     "text": [
      "2 bins are used.\n"
     ]
    }
   ],
   "source": [
    "selected_bins = [key for key, val in best.sample.items() if 'bin_used' in key and val]   \n",
    "print(\"{} bins are used.\".format(len(selected_bins)))     "
   ]
  },
  {
   "cell_type": "code",
   "execution_count": 20,
   "id": "f2a7095f",
   "metadata": {},
   "outputs": [],
   "source": [
    "def get_indices(name):\n",
    "    return [int(digs) for digs in name.split('_') if digs.isdigit()]"
   ]
  },
  {
   "cell_type": "code",
   "execution_count": 24,
   "id": "2b2b4b1f",
   "metadata": {},
   "outputs": [
    {
     "name": "stdout",
     "output_type": "stream",
     "text": [
      "Bin 11 tiene pesos [4, 6, 4, 5, 3, 4, 4] que suman un total de 30.\n",
      "Bin 5 tiene pesos [4, 6, 6, 3, 4, 6, 6, 6] que suman un total de 41.\n"
     ]
    }
   ],
   "source": [
    "for bin in selected_bins:                        \n",
    "    in_bin = [key for key, val in best.sample.items() if\n",
    "       \"_in_bin\" in key and\n",
    "       get_indices(key)[1] == get_indices(bin)[0]\n",
    "       and val]\n",
    "    b = get_indices(in_bin[0])[1]\n",
    "    w = [weights[get_indices(item)[0]] for item in in_bin]\n",
    "    print(\"Bin {} tiene pesos {} que suman un total de {}.\".format(b, w, sum(w)))"
   ]
  },
  {
   "cell_type": "markdown",
   "id": "14252bb0",
   "metadata": {},
   "source": [
    "# Optimizando Código\n",
    "\n",
    "En este apartado vamos a ver cómo podríamos mejorar el código anterior para obtener una mejora importante en el rendimiento de esas instrucciones.\n",
    "\n",
    "Por simplicidad, pero sin pérdida de generalidad, vamos a suponer que cada contenedor o bin,tiene una capacidad de 1. Un problema de estas características con n items, se convierte en un CQM de n*(n+1) variables binarias. Comenzamos definiendo el número de items y los pesos"
   ]
  },
  {
   "cell_type": "code",
   "execution_count": 25,
   "id": "ed8a51f0",
   "metadata": {},
   "outputs": [],
   "source": [
    "import numpy as np\n",
    "\n",
    "num_items = 100  # results in 10100 binary variables\n",
    "\n",
    "weights = np.random.default_rng(42).random(num_items)"
   ]
  },
  {
   "cell_type": "markdown",
   "id": "4356df4f",
   "metadata": {},
   "source": [
    "Entonces la primera implementación de problema, sería la siguiente:"
   ]
  },
  {
   "cell_type": "code",
   "execution_count": 27,
   "id": "bf297258",
   "metadata": {},
   "outputs": [],
   "source": [
    "import typing\n",
    "\n",
    "import dimod\n",
    "\n",
    "\n",
    "def bin_packing(weights: typing.Sequence[float]) -> dimod.ConstrainedQuadraticModel:\n",
    "    \"\"\"Generate a bin packing problem as a constrained quadratic model.\"\"\"\n",
    "\n",
    "    n = len(weights)\n",
    "\n",
    "    # y_j indicates that bin j is used\n",
    "    y = [dimod.Binary(f'y_{j}') for j in range(n)]\n",
    "\n",
    "    # x_i,j indicates that item i is put in bin j\n",
    "    x = [[dimod.Binary(f'x_{i},{j}') for j in range(n)] for i in range(n)]\n",
    "\n",
    "    cqm = dimod.ConstrainedQuadraticModel()\n",
    "\n",
    "    # minimize the number of bins used\n",
    "    cqm.set_objective(sum(y))\n",
    "\n",
    "    # each item can go in only one bin\n",
    "    for i in range(n):\n",
    "        cqm.add_constraint(sum(x[i]) == 1, label=f'item_placing_{i}')\n",
    "\n",
    "    # each bin has a capacity that must be respected\n",
    "    for j in range(n):\n",
    "        cqm.add_constraint(sum(weights[i] * x[i][j] for i in range(n)) - y[j] <= 0,\n",
    "                           label=f'capacity_bin_{j}')\n",
    "\n",
    "    return cqm"
   ]
  },
  {
   "cell_type": "code",
   "execution_count": 28,
   "id": "0b77474e",
   "metadata": {},
   "outputs": [
    {
     "name": "stdout",
     "output_type": "stream",
     "text": [
      "793 ms ± 30.3 ms per loop (mean ± std. dev. of 7 runs, 1 loop each)\n"
     ]
    }
   ],
   "source": [
    "%timeit bin_packing(weights)\n"
   ]
  },
  {
   "cell_type": "markdown",
   "id": "baec3e1c",
   "metadata": {},
   "source": [
    "Lo anterior es la implementación con la función sum(), que suele ser más lenta que si se utiliza `quicksum()`"
   ]
  },
  {
   "cell_type": "code",
   "execution_count": 29,
   "id": "4b59fffa",
   "metadata": {},
   "outputs": [],
   "source": [
    "import typing\n",
    "\n",
    "import dimod\n",
    "\n",
    "\n",
    "def bin_packing(weights: typing.Sequence[float]) -> dimod.ConstrainedQuadraticModel:\n",
    "    \"\"\"Generate a bin packing problem as a constrained quadratic model.\"\"\"\n",
    "\n",
    "    n = len(weights)\n",
    "\n",
    "    # y_j indicates that bin j is used\n",
    "    y = [dimod.Binary(f'y_{j}') for j in range(n)]\n",
    "\n",
    "    # x_i,j indicates that item i is put in bin j\n",
    "    x = [[dimod.Binary(f'x_{i},{j}') for j in range(n)] for i in range(n)]\n",
    "\n",
    "    cqm = dimod.ConstrainedQuadraticModel()\n",
    "\n",
    "    # minimize the number of bins used\n",
    "    cqm.set_objective(dimod.quicksum(y))\n",
    "\n",
    "    # each item can only go in one bin\n",
    "    for i in range(n):\n",
    "        cqm.add_constraint(dimod.quicksum(x[i]) == 1, label=f'item_placing_{i}')\n",
    "\n",
    "    # each bin has a capacity that must be respected\n",
    "    for j in range(n):\n",
    "        cqm.add_constraint(dimod.quicksum(weights[i] * x[i][j] for i in range(n)) - y[j] <= 0,\n",
    "                           label=f'capacity_bin_{j}')\n",
    "\n",
    "    return cqm"
   ]
  },
  {
   "cell_type": "code",
   "execution_count": 30,
   "id": "6f85d766",
   "metadata": {},
   "outputs": [
    {
     "name": "stdout",
     "output_type": "stream",
     "text": [
      "552 ms ± 6.76 ms per loop (mean ± std. dev. of 7 runs, 1 loop each)\n"
     ]
    }
   ],
   "source": [
    " %timeit bin_packing(weights)"
   ]
  },
  {
   "cell_type": "markdown",
   "id": "3b35e4ea",
   "metadata": {},
   "source": [
    "Puede conseguir una mejora aún mayor si omite por completo la construcción simbólica y trabaja directamente con etiquetas de variables y un único objeto BQM.\n",
    "\n",
    "El siguiente pequeño ejemplo demuestra la diferencia de rendimiento"
   ]
  },
  {
   "cell_type": "code",
   "execution_count": 31,
   "id": "4301709c",
   "metadata": {},
   "outputs": [],
   "source": [
    "import dimod\n",
    "\n",
    "def make_bqm_symbolic(num_variables: int) -> dimod.BinaryQuadraticModel:\n",
    "    return dimod.quicksum(2*dimod.Binary(v) for v in range(num_variables))\n",
    "\n",
    "def make_bqm_labels(num_variables: int) -> dimod.BinaryQuadraticModel:\n",
    "    bqm = dimod.BinaryQuadraticModel('BINARY')\n",
    "    bqm.add_linear_from((v, 2) for v in range(num_variables))\n",
    "    return bqm"
   ]
  },
  {
   "cell_type": "code",
   "execution_count": 32,
   "id": "5c13d889",
   "metadata": {},
   "outputs": [
    {
     "name": "stdout",
     "output_type": "stream",
     "text": [
      "31.9 ms ± 2.52 ms per loop (mean ± std. dev. of 7 runs, 10 loops each)\n"
     ]
    }
   ],
   "source": [
    "%timeit make_bqm_symbolic(1000)"
   ]
  },
  {
   "cell_type": "code",
   "execution_count": 33,
   "id": "bf8d4cde",
   "metadata": {},
   "outputs": [
    {
     "name": "stdout",
     "output_type": "stream",
     "text": [
      "390 µs ± 2.03 µs per loop (mean ± std. dev. of 7 runs, 1000 loops each)\n"
     ]
    }
   ],
   "source": [
    "%timeit make_bqm_labels(1000)"
   ]
  },
  {
   "cell_type": "markdown",
   "id": "7217f0d8",
   "metadata": {},
   "source": [
    "Aplicamos esta misma construcción de modelo al ejemplo de binpacking:"
   ]
  },
  {
   "cell_type": "code",
   "execution_count": 41,
   "id": "944fdfdd",
   "metadata": {},
   "outputs": [],
   "source": [
    "import typing\n",
    "\n",
    "import dimod\n",
    "\n",
    "\n",
    "def bin_packing(weights: typing.Sequence[float]) -> dimod.ConstrainedQuadraticModel:\n",
    "    \"\"\"Generate a bin packing problem as a constrained quadratic model.\"\"\"\n",
    "\n",
    "    n = len(weights)\n",
    "\n",
    "    # y_j indicates that bin j is used\n",
    "    y_labels = [f'y_{j}' for j in range(n)]\n",
    "\n",
    "    # x_i,j indicates that item i is put in bin j\n",
    "    x_labels = [[f'x_{i},{j}' for j in range(n)] for i in range(n)]\n",
    "\n",
    "    cqm = dimod.ConstrainedQuadraticModel()\n",
    "\n",
    "    # minimize the number of bins used\n",
    "    objective = dimod.QuadraticModel()\n",
    "    objective.add_linear_from(((v, 1) for v in y_labels), default_vartype='BINARY')\n",
    "    #objective.add_linear(((v, 1) for v in y_labels), default_vartype='BINARY')\n",
    "    cqm.set_objective(objective)\n",
    "\n",
    "    # each item can only go in one bin\n",
    "    for i in range(n):\n",
    "        lhs = dimod.QuadraticModel()\n",
    "        lhs.add_linear_from(((v, 1) for v in x_labels[i]), default_vartype='BINARY')\n",
    "        #lhs.add_linear(((v, 1) for v in x_labels[i]), default_vartype='BINARY')\n",
    "        cqm.add_constraint_from_model(lhs, rhs=1, sense='==', label=f'item_placing_{i}')\n",
    "\n",
    "    # each bin has a capacity that must be respected\n",
    "    for j in range(n):\n",
    "        lhs = dimod.QuadraticModel()\n",
    "        lhs.add_linear_from(((x_labels[i][j], weights[i]) for i in range(n)), default_vartype='BINARY')\n",
    "        #lhs.add_linear(((x_labels[i][j], weights[i]) for i in range(n)), default_vartype='BINARY')\n",
    "        lhs.add_linear(y_labels[j], -1, default_vartype='BINARY')\n",
    "        cqm.add_constraint_from_model(lhs, rhs=0, sense='<=', label=f'capacity_bin_{j}')\n",
    "\n",
    "    return cqm"
   ]
  },
  {
   "cell_type": "code",
   "execution_count": 42,
   "id": "8db92ed6",
   "metadata": {},
   "outputs": [
    {
     "ename": "TypeError",
     "evalue": "add_linear_from() got an unexpected keyword argument 'default_vartype'",
     "output_type": "error",
     "traceback": [
      "\u001b[1;31m---------------------------------------------------------------------------\u001b[0m",
      "\u001b[1;31mTypeError\u001b[0m                                 Traceback (most recent call last)",
      "\u001b[1;32m~\\AppData\\Local\\Temp\\ipykernel_15812\\14838865.py\u001b[0m in \u001b[0;36m<module>\u001b[1;34m\u001b[0m\n\u001b[1;32m----> 1\u001b[1;33m \u001b[0mget_ipython\u001b[0m\u001b[1;33m(\u001b[0m\u001b[1;33m)\u001b[0m\u001b[1;33m.\u001b[0m\u001b[0mrun_line_magic\u001b[0m\u001b[1;33m(\u001b[0m\u001b[1;34m'timeit'\u001b[0m\u001b[1;33m,\u001b[0m \u001b[1;34m'bin_packing(weights)'\u001b[0m\u001b[1;33m)\u001b[0m\u001b[1;33m\u001b[0m\u001b[1;33m\u001b[0m\u001b[0m\n\u001b[0m",
      "\u001b[1;32md:\\mistrabajos\\dwaveocean\\ocean\\lib\\site-packages\\IPython\\core\\interactiveshell.py\u001b[0m in \u001b[0;36mrun_line_magic\u001b[1;34m(self, magic_name, line, _stack_depth)\u001b[0m\n\u001b[0;32m   2362\u001b[0m                 \u001b[0mkwargs\u001b[0m\u001b[1;33m[\u001b[0m\u001b[1;34m'local_ns'\u001b[0m\u001b[1;33m]\u001b[0m \u001b[1;33m=\u001b[0m \u001b[0mself\u001b[0m\u001b[1;33m.\u001b[0m\u001b[0mget_local_scope\u001b[0m\u001b[1;33m(\u001b[0m\u001b[0mstack_depth\u001b[0m\u001b[1;33m)\u001b[0m\u001b[1;33m\u001b[0m\u001b[1;33m\u001b[0m\u001b[0m\n\u001b[0;32m   2363\u001b[0m             \u001b[1;32mwith\u001b[0m \u001b[0mself\u001b[0m\u001b[1;33m.\u001b[0m\u001b[0mbuiltin_trap\u001b[0m\u001b[1;33m:\u001b[0m\u001b[1;33m\u001b[0m\u001b[1;33m\u001b[0m\u001b[0m\n\u001b[1;32m-> 2364\u001b[1;33m                 \u001b[0mresult\u001b[0m \u001b[1;33m=\u001b[0m \u001b[0mfn\u001b[0m\u001b[1;33m(\u001b[0m\u001b[1;33m*\u001b[0m\u001b[0margs\u001b[0m\u001b[1;33m,\u001b[0m \u001b[1;33m**\u001b[0m\u001b[0mkwargs\u001b[0m\u001b[1;33m)\u001b[0m\u001b[1;33m\u001b[0m\u001b[1;33m\u001b[0m\u001b[0m\n\u001b[0m\u001b[0;32m   2365\u001b[0m             \u001b[1;32mreturn\u001b[0m \u001b[0mresult\u001b[0m\u001b[1;33m\u001b[0m\u001b[1;33m\u001b[0m\u001b[0m\n\u001b[0;32m   2366\u001b[0m \u001b[1;33m\u001b[0m\u001b[0m\n",
      "\u001b[1;32md:\\mistrabajos\\dwaveocean\\ocean\\lib\\site-packages\\decorator.py\u001b[0m in \u001b[0;36mfun\u001b[1;34m(*args, **kw)\u001b[0m\n\u001b[0;32m    230\u001b[0m             \u001b[1;32mif\u001b[0m \u001b[1;32mnot\u001b[0m \u001b[0mkwsyntax\u001b[0m\u001b[1;33m:\u001b[0m\u001b[1;33m\u001b[0m\u001b[1;33m\u001b[0m\u001b[0m\n\u001b[0;32m    231\u001b[0m                 \u001b[0margs\u001b[0m\u001b[1;33m,\u001b[0m \u001b[0mkw\u001b[0m \u001b[1;33m=\u001b[0m \u001b[0mfix\u001b[0m\u001b[1;33m(\u001b[0m\u001b[0margs\u001b[0m\u001b[1;33m,\u001b[0m \u001b[0mkw\u001b[0m\u001b[1;33m,\u001b[0m \u001b[0msig\u001b[0m\u001b[1;33m)\u001b[0m\u001b[1;33m\u001b[0m\u001b[1;33m\u001b[0m\u001b[0m\n\u001b[1;32m--> 232\u001b[1;33m             \u001b[1;32mreturn\u001b[0m \u001b[0mcaller\u001b[0m\u001b[1;33m(\u001b[0m\u001b[0mfunc\u001b[0m\u001b[1;33m,\u001b[0m \u001b[1;33m*\u001b[0m\u001b[1;33m(\u001b[0m\u001b[0mextras\u001b[0m \u001b[1;33m+\u001b[0m \u001b[0margs\u001b[0m\u001b[1;33m)\u001b[0m\u001b[1;33m,\u001b[0m \u001b[1;33m**\u001b[0m\u001b[0mkw\u001b[0m\u001b[1;33m)\u001b[0m\u001b[1;33m\u001b[0m\u001b[1;33m\u001b[0m\u001b[0m\n\u001b[0m\u001b[0;32m    233\u001b[0m     \u001b[0mfun\u001b[0m\u001b[1;33m.\u001b[0m\u001b[0m__name__\u001b[0m \u001b[1;33m=\u001b[0m \u001b[0mfunc\u001b[0m\u001b[1;33m.\u001b[0m\u001b[0m__name__\u001b[0m\u001b[1;33m\u001b[0m\u001b[1;33m\u001b[0m\u001b[0m\n\u001b[0;32m    234\u001b[0m     \u001b[0mfun\u001b[0m\u001b[1;33m.\u001b[0m\u001b[0m__doc__\u001b[0m \u001b[1;33m=\u001b[0m \u001b[0mfunc\u001b[0m\u001b[1;33m.\u001b[0m\u001b[0m__doc__\u001b[0m\u001b[1;33m\u001b[0m\u001b[1;33m\u001b[0m\u001b[0m\n",
      "\u001b[1;32md:\\mistrabajos\\dwaveocean\\ocean\\lib\\site-packages\\IPython\\core\\magic.py\u001b[0m in \u001b[0;36m<lambda>\u001b[1;34m(f, *a, **k)\u001b[0m\n\u001b[0;32m    185\u001b[0m     \u001b[1;31m# but it's overkill for just that one bit of state.\u001b[0m\u001b[1;33m\u001b[0m\u001b[1;33m\u001b[0m\u001b[1;33m\u001b[0m\u001b[0m\n\u001b[0;32m    186\u001b[0m     \u001b[1;32mdef\u001b[0m \u001b[0mmagic_deco\u001b[0m\u001b[1;33m(\u001b[0m\u001b[0marg\u001b[0m\u001b[1;33m)\u001b[0m\u001b[1;33m:\u001b[0m\u001b[1;33m\u001b[0m\u001b[1;33m\u001b[0m\u001b[0m\n\u001b[1;32m--> 187\u001b[1;33m         \u001b[0mcall\u001b[0m \u001b[1;33m=\u001b[0m \u001b[1;32mlambda\u001b[0m \u001b[0mf\u001b[0m\u001b[1;33m,\u001b[0m \u001b[1;33m*\u001b[0m\u001b[0ma\u001b[0m\u001b[1;33m,\u001b[0m \u001b[1;33m**\u001b[0m\u001b[0mk\u001b[0m\u001b[1;33m:\u001b[0m \u001b[0mf\u001b[0m\u001b[1;33m(\u001b[0m\u001b[1;33m*\u001b[0m\u001b[0ma\u001b[0m\u001b[1;33m,\u001b[0m \u001b[1;33m**\u001b[0m\u001b[0mk\u001b[0m\u001b[1;33m)\u001b[0m\u001b[1;33m\u001b[0m\u001b[1;33m\u001b[0m\u001b[0m\n\u001b[0m\u001b[0;32m    188\u001b[0m \u001b[1;33m\u001b[0m\u001b[0m\n\u001b[0;32m    189\u001b[0m         \u001b[1;32mif\u001b[0m \u001b[0mcallable\u001b[0m\u001b[1;33m(\u001b[0m\u001b[0marg\u001b[0m\u001b[1;33m)\u001b[0m\u001b[1;33m:\u001b[0m\u001b[1;33m\u001b[0m\u001b[1;33m\u001b[0m\u001b[0m\n",
      "\u001b[1;32md:\\mistrabajos\\dwaveocean\\ocean\\lib\\site-packages\\IPython\\core\\magics\\execution.py\u001b[0m in \u001b[0;36mtimeit\u001b[1;34m(self, line, cell, local_ns)\u001b[0m\n\u001b[0;32m   1178\u001b[0m             \u001b[1;32mfor\u001b[0m \u001b[0mindex\u001b[0m \u001b[1;32min\u001b[0m \u001b[0mrange\u001b[0m\u001b[1;33m(\u001b[0m\u001b[1;36m0\u001b[0m\u001b[1;33m,\u001b[0m \u001b[1;36m10\u001b[0m\u001b[1;33m)\u001b[0m\u001b[1;33m:\u001b[0m\u001b[1;33m\u001b[0m\u001b[1;33m\u001b[0m\u001b[0m\n\u001b[0;32m   1179\u001b[0m                 \u001b[0mnumber\u001b[0m \u001b[1;33m=\u001b[0m \u001b[1;36m10\u001b[0m \u001b[1;33m**\u001b[0m \u001b[0mindex\u001b[0m\u001b[1;33m\u001b[0m\u001b[1;33m\u001b[0m\u001b[0m\n\u001b[1;32m-> 1180\u001b[1;33m                 \u001b[0mtime_number\u001b[0m \u001b[1;33m=\u001b[0m \u001b[0mtimer\u001b[0m\u001b[1;33m.\u001b[0m\u001b[0mtimeit\u001b[0m\u001b[1;33m(\u001b[0m\u001b[0mnumber\u001b[0m\u001b[1;33m)\u001b[0m\u001b[1;33m\u001b[0m\u001b[1;33m\u001b[0m\u001b[0m\n\u001b[0m\u001b[0;32m   1181\u001b[0m                 \u001b[1;32mif\u001b[0m \u001b[0mtime_number\u001b[0m \u001b[1;33m>=\u001b[0m \u001b[1;36m0.2\u001b[0m\u001b[1;33m:\u001b[0m\u001b[1;33m\u001b[0m\u001b[1;33m\u001b[0m\u001b[0m\n\u001b[0;32m   1182\u001b[0m                     \u001b[1;32mbreak\u001b[0m\u001b[1;33m\u001b[0m\u001b[1;33m\u001b[0m\u001b[0m\n",
      "\u001b[1;32md:\\mistrabajos\\dwaveocean\\ocean\\lib\\site-packages\\IPython\\core\\magics\\execution.py\u001b[0m in \u001b[0;36mtimeit\u001b[1;34m(self, number)\u001b[0m\n\u001b[0;32m    167\u001b[0m         \u001b[0mgc\u001b[0m\u001b[1;33m.\u001b[0m\u001b[0mdisable\u001b[0m\u001b[1;33m(\u001b[0m\u001b[1;33m)\u001b[0m\u001b[1;33m\u001b[0m\u001b[1;33m\u001b[0m\u001b[0m\n\u001b[0;32m    168\u001b[0m         \u001b[1;32mtry\u001b[0m\u001b[1;33m:\u001b[0m\u001b[1;33m\u001b[0m\u001b[1;33m\u001b[0m\u001b[0m\n\u001b[1;32m--> 169\u001b[1;33m             \u001b[0mtiming\u001b[0m \u001b[1;33m=\u001b[0m \u001b[0mself\u001b[0m\u001b[1;33m.\u001b[0m\u001b[0minner\u001b[0m\u001b[1;33m(\u001b[0m\u001b[0mit\u001b[0m\u001b[1;33m,\u001b[0m \u001b[0mself\u001b[0m\u001b[1;33m.\u001b[0m\u001b[0mtimer\u001b[0m\u001b[1;33m)\u001b[0m\u001b[1;33m\u001b[0m\u001b[1;33m\u001b[0m\u001b[0m\n\u001b[0m\u001b[0;32m    170\u001b[0m         \u001b[1;32mfinally\u001b[0m\u001b[1;33m:\u001b[0m\u001b[1;33m\u001b[0m\u001b[1;33m\u001b[0m\u001b[0m\n\u001b[0;32m    171\u001b[0m             \u001b[1;32mif\u001b[0m \u001b[0mgcold\u001b[0m\u001b[1;33m:\u001b[0m\u001b[1;33m\u001b[0m\u001b[1;33m\u001b[0m\u001b[0m\n",
      "\u001b[1;32m<magic-timeit>\u001b[0m in \u001b[0;36minner\u001b[1;34m(_it, _timer)\u001b[0m\n",
      "\u001b[1;32m~\\AppData\\Local\\Temp\\ipykernel_15812\\1737132310.py\u001b[0m in \u001b[0;36mbin_packing\u001b[1;34m(weights)\u001b[0m\n\u001b[0;32m     19\u001b[0m     \u001b[1;31m# minimize the number of bins used\u001b[0m\u001b[1;33m\u001b[0m\u001b[1;33m\u001b[0m\u001b[1;33m\u001b[0m\u001b[0m\n\u001b[0;32m     20\u001b[0m     \u001b[0mobjective\u001b[0m \u001b[1;33m=\u001b[0m \u001b[0mdimod\u001b[0m\u001b[1;33m.\u001b[0m\u001b[0mQuadraticModel\u001b[0m\u001b[1;33m(\u001b[0m\u001b[1;33m)\u001b[0m\u001b[1;33m\u001b[0m\u001b[1;33m\u001b[0m\u001b[0m\n\u001b[1;32m---> 21\u001b[1;33m     \u001b[0mobjective\u001b[0m\u001b[1;33m.\u001b[0m\u001b[0madd_linear_from\u001b[0m\u001b[1;33m(\u001b[0m\u001b[1;33m(\u001b[0m\u001b[1;33m(\u001b[0m\u001b[0mv\u001b[0m\u001b[1;33m,\u001b[0m \u001b[1;36m1\u001b[0m\u001b[1;33m)\u001b[0m \u001b[1;32mfor\u001b[0m \u001b[0mv\u001b[0m \u001b[1;32min\u001b[0m \u001b[0my_labels\u001b[0m\u001b[1;33m)\u001b[0m\u001b[1;33m,\u001b[0m \u001b[0mdefault_vartype\u001b[0m\u001b[1;33m=\u001b[0m\u001b[1;34m'BINARY'\u001b[0m\u001b[1;33m)\u001b[0m\u001b[1;33m\u001b[0m\u001b[1;33m\u001b[0m\u001b[0m\n\u001b[0m\u001b[0;32m     22\u001b[0m     \u001b[1;31m#objective.add_linear(((v, 1) for v in y_labels), default_vartype='BINARY')\u001b[0m\u001b[1;33m\u001b[0m\u001b[1;33m\u001b[0m\u001b[1;33m\u001b[0m\u001b[0m\n\u001b[0;32m     23\u001b[0m     \u001b[0mcqm\u001b[0m\u001b[1;33m.\u001b[0m\u001b[0mset_objective\u001b[0m\u001b[1;33m(\u001b[0m\u001b[0mobjective\u001b[0m\u001b[1;33m)\u001b[0m\u001b[1;33m\u001b[0m\u001b[1;33m\u001b[0m\u001b[0m\n",
      "\u001b[1;31mTypeError\u001b[0m: add_linear_from() got an unexpected keyword argument 'default_vartype'"
     ]
    }
   ],
   "source": [
    "%timeit bin_packing(weights)"
   ]
  },
  {
   "cell_type": "code",
   "execution_count": null,
   "id": "d67f0428",
   "metadata": {},
   "outputs": [],
   "source": [
    "Como "
   ]
  }
 ],
 "metadata": {
  "kernelspec": {
   "display_name": "Python 3 (ipykernel)",
   "language": "python",
   "name": "python3"
  },
  "language_info": {
   "codemirror_mode": {
    "name": "ipython",
    "version": 3
   },
   "file_extension": ".py",
   "mimetype": "text/x-python",
   "name": "python",
   "nbconvert_exporter": "python",
   "pygments_lexer": "ipython3",
   "version": "3.8.3"
  },
  "toc": {
   "base_numbering": 1,
   "nav_menu": {},
   "number_sections": true,
   "sideBar": true,
   "skip_h1_title": false,
   "title_cell": "Table of Contents",
   "title_sidebar": "Contents",
   "toc_cell": false,
   "toc_position": {},
   "toc_section_display": true,
   "toc_window_display": true
  },
  "varInspector": {
   "cols": {
    "lenName": 16,
    "lenType": 16,
    "lenVar": 40
   },
   "kernels_config": {
    "python": {
     "delete_cmd_postfix": "",
     "delete_cmd_prefix": "del ",
     "library": "var_list.py",
     "varRefreshCmd": "print(var_dic_list())"
    },
    "r": {
     "delete_cmd_postfix": ") ",
     "delete_cmd_prefix": "rm(",
     "library": "var_list.r",
     "varRefreshCmd": "cat(var_dic_list()) "
    }
   },
   "types_to_exclude": [
    "module",
    "function",
    "builtin_function_or_method",
    "instance",
    "_Feature"
   ],
   "window_display": false
  }
 },
 "nbformat": 4,
 "nbformat_minor": 5
}
