{
 "cells": [
  {
   "cell_type": "markdown",
   "id": "fc40105a-11b7-49ed-9428-f2675643ac0b",
   "metadata": {},
   "source": [
    "(primeros_pasos)=\n",
    "# Introducción.\n",
    "\n",
    "En este apartado vamos a proceder a exponer diversos ejemplos fáciles de implementar, con la finalidad que el usuario se vaya familiarizando con las ideas que subyacen a este tipo de técnica de computación cuántica.\n",
    "\n",
    "En este apartado vamoa a aprender a construir modelos de tipo [QUBO](modelo_qubo) y de tipo [ISING](modelo_ising), así como su solución utilizando diferentes samplers.\n",
    "\n",
    "\n",
    "Recordemos que un **modelo de tipo ISING** va tratar las variables como binarias pero que pueden tomar los valores -1 y +1. Entonces utilizando este modelo la función objetivo se va a definir de la siguiente manera:\n",
    "\n",
    "$$\n",
    "E=-\\sum_{i}h_{i}S_{i}+\\sum_{i,j}J_{ij}S_{i}S_{j}\\qquad donde\\:S_{i}\\in\\{-1,+1\\}\n",
    "$$\n",
    "\n",
    "La variable se representa en este modelo por S ya que es la inicial de *Spin*.Los valores de h's y J's son constantes para ajustar por el modelo, una h para cada Spin y una J para cada interacción de los pares de Spines.\n",
    "\n",
    "El **modelo  de tipo QUBO**, se describe de la siguiente manera:\n",
    "\n",
    "$$\n",
    "Obj(c,a_{i},b_{ij},q_{i})=c+\\sum_{i}a_{i}q_{i}+\\sum_{i<j}b_{ij}q_{i}q_{j}\n",
    "$$\n",
    "\n",
    "En este caso las variables q's son variables de tipo qubit que valen 0 ó 1 en lugar de -1 ó 1\n",
    "\n",
    "Para convertir una variable QUBO en Ising se utiliza la siguiente transformación:\n",
    "\n",
    "$$\n",
    "q_i=\\frac{1+S_i}{2}\n",
    "$$\n",
    "\n",
    "## Interactuando con un sampler o un solver.\n",
    "```{index} solver\r\n",
    "```\n",
    "\n",
    "Para hallar el estado de energía mínima para un QM (la asignación de valores a  variables que nos da el \n",
    "valor mínimo de energía para nuestro QM), e sistema l Ocean SDK proporciona** muestreadores y solucionadore**s. Un solucionado (solver)r e \r\n",
    "un recurso que ejecuta un problema. Los muestreado (sampler)res son procesos que ejecutan un problema muchas veces para obte er\r\n",
    "una colección de muestras, cada una de las cuales es una posible solución a nuestro problema. Por comod dad\r\n",
    "nos referiremos generalmente a los muestreadores de Ocean como un todo, para incluir también a los solucionadorEl sistema Ocean SDK proporciona una variedad de diferentes muestreadores que podemos utilizar para examinar nuestro problema. Estos van desde el D-Wave QPU (DWaveSampler) a algoritmos clásicos como la búsqueda tabu \n",
    "(TabuSampler) e incluso herramientas híbridas (LeapHybridSampler). Para más información sobre los muestreadore \r\n",
    "en la documentación completa de Oce.\n",
    "\n",
    "Los solvers en Ocean SDK se puede dividir en los siguientes apartados:\n",
    "```{index} Classical Solvers, Hybrid Solvers, Quantum Solvers, Solvers, DWaveSampler,EmbeddingComposite\r\n",
    "```\n",
    "* <a href=\"https://docs.ocean.dwavesys.com/en/stable/overview/cpu.html\" target=\"_blank\"> Classical Solvers </a>. Se puede utilizar un solucionador clásico mientras se desarrolla un código o en una versión pequeña de un problema para verificar el código.Con este tipo de Solvers, la solución se obtiene utilizando el equipo propio con el que trabaja el investigador.\n",
    "\n",
    "* <a href=\"https://docs.ocean.dwavesys.com/en/stable/overview/hybrid.html\" target=\"_blank\"> Solvers Híbridos </a>. Este tipo de solvers utiliza recursos clásicos y cuánticos para resolver los problemas.\n",
    "\n",
    "* <a href=\"https://docs.ocean.dwavesys.com/en/stable/overview/qpu.html\" target=\"_blank\">  Solvers cuánticos </a>.Este sistema utiliza sólo medios cuánticos para resolver los problemas planteados.Este solver es denominado <a href= \"https://docs.ocean.dwavesys.com/en/stable/docs_system/reference/samplers.html#dwave.system.samplers.DWaveSampler\" target=\"_blank\"> DWaveSampler </a> que normalmente es utilizado junto a <a href=\"https://docs.ocean.dwavesys.com/en/stable/docs_system/reference/composites.html#dwave.system.composites.EmbeddingComposite\" target=\"_blank\"> EmbeddingComposite </a>.\n",
    "\n",
    "Vamos a comenzar en esta sección a crear con diversos métodos un modelo BQM o ISING y como se resuelve utiliozando diferentes solvers. Comenzamos con el solver más sencillo, el denominado <a href=\"https://docs.ocean.dwavesys.com/en/stable/docs_dimod/reference/sampler_composites/samplers.html#id10\" target=\"_blank\"> ExactSolver </a> del paquete dimod.\n",
    "\n",
    "```{index} BinaryQuadraticModel\n",
    "```\n",
    "Importaremos primero la clase *BinaryQuadraticModel()*. annslator"
   ]
  },
  {
   "cell_type": "code",
   "execution_count": 1,
   "id": "61c37b29-c805-4f36-8f2d-2c86b70957b9",
   "metadata": {},
   "outputs": [],
   "source": [
    "from dimod import BinaryQuadraticModel"
   ]
  },
  {
   "cell_type": "markdown",
   "id": "8f931c45-8494-44e2-b2fc-54a1ea74c21b",
   "metadata": {},
   "source": [
    "También se puede importar de la siguiente manera"
   ]
  },
  {
   "cell_type": "code",
   "execution_count": 2,
   "id": "bed67f32-67e9-42b2-b521-c049357882fe",
   "metadata": {},
   "outputs": [],
   "source": [
    "from dimod import BQM"
   ]
  },
  {
   "cell_type": "markdown",
   "id": "bc356bb9-68d9-4660-ab5a-a00790a50219",
   "metadata": {},
   "source": [
    "En principio hay que tener en cuenta que todos los samplers de Ocean heredan de la clase abstracta *Sampler* , para ver el contenido de esta clase, se pueden utilizar las siguientes instrucciones."
   ]
  },
  {
   "cell_type": "code",
   "execution_count": 3,
   "id": "ee7e65b7-6660-403c-aff9-543de2e1d940",
   "metadata": {},
   "outputs": [
    {
     "data": {
      "text/plain": [
       "\u001b[1;31mInit signature:\u001b[0m \u001b[0mSampler\u001b[0m\u001b[1;33m(\u001b[0m\u001b[1;33m)\u001b[0m\u001b[1;33m\u001b[0m\u001b[1;33m\u001b[0m\u001b[0m\n",
       "\u001b[1;31mDocstring:\u001b[0m     \n",
       "Abstract base class for dimod samplers.\n",
       "\n",
       "Provides all methods :meth:`~.Sampler.sample`, :meth:`~.Sampler.sample_ising`,\n",
       ":meth:`~.Sampler.sample_qubo` assuming at least one is implemented.\n",
       "\n",
       "Also includes utility method :meth:`~.Sampler.remove_unknown_kwargs`,\n",
       "which may be used in sample methods to handle unknown kwargs.\n",
       "\u001b[1;31mFile:\u001b[0m           c:\\users\\francisco\\desktop\\dwaveocean\\ocean\\lib\\site-packages\\dimod\\core\\sampler.py\n",
       "\u001b[1;31mType:\u001b[0m           SamplerABCMeta\n",
       "\u001b[1;31mSubclasses:\u001b[0m     ComposedSampler, StructureComposite, ExactSolver, IdentitySampler, NullSampler, RandomSampler, SimulatedAnnealingSampler"
      ]
     },
     "metadata": {},
     "output_type": "display_data"
    }
   ],
   "source": [
    "from dimod import Sampler\n",
    "\n",
    "Sampler?"
   ]
  },
  {
   "cell_type": "markdown",
   "id": "60b1ddc1-3a03-46b1-a935-4d72a6c8fc36",
   "metadata": {},
   "source": [
    "Diferentes Samplers que podemos utilizar los podemos ver en el siguiente cuadro:\n",
    "\n",
    "![Samplers Ocean](../img/samplers.PNG)\n",
    "\n",
    "Vamos a mostrar a continuación código para generar un problema de tipo ISING, que posteriormente resolveremos con diferentes solvers.\n",
    "\n",
    "Procedemos a continuación a crear el modelo ISING"
   ]
  },
  {
   "cell_type": "code",
   "execution_count": 10,
   "id": "7489af8e-96c4-401f-bfcf-2fbc88d1dbe7",
   "metadata": {},
   "outputs": [],
   "source": [
    "from dimod import BinaryQuadraticModel, to_networkx_graph\n",
    "bqm = BinaryQuadraticModel('SPIN')\n",
    "bqm.add_variable(0, -1)\n",
    "bqm.add_variable(1, -1)\n",
    "bqm.add_variable(4, -1)\n",
    "bqm.add_variable(5, -1)\n",
    "# bqm.add_variable(6,-1) # lo añadí yo de prueba\n",
    "bqm.add_interaction(0, 4, 1.0)\n",
    "bqm.add_interaction(0, 5, 1.0)\n",
    "bqm.add_interaction(1, 4, 1.0)\n",
    "bqm.add_interaction(1, 5, 1.0)\n",
    "# bqm.add_interaction(0, 1, 1.0) # lo añadí so de prueba\n"
   ]
  },
  {
   "cell_type": "markdown",
   "id": "4b37ca57-af09-46ab-ba9e-8d601337cd3c",
   "metadata": {},
   "source": [
    "El modelo anterior, representado con uan formulación matemática, sería el siguiente:\n",
    "\n",
    "$$-1\\cdot x_{0}-1\\cdot x_{1}-1\\cdot x_{4}-1\\cdot x_{5}+1\\cdot x_{0}\\cdot x_{4}+1\\cdot x_{0}\\cdot x_{5}+1\\cdot x_{1}\\cdot x_{4}+1\\cdot x_{1}\\cdot x_{4}$$\r\n",
    "Y además el modelo sería de tipo SPIN, es decir que las variables, sólo podrían tomar valores de 1 ó -1.\n",
    "\n",
    "```{index} to_networkx_graph\r\n",
    "```\n",
    "\n",
    "\n",
    "Un modelo BQM, se representa en los ordenadores de D_Wave mediante un grafo, dondelos nodos son los coeficientes lineales de la ecuación anterior, y los arcos soerían los coeficientes de los términos cuadráticos. Vamos a representar mediante un grafo el modelo crado anteriormenmte: "
   ]
  },
  {
   "cell_type": "code",
   "execution_count": 11,
   "id": "66d29c78-16ca-48fe-a89a-f3a99de751b2",
   "metadata": {},
   "outputs": [
    {
     "data": {
      "image/png": "[encoded data removed]",
      "text/plain": [
       "<Figure size 640x480 with 1 Axes>"
      ]
     },
     "metadata": {},
     "output_type": "display_data"
    }
   ],
   "source": [
    "\n",
    "import networkx as nx\n",
    "red = to_networkx_graph(bqm)\n",
    "nx.draw(red, with_labels = True)\n"
   ]
  },
  {
   "cell_type": "markdown",
   "id": "4ee8a7a2-4679-40e4-bbb6-8606a8c63729",
   "metadata": {},
   "source": [
    "Veamos que efectivamente los arcos son los términos cuadráticos de la ecuación"
   ]
  },
  {
   "cell_type": "code",
   "execution_count": 9,
   "id": "e2101e31-4077-415f-8ec3-ca1a2ab18eca",
   "metadata": {},
   "outputs": [
    {
     "data": {
      "text/plain": [
       "EdgeDataView([(0, 4, {'bias': 1.0}), (0, 5, {'bias': 1.0}), (1, 4, {'bias': 1.0}), (1, 5, {'bias': 1.0})])"
      ]
     },
     "execution_count": 9,
     "metadata": {},
     "output_type": "execute_result"
    }
   ],
   "source": [
    "red.edges().data()"
   ]
  },
  {
   "cell_type": "markdown",
   "id": "6eb4d1a5-38be-462c-babb-5c508c12b472",
   "metadata": {},
   "source": [
    "Veamos a continuación el modelo que realmente se ha construido:"
   ]
  },
  {
   "cell_type": "code",
   "execution_count": 5,
   "id": "1c0c4215-82aa-4bcd-b931-d1781cf37794",
   "metadata": {},
   "outputs": [
    {
     "data": {
      "text/plain": [
       "BinaryQuadraticModel({0: -1.0, 1: -1.0, 4: -1.0, 5: -1.0}, {(4, 0): 1.0, (4, 1): 1.0, (5, 0): 1.0, (5, 1): 1.0}, 0.0, 'SPIN')"
      ]
     },
     "execution_count": 5,
     "metadata": {},
     "output_type": "execute_result"
    }
   ],
   "source": [
    "bqm"
   ]
  },
  {
   "cell_type": "code",
   "execution_count": 12,
   "id": "54bb87e0-7678-4e86-8b25-343720bfb553",
   "metadata": {},
   "outputs": [
    {
     "data": {
      "text/plain": [
       "{0: -1.0, 1: -1.0, 4: -1.0, 5: -1.0}"
      ]
     },
     "execution_count": 12,
     "metadata": {},
     "output_type": "execute_result"
    }
   ],
   "source": [
    "# Estos serían los términos lineales\n",
    "bqm.linear"
   ]
  },
  {
   "cell_type": "code",
   "execution_count": 13,
   "id": "c9f42209-cf52-4402-aff8-84ee9c81a1c7",
   "metadata": {},
   "outputs": [
    {
     "data": {
      "text/plain": [
       "{(4, 0): 1.0, (4, 1): 1.0, (5, 0): 1.0, (5, 1): 1.0}"
      ]
     },
     "execution_count": 13,
     "metadata": {},
     "output_type": "execute_result"
    }
   ],
   "source": [
    "# estos los términos cuadráticos\n",
    "bqm.quadratic"
   ]
  },
  {
   "cell_type": "markdown",
   "id": "c053cf31-c290-4bf5-98ce-317691d14694",
   "metadata": {},
   "source": [
    "Vamos a resolver el problema anterior, con el Solver *ExactSolver*."
   ]
  },
  {
   "cell_type": "code",
   "execution_count": 14,
   "id": "beb5c07d-0b80-469f-b777-ec5d7262b58a",
   "metadata": {},
   "outputs": [
    {
     "name": "stdout",
     "output_type": "stream",
     "text": [
      "   0  1  4  5 energy num_oc.\n",
      "0 +1 +1 -1 -1   -4.0       1\n",
      "1 -1 -1 +1 +1   -4.0       1\n",
      "2 +1 +1 +1 -1   -2.0       1\n",
      "3 +1 -1 +1 +1   -2.0       1\n",
      "4 -1 +1 +1 +1   -2.0       1\n",
      "5 +1 +1 -1 +1   -2.0       1\n",
      "6 -1 +1 +1 -1    0.0       1\n",
      "7 +1 -1 +1 -1    0.0       1\n",
      "8 +1 +1 +1 +1    0.0       1\n",
      "9 -1 +1 -1 +1    0.0       1\n",
      "['SPIN', 10 rows, 10 samples, 4 variables]\n"
     ]
    }
   ],
   "source": [
    "from dimod import ExactSolver\n",
    "# Creamos una instancia de este Solver\n",
    "solver = ExactSolver()\n",
    "response = solver.sample(bqm)\n",
    "# Sólo sacamos las primeras 10 soluciones (ordenadas de menos a más energía )\n",
    "print(response.truncate(10))"
   ]
  },
  {
   "cell_type": "markdown",
   "id": "4f526b71-871f-4343-a881-bd0798606b8a",
   "metadata": {},
   "source": [
    "Como el modelo se le ha declarado de tipo SPIN los únicos valores que toman las variables son 1 y -1 y un mínimo de la función antyerior, lo podemos encontrar con la primera solución indicada que es la que tiene menor energía, aunque también podría servir la siguiente, la que ocupa la segunda línea de la solución.\n",
    "\n",
    "## DWave_neal.\n",
    "```{index} SimulatedAnnealingSampler,LeapHybridSampler,DWaveSampler\r\n",
    "```\n",
    "Es de advertir que este módulo está *deprecated* desde dwave-ocean-sdk.6.1.0 en favor del módulo dwave_samplers, y será eliminado en la versión dwave-ocean-sdk.8.0.0."
   ]
  },
  {
   "cell_type": "code",
   "execution_count": 16,
   "id": "4bcf89fd-fb0c-4312-b33f-a48ed3b05ba1",
   "metadata": {},
   "outputs": [
    {
     "name": "stdout",
     "output_type": "stream",
     "text": [
      "   0  1  4  5 energy num_oc.\n",
      "0 -1 -1 +1 +1   -4.0       1\n",
      "1 +1 +1 -1 -1   -4.0       1\n",
      "2 +1 +1 -1 -1   -4.0       1\n",
      "3 +1 +1 -1 -1   -4.0       1\n",
      "4 -1 -1 +1 +1   -4.0       1\n",
      "5 +1 +1 -1 -1   -4.0       1\n",
      "6 +1 +1 -1 -1   -4.0       1\n",
      "7 +1 +1 -1 -1   -4.0       1\n",
      "8 +1 +1 -1 -1   -4.0       1\n",
      "9 +1 +1 -1 -1   -4.0       1\n",
      "['SPIN', 10 rows, 10 samples, 4 variables]\n"
     ]
    }
   ],
   "source": [
    "from neal import SimulatedAnnealingSampler \n",
    "\n",
    "sampler = SimulatedAnnealingSampler()\n",
    "\n",
    "response = sampler.sample(bqm, num_reads=10,\n",
    "                          num_sweeps=1000,\n",
    "                          initial_states=None,\n",
    "                          beta_range=[10, 100])\n",
    "print(response)"
   ]
  },
  {
   "cell_type": "markdown",
   "id": "e9c73076-5d08-4d0f-bb28-9773608fa9a1",
   "metadata": {},
   "source": [
    "Utilizamos a continuación un solvers completamente cuántico, nos referimos a *DWaveSampler*. Veamos un ejemplo"
   ]
  },
  {
   "cell_type": "code",
   "execution_count": null,
   "id": "5ef523e0-0d6a-4bd5-bbf1-ca4e4eaa2acf",
   "metadata": {},
   "outputs": [],
   "source": [
    "from dwave.system import DWaveSampler\n",
    "\n",
    "sampler = DWaveSampler(solver=dict(topology__type='chimera'))\n",
    "\n",
    "response = sampler.sample(\n",
    "    bqm, num_reads=10,\n",
    "    annealing_time=10,\n",
    "    auto_scale=False,\n",
    "    answer_mode='raw',\n",
    "    label='Prueba_DWaveSampler'\n",
    "    )\n",
    "print(response)"
   ]
  },
  {
   "cell_type": "markdown",
   "id": "8879b436-0875-4ec5-b2bb-018d9867133e",
   "metadata": {},
   "source": [
    "Por último usamos *LeapHybridSampler*, un solver híbrido muy flexibles y utilizado"
   ]
  },
  {
   "cell_type": "code",
   "execution_count": null,
   "id": "76f48453-28a8-4095-86a4-c27541bff7ca",
   "metadata": {},
   "outputs": [],
   "source": [
    "from dwave.system import LeapHybridSampler\n",
    "\n",
    "sampler = LeapHybridSampler()\n",
    "print(\"Propiedades de este Sampler:\\n\")\n",
    "print(sampler.properties)\n",
    "\n",
    "response = sampler.sample(\n",
    "    bqm, time_limit=3,\n",
    "    label = \"Prueba con LeapHybridSampler\"\n",
    "    )\n",
    "print(\"\\nla respuesta es la siguiente.\\n\")\n",
    "print(response)"
   ]
  },
  {
   "cell_type": "markdown",
   "id": "9d2cdeae-1b8f-43af-a082-f1682d283532",
   "metadata": {},
   "source": [
    "## Otro ejemplo.\n",
    "\n",
    "Con el fin de afianzar estos conceptos, fáciles pero muy importante de dominar pues son los pilares de estos métodos de optimización, a continuación procedemos a resolver otro problema similar al anterior. Implementamos el código para el problema"
   ]
  },
  {
   "cell_type": "code",
   "execution_count": 17,
   "id": "770ed750-3f20-4dbc-ab45-82b5ba70b91a",
   "metadata": {},
   "outputs": [],
   "source": [
    "bqm = BinaryQuadraticModel('SPIN')\n",
    "bqm.add_variable('x',1)\n",
    "bqm.add_variable('y',1)\n",
    "bqm.add_variable('z',1)\n",
    "bqm.add_interaction('x','y',-2)\n",
    "bqm.add_interaction('x','z',-2)\n",
    "bqm.add_interaction('y','z',-2)"
   ]
  },
  {
   "cell_type": "markdown",
   "id": "62667610-b61f-4706-9f0f-8f92b77ecf0a",
   "metadata": {},
   "source": [
    "La función objetivo en este caso sería la siguiente:\n",
    "\n",
    "$$H = x + y + z - 2xy - 2xz - 2yz$$"
   ]
  },
  {
   "cell_type": "code",
   "execution_count": 18,
   "id": "5c95b3a0-e58a-4c81-bad5-99a51f2216dc",
   "metadata": {},
   "outputs": [
    {
     "data": {
      "text/plain": [
       "BinaryQuadraticModel({'x': 1.0, 'y': 1.0, 'z': 1.0}, {('y', 'x'): -2.0, ('z', 'x'): -2.0, ('z', 'y'): -2.0}, 0.0, 'SPIN')"
      ]
     },
     "execution_count": 18,
     "metadata": {},
     "output_type": "execute_result"
    }
   ],
   "source": [
    "# Veamos el modelo\n",
    "bqm"
   ]
  },
  {
   "cell_type": "markdown",
   "id": "2751fb7c-326d-423d-9369-4e106fd0db20",
   "metadata": {},
   "source": [
    "El anterior modelo también se puede construir, desde un diccionario de python de la siguiente manera"
   ]
  },
  {
   "cell_type": "code",
   "execution_count": 25,
   "id": "5428c0b8-e1be-480b-9d5e-1d9a35d2f229",
   "metadata": {},
   "outputs": [
    {
     "data": {
      "text/plain": [
       "BinaryQuadraticModel({'x': 1.0, 'y': 1.0, 'z': 1.0}, {('y', 'x'): -2.0, ('z', 'x'): -2.0, ('z', 'y'): -2.0}, 0.0, 'SPIN')"
      ]
     },
     "execution_count": 25,
     "metadata": {},
     "output_type": "execute_result"
    }
   ],
   "source": [
    "# el diccionario h contendrá los términos lineales\n",
    "h1={}\n",
    "# El diccionario j contendra los terminos cuadráticos\n",
    "j1={}\n",
    "\n",
    "# Ahora definimos los términos lineales\n",
    "h1['x']=1\n",
    "h1['y']=1\n",
    "h1['z']=1\n",
    "\n",
    "#Definimos los términos cuadráticos\n",
    "\n",
    "j1['x','y'] =-2\n",
    "j1['x','z'] = -2\n",
    "j1['y','z'] = -2\n",
    "\n",
    "model = BinaryQuadraticModel.from_ising(h=h1,J=j1)\n",
    "model"
   ]
  },
  {
   "cell_type": "markdown",
   "id": "6a486aa3-9cc7-4b06-b4bb-102199463768",
   "metadata": {},
   "source": [
    "Como podemos observar con los dos procedimientos obtenemos el mismo modelo. Veamos algunas de las características del modelo construido:"
   ]
  },
  {
   "cell_type": "code",
   "execution_count": 26,
   "id": "bc930a32-4e29-45d0-9c50-58ba5d4f1269",
   "metadata": {},
   "outputs": [
    {
     "data": {
      "text/plain": [
       "<Vartype.SPIN: frozenset({1, -1})>"
      ]
     },
     "execution_count": 26,
     "metadata": {},
     "output_type": "execute_result"
    }
   ],
   "source": [
    "model.vartype"
   ]
  },
  {
   "cell_type": "code",
   "execution_count": 27,
   "id": "7d3f1240-2411-436d-83fe-730b361222af",
   "metadata": {},
   "outputs": [
    {
     "data": {
      "text/plain": [
       "Variables(['x', 'y', 'z'])"
      ]
     },
     "execution_count": 27,
     "metadata": {},
     "output_type": "execute_result"
    }
   ],
   "source": [
    "model.variables"
   ]
  },
  {
   "cell_type": "markdown",
   "id": "96ec3bc5-0184-4306-8b5f-6a9639be1e05",
   "metadata": {},
   "source": [
    "Resolvemos con ExactSolver"
   ]
  },
  {
   "cell_type": "code",
   "execution_count": 28,
   "id": "227d90c3-a777-4245-a26c-17f05b5e9ac0",
   "metadata": {},
   "outputs": [
    {
     "name": "stdout",
     "output_type": "stream",
     "text": [
      "   x  y  z energy num_oc.\n",
      "0 -1 -1 -1   -9.0       1\n",
      "1 +1 +1 +1   -3.0       1\n",
      "2 +1 -1 -1    1.0       1\n",
      "3 -1 +1 -1    1.0       1\n",
      "4 -1 -1 +1    1.0       1\n",
      "5 +1 +1 -1    3.0       1\n",
      "6 -1 +1 +1    3.0       1\n",
      "7 +1 -1 +1    3.0       1\n",
      "['SPIN', 8 rows, 8 samples, 3 variables]\n"
     ]
    }
   ],
   "source": [
    "from dimod import ExactSolver\n",
    "\n",
    "solver = ExactSolver()\n",
    "response = solver.sample(bqm)\n",
    "print(response.truncate(10))"
   ]
  },
  {
   "cell_type": "code",
   "execution_count": 29,
   "id": "6170e776-d349-4f75-a0fc-a83031b59816",
   "metadata": {},
   "outputs": [
    {
     "data": {
      "text/plain": [
       "dimod.sampleset.SampleSet"
      ]
     },
     "execution_count": 29,
     "metadata": {},
     "output_type": "execute_result"
    }
   ],
   "source": [
    "type(response)"
   ]
  },
  {
   "cell_type": "markdown",
   "id": "dc30d209-0540-422b-8562-1afab494ae59",
   "metadata": {},
   "source": [
    "Como podemos observar el objeto que se nos devuelve es de tipo SampleSet y su documentación <a href=\"https://docs.ocean.dwavesys.com/en/stable/docs_dimod/reference/sampleset.html\" target=\"_blank\"> la podemos ver en este enlace </a>."
   ]
  },
  {
   "cell_type": "code",
   "execution_count": 30,
   "id": "7fef1d4d-f51e-4649-94d0-367029537c59",
   "metadata": {},
   "outputs": [
    {
     "data": {
      "text/plain": [
       "<bound method SampleSet.data of SampleSet(rec.array([([-1, -1, -1], -9., 1), ([ 1, -1, -1],  1., 1),\n",
       "           ([ 1,  1, -1],  3., 1), ([-1,  1, -1],  1., 1),\n",
       "           ([-1,  1,  1],  3., 1), ([ 1,  1,  1], -3., 1),\n",
       "           ([ 1, -1,  1],  3., 1), ([-1, -1,  1],  1., 1)],\n",
       "          dtype=[('sample', 'i1', (3,)), ('energy', '<f8'), ('num_occurrences', '<i4')]), Variables(['x', 'y', 'z']), {}, 'SPIN')>"
      ]
     },
     "execution_count": 30,
     "metadata": {},
     "output_type": "execute_result"
    }
   ],
   "source": [
    "response.data"
   ]
  },
  {
   "cell_type": "markdown",
   "id": "c1d5ec0f-dbf3-497f-a2de-75a6d3536bb5",
   "metadata": {},
   "source": [
    "Podemos quedarnos con parte de los datos de la respuesta de la siguiente manera:"
   ]
  },
  {
   "cell_type": "code",
   "execution_count": 31,
   "id": "47dbda03-aad5-46c8-9400-3b0596edbd8f",
   "metadata": {},
   "outputs": [
    {
     "name": "stdout",
     "output_type": "stream",
     "text": [
      "{'x': -1, 'y': -1, 'z': -1} -9.0\n",
      "{'x': 1, 'y': 1, 'z': 1} -3.0\n",
      "{'x': 1, 'y': -1, 'z': -1} 1.0\n",
      "{'x': -1, 'y': 1, 'z': -1} 1.0\n",
      "{'x': -1, 'y': -1, 'z': 1} 1.0\n",
      "{'x': 1, 'y': 1, 'z': -1} 3.0\n",
      "{'x': -1, 'y': 1, 'z': 1} 3.0\n",
      "{'x': 1, 'y': -1, 'z': 1} 3.0\n",
      "___________________\n",
      "{'x': -1, 'y': -1, 'z': -1} 1\n",
      "{'x': 1, 'y': 1, 'z': 1} 1\n",
      "{'x': 1, 'y': -1, 'z': -1} 1\n",
      "{'x': -1, 'y': 1, 'z': -1} 1\n",
      "{'x': -1, 'y': -1, 'z': 1} 1\n",
      "{'x': 1, 'y': 1, 'z': -1} 1\n",
      "{'x': -1, 'y': 1, 'z': 1} 1\n",
      "{'x': 1, 'y': -1, 'z': 1} 1\n"
     ]
    }
   ],
   "source": [
    "for sample, energy in response.data(['sample','energy']):\n",
    "    print(sample, energy)\n",
    "print(\"___________________\")\n",
    "\n",
    "\n",
    "for sample, num_oc in response.data(['sample','num_occurrences']):\n",
    "    print(sample, num_oc)"
   ]
  },
  {
   "cell_type": "code",
   "execution_count": 32,
   "id": "f100dde0-8a84-4628-a6dc-25ec32b4dac1",
   "metadata": {},
   "outputs": [
    {
     "name": "stdout",
     "output_type": "stream",
     "text": [
      "Sample(sample={'x': -1, 'y': -1, 'z': -1}, energy=-9.0, num_occurrences=1)\n"
     ]
    }
   ],
   "source": [
    "# Sacamos la primera solución\n",
    "print(response.first)"
   ]
  },
  {
   "cell_type": "markdown",
   "id": "d145a97c-f77b-4b5b-a4f7-e275ecdfa5a8",
   "metadata": {},
   "source": [
    "## Utilización de FixedVariableComposite.\n",
    "```{index} FixedVariableComposite\r\n",
    "```\n",
    "En ocasiones quizá pueda ser aconsejable fijar el valor de una variables al resolver problemas de optimización. Para conseguir esto Ocean SDK pone a nuestra disposición el clase <a href=\"https://docs.ocean.dwavesys.com/en/stable/docs_preprocessing/reference/composites.html\" target='_blank'> FixedVariableComposite </a>.\n",
    "\n",
    "Para ver cómo podemos utilzar esto, vamos a añadir al modelo anterior una nueva variable denominada w con un *bias* igual a -1. Esta variable no va a estar conectada a ninguna otra variable y la vamos a fijar con un valor igual a 1.\n",
    "\n",
    "Todo esto lo hacemos con el siguiente código\n"
   ]
  },
  {
   "cell_type": "code",
   "execution_count": 33,
   "id": "adf3dbe1-575a-4b20-a7e7-e2caa4888e4f",
   "metadata": {},
   "outputs": [
    {
     "name": "stdout",
     "output_type": "stream",
     "text": [
      "   w  x  y  z energy num_oc.\n",
      "0 +1 -1 -1 -1  -10.0       1\n",
      "5 +1 +1 +1 +1   -4.0       1\n",
      "1 +1 +1 -1 -1    0.0       1\n",
      "3 +1 -1 +1 -1    0.0       1\n",
      "7 +1 -1 -1 +1    0.0       1\n",
      "2 +1 +1 +1 -1    2.0       1\n",
      "4 +1 -1 +1 +1    2.0       1\n",
      "6 +1 +1 -1 +1    2.0       1\n",
      "['SPIN', 8 rows, 8 samples, 4 variables]\n"
     ]
    }
   ],
   "source": [
    "# He importado FixVariablesComposite porque FixedVariableComposite estaba decrepated\n",
    "from dwave.preprocessing.composites import FixVariablesComposite\n",
    "#bqm.add_variable('w',-1)\n",
    "composite_sampler = FixVariablesComposite(solver)\n",
    "# añadimos la variable w al modelo, con un valor de bias de -1\n",
    "bqm.add_variable('w',-1) \n",
    "# Ahora fijo el valor de la variable w a 1\n",
    "respuesta = composite_sampler.sample(bqm,fixed_variables={'w':1})\n",
    "print(respuesta)"
   ]
  },
  {
   "cell_type": "markdown",
   "id": "46b367b0-1c67-4917-a395-9087cd73bd46",
   "metadata": {},
   "source": [
    "## Convertir un modelo QUBO en ISING.\n",
    "\n",
    "En el siguiente ejemplo, vamos a ver como pasar de un modelo tipo QUBO a otro ISING"
   ]
  },
  {
   "cell_type": "code",
   "execution_count": 34,
   "id": "ec95e8dc-f182-4952-a834-6280683ff6cf",
   "metadata": {},
   "outputs": [
    {
     "data": {
      "text/plain": [
       "BinaryQuadraticModel({'B': 1.0, 'K': 1.0, 'A': 0.0, 'C': 0.0}, {('A', 'K'): -2.0, ('C', 'B'): -2.0, ('C', 'A'): 2.0}, 0.0, 'BINARY')"
      ]
     },
     "execution_count": 34,
     "metadata": {},
     "output_type": "execute_result"
    }
   ],
   "source": [
    "# Importamos los paquetes necesario\n",
    "from dwave.system import EmbeddingComposite, DWaveSampler\n",
    "from dimod import BinaryQuadraticModel\n",
    "\n",
    "# Definimos el problema mediante un diccionario\n",
    "Q = {('B','B'): 1,\n",
    "    ('K','K'): 1,\n",
    "    ('A','C'): 2,\n",
    "    ('A','K'): -2,\n",
    "    ('B','C'): -2}\n",
    "\n",
    "# Generamos el modelo QUBO\n",
    "bqm = BinaryQuadraticModel.from_qubo(Q)\n",
    "\n",
    "bqm"
   ]
  },
  {
   "cell_type": "markdown",
   "id": "aebf945b-8ce2-47b5-8f86-f4d1150c5e1e",
   "metadata": {},
   "source": [
    "Ahora cambiamos el tipo de modelo"
   ]
  },
  {
   "cell_type": "code",
   "execution_count": 35,
   "id": "9c3d92fe-e122-4e99-ac24-cc5e70c20ca5",
   "metadata": {},
   "outputs": [
    {
     "data": {
      "text/plain": [
       "({'B': 0.0, 'K': 0.0, 'A': 0.0, 'C': 0.0},\n",
       " {('A', 'K'): -0.5, ('C', 'B'): -0.5, ('C', 'A'): 0.5},\n",
       " 0.5)"
      ]
     },
     "execution_count": 35,
     "metadata": {},
     "output_type": "execute_result"
    }
   ],
   "source": [
    "# Convertimos el bqm to a un modelo Ising\n",
    "ising_model = bqm.to_ising()\n",
    "ising_model"
   ]
  },
  {
   "cell_type": "markdown",
   "id": "e3d41b3d-15ce-49fc-924f-9d7d4e4bdcb5",
   "metadata": {},
   "source": [
    "Veamos la diferentes partes que se han generado"
   ]
  },
  {
   "cell_type": "code",
   "execution_count": 36,
   "id": "33d2d206-a5d0-422a-9045-bad7d24cedb2",
   "metadata": {},
   "outputs": [
    {
     "data": {
      "text/plain": [
       "{'B': 0.0, 'K': 0.0, 'A': 0.0, 'C': 0.0}"
      ]
     },
     "execution_count": 36,
     "metadata": {},
     "output_type": "execute_result"
    }
   ],
   "source": [
    "ising_model[0]"
   ]
  },
  {
   "cell_type": "code",
   "execution_count": 37,
   "id": "edac4673-adff-48cc-9c85-18992e7f6764",
   "metadata": {},
   "outputs": [
    {
     "data": {
      "text/plain": [
       "{('A', 'K'): -0.5, ('C', 'B'): -0.5, ('C', 'A'): 0.5}"
      ]
     },
     "execution_count": 37,
     "metadata": {},
     "output_type": "execute_result"
    }
   ],
   "source": [
    "ising_model[1]"
   ]
  },
  {
   "cell_type": "code",
   "execution_count": null,
   "id": "7026490c-5c04-40f6-98b5-359778407a4a",
   "metadata": {},
   "outputs": [],
   "source": [
    "\n",
    "# Definimos el Sampler a utilizar en el problema\n",
    "sampler = EmbeddingComposite(DWaveSampler())\n",
    "\n",
    "# Ejecutamos el Sampler definido antes e imprimimos el resultado\n",
    "sampleset = sampler.sample_ising(\n",
    "                h = ising_model[0],\n",
    "                J = ising_model[1],\n",
    "                num_reads = 10,\n",
    "                label='Example - Simple Ocean Programs: Conversion')\n",
    "\n",
    "print(sampleset)"
   ]
  },
  {
   "cell_type": "markdown",
   "id": "f4097099-be68-4e7c-8932-cbfd01282104",
   "metadata": {},
   "source": [
    "Otra manera de hacer lo anterior sería mediante el siguiente formato de código"
   ]
  },
  {
   "cell_type": "code",
   "execution_count": null,
   "id": "0f776c25-28c0-4712-a6e4-16140a6e4d71",
   "metadata": {},
   "outputs": [],
   "source": [
    "from dwave.system import EmbeddingComposite, DWaveSampler\n",
    "from dimod import BinaryQuadraticModel\n",
    "\n",
    "# Definimos el problema utilizando un diccionario\n",
    "Q = {('B','B'): 1,\n",
    "    ('K','K'): 1,\n",
    "    ('A','C'): 2,\n",
    "    ('A','K'): -2,\n",
    "    ('B','C'): -2}\n",
    "# Creamos el objeto BQM y le damos un offset (el término constante) de 1\n",
    "bqm = BinaryQuadraticModel.from_qubo(Q, offset=1.0)\n",
    "\n",
    "# Definimos el Sampler a utilizar\n",
    "sampler = EmbeddingComposite(DWaveSampler())\n",
    "\n",
    "# Ejecutamos el SAmpler anterior e imprimimos resultados\n",
    "sampleset = sampler.sample(bqm,\n",
    "                           num_reads = 10,\n",
    "                           label='Example - Simple Ocean Programs: Offsets')\n",
    "print(\"QUBO samples:\")\n",
    "print(sampleset)\n",
    "\n",
    "#  Convertinos el modelo a ISING y ejecutamos en el mismo sampler.\n",
    "bqm.change_vartype('SPIN')\n",
    "sampleset = sampler.sample(bqm,\n",
    "                           num_reads = 10,\n",
    "                           label='Example - Simple Ocean Programs: Offsets')\n",
    "print(\"\\nIsing samples:\")\n",
    "print(sampleset)"
   ]
  }
 ],
 "metadata": {
  "kernelspec": {
   "display_name": "Python 3 (ipykernel)",
   "language": "python",
   "name": "python3"
  },
  "language_info": {
   "codemirror_mode": {
    "name": "ipython",
    "version": 3
   },
   "file_extension": ".py",
   "mimetype": "text/x-python",
   "name": "python",
   "nbconvert_exporter": "python",
   "pygments_lexer": "ipython3",
   "version": "3.8.3"
  }
 },
 "nbformat": 4,
 "nbformat_minor": 5
}
